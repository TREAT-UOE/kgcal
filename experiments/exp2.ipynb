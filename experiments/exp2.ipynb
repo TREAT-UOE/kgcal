{
 "cells": [
  {
   "cell_type": "markdown",
   "metadata": {},
   "source": [
    "# Experiment 2\n",
    "\n",
    "**Hypothesis**: Binning-based techniques (Isotonic Regression and Histogram Binning) generally work better than scaling-based ones (Platt Scaling and Beta Calibration) when large datasets are available.\n",
    "\n",
    "During the experiment 1, we observed that binning-based calibration (Isotonic and Histogram) performs better in general. We also noticed that binning-based methods dominated in FB13k, WN11 and YAGO39, which has more data than the rest. Previous work also suggested that binning-based methods tend to overfit, especially on smaller datasets . Thus, to evaluate hypothesis (2), we took these 3 datasets, and gradually shrink the size of the calibration sets by randomly sampling $k\\%$ of them, and compare the number of wins in terms of BS, NLL, and ECE between binning-based and scaling-based methods."
   ]
  },
  {
   "cell_type": "code",
   "execution_count": 17,
   "metadata": {},
   "outputs": [],
   "source": [
    "import sys\n",
    "# enable importing the modules from probcalkge\n",
    "sys.path.append('../')\n",
    "sys.path.append('../probcalkge')"
   ]
  },
  {
   "cell_type": "code",
   "execution_count": 18,
   "metadata": {},
   "outputs": [],
   "source": [
    "import random\n",
    "from typing import Iterable\n",
    "\n",
    "import numpy as np\n",
    "import pandas as pd\n",
    "import matplotlib.pyplot as plt\n"
   ]
  },
  {
   "cell_type": "code",
   "execution_count": 19,
   "metadata": {},
   "outputs": [],
   "source": [
    "from probcalkge import Experiment, DatasetWrapper, ExperimentResult\n",
    "from probcalkge import get_datasets, get_calibrators, get_kgemodels\n",
    "from probcalkge import brier_score, negative_log_loss, ks_error, ece, accuracy\n",
    "from probcalkge.calmodels2 import get_calibrators"
   ]
  },
  {
   "cell_type": "code",
   "execution_count": 20,
   "metadata": {},
   "outputs": [
    {
     "name": "stdout",
     "output_type": "stream",
     "text": [
      "WARNING - All triples will be processed in the same batch (batches_count=1). When processing large graphs it is recommended to batch the input knowledge graph instead.\n"
     ]
    }
   ],
   "source": [
    "ds = get_datasets()\n",
    "cals = get_calibrators()\n",
    "kges = get_kgemodels()"
   ]
  },
  {
   "cell_type": "code",
   "execution_count": 21,
   "metadata": {},
   "outputs": [],
   "source": [
    "def dataset_stats(ds: Iterable[DatasetWrapper]) -> pd.DataFrame:\n",
    "    vals = []\n",
    "    rows = []\n",
    "    cols = ['train', 'valid', 'test', 'entities', 'relations']\n",
    "    for i in ds:\n",
    "        rows.append(i.name)\n",
    "        vals.append(i.stats)\n",
    "    return pd.DataFrame(vals, index=rows, columns=cols)"
   ]
  },
  {
   "cell_type": "code",
   "execution_count": 22,
   "metadata": {},
   "outputs": [
    {
     "name": "stdout",
     "output_type": "stream",
     "text": [
      "\\begin{tabular}{lrrrrr}\n",
      "\\toprule\n",
      "{} &   train &   valid &    test &  entities &  relations \\\\\n",
      "\\midrule\n",
      "FB13k      &  316232 &   11816 &   47464 &     75043 &         13 \\\\\n",
      "WN11       &  110361 &    4877 &   19706 &     38194 &         11 \\\\\n",
      "YAGO39     &  354994 &   18471 &   18507 &     37612 &         37 \\\\\n",
      "DBpedia50  &   32388 &     246 &    4196 &     24624 &        351 \\\\\n",
      "UMLS       &    5216 &    1304 &    1322 &       135 &         46 \\\\\n",
      "Kinship    &    8544 &    2136 &    2148 &       104 &         25 \\\\\n",
      "Nations    &    1592 &     398 &     402 &        14 &         55 \\\\\n",
      "YAGO\\_ET    &  364810 &   50194 &   49268 &     26957 &         64 \\\\\n",
      "DBpedia\\_ET &  653188 &  104776 &  104900 &     99240 &        316 \\\\\n",
      "\\bottomrule\n",
      "\\end{tabular}\n",
      "\n"
     ]
    }
   ],
   "source": [
    "df = dataset_stats(ds)\n",
    "print(df.to_latex())"
   ]
  },
  {
   "cell_type": "code",
   "execution_count": 23,
   "metadata": {},
   "outputs": [],
   "source": [
    "def shrink_valid(ds: DatasetWrapper, perc=0.5) -> DatasetWrapper:\n",
    "    valids = np.hstack([ds.X_valid, ds.y_valid.reshape([-1, 1])])\n",
    "    new_valids = np.array(random.sample(valids.tolist(), int(perc * len(valids))))\n",
    "    return DatasetWrapper(f'{ds.name}',\n",
    "                            ds.X_train,\n",
    "                            new_valids[:, :3], new_valids[:, 3].astype(int),\n",
    "                            ds.X_test, ds.y_test\n",
    "    )\n"
   ]
  },
  {
   "cell_type": "code",
   "execution_count": 24,
   "metadata": {},
   "outputs": [],
   "source": [
    "exp = Experiment(\n",
    "    cals=[cals.uncal, cals.platt, cals.isot, cals.beta, cals.histbin], \n",
    "    datasets=[ds.fb13, ds.wn18, ds.yago39], \n",
    "    kges=[kges.transE, kges.complEx, kges.distMult, kges.hoLE], \n",
    "    metrics=[brier_score, negative_log_loss, ece]\n",
    ")"
   ]
  },
  {
   "cell_type": "code",
   "execution_count": 25,
   "metadata": {},
   "outputs": [
    {
     "name": "stdout",
     "output_type": "stream",
     "text": [
      "Loaded trained KG embedding models.\n",
      "training various calibrators for TransE on FB13k ...\n",
      "training various calibrators for ComplEx on FB13k ...\n",
      "training various calibrators for DistMult on FB13k ...\n",
      "training various calibrators for HolE on FB13k ...\n",
      "training various calibrators for TransE on WN11 ...\n",
      "training various calibrators for ComplEx on WN11 ...\n",
      "training various calibrators for DistMult on WN11 ...\n",
      "training various calibrators for HolE on WN11 ...\n",
      "training various calibrators for TransE on YAGO39 ...\n",
      "training various calibrators for ComplEx on YAGO39 ...\n",
      "training various calibrators for DistMult on YAGO39 ...\n",
      "training various calibrators for HolE on YAGO39 ...\n",
      "training various calibrators for TransE on FB13k ...\n",
      "training various calibrators for ComplEx on FB13k ...\n",
      "training various calibrators for DistMult on FB13k ...\n",
      "training various calibrators for HolE on FB13k ...\n",
      "training various calibrators for TransE on WN11 ...\n",
      "training various calibrators for ComplEx on WN11 ...\n",
      "training various calibrators for DistMult on WN11 ...\n",
      "training various calibrators for HolE on WN11 ...\n",
      "training various calibrators for TransE on YAGO39 ...\n",
      "training various calibrators for ComplEx on YAGO39 ...\n",
      "training various calibrators for DistMult on YAGO39 ...\n",
      "training various calibrators for HolE on YAGO39 ...\n",
      "training various calibrators for TransE on FB13k ...\n",
      "training various calibrators for ComplEx on FB13k ...\n",
      "training various calibrators for DistMult on FB13k ...\n",
      "training various calibrators for HolE on FB13k ...\n",
      "training various calibrators for TransE on WN11 ...\n",
      "training various calibrators for ComplEx on WN11 ...\n",
      "training various calibrators for DistMult on WN11 ...\n",
      "training various calibrators for HolE on WN11 ...\n",
      "training various calibrators for TransE on YAGO39 ...\n",
      "training various calibrators for ComplEx on YAGO39 ...\n",
      "training various calibrators for DistMult on YAGO39 ...\n",
      "training various calibrators for HolE on YAGO39 ...\n",
      "training various calibrators for TransE on FB13k ...\n",
      "training various calibrators for ComplEx on FB13k ...\n",
      "training various calibrators for DistMult on FB13k ...\n",
      "training various calibrators for HolE on FB13k ...\n",
      "training various calibrators for TransE on WN11 ...\n",
      "training various calibrators for ComplEx on WN11 ...\n",
      "training various calibrators for DistMult on WN11 ...\n",
      "training various calibrators for HolE on WN11 ...\n",
      "training various calibrators for TransE on YAGO39 ...\n",
      "training various calibrators for ComplEx on YAGO39 ...\n",
      "training various calibrators for DistMult on YAGO39 ...\n",
      "training various calibrators for HolE on YAGO39 ...\n",
      "training various calibrators for TransE on FB13k ...\n",
      "training various calibrators for ComplEx on FB13k ...\n",
      "training various calibrators for DistMult on FB13k ...\n",
      "training various calibrators for HolE on FB13k ...\n",
      "training various calibrators for TransE on WN11 ...\n",
      "training various calibrators for ComplEx on WN11 ...\n",
      "training various calibrators for DistMult on WN11 ...\n",
      "training various calibrators for HolE on WN11 ...\n",
      "training various calibrators for TransE on YAGO39 ...\n",
      "training various calibrators for ComplEx on YAGO39 ...\n",
      "training various calibrators for DistMult on YAGO39 ...\n",
      "training various calibrators for HolE on YAGO39 ...\n",
      "training various calibrators for TransE on FB13k ...\n",
      "training various calibrators for ComplEx on FB13k ...\n",
      "training various calibrators for DistMult on FB13k ...\n",
      "training various calibrators for HolE on FB13k ...\n",
      "training various calibrators for TransE on WN11 ...\n",
      "training various calibrators for ComplEx on WN11 ...\n",
      "training various calibrators for DistMult on WN11 ...\n",
      "training various calibrators for HolE on WN11 ...\n",
      "training various calibrators for TransE on YAGO39 ...\n",
      "training various calibrators for ComplEx on YAGO39 ...\n",
      "training various calibrators for DistMult on YAGO39 ...\n",
      "training various calibrators for HolE on YAGO39 ...\n"
     ]
    }
   ],
   "source": [
    "# exp.train_kges()\n",
    "\n",
    "exp.load_trained_kges('../saved_models/trained_kges')\n",
    "\n",
    "exp_reses = []\n",
    "\n",
    "scales = np.array([1.0, 0.7, 0.4, 0.1, 0.05, 0.01])\n",
    "\n",
    "for i in scales:\n",
    "    new_fb = shrink_valid(ds.fb13, perc=i)\n",
    "    new_wn = shrink_valid(ds.wn18, perc=i)\n",
    "    new_yg = shrink_valid(ds.yago39, perc=i) \n",
    "    \n",
    "    exp.datasets = [new_fb, new_wn, new_yg]\n",
    "    \n",
    "    exp_res = exp.run_with_trained_kges()\n",
    "    exp_reses.append(exp_res)\n"
   ]
  },
  {
   "cell_type": "code",
   "execution_count": 26,
   "metadata": {},
   "outputs": [],
   "source": [
    "def res_pivot(exp_res: ExperimentResult) -> pd.DataFrame:\n",
    "    newdf = exp_res.to_frame().pivot_table(values='ExpRes', index=['dataset', 'kge', 'metric'], columns=['cal'])\n",
    "    newdf['avg_excl_uncal'] = newdf.loc[:, newdf.columns != 'UncalCalibrator'].mean(axis=1)\n",
    "    return newdf"
   ]
  },
  {
   "cell_type": "code",
   "execution_count": 27,
   "metadata": {},
   "outputs": [],
   "source": [
    "lst_counts = []\n",
    "for res in exp_reses:\n",
    "    counts = res_pivot(res).xs('negative_log_loss', axis=0, level=2, drop_level=False).idxmin(axis=1).value_counts()\n",
    "    lst_counts.append(counts)\n",
    "various_counts = pd.DataFrame(lst_counts,  columns=counts.index, index=scales.astype(str))\n",
    "various_counts['UncalCalibrator'] = pd.Series([0]*len(scales), index=scales.astype(str))\n",
    "lgds = ['UncalCalibrator', 'PlattCalibrator', 'IsotonicCalibrator', \n",
    "        'BetaCalibrator', 'HistogramBinningCalibrator', ]\n",
    "various_counts = various_counts.reindex(columns=lgds).fillna(0)"
   ]
  },
  {
   "cell_type": "code",
   "execution_count": 28,
   "metadata": {},
   "outputs": [],
   "source": [
    "plt.rcParams['figure.dpi'] = 100 # default for me was 75\n",
    "plt.rc('figure', titlesize=10)\n",
    "plt.rc('axes', labelsize=15)\n",
    "plt.rc('axes', titlesize=10)\n",
    "plt.rc('xtick', labelsize=10)\n",
    "plt.rc('ytick', labelsize=10)\n",
    "plt.rc('legend', fontsize=7)\n",
    "plt.rc('lines', linewidth=2)\n",
    "plt.rc('lines', markersize=2)"
   ]
  },
  {
   "cell_type": "code",
   "execution_count": 29,
   "metadata": {},
   "outputs": [
    {
     "data": {
      "text/plain": [
       "<AxesSubplot:>"
      ]
     },
     "execution_count": 29,
     "metadata": {},
     "output_type": "execute_result"
    },
    {
     "data": {
      "image/png": "[encoded data removed]",
      "text/plain": [
       "<Figure size 640x480 with 1 Axes>"
      ]
     },
     "metadata": {},
     "output_type": "display_data"
    },
    {
     "data": {
      "image/png": "[encoded data removed]",
      "text/plain": [
       "<Figure size 640x480 with 1 Axes>"
      ]
     },
     "metadata": {},
     "output_type": "display_data"
    }
   ],
   "source": [
    "import seaborn as sns\n",
    "ax = sns.lineplot(data=various_counts, sort=False)\n",
    "ax.set(xlabel='scale', ylabel='winning counts')"
   ]
  }
 ],
 "metadata": {
  "kernelspec": {
   "display_name": "Python 3.7.6 ('.venv': pipenv)",
   "language": "python",
   "name": "python3"
  },
  "language_info": {
   "codemirror_mode": {
    "name": "ipython",
    "version": 3
   },
   "file_extension": ".py",
   "mimetype": "text/x-python",
   "name": "python",
   "nbconvert_exporter": "python",
   "pygments_lexer": "ipython3",
   "version": "3.7.6"
  },
  "orig_nbformat": 4,
  "vscode": {
   "interpreter": {
    "hash": "f1fad10ccd2b4b46f8acf96792776d8c0d9c66065bac33c6726f0b6a90e208ea"
   }
  }
 },
 "nbformat": 4,
 "nbformat_minor": 2
}
