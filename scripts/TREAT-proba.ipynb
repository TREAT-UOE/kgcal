{
 "cells": [
  {
   "cell_type": "code",
   "execution_count": 1,
   "id": "5d9712f1",
   "metadata": {},
   "outputs": [],
   "source": [
    "import numpy as np\n",
    "import tensorflow as tf\n",
    "import pandas as pd\n",
    "\n",
    "from scipy.special import expit\n",
    "from ampligraph.latent_features import ComplEx, TransE, DistMult, HolE\n",
    "from ampligraph.evaluation import generate_corruptions_for_fit, create_mappings, to_idx\n",
    "from netcal.scaling import BetaCalibration \n",
    "from netcal.binning import IsotonicRegression, HistogramBinning\n",
    "from netcal.metrics import ECE\n",
    "from sklearn.model_selection import train_test_split\n",
    "from sklearn.metrics import accuracy_score, mean_squared_error, log_loss\n",
    "%matplotlib inline"
   ]
  },
  {
   "cell_type": "code",
   "execution_count": 2,
   "id": "f30cc51f",
   "metadata": {},
   "outputs": [],
   "source": [
    "def negative_sampling(dat, eta=1):\n",
    "    '''\n",
    "    Given a set of positive triples, perform negative sampling by corruption\n",
    "    return a set of (X, y)\n",
    "    '''\n",
    "    rel_to_idx, ent_to_idx = create_mappings(dat)\n",
    "    dat_id = to_idx(dat, ent_to_idx, rel_to_idx)\n",
    "    dat2 = generate_corruptions_for_fit(dat_id, eta=eta)\n",
    "\n",
    "    dat2_id = dat2.eval(session=tf.compat.v1.Session())\n",
    "    X = np.concatenate([dat_id, dat2_id])\n",
    "    y = np.concatenate([np.ones(len(dat_id)), np.zeros(len(dat2_id))])\n",
    "    idx_to_rel = {v:k for k,v in rel_to_idx.items()}\n",
    "    idx_to_ent = {v:k for k,v in ent_to_idx.items()}\n",
    "    C = []\n",
    "    for x in X:\n",
    "        h, r, t = x\n",
    "        C.append([idx_to_ent[h], idx_to_rel[r], idx_to_ent[t]])\n",
    "\n",
    "    return np.array(C), y\n",
    "\n",
    "def filter_unseen(train, test, y_test):\n",
    "    entities = set()\n",
    "    relations = set()\n",
    "    for x in train:\n",
    "        h, r, t = x\n",
    "        entities.add(h)\n",
    "        relations.add(r)\n",
    "        entities.add(t)\n",
    "    filtered_triple = []\n",
    "    filtered_y = []\n",
    "    for i in range(len(test)):\n",
    "        h, r, t = test[i]\n",
    "        if (h in entities) and (t in entities) and (r in relations):\n",
    "            filtered_triple.append([h, r, t])\n",
    "            filtered_y.append(y_test[i])\n",
    "    return np.array(filtered_triple), np.array(filtered_y)\n",
    "\n"
   ]
  },
  {
   "cell_type": "code",
   "execution_count": 3,
   "id": "8fdbc1f5",
   "metadata": {},
   "outputs": [
    {
     "name": "stdout",
     "output_type": "stream",
     "text": [
      "[['<http://treat.net/onto.owl#alm_100001_803>'\n",
      "  '<http://treat.net/onto.owl#has_parameter>'\n",
      "  '<http://treat.net/onto.owl#alarm_para_instance_1716>']\n",
      " ['<http://treat.net/onto.owl#alm_5521_836>'\n",
      "  '<http://treat.net/onto.owl#has_parameter>'\n",
      "  '<http://treat.net/onto.owl#alarm_para_instance_714>']\n",
      " ['<http://treat.net/onto.owl#alarm_para_instance_499>'\n",
      "  '<http://www.w3.org/1999/02/22-rdf-syntax-ns#type>'\n",
      "  '<http://www.w3.org/2002/07/owl#NamedIndividual>']\n",
      " ...\n",
      " ['<http://treat.net/onto.owl#alarm_para_instance_580>'\n",
      "  '<http://treat.net/onto.owl#instance_of>'\n",
      "  '<http://treat.net/onto.owl#alarm_para_instance_3073>']\n",
      " ['<http://treat.net/onto.owl#alarm_para_instance_2485>'\n",
      "  '<http://www.w3.org/1999/02/22-rdf-syntax-ns#type>'\n",
      "  '<http://treat.net/onto.owl#alm_100155_53>']\n",
      " ['<http://treat.net/onto.owl#alarm_para_instance_695>'\n",
      "  '<http://treat.net/onto.owl#alarm_source>'\n",
      "  '<http://treat.net/onto.owl#alarm_para_instance_1376>']] [1. 1. 1. ... 0. 0. 0.]\n"
     ]
    }
   ],
   "source": [
    "with open('ontology_log_instance.ttl', 'r') as f:\n",
    "    lines = np.array([i.strip().split(' ')[:3] for i in f.readlines()])\n",
    "    \n",
    "dat = []\n",
    "for l in lines:\n",
    "    if str(l[2]).startswith('<http'):\n",
    "        dat.append(l)\n",
    "dat = np.array(dat)\n",
    "np.random.shuffle(dat)\n",
    "\n",
    "X_train = dat[:int(len(dat)*0.7)]\n",
    "X_rest = dat[int(len(dat)*0.7):]\n",
    "\n",
    "X, y = negative_sampling(X_rest, eta=1)\n",
    "X_cal, X_test, y_cal, y_test = train_test_split(X, y)\n",
    "\n",
    "X_cal, y_cal = filter_unseen(X_train, X_cal, y_cal)\n",
    "X_test, y_test = filter_unseen(X_train, X_test, y_test)\n",
    "\n",
    "print(X_cal, y_cal)"
   ]
  },
  {
   "cell_type": "code",
   "execution_count": 4,
   "id": "df3ac212",
   "metadata": {},
   "outputs": [
    {
     "name": "stderr",
     "output_type": "stream",
     "text": [
      "Average TransE Loss:   1.107205: 100%|████████████████████████████████████████████| 100/100 [01:16<00:00,  1.30epoch/s]\n"
     ]
    }
   ],
   "source": [
    "model = TransE(verbose=True)\n",
    "model.fit(X_train)"
   ]
  },
  {
   "cell_type": "code",
   "execution_count": 14,
   "id": "76aced4b",
   "metadata": {},
   "outputs": [
    {
     "name": "stdout",
     "output_type": "stream",
     "text": [
      "MES: 0.11837956135202506\n",
      "ECE: 0.05102247271931624\n"
     ]
    },
    {
     "data": {
      "text/html": [
       "<div>\n",
       "<style scoped>\n",
       "    .dataframe tbody tr th:only-of-type {\n",
       "        vertical-align: middle;\n",
       "    }\n",
       "\n",
       "    .dataframe tbody tr th {\n",
       "        vertical-align: top;\n",
       "    }\n",
       "\n",
       "    .dataframe thead th {\n",
       "        text-align: right;\n",
       "    }\n",
       "</style>\n",
       "<table border=\"1\" class=\"dataframe\">\n",
       "  <thead>\n",
       "    <tr style=\"text-align: right;\">\n",
       "      <th></th>\n",
       "      <th>head</th>\n",
       "      <th>relation</th>\n",
       "      <th>tail</th>\n",
       "      <th>proba</th>\n",
       "    </tr>\n",
       "  </thead>\n",
       "  <tbody>\n",
       "    <tr>\n",
       "      <th>0</th>\n",
       "      <td>&lt;http://treat.net/onto.owl#alm_5521_859&gt;</td>\n",
       "      <td>&lt;http://www.w3.org/1999/02/22-rdf-syntax-ns#type&gt;</td>\n",
       "      <td>&lt;http://treat.net/onto.owl#Alarm&gt;</td>\n",
       "      <td>0.078516155</td>\n",
       "    </tr>\n",
       "    <tr>\n",
       "      <th>1</th>\n",
       "      <td>&lt;http://treat.net/onto.owl#alm_100058_15619&gt;</td>\n",
       "      <td>&lt;http://treat.net/onto.owl#has_parameter&gt;</td>\n",
       "      <td>&lt;http://treat.net/onto.owl#alarm_para_instance...</td>\n",
       "      <td>0.8812648</td>\n",
       "    </tr>\n",
       "    <tr>\n",
       "      <th>2</th>\n",
       "      <td>&lt;http://treat.net/onto.owl#alm_221257768_16111&gt;</td>\n",
       "      <td>&lt;http://treat.net/onto.owl#instance_of&gt;</td>\n",
       "      <td>&lt;http://treat.net/onto.owl#alm_221257768&gt;</td>\n",
       "      <td>0.86594087</td>\n",
       "    </tr>\n",
       "    <tr>\n",
       "      <th>3</th>\n",
       "      <td>&lt;http://treat.net/onto.owl#alm_100058_15774&gt;</td>\n",
       "      <td>&lt;http://treat.net/onto.owl#has_parameter&gt;</td>\n",
       "      <td>&lt;http://treat.net/onto.owl#alarm_para_instance...</td>\n",
       "      <td>0.8902612</td>\n",
       "    </tr>\n",
       "    <tr>\n",
       "      <th>4</th>\n",
       "      <td>&lt;http://treat.net/onto.owl#alarm_para_instance...</td>\n",
       "      <td>&lt;http://www.w3.org/1999/02/22-rdf-syntax-ns#type&gt;</td>\n",
       "      <td>&lt;http://www.w3.org/2002/07/owl#NamedIndividual&gt;</td>\n",
       "      <td>0.71699065</td>\n",
       "    </tr>\n",
       "    <tr>\n",
       "      <th>...</th>\n",
       "      <td>...</td>\n",
       "      <td>...</td>\n",
       "      <td>...</td>\n",
       "      <td>...</td>\n",
       "    </tr>\n",
       "    <tr>\n",
       "      <th>5250</th>\n",
       "      <td>&lt;http://treat.net/onto.owl#alm_para_282&gt;</td>\n",
       "      <td>&lt;http://www.w3.org/1999/02/22-rdf-syntax-ns#type&gt;</td>\n",
       "      <td>&lt;http://www.w3.org/2002/07/owl#NamedIndividual&gt;</td>\n",
       "      <td>0.25806552</td>\n",
       "    </tr>\n",
       "    <tr>\n",
       "      <th>5251</th>\n",
       "      <td>&lt;http://treat.net/onto.owl#alarm_para_instance...</td>\n",
       "      <td>&lt;http://treat.net/onto.owl#has_parameter&gt;</td>\n",
       "      <td>&lt;http://treat.net/onto.owl#alarm_para_instance...</td>\n",
       "      <td>0.08886055</td>\n",
       "    </tr>\n",
       "    <tr>\n",
       "      <th>5252</th>\n",
       "      <td>&lt;http://treat.net/onto.owl#alarm_para_instance...</td>\n",
       "      <td>&lt;http://www.w3.org/1999/02/22-rdf-syntax-ns#type&gt;</td>\n",
       "      <td>&lt;http://treat.net/onto.owl#Alarm_Para_Instance&gt;</td>\n",
       "      <td>0.7573476</td>\n",
       "    </tr>\n",
       "    <tr>\n",
       "      <th>5253</th>\n",
       "      <td>&lt;http://treat.net/onto.owl#alm_5521_892&gt;</td>\n",
       "      <td>&lt;http://treat.net/onto.owl#has_parameter&gt;</td>\n",
       "      <td>&lt;http://treat.net/onto.owl#alarm_para_instance...</td>\n",
       "      <td>0.83217865</td>\n",
       "    </tr>\n",
       "    <tr>\n",
       "      <th>5254</th>\n",
       "      <td>&lt;http://treat.net/onto.owl#alarm_para_instance...</td>\n",
       "      <td>&lt;http://www.w3.org/1999/02/22-rdf-syntax-ns#type&gt;</td>\n",
       "      <td>&lt;http://treat.net/onto.owl#Pod_Instance&gt;</td>\n",
       "      <td>0.88997483</td>\n",
       "    </tr>\n",
       "  </tbody>\n",
       "</table>\n",
       "<p>5255 rows × 4 columns</p>\n",
       "</div>"
      ],
      "text/plain": [
       "                                                   head  \\\n",
       "0              <http://treat.net/onto.owl#alm_5521_859>   \n",
       "1          <http://treat.net/onto.owl#alm_100058_15619>   \n",
       "2       <http://treat.net/onto.owl#alm_221257768_16111>   \n",
       "3          <http://treat.net/onto.owl#alm_100058_15774>   \n",
       "4     <http://treat.net/onto.owl#alarm_para_instance...   \n",
       "...                                                 ...   \n",
       "5250           <http://treat.net/onto.owl#alm_para_282>   \n",
       "5251  <http://treat.net/onto.owl#alarm_para_instance...   \n",
       "5252  <http://treat.net/onto.owl#alarm_para_instance...   \n",
       "5253           <http://treat.net/onto.owl#alm_5521_892>   \n",
       "5254  <http://treat.net/onto.owl#alarm_para_instance...   \n",
       "\n",
       "                                               relation  \\\n",
       "0     <http://www.w3.org/1999/02/22-rdf-syntax-ns#type>   \n",
       "1             <http://treat.net/onto.owl#has_parameter>   \n",
       "2               <http://treat.net/onto.owl#instance_of>   \n",
       "3             <http://treat.net/onto.owl#has_parameter>   \n",
       "4     <http://www.w3.org/1999/02/22-rdf-syntax-ns#type>   \n",
       "...                                                 ...   \n",
       "5250  <http://www.w3.org/1999/02/22-rdf-syntax-ns#type>   \n",
       "5251          <http://treat.net/onto.owl#has_parameter>   \n",
       "5252  <http://www.w3.org/1999/02/22-rdf-syntax-ns#type>   \n",
       "5253          <http://treat.net/onto.owl#has_parameter>   \n",
       "5254  <http://www.w3.org/1999/02/22-rdf-syntax-ns#type>   \n",
       "\n",
       "                                                   tail        proba  \n",
       "0                     <http://treat.net/onto.owl#Alarm>  0.078516155  \n",
       "1     <http://treat.net/onto.owl#alarm_para_instance...    0.8812648  \n",
       "2             <http://treat.net/onto.owl#alm_221257768>   0.86594087  \n",
       "3     <http://treat.net/onto.owl#alarm_para_instance...    0.8902612  \n",
       "4       <http://www.w3.org/2002/07/owl#NamedIndividual>   0.71699065  \n",
       "...                                                 ...          ...  \n",
       "5250    <http://www.w3.org/2002/07/owl#NamedIndividual>   0.25806552  \n",
       "5251  <http://treat.net/onto.owl#alarm_para_instance...   0.08886055  \n",
       "5252    <http://treat.net/onto.owl#Alarm_Para_Instance>    0.7573476  \n",
       "5253  <http://treat.net/onto.owl#alarm_para_instance...   0.83217865  \n",
       "5254           <http://treat.net/onto.owl#Pod_Instance>   0.88997483  \n",
       "\n",
       "[5255 rows x 4 columns]"
      ]
     },
     "execution_count": 14,
     "metadata": {},
     "output_type": "execute_result"
    }
   ],
   "source": [
    "def cal_and_eval(model, calibrator, X_cal, y_cal, X_test, y_test):\n",
    "    scores_cal = expit(model.predict(X_cal))    \n",
    "    calibrator.fit(scores_cal, y_cal)\n",
    "    scores_test = expit(model.predict(X_test))\n",
    "    proba_test = calibrator.transform(scores_test)\n",
    "    print('MES:', mean_squared_error(proba_test, y_test))\n",
    "    ece = ECE()\n",
    "    print('ECE:', ece.measure(proba_test, y_test))\n",
    "    return proba_test\n",
    "\n",
    "\n",
    "calibrator = BetaCalibration()\n",
    "probs = cal_and_eval(model, calibrator, X_cal, y_cal, X_test, y_test)\n",
    "prob_triples = np.c_[(X_test, probs)]\n",
    "df = pd.DataFrame(prob_triples,columns=['head', 'relation', 'tail', 'proba'])\n",
    "df"
   ]
  },
  {
   "cell_type": "code",
   "execution_count": 15,
   "id": "53a02a21",
   "metadata": {},
   "outputs": [
    {
     "data": {
      "text/plain": [
       "<AxesSubplot:>"
      ]
     },
     "execution_count": 15,
     "metadata": {},
     "output_type": "execute_result"
    },
    {
     "data": {
      "image/png": "[encoded data removed]",
      "text/plain": [
       "<Figure size 432x288 with 1 Axes>"
      ]
     },
     "metadata": {
      "needs_background": "light"
     },
     "output_type": "display_data"
    }
   ],
   "source": [
    "df['proba'].astype(float).hist()"
   ]
  },
  {
   "cell_type": "code",
   "execution_count": 119,
   "id": "3e506f7a",
   "metadata": {},
   "outputs": [
    {
     "data": {
      "text/plain": [
       "array([['<http://treat.net/onto.owl#alm_5521_859>',\n",
       "        '<http://www.w3.org/1999/02/22-rdf-syntax-ns#type>',\n",
       "        '<http://treat.net/onto.owl#Alarm>', '0.078516155'],\n",
       "       ['<http://treat.net/onto.owl#alm_100058_15619>',\n",
       "        '<http://treat.net/onto.owl#has_parameter>',\n",
       "        '<http://treat.net/onto.owl#alarm_para_instance_2172>',\n",
       "        '0.8812648'],\n",
       "       ['<http://treat.net/onto.owl#alm_221257768_16111>',\n",
       "        '<http://treat.net/onto.owl#instance_of>',\n",
       "        '<http://treat.net/onto.owl#alm_221257768>', '0.86594087'],\n",
       "       ...,\n",
       "       ['<http://treat.net/onto.owl#alarm_para_instance_93>',\n",
       "        '<http://www.w3.org/1999/02/22-rdf-syntax-ns#type>',\n",
       "        '<http://treat.net/onto.owl#Alarm_Para_Instance>', '0.7573476'],\n",
       "       ['<http://treat.net/onto.owl#alm_5521_892>',\n",
       "        '<http://treat.net/onto.owl#has_parameter>',\n",
       "        '<http://treat.net/onto.owl#alarm_para_instance_1349>',\n",
       "        '0.83217865'],\n",
       "       ['<http://treat.net/onto.owl#alarm_para_instance_695>',\n",
       "        '<http://www.w3.org/1999/02/22-rdf-syntax-ns#type>',\n",
       "        '<http://treat.net/onto.owl#Pod_Instance>', '0.88997483']],\n",
       "      dtype='<U59')"
      ]
     },
     "execution_count": 119,
     "metadata": {},
     "output_type": "execute_result"
    }
   ],
   "source": [
    "prob_triples"
   ]
  },
  {
   "cell_type": "code",
   "execution_count": 115,
   "id": "3b6f26df",
   "metadata": {},
   "outputs": [
    {
     "name": "stdout",
     "output_type": "stream",
     "text": [
      "['<http://treat.net/onto.owl#alarm_para_instance_566>',\n",
      " '<http://treat.net/onto.owl#sbi_mapping>',\n",
      " '<http://treat.net/onto.owl#alarm_para_instance_1055>']\n",
      "0.815\n"
     ]
    }
   ],
   "source": [
    "entities = set()\n",
    "relations = set()\n",
    "for x in X_train:\n",
    "    h, r, t = x\n",
    "    entities.add(h)\n",
    "    relations.add(r)\n",
    "    entities.add(t)\n",
    "\n",
    "import random\n",
    "from pprint import pprint\n",
    "prob = 0\n",
    "while prob < 0.5:\n",
    "    h = random.sample(entities,1)[0]\n",
    "    r = random.sample(relations, 1)[0]\n",
    "    t = random.sample(entities, 1)[0]\n",
    "    score = model.predict([h,r,t])\n",
    "    prob = calibrator.transform(expit(score)).round(3)\n",
    "    pprint([h, r, t])\n",
    "    print(prob)\n"
   ]
  },
  {
   "cell_type": "code",
   "execution_count": null,
   "id": "d0fd6f79",
   "metadata": {},
   "outputs": [],
   "source": []
  },
  {
   "cell_type": "code",
   "execution_count": 134,
   "id": "a14436ec",
   "metadata": {},
   "outputs": [],
   "source": [
    "class Triple:\n",
    "    def __init__(self, subj, pred, obj, mu=None, v=None):\n",
    "        self.subj = subj\n",
    "        self.pred = pred\n",
    "        self.obj = obj\n",
    "        self._beta_a = 0\n",
    "        self._beta_b = 0\n",
    "        if mu != None and v != None:\n",
    "            self._calculate_beta_mu_v(mu, v)\n",
    "    def __str__(self):\n",
    "        return f'{self.prob}::({self.subj}, {self.pred}, {self.obj})'\n",
    "    def __repr__(self):\n",
    "        return self.__str__()\n",
    "    def _calculate_beta_mu_v(self, mu, v):\n",
    "        '''calculate a and b of beta distribution by mean and sample size'''\n",
    "        self._beta_a = mu * v\n",
    "        self._beta_b = (1 - mu) * v\n",
    "        return self._beta_a, self._beta_b\n",
    "    @property\n",
    "    def prob(self):\n",
    "        return self._beta_a / (self._beta_a + self._beta_b)\n",
    "    def assign_init_prob_mu_v(self, mu, v):\n",
    "        _calculate_beta_mu_v(mu, v)\n",
    "    def update_beta_a_b(self, evds_stream):\n",
    "        num_ones = list(evds_stream).count(1)\n",
    "        num_zeros = list(evds_stream).count(0)\n",
    "        self._beta_a += num_ones\n",
    "        self._beta_b += num_zeros\n",
    "        return self._beta_a, self._beta_b\n",
    "    \n",
    "    \n",
    "def make_synthetic_evidence(triples):\n",
    "    evds = []\n",
    "    for t in triples:\n",
    "        num_evd = random.randint(0,100)\n",
    "        evds.append(np.random.randint(2, size=num_evd))\n",
    "    return evds\n",
    "\n",
    "def assign_init_probs(triples):\n",
    "    return\n",
    "\n",
    "def update_probas(p_triples, evds):\n",
    "    return\n",
    "\n"
   ]
  },
  {
   "cell_type": "code",
   "execution_count": 143,
   "id": "8eb62e6c",
   "metadata": {},
   "outputs": [],
   "source": [
    "evds = make_synthetic_evidence(prob_triples)"
   ]
  },
  {
   "cell_type": "code",
   "execution_count": 140,
   "id": "5d302fea",
   "metadata": {},
   "outputs": [
    {
     "name": "stdout",
     "output_type": "stream",
     "text": [
      "0.078516155::(<http://treat.net/onto.owl#alm_5521_859>, <http://www.w3.org/1999/02/22-rdf-syntax-ns#type>, <http://treat.net/onto.owl#Alarm>)\n"
     ]
    }
   ],
   "source": [
    "trps = []\n",
    "for i in prob_triples:\n",
    "    trps.append(Triple(i[0], i[1], i[2], float(i[3]), 10))\n",
    "print(trps[0])"
   ]
  },
  {
   "cell_type": "code",
   "execution_count": 155,
   "id": "b526e57c",
   "metadata": {},
   "outputs": [],
   "source": [
    "for i in range(len(trps)):\n",
    "    trps[i].update_beta_a_b(evds[i])"
   ]
  },
  {
   "cell_type": "code",
   "execution_count": 158,
   "id": "1f7281d6",
   "metadata": {},
   "outputs": [
    {
     "data": {
      "text/plain": [
       "0.38469625152284265::(<http://treat.net/onto.owl#alm_5521_859>, <http://www.w3.org/1999/02/22-rdf-syntax-ns#type>, <http://treat.net/onto.owl#Alarm>)"
      ]
     },
     "execution_count": 158,
     "metadata": {},
     "output_type": "execute_result"
    }
   ],
   "source": [
    "trps[0]"
   ]
  },
  {
   "cell_type": "code",
   "execution_count": null,
   "id": "ced9602d",
   "metadata": {},
   "outputs": [],
   "source": []
  },
  {
   "cell_type": "code",
   "execution_count": null,
   "id": "9d5b3e3b",
   "metadata": {},
   "outputs": [],
   "source": []
  }
 ],
 "metadata": {
  "kernelspec": {
   "display_name": "Python 3 (ipykernel)",
   "language": "python",
   "name": "python3"
  },
  "language_info": {
   "codemirror_mode": {
    "name": "ipython",
    "version": 3
   },
   "file_extension": ".py",
   "mimetype": "text/x-python",
   "name": "python",
   "nbconvert_exporter": "python",
   "pygments_lexer": "ipython3",
   "version": "3.7.6"
  }
 },
 "nbformat": 4,
 "nbformat_minor": 5
}
