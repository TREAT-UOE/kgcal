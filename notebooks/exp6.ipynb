{
 "cells": [
  {
   "cell_type": "code",
   "execution_count": 1,
   "metadata": {},
   "outputs": [],
   "source": [
    "import sys\n",
    "# enable importing the modules from probcalkge\n",
    "sys.path.append('../')\n",
    "sys.path.append('../probcalkge')\n",
    "\n",
    "import numpy as np\n",
    "import pandas as pd\n",
    "import matplotlib.pyplot as plt\n",
    "\n",
    "from probcalkge import Experiment, ExperimentResult\n",
    "from probcalkge import get_calibrators\n",
    "from probcalkge import get_datasets,  get_kgemodels\n",
    "from probcalkge import brier_score, negative_log_loss, ks_error, ece"
   ]
  },
  {
   "cell_type": "code",
   "execution_count": 2,
   "metadata": {},
   "outputs": [
    {
     "name": "stdout",
     "output_type": "stream",
     "text": [
      "WARNING - All triples will be processed in the same batch (batches_count=1). When processing large graphs it is recommended to batch the input knowledge graph instead.\n"
     ]
    }
   ],
   "source": [
    "cals = get_calibrators()\n",
    "kges = get_kgemodels()\n",
    "ds = get_datasets()"
   ]
  },
  {
   "cell_type": "code",
   "execution_count": 3,
   "metadata": {},
   "outputs": [],
   "source": [
    "exp = Experiment(\n",
    "    cals=[cals.uncal, cals.platt, cals.isot, ], \n",
    "    datasets=[ds.yago39], \n",
    "    kges=[kges.complEx, kges.distMult, kges.hoLE], \n",
    "    metrics=[ece]\n",
    "    )"
   ]
  },
  {
   "cell_type": "code",
   "execution_count": null,
   "metadata": {},
   "outputs": [],
   "source": [
    "exp.train_kges()"
   ]
  },
  {
   "cell_type": "code",
   "execution_count": null,
   "metadata": {},
   "outputs": [],
   "source": [
    "exp.save_trained_kges('../saved_models/newyago/')"
   ]
  },
  {
   "cell_type": "code",
   "execution_count": null,
   "metadata": {},
   "outputs": [],
   "source": []
  }
 ],
 "metadata": {
  "kernelspec": {
   "display_name": "Python 3.7.9 64-bit ('3.7.9')",
   "language": "python",
   "name": "python3"
  },
  "language_info": {
   "codemirror_mode": {
    "name": "ipython",
    "version": 3
   },
   "file_extension": ".py",
   "mimetype": "text/x-python",
   "name": "python",
   "nbconvert_exporter": "python",
   "pygments_lexer": "ipython3",
   "version": "3.7.9"
  },
  "orig_nbformat": 4,
  "vscode": {
   "interpreter": {
    "hash": "5f722276768dd6be949ba67e73c531926a2bba4be7e88818b041050b09b1c190"
   }
  }
 },
 "nbformat": 4,
 "nbformat_minor": 2
}
