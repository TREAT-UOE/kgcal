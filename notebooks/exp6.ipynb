{
 "cells": [
  {
   "cell_type": "code",
   "execution_count": 12,
   "metadata": {},
   "outputs": [],
   "source": [
    "import sys\n",
    "# enable importing the modules from probcalkge\n",
    "sys.path.append('../')\n",
    "sys.path.append('../probcalkge')\n",
    "\n",
    "import numpy as np\n",
    "import pandas as pd\n",
    "import matplotlib.pyplot as plt\n",
    "\n",
    "from ampligraph.latent_features import ComplEx\n",
    "from ampligraph.utils import save_model, restore_model\n",
    "from sklearn.metrics import accuracy_score\n",
    "from sklearn.calibration import CalibrationDisplay\n",
    "from scipy.special import expit\n",
    "\n",
    "from probcalkge import Experiment, ExperimentResult\n",
    "from probcalkge import get_calibrators\n",
    "from probcalkge import get_datasets,  get_kgemodels\n",
    "from probcalkge import brier_score, negative_log_loss, ks_error, ece"
   ]
  },
  {
   "cell_type": "code",
   "execution_count": 2,
   "metadata": {},
   "outputs": [
    {
     "name": "stdout",
     "output_type": "stream",
     "text": [
      "WARNING - All triples will be processed in the same batch (batches_count=1). When processing large graphs it is recommended to batch the input knowledge graph instead.\n"
     ]
    }
   ],
   "source": [
    "cals = get_calibrators()\n",
    "kges = get_kgemodels()\n",
    "ds = get_datasets()"
   ]
  },
  {
   "cell_type": "code",
   "execution_count": 5,
   "metadata": {},
   "outputs": [],
   "source": [
    "exp = Experiment(\n",
    "    cals=[cals.uncal, cals.platt, cals.isot, ], \n",
    "    datasets=[ds.yago39], \n",
    "    kges=[ kges.distMult, kges.hoLE], \n",
    "    metrics=[ece]\n",
    "    )"
   ]
  },
  {
   "cell_type": "code",
   "execution_count": 5,
   "metadata": {},
   "outputs": [
    {
     "name": "stdout",
     "output_type": "stream",
     "text": [
      "training DistMult on YAGO39 ...\n"
     ]
    },
    {
     "name": "stderr",
     "output_type": "stream",
     "text": [
      "Average DistMult Loss:   0.375038: 100%|██████████| 100/100 [38:14<00:00, 22.95s/epoch]\n"
     ]
    },
    {
     "name": "stdout",
     "output_type": "stream",
     "text": [
      "training HolE on YAGO39 ...\n"
     ]
    },
    {
     "name": "stderr",
     "output_type": "stream",
     "text": [
      "Average HolE Loss:   0.774206: 100%|██████████| 100/100 [2:01:33<00:00, 72.94s/epoch] \n"
     ]
    }
   ],
   "source": [
    "exp.train_kges()"
   ]
  },
  {
   "cell_type": "code",
   "execution_count": 6,
   "metadata": {},
   "outputs": [
    {
     "name": "stdout",
     "output_type": "stream",
     "text": [
      "made model directory: ../saved_models/newyago/\n",
      "saved ../saved_models/newyago/YAGO39-DistMult.pkl.\n",
      "saved ../saved_models/newyago/YAGO39-HolE.pkl.\n"
     ]
    }
   ],
   "source": [
    "exp.save_trained_kges('../saved_models/newyago/')"
   ]
  },
  {
   "cell_type": "code",
   "execution_count": 7,
   "metadata": {},
   "outputs": [
    {
     "name": "stdout",
     "output_type": "stream",
     "text": [
      "training ComplEx on YAGO39 ...\n"
     ]
    },
    {
     "name": "stderr",
     "output_type": "stream",
     "text": [
      "Average ComplEx Loss:   0.165952: 100%|██████████| 100/100 [1:59:29<00:00, 71.70s/epoch] \n"
     ]
    },
    {
     "name": "stdout",
     "output_type": "stream",
     "text": [
      "saved ../saved_models/newyago/YAGO39-ComplEx.pkl.\n"
     ]
    }
   ],
   "source": [
    "exp = Experiment(\n",
    "    cals=[cals.uncal, cals.platt, cals.isot, ], \n",
    "    datasets=[ds.yago39], \n",
    "    kges=[ kges.complEx], \n",
    "    metrics=[ece]\n",
    "    )"
   ]
  },
  {
   "cell_type": "code",
   "execution_count": 35,
   "metadata": {},
   "outputs": [
    {
     "name": "stderr",
     "output_type": "stream",
     "text": [
      "Average ComplEx Loss:   0.004186: 100%|██████████| 200/200 [36:06<00:00, 10.83s/epoch]\n"
     ]
    }
   ],
   "source": [
    "cpm4 = ComplEx(loss='nll', verbose=True, epochs=200)\n",
    "# cpm6 = ComplEx(loss='nll', verbose=True, regularizer='LP', regularizer_params={'p': 3, 'lambda':0.1})\n",
    "\n",
    "cpm4.fit(ds.wn18.X_train)\n",
    "save_model(cpm4, 'complex_nll_wn-200.pkl')\n",
    "# cpm6.fit(ds.yago39.X_train)\n",
    "# save_model(cpm6, 'complex_nll_reg_yg.pkl')\n"
   ]
  },
  {
   "cell_type": "code",
   "execution_count": 73,
   "metadata": {},
   "outputs": [],
   "source": [
    "\n",
    "cpm1 = restore_model('../saved_models/FB13k-ComplEx.pkl')\n",
    "cpm2 = restore_model('complex_nll_reg.pkl')\n",
    "\n",
    "cpm3 = restore_model('../saved_models/WN11-ComplEx.pkl')\n",
    "cpm4 = restore_model('complex_nll_reg_wn.pkl')\n",
    "\n",
    "cpm5 = restore_model('../saved_models/YAGO39-ComplEx.pkl')\n",
    "cpm6 = restore_model('complex_nll_reg_yg.pkl')\n"
   ]
  },
  {
   "cell_type": "code",
   "execution_count": 74,
   "metadata": {},
   "outputs": [],
   "source": [
    "scores1 = cpm1.predict(ds.fb13.X_test)\n",
    "probs1 = expit(scores1)\n",
    "\n",
    "scores2 = cpm2.predict(ds.fb13.X_test)\n",
    "probs2 = expit(scores2)\n",
    "\n",
    "scores3 = cpm3.predict(ds.wn18.X_test)\n",
    "probs3 = expit(scores3)\n",
    "\n",
    "scores4 = cpm4.predict(ds.wn18.X_test)\n",
    "probs4 = expit(scores4)\n",
    "\n",
    "scores5 = cpm5.predict(ds.yago39.X_test)\n",
    "probs5 = expit(scores5)\n",
    "\n",
    "scores6 = cpm6.predict(ds.yago39.X_test)\n",
    "probs6 = expit(scores6)"
   ]
  },
  {
   "cell_type": "code",
   "execution_count": 76,
   "metadata": {},
   "outputs": [
    {
     "name": "stdout",
     "output_type": "stream",
     "text": [
      "ComplEx FB13k\n",
      "{'BS': 0.40704260654273144, 'NLL': 2.2465560127404207, 'ECE': 0.41877499798679346, 'ACC': 0.5538934771616383}\n",
      "ComplEx FB13k\n"
     ]
    },
    {
     "data": {
      "text/plain": [
       "{'BS': 0.28289896739985426,\n",
       " 'NLL': 0.8520768830593812,\n",
       " 'ECE': 0.22725086202027317,\n",
       " 'ACC': 0.6445937974043485}"
      ]
     },
     "execution_count": 76,
     "metadata": {},
     "output_type": "execute_result"
    }
   ],
   "source": [
    "print(stats(cpm1, ds.fb13))\n",
    "stats(cpm2, ds.fb13)"
   ]
  },
  {
   "cell_type": "code",
   "execution_count": 55,
   "metadata": {},
   "outputs": [],
   "source": [
    "from probcalkge import brier_score, get_cls_name\n",
    "from sklearn.metrics import accuracy_score\n",
    "\n",
    "def stats(model, data):\n",
    "    print(get_cls_name(model), data.name)\n",
    "    score = model.predict(data.X_test)\n",
    "    probs = expit(score)\n",
    "    return {\n",
    "        'BS': brier_score(data.y_test, probs),\n",
    "        'NLL': negative_log_loss(data.y_test, probs),\n",
    "        'ECE': ece(data.y_test, probs),\n",
    "        'ACC': accuracy_score(data.y_test, probs>0.5)\n",
    "    }"
   ]
  },
  {
   "cell_type": "code",
   "execution_count": 58,
   "metadata": {},
   "outputs": [],
   "source": [
    "import os\n",
    "folder = r'F:\\TREAT\\kgcal\\data-output\\nll_100'\n",
    "nll100 = [restore_model(os.path.join(folder, i)) for i in os.listdir(folder)]\n",
    "\n",
    "folder = r'F:\\TREAT\\kgcal\\data-output\\nll_100_reg'\n",
    "nll100reg = [restore_model(os.path.join(folder, i)) for i in os.listdir(folder)]\n",
    "\n",
    "folder = r'F:\\TREAT\\kgcal\\data-output\\nll_200'\n",
    "nll200 = [restore_model(os.path.join(folder, i)) for i in os.listdir(folder)]\n",
    "\n",
    "folder = r'F:\\TREAT\\kgcal\\data-output\\nll_200_reg'\n",
    "nll200reg = nll200 = [restore_model(os.path.join(folder, i)) for i in os.listdir(folder)]"
   ]
  },
  {
   "cell_type": "code",
   "execution_count": 69,
   "metadata": {},
   "outputs": [
    {
     "name": "stdout",
     "output_type": "stream",
     "text": [
      "ComplEx FB13k\n",
      "{'BS': 0.3385623476617665, 'NLL': 1.1238786534586995, 'ECE': 0.29698127123219886, 'ACC': 0.5605511545592449}\n",
      "ComplEx WN11\n",
      "{'BS': 0.21457739982520513, 'NLL': 0.611389728233577, 'ECE': 0.10035214100082576, 'ACC': 0.6267634223079265}\n",
      "ComplEx YAGO39\n",
      "{'BS': 0.233304019267225, 'NLL': 1.0921743873702785, 'ECE': 0.2100945055801553, 'ACC': 0.7254552331550225}\n"
     ]
    }
   ],
   "source": [
    "for m, data in zip(nll100, [ds.fb13, ds.wn18, ds.yago39]):\n",
    "    print(stats(m, data))\n",
    "    "
   ]
  },
  {
   "cell_type": "code",
   "execution_count": 71,
   "metadata": {},
   "outputs": [
    {
     "name": "stdout",
     "output_type": "stream",
     "text": [
      "ComplEx FB13k\n",
      "{'BS': 0.3692481154185115, 'NLL': 1.6349988018906685, 'ECE': 0.3423706144943827, 'ACC': 0.585243553008596}\n",
      "ComplEx WN11\n",
      "{'BS': 0.31509702934211065, 'NLL': 1.0806541427920484, 'ECE': 0.3113624292561844, 'ACC': 0.6099157616969451}\n",
      "ComplEx YAGO39\n",
      "{'BS': 0.18819364883996217, 'NLL': 0.8173243217274974, 'ECE': 0.1715817111932596, 'ACC': 0.7724644729021451}\n"
     ]
    }
   ],
   "source": [
    "for m, data in zip(nll200, [ds.fb13, ds.wn18, ds.yago39]):\n",
    "    print(stats(m, data))"
   ]
  },
  {
   "cell_type": "code",
   "execution_count": 70,
   "metadata": {},
   "outputs": [
    {
     "name": "stdout",
     "output_type": "stream",
     "text": [
      "ComplEx FB13k\n",
      "{'BS': 0.33040020928842395, 'NLL': 1.05243193629922, 'ECE': 0.2972321411277657, 'ACC': 0.5562952974886229}\n",
      "ComplEx WN11\n",
      "{'BS': 0.21263925633156505, 'NLL': 0.6075558812332627, 'ECE': 0.11812873590065721, 'ACC': 0.6331066680198925}\n",
      "ComplEx YAGO39\n",
      "{'BS': 0.24254226955633879, 'NLL': 1.003494769776883, 'ECE': 0.22192509207115274, 'ACC': 0.7083265791322202}\n"
     ]
    }
   ],
   "source": [
    "for m, data in zip(nll100reg, [ds.fb13, ds.wn18, ds.yago39]):\n",
    "    print(stats(m, data))"
   ]
  },
  {
   "cell_type": "code",
   "execution_count": 72,
   "metadata": {},
   "outputs": [
    {
     "name": "stdout",
     "output_type": "stream",
     "text": [
      "ComplEx FB13k\n",
      "{'BS': 0.3692481154185115, 'NLL': 1.6349988018906685, 'ECE': 0.3423706144943827, 'ACC': 0.585243553008596}\n",
      "ComplEx WN11\n",
      "{'BS': 0.31509702934211065, 'NLL': 1.0806541427920484, 'ECE': 0.3113624292561844, 'ACC': 0.6099157616969451}\n",
      "ComplEx YAGO39\n",
      "{'BS': 0.18819364883996217, 'NLL': 0.8173243217274974, 'ECE': 0.1715817111932596, 'ACC': 0.7724644729021451}\n"
     ]
    }
   ],
   "source": [
    "for m, data in zip(nll200reg, [ds.fb13, ds.wn18, ds.yago39]):\n",
    "    print(stats(m, data))"
   ]
  },
  {
   "cell_type": "code",
   "execution_count": 77,
   "metadata": {},
   "outputs": [],
   "source": [
    "folder = r'F:\\TREAT\\kgcal\\data-output\\am_100'\n",
    "am100 = [restore_model(os.path.join(folder, i)) for i in os.listdir(folder)]\n",
    "\n",
    "folder = r'F:\\TREAT\\kgcal\\data-output\\am_100_reg'\n",
    "am100reg = [restore_model(os.path.join(folder, i)) for i in os.listdir(folder)]"
   ]
  },
  {
   "cell_type": "code",
   "execution_count": 79,
   "metadata": {},
   "outputs": [
    {
     "name": "stdout",
     "output_type": "stream",
     "text": [
      "ComplEx FB13k\n",
      "{'BS': 0.3276006406724404, 'NLL': 2.281402174867122, 'ECE': 0.33469375273672003, 'ACC': 0.6015085117141412}\n",
      "ComplEx WN11\n",
      "{'BS': 0.22845736997785257, 'NLL': 0.646433796118873, 'ECE': 0.14880674689269527, 'ACC': 0.6182888460367401}\n",
      "ComplEx YAGO39\n",
      "{'BS': 0.48235713753169446, 'NLL': 7.1782716382449445, 'ECE': 0.48116350690792864, 'ACC': 0.5116442427189712}\n"
     ]
    }
   ],
   "source": [
    "for m, data in zip(am100, [ds.fb13, ds.wn18, ds.yago39]):\n",
    "    print(stats(m, data))"
   ]
  },
  {
   "cell_type": "code",
   "execution_count": null,
   "metadata": {},
   "outputs": [],
   "source": []
  }
 ],
 "metadata": {
  "kernelspec": {
   "display_name": "Python 3.7.6 ('.venv': pipenv)",
   "language": "python",
   "name": "python3"
  },
  "language_info": {
   "codemirror_mode": {
    "name": "ipython",
    "version": 3
   },
   "file_extension": ".py",
   "mimetype": "text/x-python",
   "name": "python",
   "nbconvert_exporter": "python",
   "pygments_lexer": "ipython3",
   "version": "3.7.6"
  },
  "orig_nbformat": 4,
  "vscode": {
   "interpreter": {
    "hash": "f1fad10ccd2b4b46f8acf96792776d8c0d9c66065bac33c6726f0b6a90e208ea"
   }
  }
 },
 "nbformat": 4,
 "nbformat_minor": 2
}
