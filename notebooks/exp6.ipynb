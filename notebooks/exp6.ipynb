{
 "cells": [
  {
   "cell_type": "code",
   "execution_count": 1,
   "metadata": {},
   "outputs": [],
   "source": [
    "import sys\n",
    "# enable importing the modules from probcalkge\n",
    "sys.path.append('../')\n",
    "sys.path.append('../probcalkge')\n",
    "\n",
    "import numpy as np\n",
    "import pandas as pd\n",
    "import matplotlib.pyplot as plt\n",
    "\n",
    "from probcalkge import Experiment, ExperimentResult\n",
    "from probcalkge import get_calibrators\n",
    "from probcalkge import get_datasets,  get_kgemodels\n",
    "from probcalkge import brier_score, negative_log_loss, ks_error, ece"
   ]
  },
  {
   "cell_type": "code",
   "execution_count": 2,
   "metadata": {},
   "outputs": [
    {
     "name": "stdout",
     "output_type": "stream",
     "text": [
      "WARNING - All triples will be processed in the same batch (batches_count=1). When processing large graphs it is recommended to batch the input knowledge graph instead.\n"
     ]
    }
   ],
   "source": [
    "cals = get_calibrators()\n",
    "kges = get_kgemodels()\n",
    "ds = get_datasets()"
   ]
  },
  {
   "cell_type": "code",
   "execution_count": 4,
   "metadata": {},
   "outputs": [],
   "source": [
    "exp = Experiment(\n",
    "    cals=[cals.uncal, cals.platt, cals.isot, ], \n",
    "    datasets=[ds.yago39], \n",
    "    kges=[ kges.distMult, kges.hoLE], \n",
    "    metrics=[ece]\n",
    "    )"
   ]
  },
  {
   "cell_type": "code",
   "execution_count": 5,
   "metadata": {},
   "outputs": [
    {
     "name": "stdout",
     "output_type": "stream",
     "text": [
      "training DistMult on YAGO39 ...\n"
     ]
    },
    {
     "name": "stderr",
     "output_type": "stream",
     "text": [
      "Average DistMult Loss:   0.375038: 100%|██████████| 100/100 [38:14<00:00, 22.95s/epoch]\n"
     ]
    },
    {
     "name": "stdout",
     "output_type": "stream",
     "text": [
      "training HolE on YAGO39 ...\n"
     ]
    },
    {
     "name": "stderr",
     "output_type": "stream",
     "text": [
      "Average HolE Loss:   0.774206: 100%|██████████| 100/100 [2:01:33<00:00, 72.94s/epoch] \n"
     ]
    }
   ],
   "source": [
    "exp.train_kges()"
   ]
  },
  {
   "cell_type": "code",
   "execution_count": 6,
   "metadata": {},
   "outputs": [
    {
     "name": "stdout",
     "output_type": "stream",
     "text": [
      "made model directory: ../saved_models/newyago/\n",
      "saved ../saved_models/newyago/YAGO39-DistMult.pkl.\n",
      "saved ../saved_models/newyago/YAGO39-HolE.pkl.\n"
     ]
    }
   ],
   "source": [
    "exp.save_trained_kges('../saved_models/newyago/')"
   ]
  },
  {
   "cell_type": "code",
   "execution_count": 7,
   "metadata": {},
   "outputs": [
    {
     "name": "stdout",
     "output_type": "stream",
     "text": [
      "training ComplEx on YAGO39 ...\n"
     ]
    },
    {
     "name": "stderr",
     "output_type": "stream",
     "text": [
      "Average ComplEx Loss:   0.165952: 100%|██████████| 100/100 [1:59:29<00:00, 71.70s/epoch] \n"
     ]
    },
    {
     "name": "stdout",
     "output_type": "stream",
     "text": [
      "saved ../saved_models/newyago/YAGO39-ComplEx.pkl.\n"
     ]
    }
   ],
   "source": [
    "exp = Experiment(\n",
    "    cals=[cals.uncal, cals.platt, cals.isot, ], \n",
    "    datasets=[ds.yago39], \n",
    "    kges=[ kges.complEx], \n",
    "    metrics=[ece]\n",
    "    )\n",
    "exp.train_kges()\n",
    "exp.save_trained_kges('../saved_models/newyago/')"
   ]
  },
  {
   "cell_type": "code",
   "execution_count": 4,
   "metadata": {},
   "outputs": [
    {
     "name": "stderr",
     "output_type": "stream",
     "text": [
      "Average ComplEx Loss:   0.191190: 100%|██████████| 100/100 [28:30<00:00, 17.11s/epoch]\n",
      "Average ComplEx Loss: -3735.530724: 100%|██████████| 100/100 [28:21<00:00, 17.01s/epoch]\n"
     ]
    }
   ],
   "source": [
    "from ampligraph.latent_features import ComplEx\n",
    "from ampligraph.utils import save_model, restore_model\n",
    "\n",
    "cpm1 = ComplEx(loss='nll', verbose=True)\n",
    "cpm1.fit(ds.fb13.X_train)\n",
    "save_model(cpm1, 'complex_nll.pkl')\n",
    "\n",
    "cpm2 = ComplEx(loss='absolute_margin', verbose=True)\n",
    "cpm2.fit(ds.fb13.X_train)\n",
    "save_model(cpm2, 'complex_margin.pkl')\n"
   ]
  },
  {
   "cell_type": "code",
   "execution_count": 7,
   "metadata": {},
   "outputs": [
    {
     "name": "stdout",
     "output_type": "stream",
     "text": [
      "0.5521026462160795\n"
     ]
    },
    {
     "data": {
      "text/plain": [
       "(array([41210.,  2019.,   658.,   429.,   382.,   316.,   305.,   353.,\n",
       "          477.,  1315.]),\n",
       " array([6.7532049e-11, 9.9999145e-02, 1.9999829e-01, 2.9999742e-01,\n",
       "        3.9999658e-01, 4.9999571e-01, 5.9999484e-01, 6.9999397e-01,\n",
       "        7.9999316e-01, 8.9999229e-01, 9.9999142e-01], dtype=float32),\n",
       " <BarContainer object of 10 artists>)"
      ]
     },
     "execution_count": 7,
     "metadata": {},
     "output_type": "execute_result"
    },
    {
     "data": {
      "image/png": "[encoded data removed]",
      "text/plain": [
       "<Figure size 432x288 with 1 Axes>"
      ]
     },
     "metadata": {
      "needs_background": "light"
     },
     "output_type": "display_data"
    }
   ],
   "source": [
    "from sklearn.metrics import accuracy_score\n",
    "from scipy.special import expit\n",
    "\n",
    "scores1 = cpm1.predict(ds.fb13.X_test)\n",
    "probs1 = expit(scores1)\n",
    "print(accuracy_score(ds.fb13.y_test, probs1>0.5))\n",
    "plt.hist(probs1)"
   ]
  },
  {
   "cell_type": "code",
   "execution_count": 8,
   "metadata": {},
   "outputs": [
    {
     "name": "stdout",
     "output_type": "stream",
     "text": [
      "0.6154348558907804\n"
     ]
    },
    {
     "data": {
      "text/plain": [
       "(array([9.9830e+03, 5.1000e+01, 4.0000e+01, 3.0000e+01, 3.0000e+01,\n",
       "        2.5000e+01, 2.5000e+01, 3.4000e+01, 5.2000e+01, 3.7194e+04]),\n",
       " array([0. , 0.1, 0.2, 0.3, 0.4, 0.5, 0.6, 0.7, 0.8, 0.9, 1. ],\n",
       "       dtype=float32),\n",
       " <BarContainer object of 10 artists>)"
      ]
     },
     "execution_count": 8,
     "metadata": {},
     "output_type": "execute_result"
    },
    {
     "data": {
      "image/png": "[encoded data removed]",
      "text/plain": [
       "<Figure size 432x288 with 1 Axes>"
      ]
     },
     "metadata": {
      "needs_background": "light"
     },
     "output_type": "display_data"
    }
   ],
   "source": [
    "scores2 = cpm2.predict(ds.fb13.X_test)\n",
    "probs2 = expit(scores2)\n",
    "print(accuracy_score(ds.fb13.y_test, probs2>0.5))\n",
    "plt.hist(probs2)"
   ]
  },
  {
   "cell_type": "code",
   "execution_count": 9,
   "metadata": {},
   "outputs": [
    {
     "name": "stderr",
     "output_type": "stream",
     "text": [
      "Average ComplEx Loss:   0.814738: 100%|██████████| 100/100 [42:30<00:00, 25.50s/epoch]\n"
     ]
    },
    {
     "name": "stdout",
     "output_type": "stream",
     "text": [
      "0.6445937974043485\n"
     ]
    },
    {
     "data": {
      "text/plain": [
       "(array([ 7557., 10729.,  7962.,  7109.,  4096.,  2407.,  2008.,  1854.,\n",
       "         1996.,  1746.]),\n",
       " array([9.3179842e-04, 1.0055597e-01, 2.0018014e-01, 2.9980433e-01,\n",
       "        3.9942849e-01, 4.9905267e-01, 5.9867686e-01, 6.9830102e-01,\n",
       "        7.9792517e-01, 8.9754939e-01, 9.9717355e-01], dtype=float32),\n",
       " <BarContainer object of 10 artists>)"
      ]
     },
     "execution_count": 9,
     "metadata": {},
     "output_type": "execute_result"
    },
    {
     "data": {
      "image/png": "[encoded data removed]",
      "text/plain": [
       "<Figure size 432x288 with 1 Axes>"
      ]
     },
     "metadata": {
      "needs_background": "light"
     },
     "output_type": "display_data"
    }
   ],
   "source": [
    "cpm3 = ComplEx(loss='nll', verbose=True, regularizer='LP', regularizer_params={'p': 3, 'lambda':0.1})\n",
    "cpm3.fit(ds.fb13.X_train)\n",
    "save_model(cpm3, 'complex_nll_reg.pkl')\n",
    "\n",
    "scores3 = cpm3.predict(ds.fb13.X_test)\n",
    "probs3 = expit(scores3)\n",
    "print(accuracy_score(ds.fb13.y_test, probs3>0.5))\n",
    "plt.hist(probs3)"
   ]
  },
  {
   "cell_type": "code",
   "execution_count": null,
   "metadata": {},
   "outputs": [],
   "source": []
  }
 ],
 "metadata": {
  "kernelspec": {
   "display_name": "Python 3.7.9 64-bit ('3.7.9')",
   "language": "python",
   "name": "python3"
  },
  "language_info": {
   "codemirror_mode": {
    "name": "ipython",
    "version": 3
   },
   "file_extension": ".py",
   "mimetype": "text/x-python",
   "name": "python",
   "nbconvert_exporter": "python",
   "pygments_lexer": "ipython3",
   "version": "3.7.9"
  },
  "orig_nbformat": 4,
  "vscode": {
   "interpreter": {
    "hash": "5f722276768dd6be949ba67e73c531926a2bba4be7e88818b041050b09b1c190"
   }
  }
 },
 "nbformat": 4,
 "nbformat_minor": 2
}
