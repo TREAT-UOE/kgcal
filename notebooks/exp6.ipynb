{
 "cells": [
  {
   "cell_type": "code",
   "execution_count": 1,
   "metadata": {},
   "outputs": [],
   "source": [
    "import sys\n",
    "# enable importing the modules from probcalkge\n",
    "sys.path.append('../')\n",
    "sys.path.append('../probcalkge')\n",
    "\n",
    "import numpy as np\n",
    "import pandas as pd\n",
    "import matplotlib.pyplot as plt\n",
    "\n",
    "from ampligraph.latent_features import ComplEx\n",
    "from ampligraph.utils import save_model, restore_model\n",
    "from sklearn.metrics import accuracy_score\n",
    "from sklearn.calibration import CalibrationDisplay\n",
    "from scipy.special import expit\n",
    "\n",
    "from probcalkge import Experiment, ExperimentResult\n",
    "from probcalkge import get_calibrators\n",
    "from probcalkge import get_datasets,  get_kgemodels\n",
    "from probcalkge import brier_score, negative_log_loss, ks_error, ece"
   ]
  },
  {
   "cell_type": "code",
   "execution_count": 2,
   "metadata": {},
   "outputs": [
    {
     "name": "stdout",
     "output_type": "stream",
     "text": [
      "WARNING - All triples will be processed in the same batch (batches_count=1). When processing large graphs it is recommended to batch the input knowledge graph instead.\n"
     ]
    }
   ],
   "source": [
    "cals = get_calibrators()\n",
    "kges = get_kgemodels()\n",
    "ds = get_datasets()"
   ]
  },
  {
   "cell_type": "code",
   "execution_count": 5,
   "metadata": {},
   "outputs": [],
   "source": [
    "exp = Experiment(\n",
    "    cals=[cals.uncal, cals.platt, cals.isot, ], \n",
    "    datasets=[ds.yago39], \n",
    "    kges=[ kges.distMult, kges.hoLE], \n",
    "    metrics=[ece]\n",
    "    )"
   ]
  },
  {
   "cell_type": "code",
   "execution_count": 3,
   "metadata": {},
   "outputs": [],
   "source": [
    "\n",
    "cpm1 = restore_model('../saved_models/FB13k-ComplEx.pkl')\n",
    "cpm2 = restore_model('complex_nll_reg.pkl')\n",
    "\n",
    "cpm3 = restore_model('../saved_models/WN11-ComplEx.pkl')\n",
    "cpm4 = restore_model('complex_nll_reg_wn.pkl')\n",
    "\n",
    "cpm5 = restore_model('../saved_models/YAGO39-ComplEx.pkl')\n",
    "cpm6 = restore_model('complex_nll_reg_yg.pkl')\n"
   ]
  },
  {
   "cell_type": "code",
   "execution_count": 6,
   "metadata": {},
   "outputs": [],
   "source": [
    "from probcalkge import brier_score, get_cls_name\n",
    "from sklearn.metrics import accuracy_score\n",
    "\n",
    "def stats(model, data):\n",
    "    print(get_cls_name(model), data.name)\n",
    "    score = model.predict(data.X_test)\n",
    "    probs = expit(score)\n",
    "    return {\n",
    "        'BS': brier_score(data.y_test, probs),\n",
    "        'NLL': negative_log_loss(data.y_test, probs),\n",
    "        'ECE': ece(data.y_test, probs),\n",
    "        'ACC': accuracy_score(data.y_test, probs>0.5)\n",
    "    }"
   ]
  },
  {
   "cell_type": "code",
   "execution_count": 10,
   "metadata": {},
   "outputs": [
    {
     "name": "stdout",
     "output_type": "stream",
     "text": [
      "ComplEx FB13k\n",
      "{'BS': 0.34087604756408535, 'NLL': 1.1358389222927454, 'ECE': 0.2971215639851043, 'ACC': 0.5546519467385809}\n",
      "ComplEx FB13k\n",
      "{'BS': 0.28289896739985426, 'NLL': 0.8520768830593812, 'ECE': 0.22725086202027317, 'ACC': 0.6445937974043485}\n",
      "ComplEx WN11\n",
      "{'BS': 0.21823013386012838, 'NLL': 0.61923571632016, 'ECE': 0.09829177064005401, 'ACC': 0.6127575357759059}\n",
      "ComplEx WN11\n",
      "{'BS': 0.21148498136546337, 'NLL': 0.6180642181848163, 'ECE': 0.1139539661112475, 'ACC': 0.7053181772049122}\n",
      "ComplEx YAGO39\n",
      "{'BS': 0.236838019833028, 'NLL': 1.1180476823235181, 'ECE': 0.21355257483021275, 'ACC': 0.7251850651104987}\n",
      "ComplEx YAGO39\n",
      "{'BS': 0.20742494417307547, 'NLL': 0.7036543243983794, 'ECE': 0.19394461117915468, 'ACC': 0.7378289295942076}\n"
     ]
    }
   ],
   "source": [
    "print(stats(cpm1, ds.fb13))\n",
    "print(stats(cpm2, ds.fb13))\n",
    "print(stats(cpm3, ds.wn18))\n",
    "print(stats(cpm4, ds.wn18))\n",
    "print(stats(cpm5, ds.yago39))\n",
    "print(stats(cpm6, ds.yago39))\n"
   ]
  },
  {
   "cell_type": "code",
   "execution_count": 11,
   "metadata": {},
   "outputs": [],
   "source": [
    "import os\n",
    "folder = r'F:\\TREAT\\kgcal\\data-output\\nll_100'\n",
    "nll100 = [restore_model(os.path.join(folder, i)) for i in os.listdir(folder)]\n",
    "\n",
    "folder = r'F:\\TREAT\\kgcal\\data-output\\nll_100_reg'\n",
    "nll100reg = [restore_model(os.path.join(folder, i)) for i in os.listdir(folder)]\n",
    "\n",
    "folder = r'F:\\TREAT\\kgcal\\data-output\\nll_200'\n",
    "nll200 = [restore_model(os.path.join(folder, i)) for i in os.listdir(folder)]\n",
    "\n",
    "folder = r'F:\\TREAT\\kgcal\\data-output\\nll_200_reg'\n",
    "nll200reg = nll200 = [restore_model(os.path.join(folder, i)) for i in os.listdir(folder)]"
   ]
  },
  {
   "cell_type": "code",
   "execution_count": 12,
   "metadata": {},
   "outputs": [
    {
     "name": "stdout",
     "output_type": "stream",
     "text": [
      "ComplEx FB13k\n",
      "{'BS': 0.3385623476617665, 'NLL': 1.1238786534586995, 'ECE': 0.29698127123219886, 'ACC': 0.5605511545592449}\n",
      "ComplEx WN11\n",
      "{'BS': 0.21457739982520513, 'NLL': 0.611389728233577, 'ECE': 0.10035214100082576, 'ACC': 0.6267634223079265}\n",
      "ComplEx YAGO39\n",
      "{'BS': 0.233304019267225, 'NLL': 1.0921743873702785, 'ECE': 0.2100945055801553, 'ACC': 0.7254552331550225}\n"
     ]
    }
   ],
   "source": [
    "for m, data in zip(nll100, [ds.fb13, ds.wn18, ds.yago39]):\n",
    "    print(stats(m, data))\n",
    "    "
   ]
  },
  {
   "cell_type": "code",
   "execution_count": 13,
   "metadata": {},
   "outputs": [
    {
     "name": "stdout",
     "output_type": "stream",
     "text": [
      "ComplEx FB13k\n",
      "{'BS': 0.33040020928842395, 'NLL': 1.05243193629922, 'ECE': 0.2972321411277657, 'ACC': 0.5562952974886229}\n",
      "ComplEx WN11\n",
      "{'BS': 0.21263925633156505, 'NLL': 0.6075558812332627, 'ECE': 0.11812873590065721, 'ACC': 0.6331066680198925}\n",
      "ComplEx YAGO39\n",
      "{'BS': 0.24254226955633879, 'NLL': 1.003494769776883, 'ECE': 0.22192509207115274, 'ACC': 0.7083265791322202}\n"
     ]
    }
   ],
   "source": [
    "for m, data in zip(nll100reg, [ds.fb13, ds.wn18, ds.yago39]):\n",
    "    print(stats(m, data))"
   ]
  },
  {
   "cell_type": "code",
   "execution_count": null,
   "metadata": {},
   "outputs": [
    {
     "name": "stdout",
     "output_type": "stream",
     "text": [
      "ComplEx FB13k\n",
      "{'BS': 0.3692481154185115, 'NLL': 1.6349988018906685, 'ECE': 0.3423706144943827, 'ACC': 0.585243553008596}\n",
      "ComplEx WN11\n",
      "{'BS': 0.31509702934211065, 'NLL': 1.0806541427920484, 'ECE': 0.3113624292561844, 'ACC': 0.6099157616969451}\n",
      "ComplEx YAGO39\n",
      "{'BS': 0.18819364883996217, 'NLL': 0.8173243217274974, 'ECE': 0.1715817111932596, 'ACC': 0.7724644729021451}\n"
     ]
    }
   ],
   "source": [
    "for m, data in zip(nll200, [ds.fb13, ds.wn18, ds.yago39]):\n",
    "    print(stats(m, data))"
   ]
  },
  {
   "cell_type": "code",
   "execution_count": null,
   "metadata": {},
   "outputs": [],
   "source": [
    "folder = r'F:\\TREAT\\kgcal\\data-output\\am_100'\n",
    "am100 = [restore_model(os.path.join(folder, i)) for i in os.listdir(folder)]\n",
    "\n",
    "folder = r'F:\\TREAT\\kgcal\\data-output\\am_100_reg'\n",
    "am100reg = [restore_model(os.path.join(folder, i)) for i in os.listdir(folder)]"
   ]
  },
  {
   "cell_type": "code",
   "execution_count": null,
   "metadata": {},
   "outputs": [
    {
     "name": "stdout",
     "output_type": "stream",
     "text": [
      "ComplEx FB13k\n",
      "{'BS': 0.3692481154185115, 'NLL': 1.6349988018906685, 'ECE': 0.3423706144943827, 'ACC': 0.585243553008596}\n",
      "ComplEx WN11\n",
      "{'BS': 0.31509702934211065, 'NLL': 1.0806541427920484, 'ECE': 0.3113624292561844, 'ACC': 0.6099157616969451}\n",
      "ComplEx YAGO39\n",
      "{'BS': 0.18819364883996217, 'NLL': 0.8173243217274974, 'ECE': 0.1715817111932596, 'ACC': 0.7724644729021451}\n"
     ]
    }
   ],
   "source": [
    "for m, data in zip(nll200reg, [ds.fb13, ds.wn18, ds.yago39]):\n",
    "    print(stats(m, data))"
   ]
  },
  {
   "cell_type": "code",
   "execution_count": null,
   "metadata": {},
   "outputs": [
    {
     "name": "stdout",
     "output_type": "stream",
     "text": [
      "ComplEx FB13k\n",
      "{'BS': 0.3276006406724404, 'NLL': 2.281402174867122, 'ECE': 0.33469375273672003, 'ACC': 0.6015085117141412}\n",
      "ComplEx WN11\n",
      "{'BS': 0.22845736997785257, 'NLL': 0.646433796118873, 'ECE': 0.14880674689269527, 'ACC': 0.6182888460367401}\n",
      "ComplEx YAGO39\n",
      "{'BS': 0.48235713753169446, 'NLL': 7.1782716382449445, 'ECE': 0.48116350690792864, 'ACC': 0.5116442427189712}\n"
     ]
    }
   ],
   "source": [
    "for m, data in zip(am100, [ds.fb13, ds.wn18, ds.yago39]):\n",
    "    print(stats(m, data))"
   ]
  },
  {
   "cell_type": "code",
   "execution_count": 3,
   "metadata": {},
   "outputs": [],
   "source": [
    "import os\n",
    "folder = r'C:\\Users\\s1904162\\Downloads\\kgcal\\distmult'\n",
    "distms = [restore_model(os.path.join(folder, i)) for i in os.listdir(folder)]\n"
   ]
  },
  {
   "cell_type": "code",
   "execution_count": 7,
   "metadata": {},
   "outputs": [
    {
     "name": "stdout",
     "output_type": "stream",
     "text": [
      "DistMult FB13k\n",
      "{'BS': 0.36901716330141854, 'NLL': 1.5688020553158053, 'ECE': 0.30874837615725315, 'ACC': 0.5756994774987358}\n",
      "DistMult WN11\n",
      "{'BS': 0.29666016749928664, 'NLL': 0.9519767140735105, 'ECE': 0.2673518698997735, 'ACC': 0.6163604993403025}\n",
      "DistMult YAGO39\n",
      "{'BS': 0.20485342387600067, 'NLL': 1.0795890836601485, 'ECE': 0.18260177722412904, 'ACC': 0.7677095153185282}\n"
     ]
    }
   ],
   "source": [
    "for m, data in zip([distms[1], distms[4], distms[7]], [ds.fb13, ds.wn18, ds.yago39]):\n",
    "    print(stats(m, data))"
   ]
  },
  {
   "cell_type": "code",
   "execution_count": 8,
   "metadata": {},
   "outputs": [
    {
     "name": "stdout",
     "output_type": "stream",
     "text": [
      "DistMult FB13k\n",
      "{'BS': 0.4052278433635866, 'NLL': 2.4744044963495777, 'ECE': 0.3994369438311742, 'ACC': 0.5630583178830272}\n",
      "DistMult WN11\n",
      "{'BS': 0.40066911178071246, 'NLL': 2.4889007664103446, 'ECE': 0.41685810815261776, 'ACC': 0.5716533035623668}\n",
      "DistMult YAGO39\n",
      "{'BS': 0.18163512318656264, 'NLL': 1.142190223670159, 'ECE': 0.16360297554170783, 'ACC': 0.7988869076565623}\n"
     ]
    }
   ],
   "source": [
    "for m, data in zip([distms[2], distms[5], distms[8]], [ds.fb13, ds.wn18, ds.yago39]):\n",
    "    print(stats(m, data))"
   ]
  },
  {
   "cell_type": "code",
   "execution_count": 9,
   "metadata": {},
   "outputs": [
    {
     "name": "stdout",
     "output_type": "stream",
     "text": [
      "DistMult FB13k\n",
      "{'BS': 0.36901716614915436, 'NLL': 1.5688020520369588, 'ECE': 0.30874837157583873, 'ACC': 0.5756994774987358}\n",
      "DistMult WN11\n",
      "{'BS': 0.2966601628173823, 'NLL': 0.9519766811659367, 'ECE': 0.26735185794098654, 'ACC': 0.6163604993403025}\n",
      "DistMult YAGO39\n",
      "{'BS': 0.20485342551980767, 'NLL': 1.0795891002068012, 'ECE': 0.1826017776801625, 'ACC': 0.7677095153185282}\n"
     ]
    }
   ],
   "source": [
    "for m, data in zip([distms[0], distms[3], distms[6]], [ds.fb13, ds.wn18, ds.yago39]):\n",
    "    print(stats(m, data))"
   ]
  },
  {
   "cell_type": "code",
   "execution_count": null,
   "metadata": {},
   "outputs": [],
   "source": []
  }
 ],
 "metadata": {
  "kernelspec": {
   "display_name": "Python 3.7.9 64-bit ('3.7.9')",
   "language": "python",
   "name": "python3"
  },
  "language_info": {
   "codemirror_mode": {
    "name": "ipython",
    "version": 3
   },
   "file_extension": ".py",
   "mimetype": "text/x-python",
   "name": "python",
   "nbconvert_exporter": "python",
   "pygments_lexer": "ipython3",
   "version": "3.7.9"
  },
  "orig_nbformat": 4,
  "vscode": {
   "interpreter": {
    "hash": "5f722276768dd6be949ba67e73c531926a2bba4be7e88818b041050b09b1c190"
   }
  }
 },
 "nbformat": 4,
 "nbformat_minor": 2
}
