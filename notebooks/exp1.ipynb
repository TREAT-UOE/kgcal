{
 "cells": [
  {
   "cell_type": "markdown",
   "metadata": {},
   "source": [
    "# Probability Calibration in KG Embedding\n",
    "This experiemnt is to investigate which calibration technique is the most suitable one given a dataset and a KG Embedding model.\n",
    "\n",
    "Within this experiment, we are going to see the performance of 4 typical calibration techniques for 4 KGE models in 3 datasets:\n",
    "- calibration techniques:\n",
    "  - Platt Scaling\n",
    "  - Isotonic Regression\n",
    "  - Histogram BInning\n",
    "  - Beta Calibration\n",
    "- KG Embedding models\n",
    "  - TransE\n",
    "  - ComplEx\n",
    "  - DistMult\n",
    "  - HoLE\n",
    "- Datasets\n",
    "  - FB13k\n",
    "  - Win11\n",
    "  - Yago39"
   ]
  },
  {
   "cell_type": "code",
   "execution_count": 1,
   "metadata": {},
   "outputs": [],
   "source": [
    "import sys\n",
    "# enable importing the modules from probcalkge\n",
    "sys.path.append('../')\n",
    "sys.path.append('../probcalkge')"
   ]
  },
  {
   "cell_type": "code",
   "execution_count": 2,
   "metadata": {},
   "outputs": [],
   "source": [
    "import importlib\n",
    "from pprint import pprint\n",
    "import numpy as np\n",
    "import pandas as pd"
   ]
  },
  {
   "cell_type": "code",
   "execution_count": 3,
   "metadata": {},
   "outputs": [],
   "source": [
    "from ampligraph.latent_features import RandomBaseline, TransE\n",
    "import probcalkge\n",
    "importlib.reload(probcalkge)\n",
    "from probcalkge import Experiment\n",
    "from probcalkge import get_calibrators\n",
    "from probcalkge import get_datasets, get_fb13, get_wn11, get_kgemodels, get_yago39\n",
    "from probcalkge import brier_score, negative_log_loss, ks_error"
   ]
  },
  {
   "cell_type": "code",
   "execution_count": 4,
   "metadata": {},
   "outputs": [
    {
     "name": "stdout",
     "output_type": "stream",
     "text": [
      "WARNING - All triples will be processed in the same batch (batches_count=1). When processing large graphs it is recommended to batch the input knowledge graph instead.\n"
     ]
    }
   ],
   "source": [
    "ds = get_datasets()\n",
    "cals = get_calibrators()\n",
    "kges = get_kgemodels()\n"
   ]
  },
  {
   "cell_type": "code",
   "execution_count": 5,
   "metadata": {},
   "outputs": [],
   "source": [
    "exp = Experiment(\n",
    "    cals=[cals.uncal, cals.platt, cals.isot, cals.histbin, cals.beta, cals.temperature], \n",
    "    datasets=[ds.fb13, ds.wn18, ds.yago39, ds.dp50, ds.nations, ds.kinship, ds.umls], \n",
    "    kges=[kges.transE, kges.complEx, kges.distMult, kges.hoLE], \n",
    "    metrics=[brier_score, negative_log_loss, ks_error]\n",
    "    )"
   ]
  },
  {
   "cell_type": "code",
   "execution_count": 7,
   "metadata": {},
   "outputs": [
    {
     "name": "stdout",
     "output_type": "stream",
     "text": [
      "training TransE on FB13k ...\n"
     ]
    },
    {
     "name": "stderr",
     "output_type": "stream",
     "text": [
      "Average TransE Loss:   1.088411: 100%|██████████| 100/100 [19:01<00:00, 11.42s/epoch]\n"
     ]
    },
    {
     "name": "stdout",
     "output_type": "stream",
     "text": [
      "training TransE on WN11 ...\n"
     ]
    },
    {
     "name": "stderr",
     "output_type": "stream",
     "text": [
      "Average TransE Loss:   0.960336: 100%|██████████| 100/100 [08:26<00:00,  5.07s/epoch]\n"
     ]
    },
    {
     "name": "stdout",
     "output_type": "stream",
     "text": [
      "training TransE on YAGO39 ...\n"
     ]
    },
    {
     "name": "stderr",
     "output_type": "stream",
     "text": [
      "Average TransE Loss:   0.907999: 100%|██████████| 100/100 [13:49<00:00,  8.30s/epoch]\n"
     ]
    },
    {
     "name": "stdout",
     "output_type": "stream",
     "text": [
      "training TransE on DBpedia50 ...\n"
     ]
    },
    {
     "name": "stderr",
     "output_type": "stream",
     "text": [
      "Average TransE Loss:   1.025704: 100%|██████████| 100/100 [04:55<00:00,  2.95s/epoch]\n"
     ]
    },
    {
     "name": "stdout",
     "output_type": "stream",
     "text": [
      "training TransE on Nations ...\n"
     ]
    },
    {
     "name": "stderr",
     "output_type": "stream",
     "text": [
      "Average TransE Loss:   1.370893: 100%|██████████| 100/100 [00:07<00:00, 13.40epoch/s]\n"
     ]
    },
    {
     "name": "stdout",
     "output_type": "stream",
     "text": [
      "training TransE on Kinship ...\n"
     ]
    },
    {
     "name": "stderr",
     "output_type": "stream",
     "text": [
      "Average TransE Loss:   1.365408: 100%|██████████| 100/100 [00:11<00:00,  8.50epoch/s]\n"
     ]
    },
    {
     "name": "stdout",
     "output_type": "stream",
     "text": [
      "training TransE on UMLS ...\n"
     ]
    },
    {
     "name": "stderr",
     "output_type": "stream",
     "text": [
      "Average TransE Loss:   1.204408: 100%|██████████| 100/100 [00:10<00:00,  9.22epoch/s]\n"
     ]
    },
    {
     "name": "stdout",
     "output_type": "stream",
     "text": [
      "training ComplEx on FB13k ...\n"
     ]
    },
    {
     "name": "stderr",
     "output_type": "stream",
     "text": [
      "Average ComplEx Loss:   0.191410: 100%|██████████| 100/100 [44:20<00:00, 26.60s/epoch]\n"
     ]
    },
    {
     "name": "stdout",
     "output_type": "stream",
     "text": [
      "training ComplEx on WN11 ...\n"
     ]
    },
    {
     "name": "stderr",
     "output_type": "stream",
     "text": [
      "Average ComplEx Loss:   0.008652: 100%|██████████| 100/100 [18:57<00:00, 11.38s/epoch]\n"
     ]
    },
    {
     "name": "stdout",
     "output_type": "stream",
     "text": [
      "training ComplEx on YAGO39 ...\n"
     ]
    },
    {
     "name": "stderr",
     "output_type": "stream",
     "text": [
      "Average ComplEx Loss:   0.064476: 100%|██████████| 100/100 [35:39<00:00, 21.39s/epoch]\n"
     ]
    },
    {
     "name": "stdout",
     "output_type": "stream",
     "text": [
      "training ComplEx on DBpedia50 ...\n"
     ]
    },
    {
     "name": "stderr",
     "output_type": "stream",
     "text": [
      "Average ComplEx Loss:   0.088023: 100%|██████████| 100/100 [10:22<00:00,  6.22s/epoch]\n"
     ]
    },
    {
     "name": "stdout",
     "output_type": "stream",
     "text": [
      "training ComplEx on Nations ...\n"
     ]
    },
    {
     "name": "stderr",
     "output_type": "stream",
     "text": [
      "Average ComplEx Loss:   0.739790: 100%|██████████| 100/100 [00:11<00:00,  8.43epoch/s]\n"
     ]
    },
    {
     "name": "stdout",
     "output_type": "stream",
     "text": [
      "training ComplEx on Kinship ...\n"
     ]
    },
    {
     "name": "stderr",
     "output_type": "stream",
     "text": [
      "Average ComplEx Loss:   0.312642: 100%|██████████| 100/100 [00:28<00:00,  3.53epoch/s]\n"
     ]
    },
    {
     "name": "stdout",
     "output_type": "stream",
     "text": [
      "training ComplEx on UMLS ...\n"
     ]
    },
    {
     "name": "stderr",
     "output_type": "stream",
     "text": [
      "Average ComplEx Loss:   0.423243: 100%|██████████| 100/100 [00:24<00:00,  4.09epoch/s]\n"
     ]
    },
    {
     "name": "stdout",
     "output_type": "stream",
     "text": [
      "training DistMult on FB13k ...\n"
     ]
    },
    {
     "name": "stderr",
     "output_type": "stream",
     "text": [
      "Average DistMult Loss:   0.209913: 100%|██████████| 100/100 [18:47<00:00, 11.27s/epoch]\n"
     ]
    },
    {
     "name": "stdout",
     "output_type": "stream",
     "text": [
      "training DistMult on WN11 ...\n"
     ]
    },
    {
     "name": "stderr",
     "output_type": "stream",
     "text": [
      "Average DistMult Loss:   0.021578: 100%|██████████| 100/100 [08:40<00:00,  5.21s/epoch]\n"
     ]
    },
    {
     "name": "stdout",
     "output_type": "stream",
     "text": [
      "training DistMult on YAGO39 ...\n"
     ]
    },
    {
     "name": "stderr",
     "output_type": "stream",
     "text": [
      "Average DistMult Loss:   0.106434: 100%|██████████| 100/100 [13:53<00:00,  8.33s/epoch]\n"
     ]
    },
    {
     "name": "stdout",
     "output_type": "stream",
     "text": [
      "training DistMult on DBpedia50 ...\n"
     ]
    },
    {
     "name": "stderr",
     "output_type": "stream",
     "text": [
      "Average DistMult Loss:   0.281309: 100%|██████████| 100/100 [05:01<00:00,  3.01s/epoch]\n"
     ]
    },
    {
     "name": "stdout",
     "output_type": "stream",
     "text": [
      "training DistMult on Nations ...\n"
     ]
    },
    {
     "name": "stderr",
     "output_type": "stream",
     "text": [
      "Average DistMult Loss:   0.955975: 100%|██████████| 100/100 [00:09<00:00, 10.87epoch/s]\n"
     ]
    },
    {
     "name": "stdout",
     "output_type": "stream",
     "text": [
      "training DistMult on Kinship ...\n"
     ]
    },
    {
     "name": "stderr",
     "output_type": "stream",
     "text": [
      "Average DistMult Loss:   0.467793: 100%|██████████| 100/100 [00:16<00:00,  5.96epoch/s]\n"
     ]
    },
    {
     "name": "stdout",
     "output_type": "stream",
     "text": [
      "training DistMult on UMLS ...\n"
     ]
    },
    {
     "name": "stderr",
     "output_type": "stream",
     "text": [
      "Average DistMult Loss:   0.485556: 100%|██████████| 100/100 [00:14<00:00,  6.97epoch/s]\n"
     ]
    },
    {
     "name": "stdout",
     "output_type": "stream",
     "text": [
      "training HolE on FB13k ...\n"
     ]
    },
    {
     "name": "stderr",
     "output_type": "stream",
     "text": [
      "Average HolE Loss:   0.722732: 100%|██████████| 100/100 [44:29<00:00, 26.69s/epoch]\n"
     ]
    },
    {
     "name": "stdout",
     "output_type": "stream",
     "text": [
      "training HolE on WN11 ...\n"
     ]
    },
    {
     "name": "stderr",
     "output_type": "stream",
     "text": [
      "Average HolE Loss:   0.723679: 100%|██████████| 100/100 [19:11<00:00, 11.52s/epoch]\n"
     ]
    },
    {
     "name": "stdout",
     "output_type": "stream",
     "text": [
      "training HolE on YAGO39 ...\n"
     ]
    },
    {
     "name": "stderr",
     "output_type": "stream",
     "text": [
      "Average HolE Loss:   0.326513: 100%|██████████| 100/100 [43:54<00:00, 26.35s/epoch]\n"
     ]
    },
    {
     "name": "stdout",
     "output_type": "stream",
     "text": [
      "training HolE on DBpedia50 ...\n"
     ]
    },
    {
     "name": "stderr",
     "output_type": "stream",
     "text": [
      "Average HolE Loss:   0.693485: 100%|██████████| 100/100 [10:34<00:00,  6.34s/epoch]\n"
     ]
    },
    {
     "name": "stdout",
     "output_type": "stream",
     "text": [
      "training HolE on Nations ...\n"
     ]
    },
    {
     "name": "stderr",
     "output_type": "stream",
     "text": [
      "Average HolE Loss:   0.952201: 100%|██████████| 100/100 [00:15<00:00,  6.41epoch/s]\n"
     ]
    },
    {
     "name": "stdout",
     "output_type": "stream",
     "text": [
      "training HolE on Kinship ...\n"
     ]
    },
    {
     "name": "stderr",
     "output_type": "stream",
     "text": [
      "Average HolE Loss:   0.476121: 100%|██████████| 100/100 [00:46<00:00,  2.16epoch/s]\n"
     ]
    },
    {
     "name": "stdout",
     "output_type": "stream",
     "text": [
      "training HolE on UMLS ...\n"
     ]
    },
    {
     "name": "stderr",
     "output_type": "stream",
     "text": [
      "Average HolE Loss:   0.731894: 100%|██████████| 100/100 [00:37<00:00,  2.68epoch/s]\n"
     ]
    }
   ],
   "source": [
    "# exp.load_trained_kges('../saved_models/')\n",
    "exp.train_kges()"
   ]
  },
  {
   "cell_type": "code",
   "execution_count": 9,
   "metadata": {},
   "outputs": [
    {
     "name": "stdout",
     "output_type": "stream",
     "text": [
      "training various calibrators for TransE on FB13k ...\n",
      "True\n",
      "training various calibrators for ComplEx on FB13k ...\n",
      "True\n",
      "training various calibrators for DistMult on FB13k ...\n",
      "True\n",
      "training various calibrators for HolE on FB13k ...\n",
      "True\n",
      "training various calibrators for TransE on WN11 ...\n",
      "True\n",
      "training various calibrators for ComplEx on WN11 ...\n",
      "True\n",
      "training various calibrators for DistMult on WN11 ...\n",
      "True\n",
      "training various calibrators for HolE on WN11 ...\n",
      "True\n",
      "training various calibrators for TransE on YAGO39 ...\n",
      "True\n",
      "training various calibrators for ComplEx on YAGO39 ...\n",
      "False\n",
      "training various calibrators for DistMult on YAGO39 ...\n",
      "False\n",
      "training various calibrators for HolE on YAGO39 ...\n",
      "False\n",
      "training various calibrators for TransE on DBpedia50 ...\n",
      "True\n",
      "training various calibrators for ComplEx on DBpedia50 ...\n",
      "False\n",
      "training various calibrators for DistMult on DBpedia50 ...\n",
      "False\n",
      "training various calibrators for HolE on DBpedia50 ...\n",
      "True\n",
      "training various calibrators for TransE on Nations ...\n",
      "True\n",
      "training various calibrators for ComplEx on Nations ...\n",
      "True\n",
      "training various calibrators for DistMult on Nations ...\n",
      "True\n",
      "training various calibrators for HolE on Nations ...\n",
      "True\n",
      "training various calibrators for TransE on Kinship ...\n",
      "True\n",
      "training various calibrators for ComplEx on Kinship ...\n",
      "True\n",
      "training various calibrators for DistMult on Kinship ...\n",
      "True\n",
      "training various calibrators for HolE on Kinship ...\n",
      "True\n",
      "training various calibrators for TransE on UMLS ...\n",
      "True\n",
      "training various calibrators for ComplEx on UMLS ...\n",
      "True\n",
      "training various calibrators for DistMult on UMLS ...\n",
      "True\n",
      "training various calibrators for HolE on UMLS ...\n",
      "True\n",
      "{'FB13k': {'TransE':                    UncalCalibrator  PlattCalibrator  IsotonicCalibrator  \\\n",
      "brier_score               0.241895         0.211441            0.205474   \n",
      "negative_log_loss         0.676001         0.614908            0.598645   \n",
      "ks_error                  0.099063         0.027114            0.004231   \n",
      "\n",
      "                   HistogramBinningCalibrator  BetaCalibrator  \\\n",
      "brier_score                          0.215096        0.208337   \n",
      "negative_log_loss                    0.618056        0.608277   \n",
      "ks_error                             0.005308        0.017298   \n",
      "\n",
      "                   TemperatureCalibrator  \n",
      "brier_score                     0.241176  \n",
      "negative_log_loss               0.674584  \n",
      "ks_error                        0.075098  , 'ComplEx':                    UncalCalibrator  PlattCalibrator  IsotonicCalibrator  \\\n",
      "brier_score               0.407043         0.220258            0.204886   \n",
      "negative_log_loss         2.246556         0.630771            0.594861   \n",
      "ks_error                  0.419143         0.051991            0.004179   \n",
      "\n",
      "                   HistogramBinningCalibrator  BetaCalibrator  \\\n",
      "brier_score                          0.222662        0.224281   \n",
      "negative_log_loss                    0.631867        0.639867   \n",
      "ks_error                             0.003209        0.049500   \n",
      "\n",
      "                   TemperatureCalibrator  \n",
      "brier_score                     0.243768  \n",
      "negative_log_loss               0.680782  \n",
      "ks_error                        0.060366  , 'DistMult':                    UncalCalibrator  PlattCalibrator  IsotonicCalibrator  \\\n",
      "brier_score               0.380077         0.226340            0.220798   \n",
      "negative_log_loss         1.999913         0.639082            0.628464   \n",
      "ks_error                  0.381087         0.029049            0.003117   \n",
      "\n",
      "                   HistogramBinningCalibrator  BetaCalibrator  \\\n",
      "brier_score                          0.224496        0.228110   \n",
      "negative_log_loss                    0.635653        0.643790   \n",
      "ks_error                             0.002651        0.032821   \n",
      "\n",
      "                   TemperatureCalibrator  \n",
      "brier_score                     0.244747  \n",
      "negative_log_loss               0.682793  \n",
      "ks_error                        0.052354  , 'HolE':                    UncalCalibrator  PlattCalibrator  IsotonicCalibrator  \\\n",
      "brier_score               0.311866         0.247778            0.216635   \n",
      "negative_log_loss         0.942451         0.688634            0.616035   \n",
      "ks_error                  0.172763         0.062310            0.002527   \n",
      "\n",
      "                   HistogramBinningCalibrator  BetaCalibrator  \\\n",
      "brier_score                          0.181547        0.234370   \n",
      "negative_log_loss                    0.540801        0.657011   \n",
      "ks_error                             0.002275        0.077177   \n",
      "\n",
      "                   TemperatureCalibrator  \n",
      "brier_score                     0.248006  \n",
      "negative_log_loss               0.689142  \n",
      "ks_error                        0.062869  }, 'WN11': {'TransE':                    UncalCalibrator  PlattCalibrator  IsotonicCalibrator  \\\n",
      "brier_score               0.241766         0.090480            0.087136   \n",
      "negative_log_loss         0.700209         0.308615            0.297048   \n",
      "ks_error                  0.309940         0.024419            0.004419   \n",
      "\n",
      "                   HistogramBinningCalibrator  BetaCalibrator  \\\n",
      "brier_score                          0.088669        0.090337   \n",
      "negative_log_loss                    0.302286        0.309240   \n",
      "ks_error                             0.005242        0.019140   \n",
      "\n",
      "                   TemperatureCalibrator  \n",
      "brier_score                     0.198847  \n",
      "negative_log_loss               0.576080  \n",
      "ks_error                        0.178015  , 'ComplEx':                    UncalCalibrator  PlattCalibrator  IsotonicCalibrator  \\\n",
      "brier_score               0.418202         0.223960            0.221455   \n",
      "negative_log_loss         2.735324         0.631017            0.624593   \n",
      "ks_error                  0.432414         0.019597            0.002503   \n",
      "\n",
      "                   HistogramBinningCalibrator  BetaCalibrator  \\\n",
      "brier_score                          0.224021        0.224274   \n",
      "negative_log_loss                    0.632494        0.635212   \n",
      "ks_error                             0.001892        0.014495   \n",
      "\n",
      "                   TemperatureCalibrator  \n",
      "brier_score                     0.245163  \n",
      "negative_log_loss               0.683433  \n",
      "ks_error                        0.051972  , 'DistMult':                    UncalCalibrator  PlattCalibrator  IsotonicCalibrator  \\\n",
      "brier_score               0.402777         0.220228            0.218866   \n",
      "negative_log_loss         2.278026         0.621962            0.618751   \n",
      "ks_error                  0.418608         0.015415            0.002159   \n",
      "\n",
      "                   HistogramBinningCalibrator  BetaCalibrator  \\\n",
      "brier_score                          0.220525        0.220699   \n",
      "negative_log_loss                    0.623431        0.626234   \n",
      "ks_error                             0.002939        0.013844   \n",
      "\n",
      "                   TemperatureCalibrator  \n",
      "brier_score                     0.244443  \n",
      "negative_log_loss               0.682021  \n",
      "ks_error                        0.056064  , 'HolE':                    UncalCalibrator  PlattCalibrator  IsotonicCalibrator  \\\n",
      "brier_score               0.210158         0.201868            0.192751   \n",
      "negative_log_loss         0.597730         0.584543            0.554363   \n",
      "ks_error                  0.094286         0.025385            0.005844   \n",
      "\n",
      "                   HistogramBinningCalibrator  BetaCalibrator  \\\n",
      "brier_score                          0.193257        0.197374   \n",
      "negative_log_loss                    0.558423        0.568663   \n",
      "ks_error                             0.007844        0.016642   \n",
      "\n",
      "                   TemperatureCalibrator  \n",
      "brier_score                     0.210072  \n",
      "negative_log_loss               0.594825  \n",
      "ks_error                        0.093011  }, 'YAGO39': {'TransE':                    UncalCalibrator  PlattCalibrator  IsotonicCalibrator  \\\n",
      "brier_score               0.226877         0.197291            0.185618   \n",
      "negative_log_loss         0.647332         0.590730            0.551376   \n",
      "ks_error                  0.080537         0.040574            0.012269   \n",
      "\n",
      "                   HistogramBinningCalibrator  BetaCalibrator  \\\n",
      "brier_score                          0.188475        0.194072   \n",
      "negative_log_loss                    0.556893        0.582380   \n",
      "ks_error                             0.053391        0.031501   \n",
      "\n",
      "                   TemperatureCalibrator  \n",
      "brier_score                     0.225937  \n",
      "negative_log_loss               0.646338  \n",
      "ks_error                        0.093132  , 'ComplEx':                    UncalCalibrator  PlattCalibrator  IsotonicCalibrator  \\\n",
      "brier_score               0.089074         0.085542            0.072219   \n",
      "negative_log_loss         0.435190         0.302396            0.252534   \n",
      "ks_error                  0.052968         0.027319            0.003097   \n",
      "\n",
      "                   HistogramBinningCalibrator  BetaCalibrator  \\\n",
      "brier_score                          0.077238        0.073862   \n",
      "negative_log_loss                    0.280520        0.257126   \n",
      "ks_error                             0.004771        0.005205   \n",
      "\n",
      "                   TemperatureCalibrator  \n",
      "brier_score                     0.080216  \n",
      "negative_log_loss               0.281799  \n",
      "ks_error                        0.063087  , 'DistMult':                    UncalCalibrator  PlattCalibrator  IsotonicCalibrator  \\\n",
      "brier_score               0.091951         0.089378            0.080964   \n",
      "negative_log_loss         0.413926         0.313979            0.281715   \n",
      "ks_error                  0.039505         0.018524            0.003953   \n",
      "\n",
      "                   HistogramBinningCalibrator  BetaCalibrator  \\\n",
      "brier_score                          0.083750        0.084046   \n",
      "negative_log_loss                    0.297814        0.296162   \n",
      "ks_error                             0.003345        0.007479   \n",
      "\n",
      "                   TemperatureCalibrator  \n",
      "brier_score                     0.085350  \n",
      "negative_log_loss               0.301728  \n",
      "ks_error                        0.030239  , 'HolE':                    UncalCalibrator  PlattCalibrator  IsotonicCalibrator  \\\n",
      "brier_score               0.125229         0.114929            0.110154   \n",
      "negative_log_loss         0.441974         0.373175            0.355321   \n",
      "ks_error                  0.085614         0.016477            0.011144   \n",
      "\n",
      "                   HistogramBinningCalibrator  BetaCalibrator  \\\n",
      "brier_score                          0.110396        0.111501   \n",
      "negative_log_loss                    0.357297        0.361128   \n",
      "ks_error                             0.030612        0.008711   \n",
      "\n",
      "                   TemperatureCalibrator  \n",
      "brier_score                     0.118470  \n",
      "negative_log_loss               0.384893  \n",
      "ks_error                        0.068880  }, 'DBpedia50': {'TransE':                    UncalCalibrator  PlattCalibrator  IsotonicCalibrator  \\\n",
      "brier_score               0.273540         0.135045            0.109325   \n",
      "negative_log_loss         0.822706         0.445026            0.387960   \n",
      "ks_error                  0.338433         0.088036            0.016289   \n",
      "\n",
      "                   HistogramBinningCalibrator  BetaCalibrator  \\\n",
      "brier_score                          0.113563        0.106392   \n",
      "negative_log_loss                    0.462498        0.352287   \n",
      "ks_error                             0.019288        0.009753   \n",
      "\n",
      "                   TemperatureCalibrator  \n",
      "brier_score                     0.211026  \n",
      "negative_log_loss               0.607921  \n",
      "ks_error                        0.156902  , 'ComplEx':                    UncalCalibrator  PlattCalibrator  IsotonicCalibrator  \\\n",
      "brier_score               0.310450         0.233589            0.221765   \n",
      "negative_log_loss         1.721523         0.659919            0.739921   \n",
      "ks_error                  0.117563         0.053568            0.108996   \n",
      "\n",
      "                   HistogramBinningCalibrator  BetaCalibrator  \\\n",
      "brier_score                          0.228823        0.220287   \n",
      "negative_log_loss                    0.746368        0.631378   \n",
      "ks_error                             0.036006        0.021743   \n",
      "\n",
      "                   TemperatureCalibrator  \n",
      "brier_score                     0.232119  \n",
      "negative_log_loss               0.680452  \n",
      "ks_error                        0.049680  , 'DistMult':                    UncalCalibrator  PlattCalibrator  IsotonicCalibrator  \\\n",
      "brier_score               0.259763         0.221534            0.203873   \n",
      "negative_log_loss         1.135082         0.634746            0.645851   \n",
      "ks_error                  0.087620         0.057788            0.024079   \n",
      "\n",
      "                   HistogramBinningCalibrator  BetaCalibrator  \\\n",
      "brier_score                          0.210131        0.207050   \n",
      "negative_log_loss                    0.724650        0.608642   \n",
      "ks_error                             0.046762        0.031972   \n",
      "\n",
      "                   TemperatureCalibrator  \n",
      "brier_score                     0.227308  \n",
      "negative_log_loss               0.657884  \n",
      "ks_error                        0.057540  , 'HolE':                    UncalCalibrator  PlattCalibrator  IsotonicCalibrator  \\\n",
      "brier_score               0.207751         0.199962            0.180330   \n",
      "negative_log_loss         0.611273         0.590957            0.593211   \n",
      "ks_error                  0.093542         0.056389            0.029976   \n",
      "\n",
      "                   HistogramBinningCalibrator  BetaCalibrator  \\\n",
      "brier_score                          0.178823        0.188784   \n",
      "negative_log_loss                    0.654763        0.556917   \n",
      "ks_error                             0.029520        0.032228   \n",
      "\n",
      "                   TemperatureCalibrator  \n",
      "brier_score                     0.207553  \n",
      "negative_log_loss               0.599738  \n",
      "ks_error                        0.100846  }, 'Nations': {'TransE':                    UncalCalibrator  PlattCalibrator  IsotonicCalibrator  \\\n",
      "brier_score               0.254512         0.249566            0.250671   \n",
      "negative_log_loss         0.702307         0.692280            0.692952   \n",
      "ks_error                  0.082822         0.022465            0.033377   \n",
      "\n",
      "                   HistogramBinningCalibrator  BetaCalibrator  \\\n",
      "brier_score                          0.250376        0.248294   \n",
      "negative_log_loss                    0.693911        0.689683   \n",
      "ks_error                             0.093411        0.019152   \n",
      "\n",
      "                   TemperatureCalibrator  \n",
      "brier_score                     0.249537  \n",
      "negative_log_loss               0.692218  \n",
      "ks_error                        0.020233  , 'ComplEx':                    UncalCalibrator  PlattCalibrator  IsotonicCalibrator  \\\n",
      "brier_score               0.458778         0.247052            0.254551   \n",
      "negative_log_loss         1.667339         0.687251            0.812500   \n",
      "ks_error                  0.277708         0.038606            0.161144   \n",
      "\n",
      "                   HistogramBinningCalibrator  BetaCalibrator  \\\n",
      "brier_score                          0.236006        0.251264   \n",
      "negative_log_loss                    1.098375        0.695674   \n",
      "ks_error                             0.044604        0.061494   \n",
      "\n",
      "                   TemperatureCalibrator  \n",
      "brier_score                     0.250778  \n",
      "negative_log_loss               0.694704  \n",
      "ks_error                        0.057970  , 'DistMult':                    UncalCalibrator  PlattCalibrator  IsotonicCalibrator  \\\n",
      "brier_score               0.313481         0.251510            0.243386   \n",
      "negative_log_loss         0.874167         0.696231            0.683131   \n",
      "ks_error                  0.193753         0.046823            0.101636   \n",
      "\n",
      "                   HistogramBinningCalibrator  BetaCalibrator  \\\n",
      "brier_score                          0.240735        0.247415   \n",
      "negative_log_loss                    0.713642        0.686827   \n",
      "ks_error                             0.021896        0.048441   \n",
      "\n",
      "                   TemperatureCalibrator  \n",
      "brier_score                     0.250345  \n",
      "negative_log_loss               0.693194  \n",
      "ks_error                        0.081934  , 'HolE':                    UncalCalibrator  PlattCalibrator  IsotonicCalibrator  \\\n",
      "brier_score               0.323300         0.251051            0.252556   \n",
      "negative_log_loss         0.920268         0.695253            0.898684   \n",
      "ks_error                  0.126839         0.031425            0.051731   \n",
      "\n",
      "                   HistogramBinningCalibrator  BetaCalibrator  \\\n",
      "brier_score                          0.246201        0.250558   \n",
      "negative_log_loss                    0.684121        0.694078   \n",
      "ks_error                             0.023442        0.040841   \n",
      "\n",
      "                   TemperatureCalibrator  \n",
      "brier_score                     0.251720  \n",
      "negative_log_loss               0.696630  \n",
      "ks_error                        0.032653  }, 'Kinship': {'TransE':                    UncalCalibrator  PlattCalibrator  IsotonicCalibrator  \\\n",
      "brier_score               0.254653         0.248436            0.246450   \n",
      "negative_log_loss         0.702683         0.690010            0.685594   \n",
      "ks_error                  0.080317         0.017904            0.031161   \n",
      "\n",
      "                   HistogramBinningCalibrator  BetaCalibrator  \\\n",
      "brier_score                          0.246449        0.248556   \n",
      "negative_log_loss                    0.686019        0.690222   \n",
      "ks_error                             0.127100        0.023278   \n",
      "\n",
      "                   TemperatureCalibrator  \n",
      "brier_score                     0.249790  \n",
      "negative_log_loss               0.692726  \n",
      "ks_error                        0.024930  , 'ComplEx':                    UncalCalibrator  PlattCalibrator  IsotonicCalibrator  \\\n",
      "brier_score               0.207090         0.188250            0.146153   \n",
      "negative_log_loss         0.754580         0.557419            0.477911   \n",
      "ks_error                  0.105794         0.049974            0.104750   \n",
      "\n",
      "                   HistogramBinningCalibrator  BetaCalibrator  \\\n",
      "brier_score                          0.145568        0.155893   \n",
      "negative_log_loss                    0.444889        0.466378   \n",
      "ks_error                             0.038927        0.031068   \n",
      "\n",
      "                   TemperatureCalibrator  \n",
      "brier_score                     0.176097  \n",
      "negative_log_loss               0.523856  \n",
      "ks_error                        0.058705  , 'DistMult':                    UncalCalibrator  PlattCalibrator  IsotonicCalibrator  \\\n",
      "brier_score               0.106955         0.102656            0.089503   \n",
      "negative_log_loss         0.348046         0.352134            0.303021   \n",
      "ks_error                  0.066971         0.022688            0.047833   \n",
      "\n",
      "                   HistogramBinningCalibrator  BetaCalibrator  \\\n",
      "brier_score                          0.090119        0.092528   \n",
      "negative_log_loss                    0.305433        0.310479   \n",
      "ks_error                             0.012742        0.012457   \n",
      "\n",
      "                   TemperatureCalibrator  \n",
      "brier_score                     0.107330  \n",
      "negative_log_loss               0.346421  \n",
      "ks_error                        0.068365  , 'HolE':                    UncalCalibrator  PlattCalibrator  IsotonicCalibrator  \\\n",
      "brier_score               0.151628         0.143337            0.142959   \n",
      "negative_log_loss         0.529878         0.439495            0.439964   \n",
      "ks_error                  0.081114         0.015247            0.011241   \n",
      "\n",
      "                   HistogramBinningCalibrator  BetaCalibrator  \\\n",
      "brier_score                          0.142867        0.143898   \n",
      "negative_log_loss                    0.436500        0.436654   \n",
      "ks_error                             0.021038        0.018441   \n",
      "\n",
      "                   TemperatureCalibrator  \n",
      "brier_score                     0.151109  \n",
      "negative_log_loss               0.480263  \n",
      "ks_error                        0.053411  }, 'UMLS': {'TransE':                    UncalCalibrator  PlattCalibrator  IsotonicCalibrator  \\\n",
      "brier_score               0.217926         0.155675            0.152797   \n",
      "negative_log_loss         0.615529         0.483756            0.542728   \n",
      "ks_error                  0.173604         0.034895            0.014263   \n",
      "\n",
      "                   HistogramBinningCalibrator  BetaCalibrator  \\\n",
      "brier_score                          0.151753        0.151752   \n",
      "negative_log_loss                    0.468544        0.470554   \n",
      "ks_error                             0.022684        0.007026   \n",
      "\n",
      "                   TemperatureCalibrator  \n",
      "brier_score                     0.216032  \n",
      "negative_log_loss               0.613881  \n",
      "ks_error                        0.153727  , 'ComplEx':                    UncalCalibrator  PlattCalibrator  IsotonicCalibrator  \\\n",
      "brier_score               0.115626         0.104237            0.076397   \n",
      "negative_log_loss         0.354680         0.361331            0.266230   \n",
      "ks_error                  0.109635         0.045854            0.054558   \n",
      "\n",
      "                   HistogramBinningCalibrator  BetaCalibrator  \\\n",
      "brier_score                          0.077428        0.078912   \n",
      "negative_log_loss                    0.264660        0.268484   \n",
      "ks_error                             0.010443        0.023058   \n",
      "\n",
      "                   TemperatureCalibrator  \n",
      "brier_score                     0.115447  \n",
      "negative_log_loss               0.352167  \n",
      "ks_error                        0.116142  , 'DistMult':                    UncalCalibrator  PlattCalibrator  IsotonicCalibrator  \\\n",
      "brier_score               0.105099         0.102369            0.087100   \n",
      "negative_log_loss         0.329866         0.347297            0.283916   \n",
      "ks_error                  0.069124         0.030426            0.068975   \n",
      "\n",
      "                   HistogramBinningCalibrator  BetaCalibrator  \\\n",
      "brier_score                          0.089490        0.088828   \n",
      "negative_log_loss                    0.298525        0.290950   \n",
      "ks_error                             0.017008        0.014944   \n",
      "\n",
      "                   TemperatureCalibrator  \n",
      "brier_score                     0.105241  \n",
      "negative_log_loss               0.329959  \n",
      "ks_error                        0.071034  , 'HolE':                    UncalCalibrator  PlattCalibrator  IsotonicCalibrator  \\\n",
      "brier_score               0.107167         0.089711            0.087833   \n",
      "negative_log_loss         0.366609         0.303580            0.294150   \n",
      "ks_error                  0.084526         0.016821            0.014321   \n",
      "\n",
      "                   HistogramBinningCalibrator  BetaCalibrator  \\\n",
      "brier_score                          0.087164        0.087533   \n",
      "negative_log_loss                    0.310240        0.293783   \n",
      "ks_error                             0.013824        0.013610   \n",
      "\n",
      "                   TemperatureCalibrator  \n",
      "brier_score                     0.101561  \n",
      "negative_log_loss               0.351584  \n",
      "ks_error                        0.084396  }}\n"
     ]
    }
   ],
   "source": [
    "exp_res = exp.run_with_trained_kges()\n",
    "# exp.save_trained_kges('../saved_models/new/')"
   ]
  },
  {
   "cell_type": "code",
   "execution_count": 10,
   "metadata": {},
   "outputs": [
    {
     "data": {
      "text/html": [
       "<div>\n",
       "<style scoped>\n",
       "    .dataframe tbody tr th:only-of-type {\n",
       "        vertical-align: middle;\n",
       "    }\n",
       "\n",
       "    .dataframe tbody tr th {\n",
       "        vertical-align: top;\n",
       "    }\n",
       "\n",
       "    .dataframe thead th {\n",
       "        text-align: right;\n",
       "    }\n",
       "</style>\n",
       "<table border=\"1\" class=\"dataframe\">\n",
       "  <thead>\n",
       "    <tr style=\"text-align: right;\">\n",
       "      <th></th>\n",
       "      <th></th>\n",
       "      <th></th>\n",
       "      <th></th>\n",
       "      <th>ExpRes</th>\n",
       "    </tr>\n",
       "    <tr>\n",
       "      <th>dataset</th>\n",
       "      <th>kge</th>\n",
       "      <th>cal</th>\n",
       "      <th>metric</th>\n",
       "      <th></th>\n",
       "    </tr>\n",
       "  </thead>\n",
       "  <tbody>\n",
       "    <tr>\n",
       "      <th rowspan=\"5\" valign=\"top\">FB13k</th>\n",
       "      <th rowspan=\"5\" valign=\"top\">TransE</th>\n",
       "      <th rowspan=\"3\" valign=\"top\">UncalCalibrator</th>\n",
       "      <th>brier_score</th>\n",
       "      <td>0.241895</td>\n",
       "    </tr>\n",
       "    <tr>\n",
       "      <th>negative_log_loss</th>\n",
       "      <td>0.676001</td>\n",
       "    </tr>\n",
       "    <tr>\n",
       "      <th>ks_error</th>\n",
       "      <td>0.099063</td>\n",
       "    </tr>\n",
       "    <tr>\n",
       "      <th rowspan=\"2\" valign=\"top\">PlattCalibrator</th>\n",
       "      <th>brier_score</th>\n",
       "      <td>0.211441</td>\n",
       "    </tr>\n",
       "    <tr>\n",
       "      <th>negative_log_loss</th>\n",
       "      <td>0.614908</td>\n",
       "    </tr>\n",
       "    <tr>\n",
       "      <th>...</th>\n",
       "      <th>...</th>\n",
       "      <th>...</th>\n",
       "      <th>...</th>\n",
       "      <td>...</td>\n",
       "    </tr>\n",
       "    <tr>\n",
       "      <th rowspan=\"5\" valign=\"top\">UMLS</th>\n",
       "      <th rowspan=\"5\" valign=\"top\">HolE</th>\n",
       "      <th rowspan=\"2\" valign=\"top\">BetaCalibrator</th>\n",
       "      <th>negative_log_loss</th>\n",
       "      <td>0.293783</td>\n",
       "    </tr>\n",
       "    <tr>\n",
       "      <th>ks_error</th>\n",
       "      <td>0.013610</td>\n",
       "    </tr>\n",
       "    <tr>\n",
       "      <th rowspan=\"3\" valign=\"top\">TemperatureCalibrator</th>\n",
       "      <th>brier_score</th>\n",
       "      <td>0.101561</td>\n",
       "    </tr>\n",
       "    <tr>\n",
       "      <th>negative_log_loss</th>\n",
       "      <td>0.351584</td>\n",
       "    </tr>\n",
       "    <tr>\n",
       "      <th>ks_error</th>\n",
       "      <td>0.084396</td>\n",
       "    </tr>\n",
       "  </tbody>\n",
       "</table>\n",
       "<p>504 rows × 1 columns</p>\n",
       "</div>"
      ],
      "text/plain": [
       "                                                          ExpRes\n",
       "dataset kge    cal                   metric                     \n",
       "FB13k   TransE UncalCalibrator       brier_score        0.241895\n",
       "                                     negative_log_loss  0.676001\n",
       "                                     ks_error           0.099063\n",
       "               PlattCalibrator       brier_score        0.211441\n",
       "                                     negative_log_loss  0.614908\n",
       "...                                                          ...\n",
       "UMLS    HolE   BetaCalibrator        negative_log_loss  0.293783\n",
       "                                     ks_error           0.013610\n",
       "               TemperatureCalibrator brier_score        0.101561\n",
       "                                     negative_log_loss  0.351584\n",
       "                                     ks_error           0.084396\n",
       "\n",
       "[504 rows x 1 columns]"
      ]
     },
     "execution_count": 10,
     "metadata": {},
     "output_type": "execute_result"
    }
   ],
   "source": [
    "exp_res.to_frame()"
   ]
  },
  {
   "cell_type": "code",
   "execution_count": null,
   "metadata": {},
   "outputs": [
    {
     "name": "stdout",
     "output_type": "stream",
     "text": [
      "training various calibrators for ComplEx on YAGO39 ...\n"
     ]
    },
    {
     "ename": "RuntimeError",
     "evalue": "all elements of input should be between 0 and 1",
     "output_type": "error",
     "traceback": [
      "\u001b[1;31m---------------------------------------------------------------------------\u001b[0m",
      "\u001b[1;31mRuntimeError\u001b[0m                              Traceback (most recent call last)",
      "\u001b[1;32m~\\AppData\\Local\\Temp\\ipykernel_6616\\3520791600.py\u001b[0m in \u001b[0;36m<module>\u001b[1;34m\u001b[0m\n\u001b[1;32m----> 1\u001b[1;33m \u001b[0mexp\u001b[0m\u001b[1;33m.\u001b[0m\u001b[0m_train_cal_and_eval\u001b[0m\u001b[1;33m(\u001b[0m\u001b[0mexp\u001b[0m\u001b[1;33m.\u001b[0m\u001b[0mtrained_kges\u001b[0m\u001b[1;33m[\u001b[0m\u001b[1;34m'YAGO39'\u001b[0m\u001b[1;33m]\u001b[0m\u001b[1;33m[\u001b[0m\u001b[1;34m'ComplEx'\u001b[0m\u001b[1;33m]\u001b[0m\u001b[1;33m,\u001b[0m \u001b[0mds\u001b[0m\u001b[1;33m.\u001b[0m\u001b[0myago39\u001b[0m\u001b[1;33m)\u001b[0m\u001b[1;33m\u001b[0m\u001b[1;33m\u001b[0m\u001b[0m\n\u001b[0m",
      "\u001b[1;32mc:\\Users\\s1904162\\Downloads\\probcal-kge\\probcalkge\\experiment.py\u001b[0m in \u001b[0;36m_train_cal_and_eval\u001b[1;34m(self, trained_kge, ds)\u001b[0m\n\u001b[0;32m    224\u001b[0m         \u001b[1;32mfor\u001b[0m \u001b[0mcal\u001b[0m \u001b[1;32min\u001b[0m \u001b[0mself\u001b[0m\u001b[1;33m.\u001b[0m\u001b[0mcals\u001b[0m\u001b[1;33m:\u001b[0m\u001b[1;33m\u001b[0m\u001b[1;33m\u001b[0m\u001b[0m\n\u001b[0;32m    225\u001b[0m             \u001b[0mnew_cal\u001b[0m \u001b[1;33m=\u001b[0m \u001b[0mdeepcopy\u001b[0m\u001b[1;33m(\u001b[0m\u001b[0mcal\u001b[0m\u001b[1;33m)\u001b[0m \u001b[1;31m# make a brand new (untrained) cal models\u001b[0m\u001b[1;33m\u001b[0m\u001b[1;33m\u001b[0m\u001b[0m\n\u001b[1;32m--> 226\u001b[1;33m             \u001b[0mnew_cal\u001b[0m\u001b[1;33m.\u001b[0m\u001b[0mfit\u001b[0m\u001b[1;33m(\u001b[0m\u001b[0muncal_prob_valid\u001b[0m\u001b[1;33m,\u001b[0m \u001b[0mds\u001b[0m\u001b[1;33m.\u001b[0m\u001b[0my_valid\u001b[0m\u001b[1;33m)\u001b[0m\u001b[1;33m\u001b[0m\u001b[1;33m\u001b[0m\u001b[0m\n\u001b[0m\u001b[0;32m    227\u001b[0m             \u001b[0mcal_prob_test\u001b[0m \u001b[1;33m=\u001b[0m \u001b[0mnew_cal\u001b[0m\u001b[1;33m.\u001b[0m\u001b[0mpredict\u001b[0m\u001b[1;33m(\u001b[0m\u001b[0muncal_prob_test\u001b[0m\u001b[1;33m)\u001b[0m\u001b[1;33m\u001b[0m\u001b[1;33m\u001b[0m\u001b[0m\n\u001b[0;32m    228\u001b[0m \u001b[1;33m\u001b[0m\u001b[0m\n",
      "\u001b[1;32mc:\\Users\\s1904162\\Downloads\\probcal-kge\\probcalkge\\calmodels.py\u001b[0m in \u001b[0;36mfit\u001b[1;34m(self, uncal_probs, y)\u001b[0m\n\u001b[0;32m    171\u001b[0m \u001b[1;33m\u001b[0m\u001b[0m\n\u001b[0;32m    172\u001b[0m     \u001b[1;32mdef\u001b[0m \u001b[0mfit\u001b[0m\u001b[1;33m(\u001b[0m\u001b[0mself\u001b[0m\u001b[1;33m,\u001b[0m \u001b[0muncal_probs\u001b[0m\u001b[1;33m,\u001b[0m \u001b[0my\u001b[0m\u001b[1;33m)\u001b[0m\u001b[1;33m:\u001b[0m\u001b[1;33m\u001b[0m\u001b[1;33m\u001b[0m\u001b[0m\n\u001b[1;32m--> 173\u001b[1;33m         \u001b[0mself\u001b[0m\u001b[1;33m.\u001b[0m\u001b[0m_calibrator\u001b[0m\u001b[1;33m.\u001b[0m\u001b[0mfit\u001b[0m\u001b[1;33m(\u001b[0m\u001b[0mnp\u001b[0m\u001b[1;33m.\u001b[0m\u001b[0marray\u001b[0m\u001b[1;33m(\u001b[0m\u001b[0muncal_probs\u001b[0m\u001b[1;33m)\u001b[0m\u001b[1;33m.\u001b[0m\u001b[0mreshape\u001b[0m\u001b[1;33m(\u001b[0m\u001b[1;33m[\u001b[0m\u001b[1;33m-\u001b[0m\u001b[1;36m1\u001b[0m\u001b[1;33m,\u001b[0m\u001b[1;36m1\u001b[0m\u001b[1;33m]\u001b[0m\u001b[1;33m)\u001b[0m\u001b[1;33m,\u001b[0m \u001b[0mnp\u001b[0m\u001b[1;33m.\u001b[0m\u001b[0marray\u001b[0m\u001b[1;33m(\u001b[0m\u001b[0my\u001b[0m\u001b[1;33m)\u001b[0m\u001b[1;33m)\u001b[0m\u001b[1;33m\u001b[0m\u001b[1;33m\u001b[0m\u001b[0m\n\u001b[0m\u001b[0;32m    174\u001b[0m         \u001b[1;32mreturn\u001b[0m \u001b[0mself\u001b[0m\u001b[1;33m\u001b[0m\u001b[1;33m\u001b[0m\u001b[0m\n\u001b[0;32m    175\u001b[0m \u001b[1;33m\u001b[0m\u001b[0m\n",
      "\u001b[1;32mc:\\Users\\s1904162\\Downloads\\Portable Python-3.7.9 x64\\App\\Python\\lib\\site-packages\\netcal\\Decorator.py\u001b[0m in \u001b[0;36mnew_f\u001b[1;34m(*args, **kwds)\u001b[0m\n\u001b[0;32m     60\u001b[0m                 \u001b[1;32melif\u001b[0m \u001b[0mtype\u001b[0m\u001b[1;33m(\u001b[0m\u001b[0md\u001b[0m\u001b[1;33m)\u001b[0m \u001b[1;33m==\u001b[0m \u001b[0mint\u001b[0m\u001b[1;33m:\u001b[0m\u001b[1;33m\u001b[0m\u001b[1;33m\u001b[0m\u001b[0m\n\u001b[0;32m     61\u001b[0m                     \u001b[1;32massert\u001b[0m \u001b[0mlen\u001b[0m\u001b[1;33m(\u001b[0m\u001b[0ma\u001b[0m\u001b[1;33m.\u001b[0m\u001b[0mshape\u001b[0m\u001b[1;33m)\u001b[0m \u001b[1;33m==\u001b[0m \u001b[0md\u001b[0m\u001b[1;33m,\u001b[0m \u001b[1;34m\"dimension of arg \\'%s\\' must match %s but is %d\"\u001b[0m \u001b[1;33m%\u001b[0m \u001b[1;33m(\u001b[0m\u001b[0mf\u001b[0m\u001b[1;33m.\u001b[0m\u001b[0m__code__\u001b[0m\u001b[1;33m.\u001b[0m\u001b[0mco_varnames\u001b[0m\u001b[1;33m[\u001b[0m\u001b[0mi\u001b[0m\u001b[1;33m]\u001b[0m\u001b[1;33m,\u001b[0m \u001b[0mstr\u001b[0m\u001b[1;33m(\u001b[0m\u001b[0md\u001b[0m\u001b[1;33m)\u001b[0m\u001b[1;33m,\u001b[0m \u001b[0mlen\u001b[0m\u001b[1;33m(\u001b[0m\u001b[0ma\u001b[0m\u001b[1;33m.\u001b[0m\u001b[0mshape\u001b[0m\u001b[1;33m)\u001b[0m\u001b[1;33m)\u001b[0m\u001b[1;33m\u001b[0m\u001b[1;33m\u001b[0m\u001b[0m\n\u001b[1;32m---> 62\u001b[1;33m             \u001b[1;32mreturn\u001b[0m \u001b[0mf\u001b[0m\u001b[1;33m(\u001b[0m\u001b[1;33m*\u001b[0m\u001b[0margs\u001b[0m\u001b[1;33m,\u001b[0m \u001b[1;33m**\u001b[0m\u001b[0mkwds\u001b[0m\u001b[1;33m)\u001b[0m\u001b[1;33m\u001b[0m\u001b[1;33m\u001b[0m\u001b[0m\n\u001b[0m\u001b[0;32m     63\u001b[0m         \u001b[0mnew_f\u001b[0m\u001b[1;33m.\u001b[0m\u001b[0m__name__\u001b[0m \u001b[1;33m=\u001b[0m \u001b[0mf\u001b[0m\u001b[1;33m.\u001b[0m\u001b[0m__name__\u001b[0m\u001b[1;33m\u001b[0m\u001b[1;33m\u001b[0m\u001b[0m\n\u001b[0;32m     64\u001b[0m         \u001b[1;32mreturn\u001b[0m \u001b[0mnew_f\u001b[0m\u001b[1;33m\u001b[0m\u001b[1;33m\u001b[0m\u001b[0m\n",
      "\u001b[1;32mc:\\Users\\s1904162\\Downloads\\Portable Python-3.7.9 x64\\App\\Python\\lib\\site-packages\\netcal\\scaling\\AbstractLogisticRegression.py\u001b[0m in \u001b[0;36mfit\u001b[1;34m(self, X, y, random_state, tensorboard, log_dir)\u001b[0m\n\u001b[0;32m    382\u001b[0m             \u001b[1;31m# Maximum likelihood estimate (without uncertainty)\u001b[0m\u001b[1;33m\u001b[0m\u001b[1;33m\u001b[0m\u001b[1;33m\u001b[0m\u001b[0m\n\u001b[0;32m    383\u001b[0m             \u001b[1;32melif\u001b[0m \u001b[0mself\u001b[0m\u001b[1;33m.\u001b[0m\u001b[0mmethod\u001b[0m \u001b[1;33m==\u001b[0m \u001b[1;34m'mle'\u001b[0m\u001b[1;33m:\u001b[0m\u001b[1;33m\u001b[0m\u001b[1;33m\u001b[0m\u001b[0m\n\u001b[1;32m--> 384\u001b[1;33m                 \u001b[0mself\u001b[0m\u001b[1;33m.\u001b[0m\u001b[0mconvex\u001b[0m\u001b[1;33m(\u001b[0m\u001b[0mdata\u001b[0m\u001b[1;33m,\u001b[0m \u001b[0my\u001b[0m\u001b[1;33m,\u001b[0m \u001b[0mtensorboard\u001b[0m\u001b[1;33m,\u001b[0m \u001b[0mlog_dir\u001b[0m\u001b[1;33m)\u001b[0m\u001b[1;33m\u001b[0m\u001b[1;33m\u001b[0m\u001b[0m\n\u001b[0m\u001b[0;32m    385\u001b[0m \u001b[1;33m\u001b[0m\u001b[0m\n\u001b[0;32m    386\u001b[0m             \u001b[1;31m# momentum is for non-convex optimization\u001b[0m\u001b[1;33m\u001b[0m\u001b[1;33m\u001b[0m\u001b[1;33m\u001b[0m\u001b[0m\n",
      "\u001b[1;32mc:\\Users\\s1904162\\Downloads\\Portable Python-3.7.9 x64\\App\\Python\\lib\\site-packages\\netcal\\scaling\\AbstractLogisticRegression.py\u001b[0m in \u001b[0;36mconvex\u001b[1;34m(self, data, y, tensorboard, log_dir)\u001b[0m\n\u001b[0;32m    576\u001b[0m \u001b[1;33m\u001b[0m\u001b[0m\n\u001b[0;32m    577\u001b[0m         \u001b[1;31m# invoke SciPy's optimization function as this is very light-weight and fast\u001b[0m\u001b[1;33m\u001b[0m\u001b[1;33m\u001b[0m\u001b[1;33m\u001b[0m\u001b[0m\n\u001b[1;32m--> 578\u001b[1;33m         \u001b[0mresult\u001b[0m \u001b[1;33m=\u001b[0m \u001b[0mminimize\u001b[0m\u001b[1;33m(\u001b[0m\u001b[0mfun\u001b[0m\u001b[1;33m=\u001b[0m\u001b[0mMLE\u001b[0m\u001b[1;33m,\u001b[0m \u001b[0mx0\u001b[0m\u001b[1;33m=\u001b[0m\u001b[0minitial_weights\u001b[0m\u001b[1;33m,\u001b[0m \u001b[0margs\u001b[0m\u001b[1;33m=\u001b[0m\u001b[1;33m(\u001b[0m\u001b[0mdata\u001b[0m\u001b[1;33m,\u001b[0m \u001b[0my\u001b[0m\u001b[1;33m)\u001b[0m\u001b[1;33m,\u001b[0m \u001b[0mbounds\u001b[0m\u001b[1;33m=\u001b[0m\u001b[0moptim_bounds\u001b[0m\u001b[1;33m)\u001b[0m\u001b[1;33m\u001b[0m\u001b[1;33m\u001b[0m\u001b[0m\n\u001b[0m\u001b[0;32m    579\u001b[0m \u001b[1;33m\u001b[0m\u001b[0m\n\u001b[0;32m    580\u001b[0m         \u001b[1;31m# assign weights to according sites\u001b[0m\u001b[1;33m\u001b[0m\u001b[1;33m\u001b[0m\u001b[1;33m\u001b[0m\u001b[0m\n",
      "\u001b[1;32mc:\\Users\\s1904162\\Downloads\\Portable Python-3.7.9 x64\\App\\Python\\lib\\site-packages\\scipy\\optimize\\_minimize.py\u001b[0m in \u001b[0;36mminimize\u001b[1;34m(fun, x0, args, method, jac, hess, hessp, bounds, constraints, tol, callback, options)\u001b[0m\n\u001b[0;32m    622\u001b[0m     \u001b[1;32melif\u001b[0m \u001b[0mmeth\u001b[0m \u001b[1;33m==\u001b[0m \u001b[1;34m'l-bfgs-b'\u001b[0m\u001b[1;33m:\u001b[0m\u001b[1;33m\u001b[0m\u001b[1;33m\u001b[0m\u001b[0m\n\u001b[0;32m    623\u001b[0m         return _minimize_lbfgsb(fun, x0, args, jac, bounds,\n\u001b[1;32m--> 624\u001b[1;33m                                 callback=callback, **options)\n\u001b[0m\u001b[0;32m    625\u001b[0m     \u001b[1;32melif\u001b[0m \u001b[0mmeth\u001b[0m \u001b[1;33m==\u001b[0m \u001b[1;34m'tnc'\u001b[0m\u001b[1;33m:\u001b[0m\u001b[1;33m\u001b[0m\u001b[1;33m\u001b[0m\u001b[0m\n\u001b[0;32m    626\u001b[0m         return _minimize_tnc(fun, x0, args, jac, bounds, callback=callback,\n",
      "\u001b[1;32mc:\\Users\\s1904162\\Downloads\\Portable Python-3.7.9 x64\\App\\Python\\lib\\site-packages\\scipy\\optimize\\lbfgsb.py\u001b[0m in \u001b[0;36m_minimize_lbfgsb\u001b[1;34m(fun, x0, args, jac, bounds, disp, maxcor, ftol, gtol, eps, maxfun, maxiter, iprint, callback, maxls, finite_diff_rel_step, **unknown_options)\u001b[0m\n\u001b[0;32m    358\u001b[0m             \u001b[1;31m# until the completion of the current minimization iteration.\u001b[0m\u001b[1;33m\u001b[0m\u001b[1;33m\u001b[0m\u001b[1;33m\u001b[0m\u001b[0m\n\u001b[0;32m    359\u001b[0m             \u001b[1;31m# Overwrite f and g:\u001b[0m\u001b[1;33m\u001b[0m\u001b[1;33m\u001b[0m\u001b[1;33m\u001b[0m\u001b[0m\n\u001b[1;32m--> 360\u001b[1;33m             \u001b[0mf\u001b[0m\u001b[1;33m,\u001b[0m \u001b[0mg\u001b[0m \u001b[1;33m=\u001b[0m \u001b[0mfunc_and_grad\u001b[0m\u001b[1;33m(\u001b[0m\u001b[0mx\u001b[0m\u001b[1;33m)\u001b[0m\u001b[1;33m\u001b[0m\u001b[1;33m\u001b[0m\u001b[0m\n\u001b[0m\u001b[0;32m    361\u001b[0m         \u001b[1;32melif\u001b[0m \u001b[0mtask_str\u001b[0m\u001b[1;33m.\u001b[0m\u001b[0mstartswith\u001b[0m\u001b[1;33m(\u001b[0m\u001b[1;34mb'NEW_X'\u001b[0m\u001b[1;33m)\u001b[0m\u001b[1;33m:\u001b[0m\u001b[1;33m\u001b[0m\u001b[1;33m\u001b[0m\u001b[0m\n\u001b[0;32m    362\u001b[0m             \u001b[1;31m# new iteration\u001b[0m\u001b[1;33m\u001b[0m\u001b[1;33m\u001b[0m\u001b[1;33m\u001b[0m\u001b[0m\n",
      "\u001b[1;32mc:\\Users\\s1904162\\Downloads\\Portable Python-3.7.9 x64\\App\\Python\\lib\\site-packages\\scipy\\optimize\\_differentiable_functions.py\u001b[0m in \u001b[0;36mfun_and_grad\u001b[1;34m(self, x)\u001b[0m\n\u001b[0;32m    265\u001b[0m         \u001b[1;32mif\u001b[0m \u001b[1;32mnot\u001b[0m \u001b[0mnp\u001b[0m\u001b[1;33m.\u001b[0m\u001b[0marray_equal\u001b[0m\u001b[1;33m(\u001b[0m\u001b[0mx\u001b[0m\u001b[1;33m,\u001b[0m \u001b[0mself\u001b[0m\u001b[1;33m.\u001b[0m\u001b[0mx\u001b[0m\u001b[1;33m)\u001b[0m\u001b[1;33m:\u001b[0m\u001b[1;33m\u001b[0m\u001b[1;33m\u001b[0m\u001b[0m\n\u001b[0;32m    266\u001b[0m             \u001b[0mself\u001b[0m\u001b[1;33m.\u001b[0m\u001b[0m_update_x_impl\u001b[0m\u001b[1;33m(\u001b[0m\u001b[0mx\u001b[0m\u001b[1;33m)\u001b[0m\u001b[1;33m\u001b[0m\u001b[1;33m\u001b[0m\u001b[0m\n\u001b[1;32m--> 267\u001b[1;33m         \u001b[0mself\u001b[0m\u001b[1;33m.\u001b[0m\u001b[0m_update_fun\u001b[0m\u001b[1;33m(\u001b[0m\u001b[1;33m)\u001b[0m\u001b[1;33m\u001b[0m\u001b[1;33m\u001b[0m\u001b[0m\n\u001b[0m\u001b[0;32m    268\u001b[0m         \u001b[0mself\u001b[0m\u001b[1;33m.\u001b[0m\u001b[0m_update_grad\u001b[0m\u001b[1;33m(\u001b[0m\u001b[1;33m)\u001b[0m\u001b[1;33m\u001b[0m\u001b[1;33m\u001b[0m\u001b[0m\n\u001b[0;32m    269\u001b[0m         \u001b[1;32mreturn\u001b[0m \u001b[0mself\u001b[0m\u001b[1;33m.\u001b[0m\u001b[0mf\u001b[0m\u001b[1;33m,\u001b[0m \u001b[0mself\u001b[0m\u001b[1;33m.\u001b[0m\u001b[0mg\u001b[0m\u001b[1;33m\u001b[0m\u001b[1;33m\u001b[0m\u001b[0m\n",
      "\u001b[1;32mc:\\Users\\s1904162\\Downloads\\Portable Python-3.7.9 x64\\App\\Python\\lib\\site-packages\\scipy\\optimize\\_differentiable_functions.py\u001b[0m in \u001b[0;36m_update_fun\u001b[1;34m(self)\u001b[0m\n\u001b[0;32m    231\u001b[0m     \u001b[1;32mdef\u001b[0m \u001b[0m_update_fun\u001b[0m\u001b[1;33m(\u001b[0m\u001b[0mself\u001b[0m\u001b[1;33m)\u001b[0m\u001b[1;33m:\u001b[0m\u001b[1;33m\u001b[0m\u001b[1;33m\u001b[0m\u001b[0m\n\u001b[0;32m    232\u001b[0m         \u001b[1;32mif\u001b[0m \u001b[1;32mnot\u001b[0m \u001b[0mself\u001b[0m\u001b[1;33m.\u001b[0m\u001b[0mf_updated\u001b[0m\u001b[1;33m:\u001b[0m\u001b[1;33m\u001b[0m\u001b[1;33m\u001b[0m\u001b[0m\n\u001b[1;32m--> 233\u001b[1;33m             \u001b[0mself\u001b[0m\u001b[1;33m.\u001b[0m\u001b[0m_update_fun_impl\u001b[0m\u001b[1;33m(\u001b[0m\u001b[1;33m)\u001b[0m\u001b[1;33m\u001b[0m\u001b[1;33m\u001b[0m\u001b[0m\n\u001b[0m\u001b[0;32m    234\u001b[0m             \u001b[0mself\u001b[0m\u001b[1;33m.\u001b[0m\u001b[0mf_updated\u001b[0m \u001b[1;33m=\u001b[0m \u001b[1;32mTrue\u001b[0m\u001b[1;33m\u001b[0m\u001b[1;33m\u001b[0m\u001b[0m\n\u001b[0;32m    235\u001b[0m \u001b[1;33m\u001b[0m\u001b[0m\n",
      "\u001b[1;32mc:\\Users\\s1904162\\Downloads\\Portable Python-3.7.9 x64\\App\\Python\\lib\\site-packages\\scipy\\optimize\\_differentiable_functions.py\u001b[0m in \u001b[0;36mupdate_fun\u001b[1;34m()\u001b[0m\n\u001b[0;32m    135\u001b[0m \u001b[1;33m\u001b[0m\u001b[0m\n\u001b[0;32m    136\u001b[0m         \u001b[1;32mdef\u001b[0m \u001b[0mupdate_fun\u001b[0m\u001b[1;33m(\u001b[0m\u001b[1;33m)\u001b[0m\u001b[1;33m:\u001b[0m\u001b[1;33m\u001b[0m\u001b[1;33m\u001b[0m\u001b[0m\n\u001b[1;32m--> 137\u001b[1;33m             \u001b[0mself\u001b[0m\u001b[1;33m.\u001b[0m\u001b[0mf\u001b[0m \u001b[1;33m=\u001b[0m \u001b[0mfun_wrapped\u001b[0m\u001b[1;33m(\u001b[0m\u001b[0mself\u001b[0m\u001b[1;33m.\u001b[0m\u001b[0mx\u001b[0m\u001b[1;33m)\u001b[0m\u001b[1;33m\u001b[0m\u001b[1;33m\u001b[0m\u001b[0m\n\u001b[0m\u001b[0;32m    138\u001b[0m \u001b[1;33m\u001b[0m\u001b[0m\n\u001b[0;32m    139\u001b[0m         \u001b[0mself\u001b[0m\u001b[1;33m.\u001b[0m\u001b[0m_update_fun_impl\u001b[0m \u001b[1;33m=\u001b[0m \u001b[0mupdate_fun\u001b[0m\u001b[1;33m\u001b[0m\u001b[1;33m\u001b[0m\u001b[0m\n",
      "\u001b[1;32mc:\\Users\\s1904162\\Downloads\\Portable Python-3.7.9 x64\\App\\Python\\lib\\site-packages\\scipy\\optimize\\_differentiable_functions.py\u001b[0m in \u001b[0;36mfun_wrapped\u001b[1;34m(x)\u001b[0m\n\u001b[0;32m    132\u001b[0m             \u001b[1;31m# Overwriting results in undefined behaviour because\u001b[0m\u001b[1;33m\u001b[0m\u001b[1;33m\u001b[0m\u001b[1;33m\u001b[0m\u001b[0m\n\u001b[0;32m    133\u001b[0m             \u001b[1;31m# fun(self.x) will change self.x, with the two no longer linked.\u001b[0m\u001b[1;33m\u001b[0m\u001b[1;33m\u001b[0m\u001b[1;33m\u001b[0m\u001b[0m\n\u001b[1;32m--> 134\u001b[1;33m             \u001b[1;32mreturn\u001b[0m \u001b[0mfun\u001b[0m\u001b[1;33m(\u001b[0m\u001b[0mnp\u001b[0m\u001b[1;33m.\u001b[0m\u001b[0mcopy\u001b[0m\u001b[1;33m(\u001b[0m\u001b[0mx\u001b[0m\u001b[1;33m)\u001b[0m\u001b[1;33m,\u001b[0m \u001b[1;33m*\u001b[0m\u001b[0margs\u001b[0m\u001b[1;33m)\u001b[0m\u001b[1;33m\u001b[0m\u001b[1;33m\u001b[0m\u001b[0m\n\u001b[0m\u001b[0;32m    135\u001b[0m \u001b[1;33m\u001b[0m\u001b[0m\n\u001b[0;32m    136\u001b[0m         \u001b[1;32mdef\u001b[0m \u001b[0mupdate_fun\u001b[0m\u001b[1;33m(\u001b[0m\u001b[1;33m)\u001b[0m\u001b[1;33m:\u001b[0m\u001b[1;33m\u001b[0m\u001b[1;33m\u001b[0m\u001b[0m\n",
      "\u001b[1;32mc:\\Users\\s1904162\\Downloads\\Portable Python-3.7.9 x64\\App\\Python\\lib\\site-packages\\netcal\\scaling\\AbstractLogisticRegression.py\u001b[0m in \u001b[0;36mMLE\u001b[1;34m(w, x, y)\u001b[0m\n\u001b[0;32m    548\u001b[0m                 \u001b[0mstart\u001b[0m \u001b[1;33m+=\u001b[0m \u001b[0mnum_weights\u001b[0m\u001b[1;33m\u001b[0m\u001b[1;33m\u001b[0m\u001b[0m\n\u001b[0;32m    549\u001b[0m \u001b[1;33m\u001b[0m\u001b[0m\n\u001b[1;32m--> 550\u001b[1;33m             \u001b[1;32mreturn\u001b[0m \u001b[0mloss_op\u001b[0m\u001b[1;33m(\u001b[0m\u001b[0mtorch\u001b[0m\u001b[1;33m.\u001b[0m\u001b[0msqueeze\u001b[0m\u001b[1;33m(\u001b[0m\u001b[0mpyro\u001b[0m\u001b[1;33m.\u001b[0m\u001b[0mcondition\u001b[0m\u001b[1;33m(\u001b[0m\u001b[0mself\u001b[0m\u001b[1;33m.\u001b[0m\u001b[0mmodel\u001b[0m\u001b[1;33m,\u001b[0m \u001b[0mdata\u001b[0m\u001b[1;33m=\u001b[0m\u001b[0mdata\u001b[0m\u001b[1;33m)\u001b[0m\u001b[1;33m(\u001b[0m\u001b[0mx\u001b[0m\u001b[1;33m)\u001b[0m\u001b[1;33m)\u001b[0m\u001b[1;33m,\u001b[0m \u001b[0my\u001b[0m\u001b[1;33m)\u001b[0m\u001b[1;33m.\u001b[0m\u001b[0mitem\u001b[0m\u001b[1;33m(\u001b[0m\u001b[1;33m)\u001b[0m\u001b[1;33m\u001b[0m\u001b[1;33m\u001b[0m\u001b[0m\n\u001b[0m\u001b[0;32m    551\u001b[0m \u001b[1;33m\u001b[0m\u001b[0m\n\u001b[0;32m    552\u001b[0m         \u001b[1;31m# convert input data to double as well as the weights\u001b[0m\u001b[1;33m\u001b[0m\u001b[1;33m\u001b[0m\u001b[1;33m\u001b[0m\u001b[0m\n",
      "\u001b[1;32mc:\\Users\\s1904162\\Downloads\\Portable Python-3.7.9 x64\\App\\Python\\lib\\site-packages\\netcal\\scaling\\AbstractLogisticRegression.py\u001b[0m in \u001b[0;36mloss_op\u001b[1;34m(x, y)\u001b[0m\n\u001b[0;32m    563\u001b[0m             \u001b[1;31m# thus, we need to use the bce loss with sigmoid\u001b[0m\u001b[1;33m\u001b[0m\u001b[1;33m\u001b[0m\u001b[1;33m\u001b[0m\u001b[0m\n\u001b[0;32m    564\u001b[0m             \u001b[1;32mdef\u001b[0m \u001b[0mloss_op\u001b[0m\u001b[1;33m(\u001b[0m\u001b[0mx\u001b[0m\u001b[1;33m,\u001b[0m \u001b[0my\u001b[0m\u001b[1;33m)\u001b[0m\u001b[1;33m:\u001b[0m\u001b[1;33m\u001b[0m\u001b[1;33m\u001b[0m\u001b[0m\n\u001b[1;32m--> 565\u001b[1;33m                 \u001b[1;32mreturn\u001b[0m \u001b[0mtorch\u001b[0m\u001b[1;33m.\u001b[0m\u001b[0mnn\u001b[0m\u001b[1;33m.\u001b[0m\u001b[0mBCELoss\u001b[0m\u001b[1;33m(\u001b[0m\u001b[0mreduction\u001b[0m\u001b[1;33m=\u001b[0m\u001b[1;34m'mean'\u001b[0m\u001b[1;33m)\u001b[0m\u001b[1;33m(\u001b[0m\u001b[0mtorch\u001b[0m\u001b[1;33m.\u001b[0m\u001b[0msigmoid\u001b[0m\u001b[1;33m(\u001b[0m\u001b[0mx\u001b[0m\u001b[1;33m)\u001b[0m\u001b[1;33m,\u001b[0m \u001b[0my\u001b[0m\u001b[1;33m)\u001b[0m\u001b[1;33m\u001b[0m\u001b[1;33m\u001b[0m\u001b[0m\n\u001b[0m\u001b[0;32m    566\u001b[0m \u001b[1;33m\u001b[0m\u001b[0m\n\u001b[0;32m    567\u001b[0m             \u001b[0my\u001b[0m \u001b[1;33m=\u001b[0m \u001b[0my\u001b[0m\u001b[1;33m.\u001b[0m\u001b[0mdouble\u001b[0m\u001b[1;33m(\u001b[0m\u001b[1;33m)\u001b[0m\u001b[1;33m\u001b[0m\u001b[1;33m\u001b[0m\u001b[0m\n",
      "\u001b[1;32mc:\\Users\\s1904162\\Downloads\\Portable Python-3.7.9 x64\\App\\Python\\lib\\site-packages\\torch\\nn\\modules\\module.py\u001b[0m in \u001b[0;36m_call_impl\u001b[1;34m(self, *input, **kwargs)\u001b[0m\n\u001b[0;32m   1128\u001b[0m         if not (self._backward_hooks or self._forward_hooks or self._forward_pre_hooks or _global_backward_hooks\n\u001b[0;32m   1129\u001b[0m                 or _global_forward_hooks or _global_forward_pre_hooks):\n\u001b[1;32m-> 1130\u001b[1;33m             \u001b[1;32mreturn\u001b[0m \u001b[0mforward_call\u001b[0m\u001b[1;33m(\u001b[0m\u001b[1;33m*\u001b[0m\u001b[0minput\u001b[0m\u001b[1;33m,\u001b[0m \u001b[1;33m**\u001b[0m\u001b[0mkwargs\u001b[0m\u001b[1;33m)\u001b[0m\u001b[1;33m\u001b[0m\u001b[1;33m\u001b[0m\u001b[0m\n\u001b[0m\u001b[0;32m   1131\u001b[0m         \u001b[1;31m# Do not call functions when jit is used\u001b[0m\u001b[1;33m\u001b[0m\u001b[1;33m\u001b[0m\u001b[1;33m\u001b[0m\u001b[0m\n\u001b[0;32m   1132\u001b[0m         \u001b[0mfull_backward_hooks\u001b[0m\u001b[1;33m,\u001b[0m \u001b[0mnon_full_backward_hooks\u001b[0m \u001b[1;33m=\u001b[0m \u001b[1;33m[\u001b[0m\u001b[1;33m]\u001b[0m\u001b[1;33m,\u001b[0m \u001b[1;33m[\u001b[0m\u001b[1;33m]\u001b[0m\u001b[1;33m\u001b[0m\u001b[1;33m\u001b[0m\u001b[0m\n",
      "\u001b[1;32mc:\\Users\\s1904162\\Downloads\\Portable Python-3.7.9 x64\\App\\Python\\lib\\site-packages\\torch\\nn\\modules\\loss.py\u001b[0m in \u001b[0;36mforward\u001b[1;34m(self, input, target)\u001b[0m\n\u001b[0;32m    611\u001b[0m \u001b[1;33m\u001b[0m\u001b[0m\n\u001b[0;32m    612\u001b[0m     \u001b[1;32mdef\u001b[0m \u001b[0mforward\u001b[0m\u001b[1;33m(\u001b[0m\u001b[0mself\u001b[0m\u001b[1;33m,\u001b[0m \u001b[0minput\u001b[0m\u001b[1;33m:\u001b[0m \u001b[0mTensor\u001b[0m\u001b[1;33m,\u001b[0m \u001b[0mtarget\u001b[0m\u001b[1;33m:\u001b[0m \u001b[0mTensor\u001b[0m\u001b[1;33m)\u001b[0m \u001b[1;33m->\u001b[0m \u001b[0mTensor\u001b[0m\u001b[1;33m:\u001b[0m\u001b[1;33m\u001b[0m\u001b[1;33m\u001b[0m\u001b[0m\n\u001b[1;32m--> 613\u001b[1;33m         \u001b[1;32mreturn\u001b[0m \u001b[0mF\u001b[0m\u001b[1;33m.\u001b[0m\u001b[0mbinary_cross_entropy\u001b[0m\u001b[1;33m(\u001b[0m\u001b[0minput\u001b[0m\u001b[1;33m,\u001b[0m \u001b[0mtarget\u001b[0m\u001b[1;33m,\u001b[0m \u001b[0mweight\u001b[0m\u001b[1;33m=\u001b[0m\u001b[0mself\u001b[0m\u001b[1;33m.\u001b[0m\u001b[0mweight\u001b[0m\u001b[1;33m,\u001b[0m \u001b[0mreduction\u001b[0m\u001b[1;33m=\u001b[0m\u001b[0mself\u001b[0m\u001b[1;33m.\u001b[0m\u001b[0mreduction\u001b[0m\u001b[1;33m)\u001b[0m\u001b[1;33m\u001b[0m\u001b[1;33m\u001b[0m\u001b[0m\n\u001b[0m\u001b[0;32m    614\u001b[0m \u001b[1;33m\u001b[0m\u001b[0m\n\u001b[0;32m    615\u001b[0m \u001b[1;33m\u001b[0m\u001b[0m\n",
      "\u001b[1;32mc:\\Users\\s1904162\\Downloads\\Portable Python-3.7.9 x64\\App\\Python\\lib\\site-packages\\torch\\nn\\functional.py\u001b[0m in \u001b[0;36mbinary_cross_entropy\u001b[1;34m(input, target, weight, size_average, reduce, reduction)\u001b[0m\n\u001b[0;32m   3081\u001b[0m         \u001b[0mweight\u001b[0m \u001b[1;33m=\u001b[0m \u001b[0mweight\u001b[0m\u001b[1;33m.\u001b[0m\u001b[0mexpand\u001b[0m\u001b[1;33m(\u001b[0m\u001b[0mnew_size\u001b[0m\u001b[1;33m)\u001b[0m\u001b[1;33m\u001b[0m\u001b[1;33m\u001b[0m\u001b[0m\n\u001b[0;32m   3082\u001b[0m \u001b[1;33m\u001b[0m\u001b[0m\n\u001b[1;32m-> 3083\u001b[1;33m     \u001b[1;32mreturn\u001b[0m \u001b[0mtorch\u001b[0m\u001b[1;33m.\u001b[0m\u001b[0m_C\u001b[0m\u001b[1;33m.\u001b[0m\u001b[0m_nn\u001b[0m\u001b[1;33m.\u001b[0m\u001b[0mbinary_cross_entropy\u001b[0m\u001b[1;33m(\u001b[0m\u001b[0minput\u001b[0m\u001b[1;33m,\u001b[0m \u001b[0mtarget\u001b[0m\u001b[1;33m,\u001b[0m \u001b[0mweight\u001b[0m\u001b[1;33m,\u001b[0m \u001b[0mreduction_enum\u001b[0m\u001b[1;33m)\u001b[0m\u001b[1;33m\u001b[0m\u001b[1;33m\u001b[0m\u001b[0m\n\u001b[0m\u001b[0;32m   3084\u001b[0m \u001b[1;33m\u001b[0m\u001b[0m\n\u001b[0;32m   3085\u001b[0m \u001b[1;33m\u001b[0m\u001b[0m\n",
      "\u001b[1;31mRuntimeError\u001b[0m: all elements of input should be between 0 and 1"
     ]
    }
   ],
   "source": [
    "exp._train_cal_and_eval(exp.trained_kges['YAGO39']['ComplEx'], ds.yago39)"
   ]
  },
  {
   "cell_type": "code",
   "execution_count": null,
   "metadata": {},
   "outputs": [],
   "source": []
  },
  {
   "cell_type": "markdown",
   "metadata": {},
   "source": []
  }
 ],
 "metadata": {
  "kernelspec": {
   "display_name": "Python 3.7.6 ('.venv': pipenv)",
   "language": "python",
   "name": "python3"
  },
  "language_info": {
   "codemirror_mode": {
    "name": "ipython",
    "version": 3
   },
   "file_extension": ".py",
   "mimetype": "text/x-python",
   "name": "python",
   "nbconvert_exporter": "python",
   "pygments_lexer": "ipython3",
   "version": "3.7.6"
  },
  "orig_nbformat": 4,
  "vscode": {
   "interpreter": {
    "hash": "a8eb72df0e0819e945698d6276ff579d89a73722458175aba81c7b7c1bcefd50"
   }
  }
 },
 "nbformat": 4,
 "nbformat_minor": 2
}
