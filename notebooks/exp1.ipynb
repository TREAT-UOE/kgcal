{
 "cells": [
  {
   "cell_type": "code",
   "execution_count": 1,
   "metadata": {},
   "outputs": [],
   "source": [
    "import sys\n",
    "# sys.path.append('../')\n",
    "# sys.path.append('../probcalkge')"
   ]
  },
  {
   "cell_type": "code",
   "execution_count": 5,
   "metadata": {},
   "outputs": [],
   "source": [
    "from probcalkge import Experiment\n",
    "from probcalkge import BetaCalibtator\n"
   ]
  },
  {
   "cell_type": "code",
   "execution_count": 2,
   "metadata": {},
   "outputs": [],
   "source": [
    "import probcalkge"
   ]
  },
  {
   "cell_type": "code",
   "execution_count": 3,
   "metadata": {},
   "outputs": [
    {
     "data": {
      "text/plain": [
       "['/home/ricky/TREAT/probcal-kge/notebooks',\n",
       " '/home/ricky/softwares/anaconda3/envs/ampligraph/lib/python37.zip',\n",
       " '/home/ricky/softwares/anaconda3/envs/ampligraph/lib/python3.7',\n",
       " '/home/ricky/softwares/anaconda3/envs/ampligraph/lib/python3.7/lib-dynload',\n",
       " '',\n",
       " '/home/ricky/softwares/anaconda3/envs/ampligraph/lib/python3.7/site-packages',\n",
       " '/home/ricky/softwares/anaconda3/envs/ampligraph/lib/python3.7/site-packages/IPython/extensions',\n",
       " '/home/ricky/.ipython',\n",
       " '../',\n",
       " '../probcalkge']"
      ]
     },
     "execution_count": 3,
     "metadata": {},
     "output_type": "execute_result"
    }
   ],
   "source": [
    "sys.path"
   ]
  },
  {
   "cell_type": "code",
   "execution_count": null,
   "metadata": {},
   "outputs": [],
   "source": []
  }
 ],
 "metadata": {
  "kernelspec": {
   "display_name": "Python 3.7.13 ('ampligraph')",
   "language": "python",
   "name": "python3"
  },
  "language_info": {
   "codemirror_mode": {
    "name": "ipython",
    "version": 3
   },
   "file_extension": ".py",
   "mimetype": "text/x-python",
   "name": "python",
   "nbconvert_exporter": "python",
   "pygments_lexer": "ipython3",
   "version": "3.7.13"
  },
  "orig_nbformat": 4,
  "vscode": {
   "interpreter": {
    "hash": "917c83195f32a583befd3e794b5e91655ce6c6ea872650ea660f059d1b120c60"
   }
  }
 },
 "nbformat": 4,
 "nbformat_minor": 2
}
