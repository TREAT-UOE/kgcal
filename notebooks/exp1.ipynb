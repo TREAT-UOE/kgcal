{
 "cells": [
  {
   "cell_type": "markdown",
   "metadata": {},
   "source": [
    "# Probability Calibration in KG Embedding\n",
    "This experiemnt is to investigate which calibration technique is the most suitable one given a dataset and a KG Embedding model.\n",
    "\n",
    "Within this experiment, we are going to see the performance of 4 typical calibration techniques for 4 KGE models in 3 datasets:\n",
    "- calibration techniques:\n",
    "  - Platt Scaling\n",
    "  - Isotonic Regression\n",
    "  - Histogram BInning\n",
    "  - Beta Calibration\n",
    "- KG Embedding models\n",
    "  - TransE\n",
    "  - ComplEx\n",
    "  - DistMult\n",
    "  - HoLE\n",
    "- Datasets\n",
    "  - FB13k\n",
    "  - Win11\n",
    "  - Yago39"
   ]
  },
  {
   "cell_type": "code",
   "execution_count": 3,
   "metadata": {},
   "outputs": [],
   "source": [
    "import sys\n",
    "# enable importing the modules from probcalkge\n",
    "sys.path.append('../')\n",
    "sys.path.append('../probcalkge')"
   ]
  },
  {
   "cell_type": "code",
   "execution_count": 4,
   "metadata": {},
   "outputs": [],
   "source": [
    "from probcalkge import Experiment\n",
    "from probcalkge import BetaCalibtator\n"
   ]
  },
  {
   "cell_type": "code",
   "execution_count": null,
   "metadata": {},
   "outputs": [],
   "source": []
  },
  {
   "cell_type": "code",
   "execution_count": null,
   "metadata": {},
   "outputs": [],
   "source": []
  },
  {
   "cell_type": "code",
   "execution_count": null,
   "metadata": {},
   "outputs": [],
   "source": []
  }
 ],
 "metadata": {
  "kernelspec": {
   "display_name": "Python 3.7.9 64-bit",
   "language": "python",
   "name": "python3"
  },
  "language_info": {
   "codemirror_mode": {
    "name": "ipython",
    "version": 3
   },
   "file_extension": ".py",
   "mimetype": "text/x-python",
   "name": "python",
   "nbconvert_exporter": "python",
   "pygments_lexer": "ipython3",
   "version": "3.7.9"
  },
  "orig_nbformat": 4,
  "vscode": {
   "interpreter": {
    "hash": "835b86652e8f668bc2a5f47727b638f8d325295eeb530cc12a1b16b8b81bd8c8"
   }
  }
 },
 "nbformat": 4,
 "nbformat_minor": 2
}
