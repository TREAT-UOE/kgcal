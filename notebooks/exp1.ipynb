{
 "cells": [
  {
   "cell_type": "markdown",
   "metadata": {},
   "source": [
    "# Probability Calibration in KG Embedding\n",
    "This experiemnt is to investigate which calibration technique is the most suitable one given a dataset and a KG Embedding model.\n",
    "\n",
    "Within this experiment, we are going to see the performance of 4 typical calibration techniques for 4 KGE models in 3 datasets:\n",
    "- calibration techniques:\n",
    "  - Platt Scaling\n",
    "  - Isotonic Regression\n",
    "  - Histogram BInning\n",
    "  - Beta Calibration\n",
    "- KG Embedding models\n",
    "  - TransE\n",
    "  - ComplEx\n",
    "  - DistMult\n",
    "  - HoLE\n",
    "- Datasets\n",
    "  - FB13k\n",
    "  - Win11\n",
    "  - Yago39"
   ]
  },
  {
   "cell_type": "code",
   "execution_count": 1,
   "metadata": {},
   "outputs": [],
   "source": [
    "import sys\n",
    "# enable importing the modules from probcalkge\n",
    "sys.path.append('../')\n",
    "sys.path.append('../probcalkge')"
   ]
  },
  {
   "cell_type": "code",
   "execution_count": 2,
   "metadata": {},
   "outputs": [],
   "source": [
    "import importlib\n",
    "from pprint import pprint\n",
    "import numpy as np\n",
    "import pandas as pd"
   ]
  },
  {
   "cell_type": "code",
   "execution_count": 3,
   "metadata": {},
   "outputs": [],
   "source": [
    "from ampligraph.latent_features import RandomBaseline, TransE\n",
    "import probcalkge\n",
    "importlib.reload(probcalkge)\n",
    "from probcalkge import Experiment\n",
    "from probcalkge import get_calibrators\n",
    "from probcalkge import get_datasets, get_fb13, get_wn11, get_kgemodels, get_yago39\n",
    "from probcalkge import brier_score, negative_log_loss, ks_error"
   ]
  },
  {
   "cell_type": "code",
   "execution_count": 4,
   "metadata": {},
   "outputs": [
    {
     "name": "stdout",
     "output_type": "stream",
     "text": [
      "32079\n",
      "0\n",
      "0\n",
      "WARNING - All triples will be processed in the same batch (batches_count=1). When processing large graphs it is recommended to batch the input knowledge graph instead.\n"
     ]
    }
   ],
   "source": [
    "ds = get_datasets()\n",
    "cals = get_calibrators()\n",
    "kges = get_kgemodels()\n"
   ]
  },
  {
   "cell_type": "code",
   "execution_count": 5,
   "metadata": {},
   "outputs": [],
   "source": [
    "exp = Experiment(\n",
    "    cals=[cals.uncal, cals.platt, cals.isot, cals.histbin, cals.beta], \n",
    "    datasets=[get_fb13(), get_wn11()], \n",
    "    kges=[kges.transE, kges.complEx, kges.distMult, kges.hoLE], \n",
    "    metrics=[brier_score, negative_log_loss, ks_error]\n",
    "    )"
   ]
  },
  {
   "cell_type": "code",
   "execution_count": 6,
   "metadata": {},
   "outputs": [
    {
     "name": "stdout",
     "output_type": "stream",
     "text": [
      "Loaded models:\n",
      "{'FB13k': {'ComplEx': <ampligraph.latent_features.models.ComplEx.ComplEx object at 0x000002445F53ED08>,\n",
      "           'DistMult': <ampligraph.latent_features.models.DistMult.DistMult object at 0x00000244608407C8>,\n",
      "           'HolE': <ampligraph.latent_features.models.HolE.HolE object at 0x00000244628878C8>,\n",
      "           'TransE': <ampligraph.latent_features.models.TransE.TransE object at 0x00000244642B5A08>},\n",
      " 'WN11': {'ComplEx': <ampligraph.latent_features.models.ComplEx.ComplEx object at 0x000002445F53EF08>,\n",
      "          'DistMult': <ampligraph.latent_features.models.DistMult.DistMult object at 0x00000244608412C8>,\n",
      "          'HolE': <ampligraph.latent_features.models.HolE.HolE object at 0x00000244616EC9C8>,\n",
      "          'TransE': <ampligraph.latent_features.models.TransE.TransE object at 0x00000244628874C8>}}\n",
      "{'FB13k': {'TransE':                    UncalCalibtator  PlattCalibtator  IsotonicCalibrator  \\\n",
      "brier_score               0.242014         0.212112            0.206325   \n",
      "negative_log_loss         0.676226         0.616217            0.600623   \n",
      "ks_error                  0.098866         0.027720            0.004463   \n",
      "\n",
      "                   HistogramBinningCalibtator  BetaCalibtator  \n",
      "brier_score                          0.215394        0.209044  \n",
      "negative_log_loss                    0.618863        0.609719  \n",
      "ks_error                             0.004041        0.016290  , 'ComplEx':                    UncalCalibtator  PlattCalibtator  IsotonicCalibrator  \\\n",
      "brier_score               0.410170         0.222095            0.208440   \n",
      "negative_log_loss         2.252936         0.633720            0.602848   \n",
      "ks_error                  0.421845         0.049897            0.002977   \n",
      "\n",
      "                   HistogramBinningCalibtator  BetaCalibtator  \n",
      "brier_score                          0.225157        0.225954  \n",
      "negative_log_loss                    0.637211        0.642698  \n",
      "ks_error                             0.003548        0.048580  , 'DistMult':                    UncalCalibtator  PlattCalibtator  IsotonicCalibrator  \\\n",
      "brier_score               0.376787         0.228464            0.222810   \n",
      "negative_log_loss         1.872856         0.644144            0.633132   \n",
      "ks_error                  0.372544         0.026884            0.003783   \n",
      "\n",
      "                   HistogramBinningCalibtator  BetaCalibtator  \n",
      "brier_score                          0.225781        0.229218  \n",
      "negative_log_loss                    0.638461        0.646620  \n",
      "ks_error                             0.003232        0.030662  , 'HolE':                    UncalCalibtator  PlattCalibtator  IsotonicCalibrator  \\\n",
      "brier_score               0.314147         0.248683            0.216840   \n",
      "negative_log_loss         0.935742         0.690483            0.616730   \n",
      "ks_error                  0.169842         0.065722            0.001976   \n",
      "\n",
      "                   HistogramBinningCalibtator  BetaCalibtator  \n",
      "brier_score                          0.176534        0.235856  \n",
      "negative_log_loss                    0.530080        0.660579  \n",
      "ks_error                             0.001829        0.082448  }, 'WN11': {'TransE':                    UncalCalibtator  PlattCalibtator  IsotonicCalibrator  \\\n",
      "brier_score               0.241891         0.090147            0.087408   \n",
      "negative_log_loss         0.700540         0.307826            0.298104   \n",
      "ks_error                  0.310065         0.024209            0.003957   \n",
      "\n",
      "                   HistogramBinningCalibtator  BetaCalibtator  \n",
      "brier_score                          0.087826        0.089906  \n",
      "negative_log_loss                    0.299751        0.308226  \n",
      "ks_error                             0.004747        0.018527  , 'ComplEx':                    UncalCalibtator  PlattCalibtator  IsotonicCalibrator  \\\n",
      "brier_score               0.419791         0.225499            0.223953   \n",
      "negative_log_loss         2.787404         0.634156            0.631768   \n",
      "ks_error                  0.433548         0.016142            0.002854   \n",
      "\n",
      "                   HistogramBinningCalibtator  BetaCalibtator  \n",
      "brier_score                          0.225254        0.226225  \n",
      "negative_log_loss                    0.637924        0.639116  \n",
      "ks_error                             0.002236        0.014323  , 'DistMult':                    UncalCalibtator  PlattCalibtator  IsotonicCalibrator  \\\n",
      "brier_score               0.401315         0.222539            0.221629   \n",
      "negative_log_loss         2.289132         0.628291            0.626881   \n",
      "ks_error                  0.415413         0.016646            0.006268   \n",
      "\n",
      "                   HistogramBinningCalibtator  BetaCalibtator  \n",
      "brier_score                          0.222973        0.223681  \n",
      "negative_log_loss                    0.633523        0.634880  \n",
      "ks_error                             0.007008        0.015897  , 'HolE':                    UncalCalibtator  PlattCalibtator  IsotonicCalibrator  \\\n",
      "brier_score               0.210079         0.201418            0.192535   \n",
      "negative_log_loss         0.597883         0.582792            0.553706   \n",
      "ks_error                  0.095622         0.025250            0.004744   \n",
      "\n",
      "                   HistogramBinningCalibtator  BetaCalibtator  \n",
      "brier_score                          0.192816        0.197292  \n",
      "negative_log_loss                    0.557775        0.568626  \n",
      "ks_error                             0.004432        0.016271  }}\n",
      "{'FB13k': {'TransE':                    UncalCalibtator  PlattCalibtator  IsotonicCalibrator  \\\n",
      "brier_score               0.242014         0.212112            0.206325   \n",
      "negative_log_loss         0.676226         0.616217            0.600623   \n",
      "ks_error                  0.098866         0.027720            0.004463   \n",
      "\n",
      "                   HistogramBinningCalibtator  BetaCalibtator  \n",
      "brier_score                          0.215394        0.209044  \n",
      "negative_log_loss                    0.618863        0.609719  \n",
      "ks_error                             0.004041        0.016290  , 'ComplEx':                    UncalCalibtator  PlattCalibtator  IsotonicCalibrator  \\\n",
      "brier_score               0.410170         0.222095            0.208440   \n",
      "negative_log_loss         2.252936         0.633720            0.602848   \n",
      "ks_error                  0.421845         0.049897            0.002977   \n",
      "\n",
      "                   HistogramBinningCalibtator  BetaCalibtator  \n",
      "brier_score                          0.225157        0.225954  \n",
      "negative_log_loss                    0.637211        0.642698  \n",
      "ks_error                             0.003548        0.048580  , 'DistMult':                    UncalCalibtator  PlattCalibtator  IsotonicCalibrator  \\\n",
      "brier_score               0.376787         0.228464            0.222810   \n",
      "negative_log_loss         1.872856         0.644144            0.633132   \n",
      "ks_error                  0.372544         0.026884            0.003783   \n",
      "\n",
      "                   HistogramBinningCalibtator  BetaCalibtator  \n",
      "brier_score                          0.225781        0.229218  \n",
      "negative_log_loss                    0.638461        0.646620  \n",
      "ks_error                             0.003232        0.030662  , 'HolE':                    UncalCalibtator  PlattCalibtator  IsotonicCalibrator  \\\n",
      "brier_score               0.314147         0.248683            0.216840   \n",
      "negative_log_loss         0.935742         0.690483            0.616730   \n",
      "ks_error                  0.169842         0.065722            0.001976   \n",
      "\n",
      "                   HistogramBinningCalibtator  BetaCalibtator  \n",
      "brier_score                          0.176534        0.235856  \n",
      "negative_log_loss                    0.530080        0.660579  \n",
      "ks_error                             0.001829        0.082448  }, 'WN11': {'TransE':                    UncalCalibtator  PlattCalibtator  IsotonicCalibrator  \\\n",
      "brier_score               0.241891         0.090147            0.087408   \n",
      "negative_log_loss         0.700540         0.307826            0.298104   \n",
      "ks_error                  0.310065         0.024209            0.003957   \n",
      "\n",
      "                   HistogramBinningCalibtator  BetaCalibtator  \n",
      "brier_score                          0.087826        0.089906  \n",
      "negative_log_loss                    0.299751        0.308226  \n",
      "ks_error                             0.004747        0.018527  , 'ComplEx':                    UncalCalibtator  PlattCalibtator  IsotonicCalibrator  \\\n",
      "brier_score               0.419791         0.225499            0.223953   \n",
      "negative_log_loss         2.787404         0.634156            0.631768   \n",
      "ks_error                  0.433548         0.016142            0.002854   \n",
      "\n",
      "                   HistogramBinningCalibtator  BetaCalibtator  \n",
      "brier_score                          0.225254        0.226225  \n",
      "negative_log_loss                    0.637924        0.639116  \n",
      "ks_error                             0.002236        0.014323  , 'DistMult':                    UncalCalibtator  PlattCalibtator  IsotonicCalibrator  \\\n",
      "brier_score               0.401315         0.222539            0.221629   \n",
      "negative_log_loss         2.289132         0.628291            0.626881   \n",
      "ks_error                  0.415413         0.016646            0.006268   \n",
      "\n",
      "                   HistogramBinningCalibtator  BetaCalibtator  \n",
      "brier_score                          0.222973        0.223681  \n",
      "negative_log_loss                    0.633523        0.634880  \n",
      "ks_error                             0.007008        0.015897  , 'HolE':                    UncalCalibtator  PlattCalibtator  IsotonicCalibrator  \\\n",
      "brier_score               0.210079         0.201418            0.192535   \n",
      "negative_log_loss         0.597883         0.582792            0.553706   \n",
      "ks_error                  0.095622         0.025250            0.004744   \n",
      "\n",
      "                   HistogramBinningCalibtator  BetaCalibtator  \n",
      "brier_score                          0.192816        0.197292  \n",
      "negative_log_loss                    0.557775        0.568626  \n",
      "ks_error                             0.004432        0.016271  }}\n",
      "[[array([[0.24201365, 0.6762265 , 0.0988656 ],\n",
      "       [0.21211195, 0.61621666, 0.02772036],\n",
      "       [0.20632537, 0.60062301, 0.004463  ],\n",
      "       [0.21539373, 0.61886298, 0.0040414 ],\n",
      "       [0.20904371, 0.60971859, 0.01628983]]), array([[0.4101703 , 2.25293643, 0.42184478],\n",
      "       [0.22209505, 0.63372034, 0.04989738],\n",
      "       [0.20844018, 0.60284786, 0.00297673],\n",
      "       [0.22515729, 0.63721083, 0.00354764],\n",
      "       [0.2259543 , 0.64269757, 0.04858037]]), array([[0.3767867 , 1.87285616, 0.37254438],\n",
      "       [0.22846361, 0.64414433, 0.0268836 ],\n",
      "       [0.2228101 , 0.63313228, 0.00378315],\n",
      "       [0.22578127, 0.63846079, 0.00323237],\n",
      "       [0.22921752, 0.64662022, 0.03066179]]), array([[0.31414693, 0.93574209, 0.16984241],\n",
      "       [0.24868295, 0.69048342, 0.06572206],\n",
      "       [0.21683962, 0.61673039, 0.00197638],\n",
      "       [0.17653434, 0.53008024, 0.00182867],\n",
      "       [0.23585578, 0.66057873, 0.08244833]])], [array([[0.24189108, 0.70053957, 0.3100651 ],\n",
      "       [0.09014727, 0.30782586, 0.02420885],\n",
      "       [0.08740822, 0.29810371, 0.0039565 ],\n",
      "       [0.08782638, 0.29975119, 0.00474721],\n",
      "       [0.08990625, 0.3082263 , 0.01852675]]), array([[4.19791427e-01, 2.78740384e+00, 4.33548209e-01],\n",
      "       [2.25499432e-01, 6.34155725e-01, 1.61415355e-02],\n",
      "       [2.23952503e-01, 6.31767885e-01, 2.85426870e-03],\n",
      "       [2.25254063e-01, 6.37923730e-01, 2.23611634e-03],\n",
      "       [2.26224878e-01, 6.39115957e-01, 1.43231735e-02]]), array([[0.4013149 , 2.28913217, 0.41541304],\n",
      "       [0.22253908, 0.62829124, 0.01664592],\n",
      "       [0.22162931, 0.62688135, 0.00626825],\n",
      "       [0.22297265, 0.63352306, 0.00700776],\n",
      "       [0.22368071, 0.6348803 , 0.01589749]]), array([[0.21007904, 0.59788306, 0.09562222],\n",
      "       [0.20141799, 0.58279159, 0.02524974],\n",
      "       [0.19253508, 0.55370645, 0.00474377],\n",
      "       [0.19281612, 0.55777467, 0.00443188],\n",
      "       [0.19729209, 0.56862599, 0.01627095]])]]\n",
      "{'dataset': ['FB13k', 'WN11'], 'kge': ['TransE', 'ComplEx', 'DistMult', 'HolE'], 'cal': ['UncalCalibtator', 'PlattCalibtator', 'IsotonicCalibrator', 'HistogramBinningCalibtator', 'BetaCalibtator'], 'metric': ['brier_score', 'negative_log_loss', 'ks_error']}\n"
     ]
    }
   ],
   "source": [
    "exp.load_trained_kges('../saved_models/07-16_15-18-09')\n",
    "exp_res = exp.run_with_trained_kges()"
   ]
  },
  {
   "cell_type": "code",
   "execution_count": 7,
   "metadata": {},
   "outputs": [
    {
     "data": {
      "text/html": [
       "<div>\n",
       "<style scoped>\n",
       "    .dataframe tbody tr th:only-of-type {\n",
       "        vertical-align: middle;\n",
       "    }\n",
       "\n",
       "    .dataframe tbody tr th {\n",
       "        vertical-align: top;\n",
       "    }\n",
       "\n",
       "    .dataframe thead th {\n",
       "        text-align: right;\n",
       "    }\n",
       "</style>\n",
       "<table border=\"1\" class=\"dataframe\">\n",
       "  <thead>\n",
       "    <tr style=\"text-align: right;\">\n",
       "      <th></th>\n",
       "      <th></th>\n",
       "      <th></th>\n",
       "      <th></th>\n",
       "      <th>ExpRes</th>\n",
       "    </tr>\n",
       "    <tr>\n",
       "      <th>dataset</th>\n",
       "      <th>kge</th>\n",
       "      <th>cal</th>\n",
       "      <th>metric</th>\n",
       "      <th></th>\n",
       "    </tr>\n",
       "  </thead>\n",
       "  <tbody>\n",
       "    <tr>\n",
       "      <th rowspan=\"5\" valign=\"top\">FB13k</th>\n",
       "      <th rowspan=\"5\" valign=\"top\">TransE</th>\n",
       "      <th rowspan=\"3\" valign=\"top\">UncalCalibtator</th>\n",
       "      <th>brier_score</th>\n",
       "      <td>0.242014</td>\n",
       "    </tr>\n",
       "    <tr>\n",
       "      <th>negative_log_loss</th>\n",
       "      <td>0.676226</td>\n",
       "    </tr>\n",
       "    <tr>\n",
       "      <th>ks_error</th>\n",
       "      <td>0.098866</td>\n",
       "    </tr>\n",
       "    <tr>\n",
       "      <th rowspan=\"2\" valign=\"top\">PlattCalibtator</th>\n",
       "      <th>brier_score</th>\n",
       "      <td>0.212112</td>\n",
       "    </tr>\n",
       "    <tr>\n",
       "      <th>negative_log_loss</th>\n",
       "      <td>0.616217</td>\n",
       "    </tr>\n",
       "    <tr>\n",
       "      <th>...</th>\n",
       "      <th>...</th>\n",
       "      <th>...</th>\n",
       "      <th>...</th>\n",
       "      <td>...</td>\n",
       "    </tr>\n",
       "    <tr>\n",
       "      <th rowspan=\"5\" valign=\"top\">WN11</th>\n",
       "      <th rowspan=\"5\" valign=\"top\">HolE</th>\n",
       "      <th rowspan=\"2\" valign=\"top\">HistogramBinningCalibtator</th>\n",
       "      <th>negative_log_loss</th>\n",
       "      <td>0.557775</td>\n",
       "    </tr>\n",
       "    <tr>\n",
       "      <th>ks_error</th>\n",
       "      <td>0.004432</td>\n",
       "    </tr>\n",
       "    <tr>\n",
       "      <th rowspan=\"3\" valign=\"top\">BetaCalibtator</th>\n",
       "      <th>brier_score</th>\n",
       "      <td>0.197292</td>\n",
       "    </tr>\n",
       "    <tr>\n",
       "      <th>negative_log_loss</th>\n",
       "      <td>0.568626</td>\n",
       "    </tr>\n",
       "    <tr>\n",
       "      <th>ks_error</th>\n",
       "      <td>0.016271</td>\n",
       "    </tr>\n",
       "  </tbody>\n",
       "</table>\n",
       "<p>120 rows × 1 columns</p>\n",
       "</div>"
      ],
      "text/plain": [
       "                                                               ExpRes\n",
       "dataset kge    cal                        metric                     \n",
       "FB13k   TransE UncalCalibtator            brier_score        0.242014\n",
       "                                          negative_log_loss  0.676226\n",
       "                                          ks_error           0.098866\n",
       "               PlattCalibtator            brier_score        0.212112\n",
       "                                          negative_log_loss  0.616217\n",
       "...                                                               ...\n",
       "WN11    HolE   HistogramBinningCalibtator negative_log_loss  0.557775\n",
       "                                          ks_error           0.004432\n",
       "               BetaCalibtator             brier_score        0.197292\n",
       "                                          negative_log_loss  0.568626\n",
       "                                          ks_error           0.016271\n",
       "\n",
       "[120 rows x 1 columns]"
      ]
     },
     "execution_count": 7,
     "metadata": {},
     "output_type": "execute_result"
    }
   ],
   "source": [
    "exp_res.to_frame()"
   ]
  },
  {
   "cell_type": "code",
   "execution_count": 9,
   "metadata": {},
   "outputs": [
    {
     "data": {
      "text/html": [
       "<div>\n",
       "<style scoped>\n",
       "    .dataframe tbody tr th:only-of-type {\n",
       "        vertical-align: middle;\n",
       "    }\n",
       "\n",
       "    .dataframe tbody tr th {\n",
       "        vertical-align: top;\n",
       "    }\n",
       "\n",
       "    .dataframe thead th {\n",
       "        text-align: right;\n",
       "    }\n",
       "</style>\n",
       "<table border=\"1\" class=\"dataframe\">\n",
       "  <thead>\n",
       "    <tr style=\"text-align: right;\">\n",
       "      <th>dataset</th>\n",
       "      <th>FB13k</th>\n",
       "      <th>WN11</th>\n",
       "    </tr>\n",
       "    <tr>\n",
       "      <th>metric</th>\n",
       "      <th></th>\n",
       "      <th></th>\n",
       "    </tr>\n",
       "  </thead>\n",
       "  <tbody>\n",
       "    <tr>\n",
       "      <th>brier_score</th>\n",
       "      <td>0.212112</td>\n",
       "      <td>0.090147</td>\n",
       "    </tr>\n",
       "    <tr>\n",
       "      <th>negative_log_loss</th>\n",
       "      <td>0.616217</td>\n",
       "      <td>0.307826</td>\n",
       "    </tr>\n",
       "    <tr>\n",
       "      <th>ks_error</th>\n",
       "      <td>0.027720</td>\n",
       "      <td>0.024209</td>\n",
       "    </tr>\n",
       "  </tbody>\n",
       "</table>\n",
       "</div>"
      ],
      "text/plain": [
       "dataset               FB13k      WN11\n",
       "metric                               \n",
       "brier_score        0.212112  0.090147\n",
       "negative_log_loss  0.616217  0.307826\n",
       "ks_error           0.027720  0.024209"
      ]
     },
     "execution_count": 9,
     "metadata": {},
     "output_type": "execute_result"
    }
   ],
   "source": [
    "exp_res.slice(cal='PlattCalibtator', kge='TransE')"
   ]
  },
  {
   "cell_type": "code",
   "execution_count": null,
   "metadata": {},
   "outputs": [
    {
     "data": {
      "text/plain": [
       "['BetaCalibtator']"
      ]
     },
     "execution_count": 7,
     "metadata": {},
     "output_type": "execute_result"
    }
   ],
   "source": []
  },
  {
   "cell_type": "code",
   "execution_count": null,
   "metadata": {},
   "outputs": [
    {
     "data": {
      "text/plain": [
       "{'FB13k': {'TransE': <ampligraph.latent_features.models.TransE.TransE at 0x219cd682648>,\n",
       "  'ComplEx': <ampligraph.latent_features.models.ComplEx.ComplEx at 0x219cf734808>,\n",
       "  'DistMult': <ampligraph.latent_features.models.DistMult.DistMult at 0x2198029cd48>,\n",
       "  'HolE': <ampligraph.latent_features.models.HolE.HolE at 0x21982d9ed48>},\n",
       " 'WN11': {'TransE': <ampligraph.latent_features.models.TransE.TransE at 0x219cf435f48>,\n",
       "  'ComplEx': <ampligraph.latent_features.models.ComplEx.ComplEx at 0x219d0731e88>,\n",
       "  'DistMult': <ampligraph.latent_features.models.DistMult.DistMult at 0x21982ae17c8>,\n",
       "  'HolE': <ampligraph.latent_features.models.HolE.HolE at 0x219861d2f88>}}"
      ]
     },
     "execution_count": 8,
     "metadata": {},
     "output_type": "execute_result"
    }
   ],
   "source": []
  },
  {
   "cell_type": "code",
   "execution_count": null,
   "metadata": {},
   "outputs": [
    {
     "name": "stdout",
     "output_type": "stream",
     "text": [
      "made model directory: ../saved_models/07-16_15-18-09\n"
     ]
    }
   ],
   "source": [
    "import os\n",
    "from datetime import datetime\n",
    "\n",
    "SAVE_MODEL_PATH = os.path.join('../saved_models/', datetime.now().strftime('%m-%d_%H-%M-%S'))\n",
    "LOAD_MODEL_PATH = '../saved_models/07-16_15-18-09'\n",
    "os.mkdir(SAVE_MODEL_PATH)\n",
    "print('made model directory:', SAVE_MODEL_PATH)\n",
    "from ampligraph.utils import save_model\n",
    "for ds, models in exp.trained_kge.items():\n",
    "    for mname, model in models.items():\n",
    "        save_model(model, os.path.join(SAVE_MODEL_PATH, f'{ds}-{mname}.pkl'))"
   ]
  },
  {
   "cell_type": "code",
   "execution_count": 7,
   "metadata": {},
   "outputs": [],
   "source": [
    "from probcalkge import get_yago39\n",
    "import probcalkge.caldatasets\n",
    "importlib.reload(probcalkge)\n",
    "importlib.reload(probcalkge.caldatasets)\n",
    "from probcalkge.caldatasets import get_yago39\n",
    "\n",
    "exp2 = Experiment(\n",
    "    cals=[cals.uncal, cals.platt, cals.isot, cals.histbin, cals.beta], \n",
    "    datasets=[ds.yago39], \n",
    "    kges=[kges.transE, kges.complEx, kges.distMult, kges.hoLE], \n",
    "    metrics=[brier_score, negative_log_loss, ks_error]\n",
    "    )"
   ]
  },
  {
   "cell_type": "code",
   "execution_count": 22,
   "metadata": {},
   "outputs": [
    {
     "name": "stdout",
     "output_type": "stream",
     "text": [
      "training TransE on YAGO39 ...\n"
     ]
    },
    {
     "name": "stderr",
     "output_type": "stream",
     "text": [
      "Average TransE Loss:   0.907991: 100%|██████████| 100/100 [14:16<00:00,  8.57s/epoch]\n"
     ]
    },
    {
     "name": "stdout",
     "output_type": "stream",
     "text": [
      "training ComplEx on YAGO39 ...\n"
     ]
    },
    {
     "name": "stderr",
     "output_type": "stream",
     "text": [
      "Average ComplEx Loss:   0.065400: 100%|██████████| 100/100 [33:58<00:00, 20.39s/epoch]\n"
     ]
    },
    {
     "name": "stdout",
     "output_type": "stream",
     "text": [
      "training DistMult on YAGO39 ...\n"
     ]
    },
    {
     "name": "stderr",
     "output_type": "stream",
     "text": [
      "Average DistMult Loss:   0.101094: 100%|██████████| 100/100 [13:51<00:00,  8.32s/epoch]\n"
     ]
    },
    {
     "name": "stdout",
     "output_type": "stream",
     "text": [
      "training HolE on YAGO39 ...\n"
     ]
    },
    {
     "name": "stderr",
     "output_type": "stream",
     "text": [
      "Average HolE Loss:   0.345860: 100%|██████████| 100/100 [35:36<00:00, 21.37s/epoch]\n"
     ]
    }
   ],
   "source": [
    "exp2.train_kges()"
   ]
  },
  {
   "cell_type": "code",
   "execution_count": 23,
   "metadata": {},
   "outputs": [
    {
     "name": "stdout",
     "output_type": "stream",
     "text": [
      "{'YAGO39': {'TransE':                    UncalCalibtator  PlattCalibtator  IsotonicCalibrator  \\\n",
      "brier_score               0.226878         0.197332            0.186168   \n",
      "negative_log_loss         0.647268         0.590727            0.552603   \n",
      "ks_error                  0.080550         0.039399            0.019643   \n",
      "\n",
      "                   HistogramBinningCalibtator  BetaCalibtator  \n",
      "brier_score                          0.188785        0.194169  \n",
      "negative_log_loss                    0.557358        0.582468  \n",
      "ks_error                             0.053959        0.030691  , 'ComplEx':                    UncalCalibtator  PlattCalibtator  IsotonicCalibrator  \\\n",
      "brier_score               0.088336         0.085033            0.072037   \n",
      "negative_log_loss         0.431691         0.300679            0.252499   \n",
      "ks_error                  0.052274         0.026469            0.003910   \n",
      "\n",
      "                   HistogramBinningCalibtator  BetaCalibtator  \n",
      "brier_score                          0.076667        0.073809  \n",
      "negative_log_loss                    0.278936        0.258329  \n",
      "ks_error                             0.002985        0.005598  , 'DistMult':                    UncalCalibtator  PlattCalibtator  IsotonicCalibrator  \\\n",
      "brier_score               0.093962         0.091057            0.081819   \n",
      "negative_log_loss         0.431745         0.318741            0.284653   \n",
      "ks_error                  0.041903         0.019237            0.002822   \n",
      "\n",
      "                   HistogramBinningCalibtator  BetaCalibtator  \n",
      "brier_score                          0.083648        0.085060  \n",
      "negative_log_loss                    0.297572        0.298758  \n",
      "ks_error                             0.004384        0.007980  , 'HolE':                    UncalCalibtator  PlattCalibtator  IsotonicCalibrator  \\\n",
      "brier_score               0.127152         0.115694            0.110077   \n",
      "negative_log_loss         0.450641         0.375441            0.355290   \n",
      "ks_error                  0.090877         0.018163            0.004829   \n",
      "\n",
      "                   HistogramBinningCalibtator  BetaCalibtator  \n",
      "brier_score                          0.110955        0.112205  \n",
      "negative_log_loss                    0.359192        0.363933  \n",
      "ks_error                             0.032055        0.010270  }}\n",
      "{'YAGO39': {'TransE':                    UncalCalibtator  PlattCalibtator  IsotonicCalibrator  \\\n",
      "brier_score               0.226878         0.197332            0.186168   \n",
      "negative_log_loss         0.647268         0.590727            0.552603   \n",
      "ks_error                  0.080550         0.039399            0.019643   \n",
      "\n",
      "                   HistogramBinningCalibtator  BetaCalibtator  \n",
      "brier_score                          0.188785        0.194169  \n",
      "negative_log_loss                    0.557358        0.582468  \n",
      "ks_error                             0.053959        0.030691  , 'ComplEx':                    UncalCalibtator  PlattCalibtator  IsotonicCalibrator  \\\n",
      "brier_score               0.088336         0.085033            0.072037   \n",
      "negative_log_loss         0.431691         0.300679            0.252499   \n",
      "ks_error                  0.052274         0.026469            0.003910   \n",
      "\n",
      "                   HistogramBinningCalibtator  BetaCalibtator  \n",
      "brier_score                          0.076667        0.073809  \n",
      "negative_log_loss                    0.278936        0.258329  \n",
      "ks_error                             0.002985        0.005598  , 'DistMult':                    UncalCalibtator  PlattCalibtator  IsotonicCalibrator  \\\n",
      "brier_score               0.093962         0.091057            0.081819   \n",
      "negative_log_loss         0.431745         0.318741            0.284653   \n",
      "ks_error                  0.041903         0.019237            0.002822   \n",
      "\n",
      "                   HistogramBinningCalibtator  BetaCalibtator  \n",
      "brier_score                          0.083648        0.085060  \n",
      "negative_log_loss                    0.297572        0.298758  \n",
      "ks_error                             0.004384        0.007980  , 'HolE':                    UncalCalibtator  PlattCalibtator  IsotonicCalibrator  \\\n",
      "brier_score               0.127152         0.115694            0.110077   \n",
      "negative_log_loss         0.450641         0.375441            0.355290   \n",
      "ks_error                  0.090877         0.018163            0.004829   \n",
      "\n",
      "                   HistogramBinningCalibtator  BetaCalibtator  \n",
      "brier_score                          0.110955        0.112205  \n",
      "negative_log_loss                    0.359192        0.363933  \n",
      "ks_error                             0.032055        0.010270  }}\n",
      "[[array([[0.22687781, 0.64726753, 0.08054998],\n",
      "       [0.19733209, 0.59072727, 0.03939893],\n",
      "       [0.18616762, 0.55260341, 0.01964334],\n",
      "       [0.18878518, 0.55735845, 0.05395925],\n",
      "       [0.19416948, 0.58246812, 0.03069104]]), array([[0.08833641, 0.43169095, 0.0522744 ],\n",
      "       [0.08503322, 0.30067947, 0.0264693 ],\n",
      "       [0.07203714, 0.25249934, 0.00391038],\n",
      "       [0.07666715, 0.27893562, 0.00298515],\n",
      "       [0.07380881, 0.25832919, 0.00559764]]), array([[0.09396174, 0.43174518, 0.04190311],\n",
      "       [0.09105651, 0.31874058, 0.01923698],\n",
      "       [0.08181876, 0.2846534 , 0.00282225],\n",
      "       [0.08364839, 0.29757226, 0.00438447],\n",
      "       [0.08506039, 0.29875839, 0.00797983]]), array([[0.12715201, 0.45064083, 0.09087743],\n",
      "       [0.11569369, 0.3754414 , 0.01816331],\n",
      "       [0.11007667, 0.3552896 , 0.00482927],\n",
      "       [0.11095534, 0.35919238, 0.03205458],\n",
      "       [0.11220515, 0.36393329, 0.01026991]])]]\n",
      "{'dataset': ['YAGO39'], 'kge': ['TransE', 'ComplEx', 'DistMult', 'HolE'], 'cal': ['UncalCalibtator', 'PlattCalibtator', 'IsotonicCalibrator', 'HistogramBinningCalibtator', 'BetaCalibtator'], 'metric': ['brier_score', 'negative_log_loss', 'ks_error']}\n"
     ]
    },
    {
     "data": {
      "text/plain": [
       "<experiment.ExperimentResult at 0x23427ad8748>"
      ]
     },
     "execution_count": 23,
     "metadata": {},
     "output_type": "execute_result"
    }
   ],
   "source": [
    "exp2.run_with_trained_kges()"
   ]
  },
  {
   "cell_type": "code",
   "execution_count": 21,
   "metadata": {},
   "outputs": [],
   "source": [
    "from ampligraph.latent_features import ConvE, ConvKB\n",
    "exp3 = Experiment(\n",
    "    cals=[cals.uncal, cals.platt, cals.isot, cals.histbin, cals.beta], \n",
    "    datasets=[get_fb13(), get_wn11()], \n",
    "    kges=[ConvE(verbose=True)], \n",
    "    metrics=[brier_score, negative_log_loss, ks_error]\n",
    "    )"
   ]
  },
  {
   "cell_type": "code",
   "execution_count": 22,
   "metadata": {},
   "outputs": [
    {
     "name": "stdout",
     "output_type": "stream",
     "text": [
      "training ConvKB on FB13k ...\n"
     ]
    },
    {
     "ename": "KeyboardInterrupt",
     "evalue": "",
     "output_type": "error",
     "traceback": [
      "\u001b[1;31m---------------------------------------------------------------------------\u001b[0m",
      "\u001b[1;31mKeyboardInterrupt\u001b[0m                         Traceback (most recent call last)",
      "\u001b[1;32m~\\AppData\\Local\\Temp\\ipykernel_18116\\1513477464.py\u001b[0m in \u001b[0;36m<module>\u001b[1;34m\u001b[0m\n\u001b[1;32m----> 1\u001b[1;33m \u001b[0mexp3\u001b[0m\u001b[1;33m.\u001b[0m\u001b[0mtrain_kges\u001b[0m\u001b[1;33m(\u001b[0m\u001b[1;33m)\u001b[0m\u001b[1;33m\u001b[0m\u001b[1;33m\u001b[0m\u001b[0m\n\u001b[0m",
      "\u001b[1;32mf:\\TREAT\\probcal-kge\\probcalkge\\experiment.py\u001b[0m in \u001b[0;36mtrain_kges\u001b[1;34m(self)\u001b[0m\n\u001b[0;32m    196\u001b[0m         '''train all KGE models on all datasets\n\u001b[0;32m    197\u001b[0m         '''\n\u001b[1;32m--> 198\u001b[1;33m         \u001b[1;32mfor\u001b[0m \u001b[0mkge\u001b[0m \u001b[1;32min\u001b[0m \u001b[0mself\u001b[0m\u001b[1;33m.\u001b[0m\u001b[0mkges\u001b[0m\u001b[1;33m:\u001b[0m\u001b[1;33m\u001b[0m\u001b[1;33m\u001b[0m\u001b[0m\n\u001b[0m\u001b[0;32m    199\u001b[0m             \u001b[1;32mfor\u001b[0m \u001b[0mds\u001b[0m \u001b[1;32min\u001b[0m \u001b[0mself\u001b[0m\u001b[1;33m.\u001b[0m\u001b[0mdatasets\u001b[0m\u001b[1;33m:\u001b[0m\u001b[1;33m\u001b[0m\u001b[1;33m\u001b[0m\u001b[0m\n\u001b[0;32m    200\u001b[0m                 \u001b[0mtrained_kge\u001b[0m \u001b[1;33m=\u001b[0m \u001b[0mself\u001b[0m\u001b[1;33m.\u001b[0m\u001b[0m_train_kge\u001b[0m\u001b[1;33m(\u001b[0m\u001b[0mkge\u001b[0m\u001b[1;33m,\u001b[0m \u001b[0mds\u001b[0m\u001b[1;33m)\u001b[0m\u001b[1;33m\u001b[0m\u001b[1;33m\u001b[0m\u001b[0m\n",
      "\u001b[1;32mf:\\TREAT\\probcal-kge\\probcalkge\\experiment.py\u001b[0m in \u001b[0;36m_train_kge\u001b[1;34m(self, kge, ds)\u001b[0m\n\u001b[0;32m    204\u001b[0m         '''train one KGE model on one dataset\n\u001b[0;32m    205\u001b[0m         '''\n\u001b[1;32m--> 206\u001b[1;33m         \u001b[0mprint\u001b[0m\u001b[1;33m(\u001b[0m\u001b[1;34mf'training {get_cls_name(kge)} on {ds.name} ...'\u001b[0m\u001b[1;33m)\u001b[0m\u001b[1;33m\u001b[0m\u001b[1;33m\u001b[0m\u001b[0m\n\u001b[0m\u001b[0;32m    207\u001b[0m         \u001b[0mnew_kge\u001b[0m \u001b[1;33m=\u001b[0m \u001b[0mdeepcopy\u001b[0m\u001b[1;33m(\u001b[0m\u001b[0mkge\u001b[0m\u001b[1;33m)\u001b[0m  \u001b[1;31m# make a brand new (untrained) kge models\u001b[0m\u001b[1;33m\u001b[0m\u001b[1;33m\u001b[0m\u001b[0m\n\u001b[0;32m    208\u001b[0m         \u001b[0mnew_kge\u001b[0m\u001b[1;33m.\u001b[0m\u001b[0mfit\u001b[0m\u001b[1;33m(\u001b[0m\u001b[0mds\u001b[0m\u001b[1;33m.\u001b[0m\u001b[0mX_train\u001b[0m\u001b[1;33m)\u001b[0m\u001b[1;33m\u001b[0m\u001b[1;33m\u001b[0m\u001b[0m\n",
      "\u001b[1;32mf:\\TREAT\\probcal-kge\\.venv\\lib\\site-packages\\ampligraph\\latent_features\\models\\ConvKB.py\u001b[0m in \u001b[0;36mfit\u001b[1;34m(self, X, early_stopping, early_stopping_params, focusE_numeric_edge_values, tensorboard_logs_path)\u001b[0m\n\u001b[0;32m    501\u001b[0m         \"\"\"\n\u001b[0;32m    502\u001b[0m         super().fit(X, early_stopping, early_stopping_params, focusE_numeric_edge_values,\n\u001b[1;32m--> 503\u001b[1;33m                     tensorboard_logs_path=tensorboard_logs_path)\n\u001b[0m",
      "\u001b[1;32mf:\\TREAT\\probcal-kge\\.venv\\lib\\site-packages\\ampligraph\\latent_features\\models\\EmbeddingModel.py\u001b[0m in \u001b[0;36mfit\u001b[1;34m(self, X, early_stopping, early_stopping_params, focusE_numeric_edge_values, tensorboard_logs_path)\u001b[0m\n\u001b[0;32m   1210\u001b[0m         \u001b[1;32mexcept\u001b[0m \u001b[0mBaseException\u001b[0m \u001b[1;32mas\u001b[0m \u001b[0me\u001b[0m\u001b[1;33m:\u001b[0m\u001b[1;33m\u001b[0m\u001b[1;33m\u001b[0m\u001b[0m\n\u001b[0;32m   1211\u001b[0m             \u001b[0mself\u001b[0m\u001b[1;33m.\u001b[0m\u001b[0m_end_training\u001b[0m\u001b[1;33m(\u001b[0m\u001b[1;33m)\u001b[0m\u001b[1;33m\u001b[0m\u001b[1;33m\u001b[0m\u001b[0m\n\u001b[1;32m-> 1212\u001b[1;33m             \u001b[1;32mraise\u001b[0m \u001b[0me\u001b[0m\u001b[1;33m\u001b[0m\u001b[1;33m\u001b[0m\u001b[0m\n\u001b[0m\u001b[0;32m   1213\u001b[0m \u001b[1;33m\u001b[0m\u001b[0m\n\u001b[0;32m   1214\u001b[0m     \u001b[1;32mdef\u001b[0m \u001b[0mset_filter_for_eval\u001b[0m\u001b[1;33m(\u001b[0m\u001b[0mself\u001b[0m\u001b[1;33m)\u001b[0m\u001b[1;33m:\u001b[0m\u001b[1;33m\u001b[0m\u001b[1;33m\u001b[0m\u001b[0m\n",
      "\u001b[1;32mf:\\TREAT\\probcal-kge\\.venv\\lib\\site-packages\\ampligraph\\latent_features\\models\\EmbeddingModel.py\u001b[0m in \u001b[0;36mfit\u001b[1;34m(self, X, early_stopping, early_stopping_params, focusE_numeric_edge_values, tensorboard_logs_path)\u001b[0m\n\u001b[0;32m   1155\u001b[0m                             \u001b[0mself\u001b[0m\u001b[1;33m.\u001b[0m\u001b[0msess_train\u001b[0m\u001b[1;33m.\u001b[0m\u001b[0mrun\u001b[0m\u001b[1;33m(\u001b[0m\u001b[0mself\u001b[0m\u001b[1;33m.\u001b[0m\u001b[0ment_emb\u001b[0m\u001b[1;33m)\u001b[0m\u001b[1;33m[\u001b[0m\u001b[1;33m:\u001b[0m\u001b[0munique_entities\u001b[0m\u001b[1;33m.\u001b[0m\u001b[0mshape\u001b[0m\u001b[1;33m[\u001b[0m\u001b[1;36m0\u001b[0m\u001b[1;33m]\u001b[0m\u001b[1;33m,\u001b[0m \u001b[1;33m:\u001b[0m\u001b[1;33m]\u001b[0m\u001b[1;33m\u001b[0m\u001b[1;33m\u001b[0m\u001b[0m\n\u001b[0;32m   1156\u001b[0m                     \u001b[1;32melse\u001b[0m\u001b[1;33m:\u001b[0m\u001b[1;33m\u001b[0m\u001b[1;33m\u001b[0m\u001b[0m\n\u001b[1;32m-> 1157\u001b[1;33m                         \u001b[0mloss_batch\u001b[0m\u001b[1;33m,\u001b[0m \u001b[0m_\u001b[0m \u001b[1;33m=\u001b[0m \u001b[0mself\u001b[0m\u001b[1;33m.\u001b[0m\u001b[0msess_train\u001b[0m\u001b[1;33m.\u001b[0m\u001b[0mrun\u001b[0m\u001b[1;33m(\u001b[0m\u001b[1;33m[\u001b[0m\u001b[0mloss\u001b[0m\u001b[1;33m,\u001b[0m \u001b[0mtrain\u001b[0m\u001b[1;33m]\u001b[0m\u001b[1;33m,\u001b[0m \u001b[0mfeed_dict\u001b[0m\u001b[1;33m=\u001b[0m\u001b[0mfeed_dict\u001b[0m\u001b[1;33m)\u001b[0m\u001b[1;33m\u001b[0m\u001b[1;33m\u001b[0m\u001b[0m\n\u001b[0m\u001b[0;32m   1158\u001b[0m \u001b[1;33m\u001b[0m\u001b[0m\n\u001b[0;32m   1159\u001b[0m                     \u001b[1;32mif\u001b[0m \u001b[0mnp\u001b[0m\u001b[1;33m.\u001b[0m\u001b[0misnan\u001b[0m\u001b[1;33m(\u001b[0m\u001b[0mloss_batch\u001b[0m\u001b[1;33m)\u001b[0m \u001b[1;32mor\u001b[0m \u001b[0mnp\u001b[0m\u001b[1;33m.\u001b[0m\u001b[0misinf\u001b[0m\u001b[1;33m(\u001b[0m\u001b[0mloss_batch\u001b[0m\u001b[1;33m)\u001b[0m\u001b[1;33m:\u001b[0m\u001b[1;33m\u001b[0m\u001b[1;33m\u001b[0m\u001b[0m\n",
      "\u001b[1;32mf:\\TREAT\\probcal-kge\\.venv\\lib\\site-packages\\tensorflow_core\\python\\client\\session.py\u001b[0m in \u001b[0;36mrun\u001b[1;34m(self, fetches, feed_dict, options, run_metadata)\u001b[0m\n\u001b[0;32m    954\u001b[0m     \u001b[1;32mtry\u001b[0m\u001b[1;33m:\u001b[0m\u001b[1;33m\u001b[0m\u001b[1;33m\u001b[0m\u001b[0m\n\u001b[0;32m    955\u001b[0m       result = self._run(None, fetches, feed_dict, options_ptr,\n\u001b[1;32m--> 956\u001b[1;33m                          run_metadata_ptr)\n\u001b[0m\u001b[0;32m    957\u001b[0m       \u001b[1;32mif\u001b[0m \u001b[0mrun_metadata\u001b[0m\u001b[1;33m:\u001b[0m\u001b[1;33m\u001b[0m\u001b[1;33m\u001b[0m\u001b[0m\n\u001b[0;32m    958\u001b[0m         \u001b[0mproto_data\u001b[0m \u001b[1;33m=\u001b[0m \u001b[0mtf_session\u001b[0m\u001b[1;33m.\u001b[0m\u001b[0mTF_GetBuffer\u001b[0m\u001b[1;33m(\u001b[0m\u001b[0mrun_metadata_ptr\u001b[0m\u001b[1;33m)\u001b[0m\u001b[1;33m\u001b[0m\u001b[1;33m\u001b[0m\u001b[0m\n",
      "\u001b[1;32mf:\\TREAT\\probcal-kge\\.venv\\lib\\site-packages\\tensorflow_core\\python\\client\\session.py\u001b[0m in \u001b[0;36m_run\u001b[1;34m(self, handle, fetches, feed_dict, options, run_metadata)\u001b[0m\n\u001b[0;32m   1178\u001b[0m     \u001b[1;32mif\u001b[0m \u001b[0mfinal_fetches\u001b[0m \u001b[1;32mor\u001b[0m \u001b[0mfinal_targets\u001b[0m \u001b[1;32mor\u001b[0m \u001b[1;33m(\u001b[0m\u001b[0mhandle\u001b[0m \u001b[1;32mand\u001b[0m \u001b[0mfeed_dict_tensor\u001b[0m\u001b[1;33m)\u001b[0m\u001b[1;33m:\u001b[0m\u001b[1;33m\u001b[0m\u001b[1;33m\u001b[0m\u001b[0m\n\u001b[0;32m   1179\u001b[0m       results = self._do_run(handle, final_targets, final_fetches,\n\u001b[1;32m-> 1180\u001b[1;33m                              feed_dict_tensor, options, run_metadata)\n\u001b[0m\u001b[0;32m   1181\u001b[0m     \u001b[1;32melse\u001b[0m\u001b[1;33m:\u001b[0m\u001b[1;33m\u001b[0m\u001b[1;33m\u001b[0m\u001b[0m\n\u001b[0;32m   1182\u001b[0m       \u001b[0mresults\u001b[0m \u001b[1;33m=\u001b[0m \u001b[1;33m[\u001b[0m\u001b[1;33m]\u001b[0m\u001b[1;33m\u001b[0m\u001b[1;33m\u001b[0m\u001b[0m\n",
      "\u001b[1;32mf:\\TREAT\\probcal-kge\\.venv\\lib\\site-packages\\tensorflow_core\\python\\client\\session.py\u001b[0m in \u001b[0;36m_do_run\u001b[1;34m(self, handle, target_list, fetch_list, feed_dict, options, run_metadata)\u001b[0m\n\u001b[0;32m   1357\u001b[0m     \u001b[1;32mif\u001b[0m \u001b[0mhandle\u001b[0m \u001b[1;32mis\u001b[0m \u001b[1;32mNone\u001b[0m\u001b[1;33m:\u001b[0m\u001b[1;33m\u001b[0m\u001b[1;33m\u001b[0m\u001b[0m\n\u001b[0;32m   1358\u001b[0m       return self._do_call(_run_fn, feeds, fetches, targets, options,\n\u001b[1;32m-> 1359\u001b[1;33m                            run_metadata)\n\u001b[0m\u001b[0;32m   1360\u001b[0m     \u001b[1;32melse\u001b[0m\u001b[1;33m:\u001b[0m\u001b[1;33m\u001b[0m\u001b[1;33m\u001b[0m\u001b[0m\n\u001b[0;32m   1361\u001b[0m       \u001b[1;32mreturn\u001b[0m \u001b[0mself\u001b[0m\u001b[1;33m.\u001b[0m\u001b[0m_do_call\u001b[0m\u001b[1;33m(\u001b[0m\u001b[0m_prun_fn\u001b[0m\u001b[1;33m,\u001b[0m \u001b[0mhandle\u001b[0m\u001b[1;33m,\u001b[0m \u001b[0mfeeds\u001b[0m\u001b[1;33m,\u001b[0m \u001b[0mfetches\u001b[0m\u001b[1;33m)\u001b[0m\u001b[1;33m\u001b[0m\u001b[1;33m\u001b[0m\u001b[0m\n",
      "\u001b[1;32mf:\\TREAT\\probcal-kge\\.venv\\lib\\site-packages\\tensorflow_core\\python\\client\\session.py\u001b[0m in \u001b[0;36m_do_call\u001b[1;34m(self, fn, *args)\u001b[0m\n\u001b[0;32m   1363\u001b[0m   \u001b[1;32mdef\u001b[0m \u001b[0m_do_call\u001b[0m\u001b[1;33m(\u001b[0m\u001b[0mself\u001b[0m\u001b[1;33m,\u001b[0m \u001b[0mfn\u001b[0m\u001b[1;33m,\u001b[0m \u001b[1;33m*\u001b[0m\u001b[0margs\u001b[0m\u001b[1;33m)\u001b[0m\u001b[1;33m:\u001b[0m\u001b[1;33m\u001b[0m\u001b[1;33m\u001b[0m\u001b[0m\n\u001b[0;32m   1364\u001b[0m     \u001b[1;32mtry\u001b[0m\u001b[1;33m:\u001b[0m\u001b[1;33m\u001b[0m\u001b[1;33m\u001b[0m\u001b[0m\n\u001b[1;32m-> 1365\u001b[1;33m       \u001b[1;32mreturn\u001b[0m \u001b[0mfn\u001b[0m\u001b[1;33m(\u001b[0m\u001b[1;33m*\u001b[0m\u001b[0margs\u001b[0m\u001b[1;33m)\u001b[0m\u001b[1;33m\u001b[0m\u001b[1;33m\u001b[0m\u001b[0m\n\u001b[0m\u001b[0;32m   1366\u001b[0m     \u001b[1;32mexcept\u001b[0m \u001b[0merrors\u001b[0m\u001b[1;33m.\u001b[0m\u001b[0mOpError\u001b[0m \u001b[1;32mas\u001b[0m \u001b[0me\u001b[0m\u001b[1;33m:\u001b[0m\u001b[1;33m\u001b[0m\u001b[1;33m\u001b[0m\u001b[0m\n\u001b[0;32m   1367\u001b[0m       \u001b[0mmessage\u001b[0m \u001b[1;33m=\u001b[0m \u001b[0mcompat\u001b[0m\u001b[1;33m.\u001b[0m\u001b[0mas_text\u001b[0m\u001b[1;33m(\u001b[0m\u001b[0me\u001b[0m\u001b[1;33m.\u001b[0m\u001b[0mmessage\u001b[0m\u001b[1;33m)\u001b[0m\u001b[1;33m\u001b[0m\u001b[1;33m\u001b[0m\u001b[0m\n",
      "\u001b[1;32mf:\\TREAT\\probcal-kge\\.venv\\lib\\site-packages\\tensorflow_core\\python\\client\\session.py\u001b[0m in \u001b[0;36m_run_fn\u001b[1;34m(feed_dict, fetch_list, target_list, options, run_metadata)\u001b[0m\n\u001b[0;32m   1348\u001b[0m       \u001b[0mself\u001b[0m\u001b[1;33m.\u001b[0m\u001b[0m_extend_graph\u001b[0m\u001b[1;33m(\u001b[0m\u001b[1;33m)\u001b[0m\u001b[1;33m\u001b[0m\u001b[1;33m\u001b[0m\u001b[0m\n\u001b[0;32m   1349\u001b[0m       return self._call_tf_sessionrun(options, feed_dict, fetch_list,\n\u001b[1;32m-> 1350\u001b[1;33m                                       target_list, run_metadata)\n\u001b[0m\u001b[0;32m   1351\u001b[0m \u001b[1;33m\u001b[0m\u001b[0m\n\u001b[0;32m   1352\u001b[0m     \u001b[1;32mdef\u001b[0m \u001b[0m_prun_fn\u001b[0m\u001b[1;33m(\u001b[0m\u001b[0mhandle\u001b[0m\u001b[1;33m,\u001b[0m \u001b[0mfeed_dict\u001b[0m\u001b[1;33m,\u001b[0m \u001b[0mfetch_list\u001b[0m\u001b[1;33m)\u001b[0m\u001b[1;33m:\u001b[0m\u001b[1;33m\u001b[0m\u001b[1;33m\u001b[0m\u001b[0m\n",
      "\u001b[1;32mf:\\TREAT\\probcal-kge\\.venv\\lib\\site-packages\\tensorflow_core\\python\\client\\session.py\u001b[0m in \u001b[0;36m_call_tf_sessionrun\u001b[1;34m(self, options, feed_dict, fetch_list, target_list, run_metadata)\u001b[0m\n\u001b[0;32m   1441\u001b[0m     return tf_session.TF_SessionRun_wrapper(self._session, options, feed_dict,\n\u001b[0;32m   1442\u001b[0m                                             \u001b[0mfetch_list\u001b[0m\u001b[1;33m,\u001b[0m \u001b[0mtarget_list\u001b[0m\u001b[1;33m,\u001b[0m\u001b[1;33m\u001b[0m\u001b[1;33m\u001b[0m\u001b[0m\n\u001b[1;32m-> 1443\u001b[1;33m                                             run_metadata)\n\u001b[0m\u001b[0;32m   1444\u001b[0m \u001b[1;33m\u001b[0m\u001b[0m\n\u001b[0;32m   1445\u001b[0m   \u001b[1;32mdef\u001b[0m \u001b[0m_call_tf_sessionprun\u001b[0m\u001b[1;33m(\u001b[0m\u001b[0mself\u001b[0m\u001b[1;33m,\u001b[0m \u001b[0mhandle\u001b[0m\u001b[1;33m,\u001b[0m \u001b[0mfeed_dict\u001b[0m\u001b[1;33m,\u001b[0m \u001b[0mfetch_list\u001b[0m\u001b[1;33m)\u001b[0m\u001b[1;33m:\u001b[0m\u001b[1;33m\u001b[0m\u001b[1;33m\u001b[0m\u001b[0m\n",
      "\u001b[1;31mKeyboardInterrupt\u001b[0m: "
     ]
    }
   ],
   "source": [
    "exp3.train_kges()"
   ]
  },
  {
   "cell_type": "code",
   "execution_count": 10,
   "metadata": {},
   "outputs": [],
   "source": [
    "train_ents = set(ds.yago39.X_train[:, 0]).union(set(ds.yago39.X_train[:, -1]))\n",
    "train_rels = set(ds.yago39.X_train[:, 1])"
   ]
  },
  {
   "cell_type": "code",
   "execution_count": 19,
   "metadata": {},
   "outputs": [],
   "source": [
    "test_ents = set(ds.yago39.X_valid[:, 0]).union(set(ds.yago39.X_valid[:, -1]))\n",
    "test_rels = set(ds.yago39.X_valid[:, 1])"
   ]
  },
  {
   "cell_type": "code",
   "execution_count": 20,
   "metadata": {},
   "outputs": [
    {
     "data": {
      "text/plain": [
       "set()"
      ]
     },
     "execution_count": 20,
     "metadata": {},
     "output_type": "execute_result"
    }
   ],
   "source": [
    "test_ents.difference(train_ents)"
   ]
  },
  {
   "cell_type": "code",
   "execution_count": 21,
   "metadata": {},
   "outputs": [
    {
     "data": {
      "text/plain": [
       "set()"
      ]
     },
     "execution_count": 21,
     "metadata": {},
     "output_type": "execute_result"
    }
   ],
   "source": [
    "test_rels - train_rels"
   ]
  },
  {
   "cell_type": "code",
   "execution_count": 24,
   "metadata": {},
   "outputs": [
    {
     "name": "stdout",
     "output_type": "stream",
     "text": [
      "saved ../saved_models/07-16_15-18-09/YAGO39-TransE.pkl.\n",
      "saved ../saved_models/07-16_15-18-09/YAGO39-ComplEx.pkl.\n",
      "saved ../saved_models/07-16_15-18-09/YAGO39-DistMult.pkl.\n",
      "saved ../saved_models/07-16_15-18-09/YAGO39-HolE.pkl.\n"
     ]
    }
   ],
   "source": [
    "exp2.save_trained_kges('../saved_models/07-16_15-18-09/')"
   ]
  },
  {
   "cell_type": "code",
   "execution_count": null,
   "metadata": {},
   "outputs": [],
   "source": []
  }
 ],
 "metadata": {
  "kernelspec": {
   "display_name": "Python 3.7.6 ('.venv': pipenv)",
   "language": "python",
   "name": "python3"
  },
  "language_info": {
   "codemirror_mode": {
    "name": "ipython",
    "version": 3
   },
   "file_extension": ".py",
   "mimetype": "text/x-python",
   "name": "python",
   "nbconvert_exporter": "python",
   "pygments_lexer": "ipython3",
   "version": "3.7.6"
  },
  "orig_nbformat": 4,
  "vscode": {
   "interpreter": {
    "hash": "a8eb72df0e0819e945698d6276ff579d89a73722458175aba81c7b7c1bcefd50"
   }
  }
 },
 "nbformat": 4,
 "nbformat_minor": 2
}
