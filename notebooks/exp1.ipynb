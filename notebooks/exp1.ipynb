{
 "cells": [
  {
   "cell_type": "markdown",
   "metadata": {},
   "source": [
    "# Probability Calibration in KG Embedding\n",
    "This experiemnt is to investigate which calibration technique is the most suitable one given a dataset and a KG Embedding model.\n",
    "\n",
    "Within this experiment, we are going to see the performance of 4 typical calibration techniques for 4 KGE models in 3 datasets:\n",
    "- calibration techniques:\n",
    "  - Platt Scaling\n",
    "  - Isotonic Regression\n",
    "  - Histogram BInning\n",
    "  - Beta Calibration\n",
    "- KG Embedding models\n",
    "  - TransE\n",
    "  - ComplEx\n",
    "  - DistMult\n",
    "  - HoLE\n",
    "- Datasets\n",
    "  - FB13k\n",
    "  - Win11\n",
    "  - Yago39"
   ]
  },
  {
   "cell_type": "code",
   "execution_count": 1,
   "metadata": {},
   "outputs": [],
   "source": [
    "import sys\n",
    "# enable importing the modules from probcalkge\n",
    "sys.path.append('../')\n",
    "sys.path.append('../probcalkge')"
   ]
  },
  {
   "cell_type": "code",
   "execution_count": 2,
   "metadata": {},
   "outputs": [],
   "source": [
    "import numpy as np\n",
    "import pandas as pd"
   ]
  },
  {
   "cell_type": "code",
   "execution_count": 3,
   "metadata": {},
   "outputs": [],
   "source": [
    "from ampligraph.latent_features import RandomBaseline, TransE\n",
    "import probcalkge\n",
    "\n",
    "from probcalkge import Experiment\n",
    "from probcalkge import get_calibrators\n",
    "from probcalkge import get_datasets, get_fb13, get_wn11, get_kgemodels\n",
    "from probcalkge import brier_score, negative_log_loss, ks_error"
   ]
  },
  {
   "cell_type": "code",
   "execution_count": 4,
   "metadata": {},
   "outputs": [
    {
     "name": "stdout",
     "output_type": "stream",
     "text": [
      "WARNING - All triples will be processed in the same batch (batches_count=1). When processing large graphs it is recommended to batch the input knowledge graph instead.\n"
     ]
    }
   ],
   "source": [
    "# ds = get_datasets()\n",
    "cals = get_calibrators()\n",
    "kges = get_kgemodels()\n"
   ]
  },
  {
   "cell_type": "code",
   "execution_count": 5,
   "metadata": {},
   "outputs": [],
   "source": [
    "exp = Experiment(\n",
    "    cals=[cals.uncal, cals.platt, cals.isot, cals.histbin, cals.beta], \n",
    "    datasets=[get_fb13(), get_wn11()], \n",
    "    kges=[kges.transE, kges.complEx, kges.distMult, kges.hoLE], \n",
    "    metrics=[brier_score, negative_log_loss, ks_error]\n",
    "    )"
   ]
  },
  {
   "cell_type": "code",
   "execution_count": 6,
   "metadata": {},
   "outputs": [
    {
     "name": "stdout",
     "output_type": "stream",
     "text": [
      "training $TransE on $FB13k ...\n"
     ]
    },
    {
     "name": "stderr",
     "output_type": "stream",
     "text": [
      "Average TransE Loss:   1.088374: 100%|██████████| 100/100 [18:48<00:00, 11.28s/epoch]\n"
     ]
    },
    {
     "name": "stdout",
     "output_type": "stream",
     "text": [
      "                   UncalCalibtator  PlattCalibtator  IsotonicCalibrator  \\\n",
      "brier_score               0.242014         0.212112            0.206325   \n",
      "negative_log_loss         0.676226         0.616217            0.600623   \n",
      "ks_error                  0.098866         0.027720            0.004463   \n",
      "\n",
      "                   HistogramBinningCalibtator  BetaCalibtator  \n",
      "brier_score                          0.215394        0.209044  \n",
      "negative_log_loss                    0.618863        0.609719  \n",
      "ks_error                             0.004041        0.016290  \n",
      "training $TransE on $WN11 ...\n"
     ]
    },
    {
     "name": "stderr",
     "output_type": "stream",
     "text": [
      "Average TransE Loss:   0.960578: 100%|██████████| 100/100 [08:23<00:00,  5.04s/epoch]\n"
     ]
    },
    {
     "name": "stdout",
     "output_type": "stream",
     "text": [
      "                   UncalCalibtator  PlattCalibtator  IsotonicCalibrator  \\\n",
      "brier_score               0.241891         0.090147            0.087408   \n",
      "negative_log_loss         0.700540         0.307826            0.298104   \n",
      "ks_error                  0.310065         0.024209            0.003957   \n",
      "\n",
      "                   HistogramBinningCalibtator  BetaCalibtator  \n",
      "brier_score                          0.087826        0.089906  \n",
      "negative_log_loss                    0.299751        0.308226  \n",
      "ks_error                             0.004747        0.018527  \n",
      "training $ComplEx on $FB13k ...\n"
     ]
    },
    {
     "name": "stderr",
     "output_type": "stream",
     "text": [
      "Average ComplEx Loss:   0.190559: 100%|██████████| 100/100 [44:16<00:00, 26.56s/epoch]\n"
     ]
    },
    {
     "name": "stdout",
     "output_type": "stream",
     "text": [
      "                   UncalCalibtator  PlattCalibtator  IsotonicCalibrator  \\\n",
      "brier_score               0.410170         0.222095            0.208440   \n",
      "negative_log_loss         2.252936         0.633720            0.602848   \n",
      "ks_error                  0.421845         0.049897            0.002977   \n",
      "\n",
      "                   HistogramBinningCalibtator  BetaCalibtator  \n",
      "brier_score                          0.225157        0.225954  \n",
      "negative_log_loss                    0.637211        0.642698  \n",
      "ks_error                             0.003548        0.048580  \n",
      "training $ComplEx on $WN11 ...\n"
     ]
    },
    {
     "name": "stderr",
     "output_type": "stream",
     "text": [
      "Average ComplEx Loss:   0.008841: 100%|██████████| 100/100 [18:48<00:00, 11.29s/epoch]\n"
     ]
    },
    {
     "name": "stdout",
     "output_type": "stream",
     "text": [
      "                   UncalCalibtator  PlattCalibtator  IsotonicCalibrator  \\\n",
      "brier_score               0.419791         0.225499            0.223953   \n",
      "negative_log_loss         2.787404         0.634156            0.631768   \n",
      "ks_error                  0.433548         0.016142            0.002854   \n",
      "\n",
      "                   HistogramBinningCalibtator  BetaCalibtator  \n",
      "brier_score                          0.225254        0.226225  \n",
      "negative_log_loss                    0.637924        0.639116  \n",
      "ks_error                             0.002236        0.014323  \n",
      "training $DistMult on $FB13k ...\n"
     ]
    },
    {
     "name": "stderr",
     "output_type": "stream",
     "text": [
      "Average DistMult Loss:   0.215396: 100%|██████████| 100/100 [18:36<00:00, 11.16s/epoch]\n"
     ]
    },
    {
     "name": "stdout",
     "output_type": "stream",
     "text": [
      "                   UncalCalibtator  PlattCalibtator  IsotonicCalibrator  \\\n",
      "brier_score               0.376787         0.228464            0.222810   \n",
      "negative_log_loss         1.872856         0.644144            0.633132   \n",
      "ks_error                  0.372544         0.026884            0.003783   \n",
      "\n",
      "                   HistogramBinningCalibtator  BetaCalibtator  \n",
      "brier_score                          0.225781        0.229218  \n",
      "negative_log_loss                    0.638461        0.646620  \n",
      "ks_error                             0.003232        0.030662  \n",
      "training $DistMult on $WN11 ...\n"
     ]
    },
    {
     "name": "stderr",
     "output_type": "stream",
     "text": [
      "Average DistMult Loss:   0.026890: 100%|██████████| 100/100 [08:28<00:00,  5.08s/epoch]\n"
     ]
    },
    {
     "name": "stdout",
     "output_type": "stream",
     "text": [
      "                   UncalCalibtator  PlattCalibtator  IsotonicCalibrator  \\\n",
      "brier_score               0.401315         0.222539            0.221629   \n",
      "negative_log_loss         2.289132         0.628291            0.626881   \n",
      "ks_error                  0.415413         0.016646            0.006268   \n",
      "\n",
      "                   HistogramBinningCalibtator  BetaCalibtator  \n",
      "brier_score                          0.222973        0.223681  \n",
      "negative_log_loss                    0.633523        0.634880  \n",
      "ks_error                             0.007008        0.015897  \n",
      "training $HolE on $FB13k ...\n"
     ]
    },
    {
     "name": "stderr",
     "output_type": "stream",
     "text": [
      "Average HolE Loss:   0.731045: 100%|██████████| 100/100 [44:07<00:00, 26.48s/epoch]\n"
     ]
    },
    {
     "name": "stdout",
     "output_type": "stream",
     "text": [
      "                   UncalCalibtator  PlattCalibtator  IsotonicCalibrator  \\\n",
      "brier_score               0.314147         0.248683            0.216840   \n",
      "negative_log_loss         0.935742         0.690483            0.616730   \n",
      "ks_error                  0.169842         0.065722            0.001976   \n",
      "\n",
      "                   HistogramBinningCalibtator  BetaCalibtator  \n",
      "brier_score                          0.176534        0.235856  \n",
      "negative_log_loss                    0.530080        0.660579  \n",
      "ks_error                             0.001829        0.082448  \n",
      "training $HolE on $WN11 ...\n"
     ]
    },
    {
     "name": "stderr",
     "output_type": "stream",
     "text": [
      "Average HolE Loss:   0.724753: 100%|██████████| 100/100 [18:22<00:00, 11.02s/epoch]\n"
     ]
    },
    {
     "name": "stdout",
     "output_type": "stream",
     "text": [
      "                   UncalCalibtator  PlattCalibtator  IsotonicCalibrator  \\\n",
      "brier_score               0.210079         0.201418            0.192535   \n",
      "negative_log_loss         0.597883         0.582792            0.553706   \n",
      "ks_error                  0.095622         0.025250            0.004744   \n",
      "\n",
      "                   HistogramBinningCalibtator  BetaCalibtator  \n",
      "brier_score                          0.192816        0.197292  \n",
      "negative_log_loss                    0.557775        0.568626  \n",
      "ks_error                             0.004432        0.016271  \n",
      "{'TransE': {'FB13k':                    UncalCalibtator  PlattCalibtator  IsotonicCalibrator  \\\n",
      "brier_score               0.242014         0.212112            0.206325   \n",
      "negative_log_loss         0.676226         0.616217            0.600623   \n",
      "ks_error                  0.098866         0.027720            0.004463   \n",
      "\n",
      "                   HistogramBinningCalibtator  BetaCalibtator  \n",
      "brier_score                          0.215394        0.209044  \n",
      "negative_log_loss                    0.618863        0.609719  \n",
      "ks_error                             0.004041        0.016290  , 'WN11':                    UncalCalibtator  PlattCalibtator  IsotonicCalibrator  \\\n",
      "brier_score               0.241891         0.090147            0.087408   \n",
      "negative_log_loss         0.700540         0.307826            0.298104   \n",
      "ks_error                  0.310065         0.024209            0.003957   \n",
      "\n",
      "                   HistogramBinningCalibtator  BetaCalibtator  \n",
      "brier_score                          0.087826        0.089906  \n",
      "negative_log_loss                    0.299751        0.308226  \n",
      "ks_error                             0.004747        0.018527  }, 'ComplEx': {'FB13k':                    UncalCalibtator  PlattCalibtator  IsotonicCalibrator  \\\n",
      "brier_score               0.410170         0.222095            0.208440   \n",
      "negative_log_loss         2.252936         0.633720            0.602848   \n",
      "ks_error                  0.421845         0.049897            0.002977   \n",
      "\n",
      "                   HistogramBinningCalibtator  BetaCalibtator  \n",
      "brier_score                          0.225157        0.225954  \n",
      "negative_log_loss                    0.637211        0.642698  \n",
      "ks_error                             0.003548        0.048580  , 'WN11':                    UncalCalibtator  PlattCalibtator  IsotonicCalibrator  \\\n",
      "brier_score               0.419791         0.225499            0.223953   \n",
      "negative_log_loss         2.787404         0.634156            0.631768   \n",
      "ks_error                  0.433548         0.016142            0.002854   \n",
      "\n",
      "                   HistogramBinningCalibtator  BetaCalibtator  \n",
      "brier_score                          0.225254        0.226225  \n",
      "negative_log_loss                    0.637924        0.639116  \n",
      "ks_error                             0.002236        0.014323  }, 'DistMult': {'FB13k':                    UncalCalibtator  PlattCalibtator  IsotonicCalibrator  \\\n",
      "brier_score               0.376787         0.228464            0.222810   \n",
      "negative_log_loss         1.872856         0.644144            0.633132   \n",
      "ks_error                  0.372544         0.026884            0.003783   \n",
      "\n",
      "                   HistogramBinningCalibtator  BetaCalibtator  \n",
      "brier_score                          0.225781        0.229218  \n",
      "negative_log_loss                    0.638461        0.646620  \n",
      "ks_error                             0.003232        0.030662  , 'WN11':                    UncalCalibtator  PlattCalibtator  IsotonicCalibrator  \\\n",
      "brier_score               0.401315         0.222539            0.221629   \n",
      "negative_log_loss         2.289132         0.628291            0.626881   \n",
      "ks_error                  0.415413         0.016646            0.006268   \n",
      "\n",
      "                   HistogramBinningCalibtator  BetaCalibtator  \n",
      "brier_score                          0.222973        0.223681  \n",
      "negative_log_loss                    0.633523        0.634880  \n",
      "ks_error                             0.007008        0.015897  }, 'HolE': {'FB13k':                    UncalCalibtator  PlattCalibtator  IsotonicCalibrator  \\\n",
      "brier_score               0.314147         0.248683            0.216840   \n",
      "negative_log_loss         0.935742         0.690483            0.616730   \n",
      "ks_error                  0.169842         0.065722            0.001976   \n",
      "\n",
      "                   HistogramBinningCalibtator  BetaCalibtator  \n",
      "brier_score                          0.176534        0.235856  \n",
      "negative_log_loss                    0.530080        0.660579  \n",
      "ks_error                             0.001829        0.082448  , 'WN11':                    UncalCalibtator  PlattCalibtator  IsotonicCalibrator  \\\n",
      "brier_score               0.210079         0.201418            0.192535   \n",
      "negative_log_loss         0.597883         0.582792            0.553706   \n",
      "ks_error                  0.095622         0.025250            0.004744   \n",
      "\n",
      "                   HistogramBinningCalibtator  BetaCalibtator  \n",
      "brier_score                          0.192816        0.197292  \n",
      "negative_log_loss                    0.557775        0.568626  \n",
      "ks_error                             0.004432        0.016271  }}\n",
      "[[array([[0.24201365, 0.21211195, 0.20632537, 0.21539373, 0.20904371],\n",
      "       [0.6762265 , 0.61621666, 0.60062301, 0.61886298, 0.60971859],\n",
      "       [0.0988656 , 0.02772036, 0.004463  , 0.0040414 , 0.01628983]]), array([[0.24189108, 0.09014727, 0.08740822, 0.08782638, 0.08990625],\n",
      "       [0.70053957, 0.30782586, 0.29810371, 0.29975119, 0.3082263 ],\n",
      "       [0.3100651 , 0.02420885, 0.0039565 , 0.00474721, 0.01852675]])], [array([[0.4101703 , 0.22209505, 0.20844018, 0.22515729, 0.2259543 ],\n",
      "       [2.25293643, 0.63372034, 0.60284786, 0.63721083, 0.64269757],\n",
      "       [0.42184478, 0.04989738, 0.00297673, 0.00354764, 0.04858037]]), array([[4.19791427e-01, 2.25499432e-01, 2.23952503e-01, 2.25254063e-01,\n",
      "        2.26224878e-01],\n",
      "       [2.78740384e+00, 6.34155725e-01, 6.31767885e-01, 6.37923730e-01,\n",
      "        6.39115957e-01],\n",
      "       [4.33548209e-01, 1.61415355e-02, 2.85426870e-03, 2.23611634e-03,\n",
      "        1.43231735e-02]])], [array([[0.3767867 , 0.22846361, 0.2228101 , 0.22578127, 0.22921752],\n",
      "       [1.87285616, 0.64414433, 0.63313228, 0.63846079, 0.64662022],\n",
      "       [0.37254438, 0.0268836 , 0.00378315, 0.00323237, 0.03066179]]), array([[0.4013149 , 0.22253908, 0.22162931, 0.22297265, 0.22368071],\n",
      "       [2.28913217, 0.62829124, 0.62688135, 0.63352306, 0.6348803 ],\n",
      "       [0.41541304, 0.01664592, 0.00626825, 0.00700776, 0.01589749]])], [array([[0.31414693, 0.24868295, 0.21683962, 0.17653434, 0.23585578],\n",
      "       [0.93574209, 0.69048342, 0.61673039, 0.53008024, 0.66057873],\n",
      "       [0.16984241, 0.06572206, 0.00197638, 0.00182867, 0.08244833]]), array([[0.21007904, 0.20141799, 0.19253508, 0.19281612, 0.19729209],\n",
      "       [0.59788306, 0.58279159, 0.55370645, 0.55777467, 0.56862599],\n",
      "       [0.09562222, 0.02524974, 0.00474377, 0.00443188, 0.01627095]])]]\n",
      "{'cal': ['UncalCalibtator', 'PlattCalibtator', 'IsotonicCalibrator', 'HistogramBinningCalibtator', 'BetaCalibtator'], 'kge': ['TransE', 'ComplEx', 'DistMult', 'HolE'], 'dataset': ['FB13k', 'WN11'], 'metric': ['brier_score', 'negative_log_loss', 'ks_error']}\n"
     ]
    },
    {
     "ename": "ValueError",
     "evalue": "conflicting sizes for dimension 'cal': length 4 on the data but length 5 on coordinate 'cal'",
     "output_type": "error",
     "traceback": [
      "\u001b[1;31m---------------------------------------------------------------------------\u001b[0m",
      "\u001b[1;31mValueError\u001b[0m                                Traceback (most recent call last)",
      "\u001b[1;32m~\\AppData\\Local\\Temp\\ipykernel_8816\\2112911450.py\u001b[0m in \u001b[0;36m<module>\u001b[1;34m\u001b[0m\n\u001b[1;32m----> 1\u001b[1;33m \u001b[0mexp\u001b[0m\u001b[1;33m.\u001b[0m\u001b[0mrun\u001b[0m\u001b[1;33m(\u001b[0m\u001b[1;33m)\u001b[0m\u001b[1;33m\u001b[0m\u001b[1;33m\u001b[0m\u001b[0m\n\u001b[0m",
      "\u001b[1;32mf:\\TREAT\\probcal-kge\\probcalkge\\experiment.py\u001b[0m in \u001b[0;36mrun\u001b[1;34m(self)\u001b[0m\n\u001b[0;32m    154\u001b[0m                     \u001b[0mself\u001b[0m\u001b[1;33m.\u001b[0m\u001b[0m_train_and_eval\u001b[0m\u001b[1;33m(\u001b[0m\u001b[0mkge\u001b[0m\u001b[1;33m,\u001b[0m \u001b[0mds\u001b[0m\u001b[1;33m)\u001b[0m\u001b[1;33m\u001b[0m\u001b[1;33m\u001b[0m\u001b[0m\n\u001b[0;32m    155\u001b[0m         \u001b[0mprint\u001b[0m\u001b[1;33m(\u001b[0m\u001b[0mres\u001b[0m\u001b[1;33m)\u001b[0m\u001b[1;33m\u001b[0m\u001b[1;33m\u001b[0m\u001b[0m\n\u001b[1;32m--> 156\u001b[1;33m         \u001b[1;32mreturn\u001b[0m \u001b[0mExperimentResult\u001b[0m\u001b[1;33m(\u001b[0m\u001b[0mexperiment\u001b[0m\u001b[1;33m=\u001b[0m\u001b[0mself\u001b[0m\u001b[1;33m,\u001b[0m \u001b[0mresults\u001b[0m\u001b[1;33m=\u001b[0m\u001b[0mres\u001b[0m\u001b[1;33m)\u001b[0m\u001b[1;33m\u001b[0m\u001b[1;33m\u001b[0m\u001b[0m\n\u001b[0m\u001b[0;32m    157\u001b[0m \u001b[1;33m\u001b[0m\u001b[0m\n\u001b[0;32m    158\u001b[0m     \u001b[1;32mdef\u001b[0m \u001b[0m_train_and_eval\u001b[0m\u001b[1;33m(\u001b[0m\u001b[0mself\u001b[0m\u001b[1;33m,\u001b[0m \u001b[0mkge\u001b[0m\u001b[1;33m:\u001b[0m \u001b[0mEmbeddingModel\u001b[0m\u001b[1;33m,\u001b[0m \u001b[0mds\u001b[0m\u001b[1;33m:\u001b[0m \u001b[0mDatasetWrapper\u001b[0m\u001b[1;33m)\u001b[0m \u001b[1;33m->\u001b[0m \u001b[0mpd\u001b[0m\u001b[1;33m.\u001b[0m\u001b[0mDataFrame\u001b[0m\u001b[1;33m:\u001b[0m\u001b[1;33m\u001b[0m\u001b[1;33m\u001b[0m\u001b[0m\n",
      "\u001b[1;32mf:\\TREAT\\probcal-kge\\probcalkge\\experiment.py\u001b[0m in \u001b[0;36m__init__\u001b[1;34m(self, experiment, results)\u001b[0m\n\u001b[0;32m     28\u001b[0m         '''\n\u001b[0;32m     29\u001b[0m         \u001b[0mself\u001b[0m\u001b[1;33m.\u001b[0m\u001b[0mexpriment\u001b[0m \u001b[1;33m=\u001b[0m \u001b[0mexperiment\u001b[0m\u001b[1;33m\u001b[0m\u001b[1;33m\u001b[0m\u001b[0m\n\u001b[1;32m---> 30\u001b[1;33m         \u001b[0mself\u001b[0m\u001b[1;33m.\u001b[0m\u001b[0mresults\u001b[0m \u001b[1;33m=\u001b[0m \u001b[0mself\u001b[0m\u001b[1;33m.\u001b[0m\u001b[0m_create_xarray\u001b[0m\u001b[1;33m(\u001b[0m\u001b[0mresults\u001b[0m\u001b[1;33m)\u001b[0m\u001b[1;33m\u001b[0m\u001b[1;33m\u001b[0m\u001b[0m\n\u001b[0m\u001b[0;32m     31\u001b[0m \u001b[1;33m\u001b[0m\u001b[0m\n\u001b[0;32m     32\u001b[0m     \u001b[1;32mdef\u001b[0m \u001b[0m_create_xarray\u001b[0m\u001b[1;33m(\u001b[0m\u001b[0mself\u001b[0m\u001b[1;33m,\u001b[0m \u001b[0mresults\u001b[0m\u001b[1;33m:\u001b[0m \u001b[0mdict\u001b[0m\u001b[1;33m)\u001b[0m \u001b[1;33m->\u001b[0m\u001b[0mxr\u001b[0m\u001b[1;33m.\u001b[0m\u001b[0mDataArray\u001b[0m\u001b[1;33m:\u001b[0m\u001b[1;33m\u001b[0m\u001b[1;33m\u001b[0m\u001b[0m\n",
      "\u001b[1;32mf:\\TREAT\\probcal-kge\\probcalkge\\experiment.py\u001b[0m in \u001b[0;36m_create_xarray\u001b[1;34m(self, results)\u001b[0m\n\u001b[0;32m     47\u001b[0m         \u001b[0mprint\u001b[0m\u001b[1;33m(\u001b[0m\u001b[0mcoords\u001b[0m\u001b[1;33m)\u001b[0m\u001b[1;33m\u001b[0m\u001b[1;33m\u001b[0m\u001b[0m\n\u001b[0;32m     48\u001b[0m \u001b[1;33m\u001b[0m\u001b[0m\n\u001b[1;32m---> 49\u001b[1;33m         \u001b[1;32mreturn\u001b[0m \u001b[0mxr\u001b[0m\u001b[1;33m.\u001b[0m\u001b[0mDataArray\u001b[0m\u001b[1;33m(\u001b[0m\u001b[0mdata\u001b[0m\u001b[1;33m=\u001b[0m\u001b[0mdata\u001b[0m\u001b[1;33m,\u001b[0m \u001b[0mcoords\u001b[0m\u001b[1;33m=\u001b[0m\u001b[0mcoords\u001b[0m\u001b[1;33m)\u001b[0m\u001b[1;33m\u001b[0m\u001b[1;33m\u001b[0m\u001b[0m\n\u001b[0m\u001b[0;32m     50\u001b[0m \u001b[1;33m\u001b[0m\u001b[0m\n\u001b[0;32m     51\u001b[0m     \u001b[1;32mdef\u001b[0m \u001b[0mprint_summary\u001b[0m\u001b[1;33m(\u001b[0m\u001b[0mself\u001b[0m\u001b[1;33m)\u001b[0m\u001b[1;33m:\u001b[0m\u001b[1;33m\u001b[0m\u001b[1;33m\u001b[0m\u001b[0m\n",
      "\u001b[1;32mf:\\TREAT\\probcal-kge\\.venv\\lib\\site-packages\\xarray\\core\\dataarray.py\u001b[0m in \u001b[0;36m__init__\u001b[1;34m(self, data, coords, dims, name, attrs, indexes, fastpath)\u001b[0m\n\u001b[0;32m    404\u001b[0m             \u001b[0mdata\u001b[0m \u001b[1;33m=\u001b[0m \u001b[0m_check_data_shape\u001b[0m\u001b[1;33m(\u001b[0m\u001b[0mdata\u001b[0m\u001b[1;33m,\u001b[0m \u001b[0mcoords\u001b[0m\u001b[1;33m,\u001b[0m \u001b[0mdims\u001b[0m\u001b[1;33m)\u001b[0m\u001b[1;33m\u001b[0m\u001b[1;33m\u001b[0m\u001b[0m\n\u001b[0;32m    405\u001b[0m             \u001b[0mdata\u001b[0m \u001b[1;33m=\u001b[0m \u001b[0mas_compatible_data\u001b[0m\u001b[1;33m(\u001b[0m\u001b[0mdata\u001b[0m\u001b[1;33m)\u001b[0m\u001b[1;33m\u001b[0m\u001b[1;33m\u001b[0m\u001b[0m\n\u001b[1;32m--> 406\u001b[1;33m             \u001b[0mcoords\u001b[0m\u001b[1;33m,\u001b[0m \u001b[0mdims\u001b[0m \u001b[1;33m=\u001b[0m \u001b[0m_infer_coords_and_dims\u001b[0m\u001b[1;33m(\u001b[0m\u001b[0mdata\u001b[0m\u001b[1;33m.\u001b[0m\u001b[0mshape\u001b[0m\u001b[1;33m,\u001b[0m \u001b[0mcoords\u001b[0m\u001b[1;33m,\u001b[0m \u001b[0mdims\u001b[0m\u001b[1;33m)\u001b[0m\u001b[1;33m\u001b[0m\u001b[1;33m\u001b[0m\u001b[0m\n\u001b[0m\u001b[0;32m    407\u001b[0m             \u001b[0mvariable\u001b[0m \u001b[1;33m=\u001b[0m \u001b[0mVariable\u001b[0m\u001b[1;33m(\u001b[0m\u001b[0mdims\u001b[0m\u001b[1;33m,\u001b[0m \u001b[0mdata\u001b[0m\u001b[1;33m,\u001b[0m \u001b[0mattrs\u001b[0m\u001b[1;33m,\u001b[0m \u001b[0mfastpath\u001b[0m\u001b[1;33m=\u001b[0m\u001b[1;32mTrue\u001b[0m\u001b[1;33m)\u001b[0m\u001b[1;33m\u001b[0m\u001b[1;33m\u001b[0m\u001b[0m\n\u001b[0;32m    408\u001b[0m             indexes = dict(\n",
      "\u001b[1;32mf:\\TREAT\\probcal-kge\\.venv\\lib\\site-packages\\xarray\\core\\dataarray.py\u001b[0m in \u001b[0;36m_infer_coords_and_dims\u001b[1;34m(shape, coords, dims)\u001b[0m\n\u001b[0;32m    153\u001b[0m             \u001b[1;32mif\u001b[0m \u001b[0ms\u001b[0m \u001b[1;33m!=\u001b[0m \u001b[0msizes\u001b[0m\u001b[1;33m[\u001b[0m\u001b[0md\u001b[0m\u001b[1;33m]\u001b[0m\u001b[1;33m:\u001b[0m\u001b[1;33m\u001b[0m\u001b[1;33m\u001b[0m\u001b[0m\n\u001b[0;32m    154\u001b[0m                 raise ValueError(\n\u001b[1;32m--> 155\u001b[1;33m                     \u001b[1;34mf\"conflicting sizes for dimension {d!r}: \"\u001b[0m\u001b[1;33m\u001b[0m\u001b[1;33m\u001b[0m\u001b[0m\n\u001b[0m\u001b[0;32m    156\u001b[0m                     \u001b[1;34mf\"length {sizes[d]} on the data but length {s} on \"\u001b[0m\u001b[1;33m\u001b[0m\u001b[1;33m\u001b[0m\u001b[0m\n\u001b[0;32m    157\u001b[0m                     \u001b[1;34mf\"coordinate {k!r}\"\u001b[0m\u001b[1;33m\u001b[0m\u001b[1;33m\u001b[0m\u001b[0m\n",
      "\u001b[1;31mValueError\u001b[0m: conflicting sizes for dimension 'cal': length 4 on the data but length 5 on coordinate 'cal'"
     ]
    }
   ],
   "source": [
    "exp.run()"
   ]
  },
  {
   "cell_type": "code",
   "execution_count": null,
   "metadata": {},
   "outputs": [
    {
     "name": "stdout",
     "output_type": "stream",
     "text": [
      "[[array([[1, 2],\n",
      "       [3, 4]]), array([[1, 2],\n",
      "       [3, 4]])], [array([[1, 2],\n",
      "       [3, 4]]), array([[1, 2],\n",
      "       [3, 4]])]]\n",
      "{'cal': ['UncalCalibtator', 'PlattCalibtator'], 'kge': ['TransE', 'HolE'], 'dataset': ['FB13k'], 'metric': ['brier_score', 'negative_log_loss']}\n"
     ]
    },
    {
     "ename": "ValueError",
     "evalue": "conflicting sizes for dimension 'dataset': length 2 on the data but length 1 on coordinate 'dataset'",
     "output_type": "error",
     "traceback": [
      "\u001b[0;31m---------------------------------------------------------------------------\u001b[0m",
      "\u001b[0;31mValueError\u001b[0m                                Traceback (most recent call last)",
      "\u001b[0;32m/tmp/ipykernel_47817/1338567613.py\u001b[0m in \u001b[0;36m<module>\u001b[0;34m\u001b[0m\n\u001b[1;32m     20\u001b[0m }\n\u001b[1;32m     21\u001b[0m \u001b[0;34m\u001b[0m\u001b[0m\n\u001b[0;32m---> 22\u001b[0;31m \u001b[0mexpres\u001b[0m \u001b[0;34m=\u001b[0m \u001b[0mExperimentResult\u001b[0m\u001b[0;34m(\u001b[0m\u001b[0mexp\u001b[0m\u001b[0;34m,\u001b[0m \u001b[0mres\u001b[0m\u001b[0;34m)\u001b[0m\u001b[0;34m\u001b[0m\u001b[0;34m\u001b[0m\u001b[0m\n\u001b[0m",
      "\u001b[0;32m~/TREAT/probcal-kge/probcalkge/experiment.py\u001b[0m in \u001b[0;36m__init__\u001b[0;34m(self, experiment, results)\u001b[0m\n\u001b[1;32m     28\u001b[0m         '''\n\u001b[1;32m     29\u001b[0m         \u001b[0mself\u001b[0m\u001b[0;34m.\u001b[0m\u001b[0mexpriment\u001b[0m \u001b[0;34m=\u001b[0m \u001b[0mexperiment\u001b[0m\u001b[0;34m\u001b[0m\u001b[0;34m\u001b[0m\u001b[0m\n\u001b[0;32m---> 30\u001b[0;31m         \u001b[0mself\u001b[0m\u001b[0;34m.\u001b[0m\u001b[0mresults\u001b[0m \u001b[0;34m=\u001b[0m \u001b[0mself\u001b[0m\u001b[0;34m.\u001b[0m\u001b[0m_create_xarray\u001b[0m\u001b[0;34m(\u001b[0m\u001b[0mresults\u001b[0m\u001b[0;34m)\u001b[0m\u001b[0;34m\u001b[0m\u001b[0;34m\u001b[0m\u001b[0m\n\u001b[0m\u001b[1;32m     31\u001b[0m \u001b[0;34m\u001b[0m\u001b[0m\n\u001b[1;32m     32\u001b[0m     \u001b[0;32mdef\u001b[0m \u001b[0m_create_xarray\u001b[0m\u001b[0;34m(\u001b[0m\u001b[0mself\u001b[0m\u001b[0;34m,\u001b[0m \u001b[0mresults\u001b[0m\u001b[0;34m:\u001b[0m \u001b[0mdict\u001b[0m\u001b[0;34m)\u001b[0m \u001b[0;34m->\u001b[0m\u001b[0mxr\u001b[0m\u001b[0;34m.\u001b[0m\u001b[0mDataArray\u001b[0m\u001b[0;34m:\u001b[0m\u001b[0;34m\u001b[0m\u001b[0;34m\u001b[0m\u001b[0m\n",
      "\u001b[0;32m~/TREAT/probcal-kge/probcalkge/experiment.py\u001b[0m in \u001b[0;36m_create_xarray\u001b[0;34m(self, results)\u001b[0m\n\u001b[1;32m     47\u001b[0m         \u001b[0mprint\u001b[0m\u001b[0;34m(\u001b[0m\u001b[0mcoords\u001b[0m\u001b[0;34m)\u001b[0m\u001b[0;34m\u001b[0m\u001b[0;34m\u001b[0m\u001b[0m\n\u001b[1;32m     48\u001b[0m \u001b[0;34m\u001b[0m\u001b[0m\n\u001b[0;32m---> 49\u001b[0;31m         \u001b[0;32mreturn\u001b[0m \u001b[0mxr\u001b[0m\u001b[0;34m.\u001b[0m\u001b[0mDataArray\u001b[0m\u001b[0;34m(\u001b[0m\u001b[0mdata\u001b[0m\u001b[0;34m=\u001b[0m\u001b[0mdata\u001b[0m\u001b[0;34m,\u001b[0m \u001b[0mcoords\u001b[0m\u001b[0;34m=\u001b[0m\u001b[0mcoords\u001b[0m\u001b[0;34m)\u001b[0m\u001b[0;34m\u001b[0m\u001b[0;34m\u001b[0m\u001b[0m\n\u001b[0m\u001b[1;32m     50\u001b[0m \u001b[0;34m\u001b[0m\u001b[0m\n\u001b[1;32m     51\u001b[0m     \u001b[0;32mdef\u001b[0m \u001b[0mprint_summary\u001b[0m\u001b[0;34m(\u001b[0m\u001b[0mself\u001b[0m\u001b[0;34m)\u001b[0m\u001b[0;34m:\u001b[0m\u001b[0;34m\u001b[0m\u001b[0;34m\u001b[0m\u001b[0m\n",
      "\u001b[0;32m~/softwares/anaconda3/envs/ampligraph/lib/python3.7/site-packages/xarray/core/dataarray.py\u001b[0m in \u001b[0;36m__init__\u001b[0;34m(self, data, coords, dims, name, attrs, indexes, fastpath)\u001b[0m\n\u001b[1;32m    404\u001b[0m             \u001b[0mdata\u001b[0m \u001b[0;34m=\u001b[0m \u001b[0m_check_data_shape\u001b[0m\u001b[0;34m(\u001b[0m\u001b[0mdata\u001b[0m\u001b[0;34m,\u001b[0m \u001b[0mcoords\u001b[0m\u001b[0;34m,\u001b[0m \u001b[0mdims\u001b[0m\u001b[0;34m)\u001b[0m\u001b[0;34m\u001b[0m\u001b[0;34m\u001b[0m\u001b[0m\n\u001b[1;32m    405\u001b[0m             \u001b[0mdata\u001b[0m \u001b[0;34m=\u001b[0m \u001b[0mas_compatible_data\u001b[0m\u001b[0;34m(\u001b[0m\u001b[0mdata\u001b[0m\u001b[0;34m)\u001b[0m\u001b[0;34m\u001b[0m\u001b[0;34m\u001b[0m\u001b[0m\n\u001b[0;32m--> 406\u001b[0;31m             \u001b[0mcoords\u001b[0m\u001b[0;34m,\u001b[0m \u001b[0mdims\u001b[0m \u001b[0;34m=\u001b[0m \u001b[0m_infer_coords_and_dims\u001b[0m\u001b[0;34m(\u001b[0m\u001b[0mdata\u001b[0m\u001b[0;34m.\u001b[0m\u001b[0mshape\u001b[0m\u001b[0;34m,\u001b[0m \u001b[0mcoords\u001b[0m\u001b[0;34m,\u001b[0m \u001b[0mdims\u001b[0m\u001b[0;34m)\u001b[0m\u001b[0;34m\u001b[0m\u001b[0;34m\u001b[0m\u001b[0m\n\u001b[0m\u001b[1;32m    407\u001b[0m             \u001b[0mvariable\u001b[0m \u001b[0;34m=\u001b[0m \u001b[0mVariable\u001b[0m\u001b[0;34m(\u001b[0m\u001b[0mdims\u001b[0m\u001b[0;34m,\u001b[0m \u001b[0mdata\u001b[0m\u001b[0;34m,\u001b[0m \u001b[0mattrs\u001b[0m\u001b[0;34m,\u001b[0m \u001b[0mfastpath\u001b[0m\u001b[0;34m=\u001b[0m\u001b[0;32mTrue\u001b[0m\u001b[0;34m)\u001b[0m\u001b[0;34m\u001b[0m\u001b[0;34m\u001b[0m\u001b[0m\n\u001b[1;32m    408\u001b[0m             indexes = dict(\n",
      "\u001b[0;32m~/softwares/anaconda3/envs/ampligraph/lib/python3.7/site-packages/xarray/core/dataarray.py\u001b[0m in \u001b[0;36m_infer_coords_and_dims\u001b[0;34m(shape, coords, dims)\u001b[0m\n\u001b[1;32m    153\u001b[0m             \u001b[0;32mif\u001b[0m \u001b[0ms\u001b[0m \u001b[0;34m!=\u001b[0m \u001b[0msizes\u001b[0m\u001b[0;34m[\u001b[0m\u001b[0md\u001b[0m\u001b[0;34m]\u001b[0m\u001b[0;34m:\u001b[0m\u001b[0;34m\u001b[0m\u001b[0;34m\u001b[0m\u001b[0m\n\u001b[1;32m    154\u001b[0m                 raise ValueError(\n\u001b[0;32m--> 155\u001b[0;31m                     \u001b[0;34mf\"conflicting sizes for dimension {d!r}: \"\u001b[0m\u001b[0;34m\u001b[0m\u001b[0;34m\u001b[0m\u001b[0m\n\u001b[0m\u001b[1;32m    156\u001b[0m                     \u001b[0;34mf\"length {sizes[d]} on the data but length {s} on \"\u001b[0m\u001b[0;34m\u001b[0m\u001b[0;34m\u001b[0m\u001b[0m\n\u001b[1;32m    157\u001b[0m                     \u001b[0;34mf\"coordinate {k!r}\"\u001b[0m\u001b[0;34m\u001b[0m\u001b[0;34m\u001b[0m\u001b[0m\n",
      "\u001b[0;31mValueError\u001b[0m: conflicting sizes for dimension 'dataset': length 2 on the data but length 1 on coordinate 'dataset'"
     ]
    }
   ],
   "source": [
    "import probcalkge\n",
    "import importlib\n",
    "importlib.reload(probcalkge)\n",
    "\n",
    "from probcalkge import ExperimentResult\n",
    "\n",
    "\n",
    "\n",
    "df = pd.DataFrame([[1,2],[3,4]], index=['bs', 'nll'], columns=['uncal', 'platt'])\n",
    "\n",
    "res = {\n",
    "    'transE': {\n",
    "        'fb13': df,\n",
    "        'wn11':df\n",
    "    },\n",
    "    'DistMult': {\n",
    "        'fb13': df,\n",
    "        'wn11': df\n",
    "    },\n",
    "}\n",
    "\n",
    "expres = ExperimentResult(exp, res)"
   ]
  },
  {
   "cell_type": "code",
   "execution_count": null,
   "metadata": {},
   "outputs": [
    {
     "name": "stdout",
     "output_type": "stream",
     "text": [
      "[<caldatasets.DatasetWrapper object at 0x7f5ff95f16d0>]\n"
     ]
    }
   ],
   "source": [
    "print(exp.datasets)"
   ]
  },
  {
   "cell_type": "code",
   "execution_count": null,
   "metadata": {},
   "outputs": [
    {
     "data": {
      "text/plain": [
       "['BetaCalibtator']"
      ]
     },
     "execution_count": 7,
     "metadata": {},
     "output_type": "execute_result"
    }
   ],
   "source": [
    "from probcalkge.calutils import get_cls_name\n",
    "[get_cls_name(i) for i in exp.cals]"
   ]
  },
  {
   "cell_type": "code",
   "execution_count": null,
   "metadata": {},
   "outputs": [],
   "source": []
  }
 ],
 "metadata": {
  "kernelspec": {
   "display_name": "Python 3.7.6 ('.venv': pipenv)",
   "language": "python",
   "name": "python3"
  },
  "language_info": {
   "codemirror_mode": {
    "name": "ipython",
    "version": 3
   },
   "file_extension": ".py",
   "mimetype": "text/x-python",
   "name": "python",
   "nbconvert_exporter": "python",
   "pygments_lexer": "ipython3",
   "version": "3.7.6"
  },
  "orig_nbformat": 4,
  "vscode": {
   "interpreter": {
    "hash": "a8eb72df0e0819e945698d6276ff579d89a73722458175aba81c7b7c1bcefd50"
   }
  }
 },
 "nbformat": 4,
 "nbformat_minor": 2
}
