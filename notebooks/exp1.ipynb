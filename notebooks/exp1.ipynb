{
 "cells": [
  {
   "cell_type": "markdown",
   "metadata": {},
   "source": [
    "# Probability Calibration in KG Embedding\n",
    "This experiemnt is to investigate which calibration technique is the most suitable one given a dataset and a KG Embedding model.\n",
    "\n",
    "Within this experiment, we are going to see the performance of 4 typical calibration techniques for 4 KGE models in 3 datasets:\n",
    "- calibration techniques:\n",
    "  - Platt Scaling\n",
    "  - Isotonic Regression\n",
    "  - Histogram BInning\n",
    "  - Beta Calibration\n",
    "- KG Embedding models\n",
    "  - TransE\n",
    "  - ComplEx\n",
    "  - DistMult\n",
    "  - HoLE\n",
    "- Datasets\n",
    "  - FB13k\n",
    "  - Win11\n",
    "  - Yago39"
   ]
  },
  {
   "cell_type": "code",
   "execution_count": 1,
   "metadata": {},
   "outputs": [],
   "source": [
    "import sys\n",
    "# enable importing the modules from probcalkge\n",
    "sys.path.append('../')\n",
    "sys.path.append('../probcalkge')"
   ]
  },
  {
   "cell_type": "code",
   "execution_count": 2,
   "metadata": {},
   "outputs": [],
   "source": [
    "import importlib\n",
    "from pprint import pprint\n",
    "import numpy as np\n",
    "import pandas as pd"
   ]
  },
  {
   "cell_type": "code",
   "execution_count": 67,
   "metadata": {},
   "outputs": [],
   "source": [
    "\n",
    "import probcalkge\n",
    "importlib.reload(probcalkge)\n",
    "from probcalkge import Experiment, ExperimentResult\n",
    "from probcalkge import get_calibrators\n",
    "from probcalkge import get_datasets,  get_kgemodels\n",
    "from probcalkge import brier_score, negative_log_loss, ks_error, ece"
   ]
  },
  {
   "cell_type": "code",
   "execution_count": 87,
   "metadata": {},
   "outputs": [
    {
     "name": "stdout",
     "output_type": "stream",
     "text": [
      "WARNING - All triples will be processed in the same batch (batches_count=1). When processing large graphs it is recommended to batch the input knowledge graph instead.\n"
     ]
    }
   ],
   "source": [
    "ds = get_datasets()\n",
    "# from probcalkge.calmodels import get_calibrators\n",
    "from probcalkge.calmodels2 import get_calibrators\n",
    "cals = get_calibrators()\n",
    "kges = get_kgemodels()\n"
   ]
  },
  {
   "cell_type": "code",
   "execution_count": 89,
   "metadata": {},
   "outputs": [],
   "source": [
    "exp = Experiment(\n",
    "    cals=[cals.uncal, cals.platt, cals.isot, cals.histbin, cals.beta], \n",
    "    datasets=[ds.fb13, ds.wn18, ds.yago39, ds.dp50, ds.nations, ds.kinship, ds.umls], \n",
    "    kges=[kges.transE, kges.complEx, kges.distMult, kges.hoLE], \n",
    "    metrics=[ece]\n",
    "    )"
   ]
  },
  {
   "cell_type": "code",
   "execution_count": 90,
   "metadata": {},
   "outputs": [
    {
     "name": "stdout",
     "output_type": "stream",
     "text": [
      "Loaded models:\n",
      "{'DBpedia50': {'ComplEx': <ampligraph.latent_features.models.ComplEx.ComplEx object at 0x0000025780D86448>,\n",
      "               'DistMult': <ampligraph.latent_features.models.DistMult.DistMult object at 0x0000025704A89048>,\n",
      "               'HolE': <ampligraph.latent_features.models.HolE.HolE object at 0x000002570687D0C8>,\n",
      "               'TransE': <ampligraph.latent_features.models.TransE.TransE object at 0x0000025780892048>},\n",
      " 'FB13k': {'ComplEx': <ampligraph.latent_features.models.ComplEx.ComplEx object at 0x000002577FDC8A88>,\n",
      "           'DistMult': <ampligraph.latent_features.models.DistMult.DistMult object at 0x000002574C28B0C8>,\n",
      "           'HolE': <ampligraph.latent_features.models.HolE.HolE object at 0x0000025704A89108>,\n",
      "           'TransE': <ampligraph.latent_features.models.TransE.TransE object at 0x000002570687D248>},\n",
      " 'Kinship': {'ComplEx': <ampligraph.latent_features.models.ComplEx.ComplEx object at 0x0000025780892188>,\n",
      "             'DistMult': <ampligraph.latent_features.models.DistMult.DistMult object at 0x0000025780892748>,\n",
      "             'HolE': <ampligraph.latent_features.models.HolE.HolE object at 0x00000257803A1FC8>,\n",
      "             'TransE': <ampligraph.latent_features.models.TransE.TransE object at 0x000002574D966188>},\n",
      " 'Nations': {'ComplEx': <ampligraph.latent_features.models.ComplEx.ComplEx object at 0x0000025706D28248>,\n",
      "             'DistMult': <ampligraph.latent_features.models.DistMult.DistMult object at 0x00000257803A19C8>,\n",
      "             'HolE': <ampligraph.latent_features.models.HolE.HolE object at 0x0000025706D280C8>,\n",
      "             'TransE': <ampligraph.latent_features.models.TransE.TransE object at 0x0000025706D28288>},\n",
      " 'UMLS': {'ComplEx': <ampligraph.latent_features.models.ComplEx.ComplEx object at 0x000002570D146F08>,\n",
      "          'DistMult': <ampligraph.latent_features.models.DistMult.DistMult object at 0x000002570D146D08>,\n",
      "          'HolE': <ampligraph.latent_features.models.HolE.HolE object at 0x000002570D1467C8>,\n",
      "          'TransE': <ampligraph.latent_features.models.TransE.TransE object at 0x000002570D14CE88>},\n",
      " 'WN11': {'ComplEx': <ampligraph.latent_features.models.ComplEx.ComplEx object at 0x000002570D14C988>,\n",
      "          'DistMult': <ampligraph.latent_features.models.DistMult.DistMult object at 0x000002570F280148>,\n",
      "          'HolE': <ampligraph.latent_features.models.HolE.HolE object at 0x000002570CF82B08>,\n",
      "          'TransE': <ampligraph.latent_features.models.TransE.TransE object at 0x000002570CF82CC8>},\n",
      " 'YAGO39': {'ComplEx': <ampligraph.latent_features.models.ComplEx.ComplEx object at 0x000002570CF82E48>,\n",
      "            'DistMult': <ampligraph.latent_features.models.DistMult.DistMult object at 0x000002570CF8B508>,\n",
      "            'HolE': <ampligraph.latent_features.models.HolE.HolE object at 0x000002570F280388>,\n",
      "            'TransE': <ampligraph.latent_features.models.TransE.TransE object at 0x00000257135F7BC8>}}\n"
     ]
    }
   ],
   "source": [
    "exp.load_trained_kges('../saved_models/')\n",
    "# exp.train_kges()"
   ]
  },
  {
   "cell_type": "code",
   "execution_count": 91,
   "metadata": {},
   "outputs": [
    {
     "name": "stdout",
     "output_type": "stream",
     "text": [
      "training various calibrators for TransE on FB13k ...\n",
      "True\n",
      "training various calibrators for ComplEx on FB13k ...\n",
      "True\n",
      "training various calibrators for DistMult on FB13k ...\n",
      "True\n",
      "training various calibrators for HolE on FB13k ...\n",
      "True\n",
      "training various calibrators for TransE on WN11 ...\n",
      "True\n",
      "training various calibrators for ComplEx on WN11 ...\n",
      "True\n",
      "training various calibrators for DistMult on WN11 ...\n",
      "True\n",
      "training various calibrators for HolE on WN11 ...\n",
      "True\n",
      "training various calibrators for TransE on YAGO39 ...\n",
      "True\n",
      "training various calibrators for ComplEx on YAGO39 ...\n",
      "False\n",
      "training various calibrators for DistMult on YAGO39 ...\n",
      "False\n",
      "training various calibrators for HolE on YAGO39 ...\n",
      "False\n",
      "training various calibrators for TransE on DBpedia50 ...\n",
      "True\n",
      "training various calibrators for ComplEx on DBpedia50 ...\n",
      "False\n",
      "training various calibrators for DistMult on DBpedia50 ...\n",
      "True\n",
      "training various calibrators for HolE on DBpedia50 ...\n",
      "True\n",
      "training various calibrators for TransE on Nations ...\n",
      "True\n",
      "training various calibrators for ComplEx on Nations ...\n",
      "True\n",
      "training various calibrators for DistMult on Nations ...\n",
      "True\n",
      "training various calibrators for HolE on Nations ...\n",
      "True\n",
      "training various calibrators for TransE on Kinship ...\n",
      "True\n",
      "training various calibrators for ComplEx on Kinship ...\n",
      "True\n",
      "training various calibrators for DistMult on Kinship ...\n",
      "True\n",
      "training various calibrators for HolE on Kinship ...\n",
      "True\n",
      "training various calibrators for TransE on UMLS ...\n",
      "True\n",
      "training various calibrators for ComplEx on UMLS ...\n",
      "True\n",
      "training various calibrators for DistMult on UMLS ...\n",
      "True\n",
      "training various calibrators for HolE on UMLS ...\n",
      "True\n",
      "{'FB13k': {'TransE':      UncalCalibrator  PlattCalibrator  IsotonicCalibrator  \\\n",
      "ece         0.149351         0.053682            0.004964   \n",
      "\n",
      "     HistogramBinningCalibrator  BetaCalibrator  \n",
      "ece                    0.008739        0.043531  , 'ComplEx':      UncalCalibrator  PlattCalibrator  IsotonicCalibrator  \\\n",
      "ece         0.418775         0.108388            0.005342   \n",
      "\n",
      "     HistogramBinningCalibrator  BetaCalibrator  \n",
      "ece                    0.004758         0.13336  , 'DistMult':      UncalCalibrator  PlattCalibrator  IsotonicCalibrator  \\\n",
      "ece         0.380793         0.090161            0.005647   \n",
      "\n",
      "     HistogramBinningCalibrator  BetaCalibrator  \n",
      "ece                    0.003444        0.038785  , 'HolE':      UncalCalibrator  PlattCalibrator  IsotonicCalibrator  \\\n",
      "ece         0.289039         0.056408            0.002512   \n",
      "\n",
      "     HistogramBinningCalibrator  BetaCalibrator  \n",
      "ece                    0.007929          0.1927  }, 'WN11': {'TransE':      UncalCalibrator  PlattCalibrator  IsotonicCalibrator  \\\n",
      "ece          0.30994         0.049592            0.015416   \n",
      "\n",
      "     HistogramBinningCalibrator  BetaCalibrator  \n",
      "ece                    0.010414        0.050037  , 'ComplEx':      UncalCalibrator  PlattCalibrator  IsotonicCalibrator  \\\n",
      "ece         0.432086         0.084034            0.005472   \n",
      "\n",
      "     HistogramBinningCalibrator  BetaCalibrator  \n",
      "ece                    0.002102        0.040793  , 'DistMult':      UncalCalibrator  PlattCalibrator  IsotonicCalibrator  \\\n",
      "ece         0.418314         0.098094            0.005674   \n",
      "\n",
      "     HistogramBinningCalibrator  BetaCalibrator  \n",
      "ece                     0.00389        0.034122  , 'HolE':      UncalCalibrator  PlattCalibrator  IsotonicCalibrator  \\\n",
      "ece         0.118921         0.075306            0.005843   \n",
      "\n",
      "     HistogramBinningCalibrator  BetaCalibrator  \n",
      "ece                     0.00474        0.058887  }, 'YAGO39': {'TransE':      UncalCalibrator  PlattCalibrator  IsotonicCalibrator  \\\n",
      "ece         0.160999         0.116654            0.011207   \n",
      "\n",
      "     HistogramBinningCalibrator  BetaCalibrator  \n",
      "ece                    0.003463        0.076708  , 'ComplEx':      UncalCalibrator  PlattCalibrator  IsotonicCalibrator  \\\n",
      "ece          0.07692         0.022573            0.003766   \n",
      "\n",
      "     HistogramBinningCalibrator  BetaCalibrator  \n",
      "ece                    0.005079        0.021804  , 'DistMult':      UncalCalibrator  PlattCalibrator  IsotonicCalibrator  \\\n",
      "ece         0.073381         0.035486            0.005839   \n",
      "\n",
      "     HistogramBinningCalibrator  BetaCalibrator  \n",
      "ece                    0.002648        0.037768  , 'HolE':      UncalCalibrator  PlattCalibrator  IsotonicCalibrator  \\\n",
      "ece          0.08849         0.029229            0.007507   \n",
      "\n",
      "     HistogramBinningCalibrator  BetaCalibrator  \n",
      "ece                    0.006854        0.029883  }, 'DBpedia50': {'TransE':      UncalCalibrator  PlattCalibrator  IsotonicCalibrator  \\\n",
      "ece          0.33984         0.080026            0.024975   \n",
      "\n",
      "     HistogramBinningCalibrator  BetaCalibrator  \n",
      "ece                    0.033865        0.033186  , 'ComplEx':      UncalCalibrator  PlattCalibrator  IsotonicCalibrator  \\\n",
      "ece         0.291827         0.102066            0.071633   \n",
      "\n",
      "     HistogramBinningCalibrator  BetaCalibrator  \n",
      "ece                    0.058933        0.095336  , 'DistMult':      UncalCalibrator  PlattCalibrator  IsotonicCalibrator  \\\n",
      "ece         0.232887         0.144313            0.046472   \n",
      "\n",
      "     HistogramBinningCalibrator  BetaCalibrator  \n",
      "ece                    0.066226        0.071185  , 'HolE':      UncalCalibrator  PlattCalibrator  IsotonicCalibrator  \\\n",
      "ece         0.154213         0.129504            0.047192   \n",
      "\n",
      "     HistogramBinningCalibrator  BetaCalibrator  \n",
      "ece                     0.04563        0.111644  }, 'Nations': {'TransE':      UncalCalibrator  PlattCalibrator  IsotonicCalibrator  \\\n",
      "ece         0.075628         0.024552            0.035611   \n",
      "\n",
      "     HistogramBinningCalibrator  BetaCalibrator  \n",
      "ece                    0.026479        0.021807  , 'ComplEx':      UncalCalibrator  PlattCalibrator  IsotonicCalibrator  \\\n",
      "ece         0.468175         0.079375            0.016497   \n",
      "\n",
      "     HistogramBinningCalibrator  BetaCalibrator  \n",
      "ece                    0.060599        0.090479  , 'DistMult':      UncalCalibrator  PlattCalibrator  IsotonicCalibrator  \\\n",
      "ece         0.274341         0.094203             0.01961   \n",
      "\n",
      "     HistogramBinningCalibrator  BetaCalibrator  \n",
      "ece                    0.057828        0.085475  , 'HolE':      UncalCalibrator  PlattCalibrator  IsotonicCalibrator  \\\n",
      "ece         0.239144         0.011776            0.049738   \n",
      "\n",
      "     HistogramBinningCalibrator  BetaCalibrator  \n",
      "ece                    0.118904        0.043732  }, 'Kinship': {'TransE':      UncalCalibrator  PlattCalibrator  IsotonicCalibrator  \\\n",
      "ece         0.079938         0.020858            0.032812   \n",
      "\n",
      "     HistogramBinningCalibrator  BetaCalibrator  \n",
      "ece                    0.002861        0.019028  , 'ComplEx':      UncalCalibrator  PlattCalibrator  IsotonicCalibrator  \\\n",
      "ece         0.205394         0.157958            0.011891   \n",
      "\n",
      "     HistogramBinningCalibrator  BetaCalibrator  \n",
      "ece                    0.019099        0.105523  , 'DistMult':      UncalCalibrator  PlattCalibrator  IsotonicCalibrator  \\\n",
      "ece         0.072775         0.052423            0.008362   \n",
      "\n",
      "     HistogramBinningCalibrator  BetaCalibrator  \n",
      "ece                    0.008793        0.021805  , 'HolE':      UncalCalibrator  PlattCalibrator  IsotonicCalibrator  \\\n",
      "ece         0.083338         0.091581            0.027746   \n",
      "\n",
      "     HistogramBinningCalibrator  BetaCalibrator  \n",
      "ece                     0.02253        0.042739  }, 'UMLS': {'TransE':      UncalCalibrator  PlattCalibrator  IsotonicCalibrator  \\\n",
      "ece         0.205145         0.038078            0.027555   \n",
      "\n",
      "     HistogramBinningCalibrator  BetaCalibrator  \n",
      "ece                    0.020734        0.029462  , 'ComplEx':      UncalCalibrator  PlattCalibrator  IsotonicCalibrator  \\\n",
      "ece          0.12728         0.092502            0.007004   \n",
      "\n",
      "     HistogramBinningCalibrator  BetaCalibrator  \n",
      "ece                     0.01754        0.026961  , 'DistMult':      UncalCalibrator  PlattCalibrator  IsotonicCalibrator  \\\n",
      "ece         0.063515          0.05053            0.007139   \n",
      "\n",
      "     HistogramBinningCalibrator  BetaCalibrator  \n",
      "ece                     0.01363        0.022348  , 'HolE':      UncalCalibrator  PlattCalibrator  IsotonicCalibrator  \\\n",
      "ece         0.091528          0.05262            0.013935   \n",
      "\n",
      "     HistogramBinningCalibrator  BetaCalibrator  \n",
      "ece                    0.010206        0.018912  }}\n"
     ]
    }
   ],
   "source": [
    "# exp.cals.append(cals.enir)\n",
    "exp_res = exp.run_with_trained_kges()\n",
    "# exp.save_trained_kges('../saved_models/new/')"
   ]
  },
  {
   "cell_type": "code",
   "execution_count": 92,
   "metadata": {},
   "outputs": [
    {
     "data": {
      "text/html": [
       "<div>\n",
       "<style scoped>\n",
       "    .dataframe tbody tr th:only-of-type {\n",
       "        vertical-align: middle;\n",
       "    }\n",
       "\n",
       "    .dataframe tbody tr th {\n",
       "        vertical-align: top;\n",
       "    }\n",
       "\n",
       "    .dataframe thead th {\n",
       "        text-align: right;\n",
       "    }\n",
       "</style>\n",
       "<table border=\"1\" class=\"dataframe\">\n",
       "  <thead>\n",
       "    <tr style=\"text-align: right;\">\n",
       "      <th></th>\n",
       "      <th></th>\n",
       "      <th></th>\n",
       "      <th></th>\n",
       "      <th>ExpRes</th>\n",
       "    </tr>\n",
       "    <tr>\n",
       "      <th>dataset</th>\n",
       "      <th>kge</th>\n",
       "      <th>cal</th>\n",
       "      <th>metric</th>\n",
       "      <th></th>\n",
       "    </tr>\n",
       "  </thead>\n",
       "  <tbody>\n",
       "    <tr>\n",
       "      <th rowspan=\"5\" valign=\"top\">FB13k</th>\n",
       "      <th rowspan=\"5\" valign=\"top\">TransE</th>\n",
       "      <th>UncalCalibrator</th>\n",
       "      <th>ece</th>\n",
       "      <td>0.149351</td>\n",
       "    </tr>\n",
       "    <tr>\n",
       "      <th>PlattCalibrator</th>\n",
       "      <th>ece</th>\n",
       "      <td>0.053682</td>\n",
       "    </tr>\n",
       "    <tr>\n",
       "      <th>IsotonicCalibrator</th>\n",
       "      <th>ece</th>\n",
       "      <td>0.004964</td>\n",
       "    </tr>\n",
       "    <tr>\n",
       "      <th>HistogramBinningCalibrator</th>\n",
       "      <th>ece</th>\n",
       "      <td>0.008739</td>\n",
       "    </tr>\n",
       "    <tr>\n",
       "      <th>BetaCalibrator</th>\n",
       "      <th>ece</th>\n",
       "      <td>0.043531</td>\n",
       "    </tr>\n",
       "    <tr>\n",
       "      <th>...</th>\n",
       "      <th>...</th>\n",
       "      <th>...</th>\n",
       "      <th>...</th>\n",
       "      <td>...</td>\n",
       "    </tr>\n",
       "    <tr>\n",
       "      <th rowspan=\"5\" valign=\"top\">UMLS</th>\n",
       "      <th rowspan=\"5\" valign=\"top\">HolE</th>\n",
       "      <th>UncalCalibrator</th>\n",
       "      <th>ece</th>\n",
       "      <td>0.091528</td>\n",
       "    </tr>\n",
       "    <tr>\n",
       "      <th>PlattCalibrator</th>\n",
       "      <th>ece</th>\n",
       "      <td>0.052620</td>\n",
       "    </tr>\n",
       "    <tr>\n",
       "      <th>IsotonicCalibrator</th>\n",
       "      <th>ece</th>\n",
       "      <td>0.013935</td>\n",
       "    </tr>\n",
       "    <tr>\n",
       "      <th>HistogramBinningCalibrator</th>\n",
       "      <th>ece</th>\n",
       "      <td>0.010206</td>\n",
       "    </tr>\n",
       "    <tr>\n",
       "      <th>BetaCalibrator</th>\n",
       "      <th>ece</th>\n",
       "      <td>0.018912</td>\n",
       "    </tr>\n",
       "  </tbody>\n",
       "</table>\n",
       "<p>140 rows × 1 columns</p>\n",
       "</div>"
      ],
      "text/plain": [
       "                                                    ExpRes\n",
       "dataset kge    cal                        metric          \n",
       "FB13k   TransE UncalCalibrator            ece     0.149351\n",
       "               PlattCalibrator            ece     0.053682\n",
       "               IsotonicCalibrator         ece     0.004964\n",
       "               HistogramBinningCalibrator ece     0.008739\n",
       "               BetaCalibrator             ece     0.043531\n",
       "...                                                    ...\n",
       "UMLS    HolE   UncalCalibrator            ece     0.091528\n",
       "               PlattCalibrator            ece     0.052620\n",
       "               IsotonicCalibrator         ece     0.013935\n",
       "               HistogramBinningCalibrator ece     0.010206\n",
       "               BetaCalibrator             ece     0.018912\n",
       "\n",
       "[140 rows x 1 columns]"
      ]
     },
     "execution_count": 92,
     "metadata": {},
     "output_type": "execute_result"
    }
   ],
   "source": [
    "exp_res.to_frame()"
   ]
  },
  {
   "cell_type": "code",
   "execution_count": 93,
   "metadata": {},
   "outputs": [],
   "source": [
    "def res_pivot(exp_res: ExperimentResult) -> pd.DataFrame:\n",
    "    newdf = exp_res.to_frame().pivot_table(values='ExpRes', index=['dataset', 'kge', 'metric'], columns=['cal'])\n",
    "    newdf['avg_excl_uncal'] = newdf.loc[:, newdf.columns != 'UncalCalibrator'].mean(axis=1)\n",
    "    return newdf\n",
    "\n",
    "newdf = res_pivot(exp_res)"
   ]
  },
  {
   "cell_type": "code",
   "execution_count": 97,
   "metadata": {},
   "outputs": [],
   "source": [
    "counts = newdf.idxmin(axis=1).value_counts()"
   ]
  },
  {
   "cell_type": "code",
   "execution_count": 98,
   "metadata": {},
   "outputs": [
    {
     "data": {
      "text/plain": [
       "<BarContainer object of 4 artists>"
      ]
     },
     "execution_count": 98,
     "metadata": {},
     "output_type": "execute_result"
    },
    {
     "data": {
      "image/png": "[encoded data removed]",
      "text/plain": [
       "<Figure size 640x480 with 1 Axes>"
      ]
     },
     "metadata": {},
     "output_type": "display_data"
    }
   ],
   "source": [
    "import seaborn as sns\n",
    "import matplotlib.pyplot as plt\n",
    "plt.bar(x=counts.index, height=counts.values)"
   ]
  },
  {
   "cell_type": "code",
   "execution_count": 99,
   "metadata": {},
   "outputs": [
    {
     "data": {
      "text/plain": [
       "[Text(0.5, 0, 'calibrators'), Text(0, 0.5, 'winning counts')]"
      ]
     },
     "execution_count": 99,
     "metadata": {},
     "output_type": "execute_result"
    },
    {
     "data": {
      "image/png": "[encoded data removed]",
      "text/plain": [
       "<Figure size 640x480 with 1 Axes>"
      ]
     },
     "metadata": {},
     "output_type": "display_data"
    }
   ],
   "source": [
    "sns.set_style(\"whitegrid\")\n",
    "gfg = sns.barplot(x=['isot', 'beta', 'hist', 'platt'], y=counts.values)\n",
    "gfg.set(xlabel =\"calibrators\", ylabel = \"winning counts\")"
   ]
  },
  {
   "cell_type": "code",
   "execution_count": null,
   "metadata": {},
   "outputs": [
    {
     "data": {
      "text/plain": [
       "dataset  kge       metric           \n",
       "FB13k    TransE    brier_score          0.210087\n",
       "                   negative_log_loss    0.609972\n",
       "                   ks_error             0.013488\n",
       "         ComplEx   brier_score          0.218022\n",
       "                   negative_log_loss    0.624341\n",
       "                                          ...   \n",
       "UMLS     DistMult  negative_log_loss    0.311766\n",
       "                   ks_error             0.025567\n",
       "         HolE      brier_score          0.091832\n",
       "                   negative_log_loss    0.309859\n",
       "                   ks_error             0.014701\n",
       "Length: 84, dtype: float64"
      ]
     },
     "execution_count": 57,
     "metadata": {},
     "output_type": "execute_result"
    }
   ],
   "source": []
  },
  {
   "cell_type": "code",
   "execution_count": null,
   "metadata": {},
   "outputs": [],
   "source": []
  }
 ],
 "metadata": {
  "kernelspec": {
   "display_name": "Python 3.7.6 ('.venv': pipenv)",
   "language": "python",
   "name": "python3"
  },
  "language_info": {
   "codemirror_mode": {
    "name": "ipython",
    "version": 3
   },
   "file_extension": ".py",
   "mimetype": "text/x-python",
   "name": "python",
   "nbconvert_exporter": "python",
   "pygments_lexer": "ipython3",
   "version": "3.7.6"
  },
  "orig_nbformat": 4,
  "vscode": {
   "interpreter": {
    "hash": "f1fad10ccd2b4b46f8acf96792776d8c0d9c66065bac33c6726f0b6a90e208ea"
   }
  }
 },
 "nbformat": 4,
 "nbformat_minor": 2
}
