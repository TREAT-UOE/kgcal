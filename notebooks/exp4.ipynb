{
 "cells": [
  {
   "cell_type": "code",
   "execution_count": 1,
   "metadata": {},
   "outputs": [],
   "source": [
    "import sys\n",
    "# enable importing the modules from probcalkge\n",
    "sys.path.append('../')\n",
    "sys.path.append('../probcalkge')\n",
    "\n",
    "import numpy as np\n",
    "import pandas as pd\n",
    "\n",
    "from probcalkge import Experiment, ExperimentResult\n",
    "from probcalkge import get_calibrators\n",
    "from probcalkge import get_datasets,  get_kgemodels\n",
    "from probcalkge import brier_score, negative_log_loss, ks_error, ece"
   ]
  },
  {
   "cell_type": "code",
   "execution_count": 2,
   "metadata": {},
   "outputs": [
    {
     "name": "stdout",
     "output_type": "stream",
     "text": [
      "WARNING - All triples will be processed in the same batch (batches_count=1). When processing large graphs it is recommended to batch the input knowledge graph instead.\n"
     ]
    }
   ],
   "source": [
    "cals = get_calibrators()\n",
    "kges = get_kgemodels()\n",
    "ds = get_datasets()"
   ]
  },
  {
   "cell_type": "code",
   "execution_count": 3,
   "metadata": {},
   "outputs": [],
   "source": [
    "exp = Experiment(\n",
    "    cals=[cals.uncal, cals.platt, cals.isot, ], \n",
    "    datasets=[ds.fb13, ds.wn18, ds.yago39, ds.dp50, ds.nations, ds.kinship, ds.umls], \n",
    "    kges=[kges.transE, kges.complEx, kges.distMult, kges.hoLE], \n",
    "    metrics=[ece]\n",
    "    )"
   ]
  },
  {
   "cell_type": "code",
   "execution_count": 4,
   "metadata": {},
   "outputs": [
    {
     "name": "stdout",
     "output_type": "stream",
     "text": [
      "Loaded models:\n",
      "{'DBpedia50': {'ComplEx': <ampligraph.latent_features.models.ComplEx.ComplEx object at 0x000002134F864908>,\n",
      "               'DistMult': <ampligraph.latent_features.models.DistMult.DistMult object at 0x00000213008DB048>,\n",
      "               'HolE': <ampligraph.latent_features.models.HolE.HolE object at 0x0000021303F9FFC8>,\n",
      "               'TransE': <ampligraph.latent_features.models.TransE.TransE object at 0x0000021307CA4048>},\n",
      " 'FB13k': {'ComplEx': <ampligraph.latent_features.models.ComplEx.ComplEx object at 0x00000213005C6D88>,\n",
      "           'DistMult': <ampligraph.latent_features.models.DistMult.DistMult object at 0x0000021304185208>,\n",
      "           'HolE': <ampligraph.latent_features.models.HolE.HolE object at 0x0000021379817D48>,\n",
      "           'TransE': <ampligraph.latent_features.models.TransE.TransE object at 0x0000021379777508>},\n",
      " 'Kinship': {'ComplEx': <ampligraph.latent_features.models.ComplEx.ComplEx object at 0x0000021303F9F948>,\n",
      "             'DistMult': <ampligraph.latent_features.models.DistMult.DistMult object at 0x0000021307CA46C8>,\n",
      "             'HolE': <ampligraph.latent_features.models.HolE.HolE object at 0x0000021303AE1348>,\n",
      "             'TransE': <ampligraph.latent_features.models.TransE.TransE object at 0x00000213063ED688>},\n",
      " 'Nations': {'ComplEx': <ampligraph.latent_features.models.ComplEx.ComplEx object at 0x0000021307F4B988>,\n",
      "             'DistMult': <ampligraph.latent_features.models.DistMult.DistMult object at 0x0000021307F4BA48>,\n",
      "             'HolE': <ampligraph.latent_features.models.HolE.HolE object at 0x000002130DEFA9C8>,\n",
      "             'TransE': <ampligraph.latent_features.models.TransE.TransE object at 0x000002130DEFAF88>},\n",
      " 'UMLS': {'ComplEx': <ampligraph.latent_features.models.ComplEx.ComplEx object at 0x000002130DEFEDC8>,\n",
      "          'DistMult': <ampligraph.latent_features.models.DistMult.DistMult object at 0x000002130DEFA508>,\n",
      "          'HolE': <ampligraph.latent_features.models.HolE.HolE object at 0x000002130DF05E88>,\n",
      "          'TransE': <ampligraph.latent_features.models.TransE.TransE object at 0x000002130DEFEB88>},\n",
      " 'WN11': {'ComplEx': <ampligraph.latent_features.models.ComplEx.ComplEx object at 0x000002130DEFEA88>,\n",
      "          'DistMult': <ampligraph.latent_features.models.DistMult.DistMult object at 0x000002130DF05D08>,\n",
      "          'HolE': <ampligraph.latent_features.models.HolE.HolE object at 0x000002130DF05A08>,\n",
      "          'TransE': <ampligraph.latent_features.models.TransE.TransE object at 0x000002130DF056C8>},\n",
      " 'YAGO39': {'ComplEx': <ampligraph.latent_features.models.ComplEx.ComplEx object at 0x000002130DF10A08>,\n",
      "            'DistMult': <ampligraph.latent_features.models.DistMult.DistMult object at 0x000002130DF10788>,\n",
      "            'HolE': <ampligraph.latent_features.models.HolE.HolE object at 0x000002130DF05C08>,\n",
      "            'TransE': <ampligraph.latent_features.models.TransE.TransE object at 0x00000213001E2D48>},\n",
      " 'YAGO_ET': OrderedDict([('DistMult',\n",
      "                          <ampligraph.latent_features.models.DistMult.DistMult object at 0x00000213005BA2C8>)])}\n"
     ]
    }
   ],
   "source": [
    "exp.load_trained_kges('../saved_models/')"
   ]
  },
  {
   "cell_type": "code",
   "execution_count": 5,
   "metadata": {},
   "outputs": [
    {
     "name": "stdout",
     "output_type": "stream",
     "text": [
      "training various calibrators for TransE on FB13k ...\n",
      "training various calibrators for ComplEx on FB13k ...\n",
      "training various calibrators for DistMult on FB13k ...\n",
      "training various calibrators for HolE on FB13k ...\n",
      "training various calibrators for TransE on WN11 ...\n",
      "training various calibrators for ComplEx on WN11 ...\n",
      "training various calibrators for DistMult on WN11 ...\n",
      "training various calibrators for HolE on WN11 ...\n",
      "training various calibrators for TransE on YAGO39 ...\n",
      "training various calibrators for ComplEx on YAGO39 ...\n",
      "training various calibrators for DistMult on YAGO39 ...\n",
      "training various calibrators for HolE on YAGO39 ...\n",
      "training various calibrators for TransE on DBpedia50 ...\n",
      "training various calibrators for ComplEx on DBpedia50 ...\n",
      "training various calibrators for DistMult on DBpedia50 ...\n",
      "training various calibrators for HolE on DBpedia50 ...\n",
      "training various calibrators for TransE on Nations ...\n",
      "training various calibrators for ComplEx on Nations ...\n",
      "training various calibrators for DistMult on Nations ...\n",
      "training various calibrators for HolE on Nations ...\n",
      "training various calibrators for TransE on Kinship ...\n",
      "training various calibrators for ComplEx on Kinship ...\n",
      "training various calibrators for DistMult on Kinship ...\n",
      "training various calibrators for HolE on Kinship ...\n",
      "training various calibrators for TransE on UMLS ...\n",
      "training various calibrators for ComplEx on UMLS ...\n",
      "training various calibrators for DistMult on UMLS ...\n",
      "training various calibrators for HolE on UMLS ...\n",
      "{'FB13k': {'TransE':      UncalCalibrator  PlattCalibrator  IsotonicCalibrator\n",
      "ece         0.149351         0.055151            0.005296, 'ComplEx':      UncalCalibrator  PlattCalibrator  IsotonicCalibrator\n",
      "ece         0.418775         0.108362            0.005343, 'DistMult':      UncalCalibrator  PlattCalibrator  IsotonicCalibrator\n",
      "ece         0.380793          0.09016            0.008189, 'HolE':      UncalCalibrator  PlattCalibrator  IsotonicCalibrator\n",
      "ece         0.289039         0.056406            0.002425}, 'WN11': {'TransE':      UncalCalibrator  PlattCalibrator  IsotonicCalibrator\n",
      "ece          0.30994         0.049701            0.015747, 'ComplEx':      UncalCalibrator  PlattCalibrator  IsotonicCalibrator\n",
      "ece         0.432086         0.084033            0.005471, 'DistMult':      UncalCalibrator  PlattCalibrator  IsotonicCalibrator\n",
      "ece         0.418314         0.098094            0.005803, 'HolE':      UncalCalibrator  PlattCalibrator  IsotonicCalibrator\n",
      "ece         0.118921         0.075438            0.005843}, 'YAGO39': {'TransE':      UncalCalibrator  PlattCalibrator  IsotonicCalibrator\n",
      "ece         0.160999          0.11694            0.011209, 'ComplEx':      UncalCalibrator  PlattCalibrator  IsotonicCalibrator\n",
      "ece          0.07692         0.022937            0.003769, 'DistMult':      UncalCalibrator  PlattCalibrator  IsotonicCalibrator\n",
      "ece         0.073381         0.036171             0.00584, 'HolE':      UncalCalibrator  PlattCalibrator  IsotonicCalibrator\n",
      "ece          0.08849         0.029658            0.007515}, 'DBpedia50': {'TransE':      UncalCalibrator  PlattCalibrator  IsotonicCalibrator\n",
      "ece         0.339442         0.083063            0.051948, 'ComplEx':      UncalCalibrator  PlattCalibrator  IsotonicCalibrator\n",
      "ece         0.283846         0.104068            0.061179, 'DistMult':      UncalCalibrator  PlattCalibrator  IsotonicCalibrator\n",
      "ece         0.222802         0.153196            0.034354, 'HolE':      UncalCalibrator  PlattCalibrator  IsotonicCalibrator\n",
      "ece         0.158272          0.13148            0.049033}, 'Nations': {'TransE':      UncalCalibrator  PlattCalibrator  IsotonicCalibrator\n",
      "ece         0.082374         0.013722             0.03251, 'ComplEx':      UncalCalibrator  PlattCalibrator  IsotonicCalibrator\n",
      "ece         0.450852         0.122293            0.037379, 'DistMult':      UncalCalibrator  PlattCalibrator  IsotonicCalibrator\n",
      "ece         0.270293         0.086997            0.040758, 'HolE':      UncalCalibrator  PlattCalibrator  IsotonicCalibrator\n",
      "ece         0.226044         0.027441            0.044447}, 'Kinship': {'TransE':      UncalCalibrator  PlattCalibrator  IsotonicCalibrator\n",
      "ece         0.080654         0.019006            0.028253, 'ComplEx':      UncalCalibrator  PlattCalibrator  IsotonicCalibrator\n",
      "ece         0.182461         0.146063             0.01581, 'DistMult':      UncalCalibrator  PlattCalibrator  IsotonicCalibrator\n",
      "ece         0.074801         0.056353            0.016085, 'HolE':      UncalCalibrator  PlattCalibrator  IsotonicCalibrator\n",
      "ece         0.071115         0.094954            0.022039}, 'UMLS': {'TransE':      UncalCalibrator  PlattCalibrator  IsotonicCalibrator\n",
      "ece         0.209328         0.019613            0.021795, 'ComplEx':      UncalCalibrator  PlattCalibrator  IsotonicCalibrator\n",
      "ece         0.121854         0.077503            0.011346, 'DistMult':      UncalCalibrator  PlattCalibrator  IsotonicCalibrator\n",
      "ece         0.076127         0.067169            0.014611, 'HolE':      UncalCalibrator  PlattCalibrator  IsotonicCalibrator\n",
      "ece         0.098298         0.054353            0.015398}}\n"
     ]
    }
   ],
   "source": [
    "exp_res = exp.run_with_trained_kges()"
   ]
  },
  {
   "cell_type": "code",
   "execution_count": null,
   "metadata": {},
   "outputs": [],
   "source": []
  },
  {
   "cell_type": "code",
   "execution_count": null,
   "metadata": {},
   "outputs": [],
   "source": []
  },
  {
   "cell_type": "code",
   "execution_count": 6,
   "metadata": {},
   "outputs": [
    {
     "name": "stdout",
     "output_type": "stream",
     "text": [
      "FB13k TransE UncalCalibrator 0.4999789314006405\n",
      "FB13k TransE PlattCalibrator 0.6719829765717175\n",
      "FB13k TransE IsotonicCalibrator 0.6721936625653127\n",
      "FB13k ComplEx UncalCalibrator 0.5538934771616383\n",
      "FB13k ComplEx PlattCalibrator 0.6476908815101972\n",
      "FB13k ComplEx IsotonicCalibrator 0.6927987527389179\n",
      "FB13k DistMult UncalCalibrator 0.5748356649249958\n",
      "FB13k DistMult PlattCalibrator 0.6133912017529075\n",
      "FB13k DistMult IsotonicCalibrator 0.6421077026799258\n",
      "FB13k HolE UncalCalibrator 0.5574119332546772\n",
      "FB13k HolE PlattCalibrator 0.4878644867689196\n",
      "FB13k HolE IsotonicCalibrator 0.6391159615708748\n",
      "WN11 TransE UncalCalibrator 0.5074596569572719\n",
      "WN11 TransE PlattCalibrator 0.882624581345783\n",
      "WN11 TransE IsotonicCalibrator 0.8812544402719984\n",
      "WN11 ComplEx UncalCalibrator 0.5592205419669136\n",
      "WN11 ComplEx PlattCalibrator 0.5898711052471328\n",
      "WN11 ComplEx IsotonicCalibrator 0.6226529990865726\n",
      "WN11 DistMult UncalCalibrator 0.566020501370141\n",
      "WN11 DistMult PlattCalibrator 0.6024561047396731\n",
      "WN11 DistMult IsotonicCalibrator 0.6316350350147163\n",
      "WN11 HolE UncalCalibrator 0.6208768902872221\n",
      "WN11 HolE PlattCalibrator 0.6922257180554146\n",
      "WN11 HolE IsotonicCalibrator 0.6976555363848574\n",
      "YAGO39 TransE UncalCalibrator 0.5056713838176515\n",
      "YAGO39 TransE PlattCalibrator 0.695257642864859\n",
      "YAGO39 TransE IsotonicCalibrator 0.7202657448417414\n",
      "YAGO39 ComplEx UncalCalibrator 0.8961326563681539\n",
      "YAGO39 ComplEx PlattCalibrator 0.8995354866587447\n",
      "YAGO39 ComplEx IsotonicCalibrator 0.9047747650426704\n",
      "YAGO39 DistMult UncalCalibrator 0.8921896942854056\n",
      "YAGO39 DistMult PlattCalibrator 0.8890029167116776\n",
      "YAGO39 DistMult IsotonicCalibrator 0.8929998919736416\n",
      "YAGO39 HolE UncalCalibrator 0.833801447553203\n",
      "YAGO39 HolE PlattCalibrator 0.8524900075618451\n",
      "YAGO39 HolE IsotonicCalibrator 0.852111915307335\n",
      "DBpedia50 TransE UncalCalibrator 0.5\n",
      "DBpedia50 TransE PlattCalibrator 0.8686844613918017\n",
      "DBpedia50 TransE IsotonicCalibrator 0.8572449952335558\n",
      "DBpedia50 ComplEx UncalCalibrator 0.6148713060057197\n",
      "DBpedia50 ComplEx PlattCalibrator 0.6484747378455672\n",
      "DBpedia50 ComplEx IsotonicCalibrator 0.6765967588179218\n",
      "DBpedia50 DistMult UncalCalibrator 0.6570543374642517\n",
      "DBpedia50 DistMult PlattCalibrator 0.6987607244995233\n",
      "DBpedia50 DistMult IsotonicCalibrator 0.7159199237368923\n",
      "DBpedia50 HolE UncalCalibrator 0.6496663489037178\n",
      "DBpedia50 HolE PlattCalibrator 0.7483317445185891\n",
      "DBpedia50 HolE IsotonicCalibrator 0.7504766444232602\n",
      "UMLS TransE UncalCalibrator 0.5\n",
      "UMLS TransE PlattCalibrator 0.783661119515885\n",
      "UMLS TransE IsotonicCalibrator 0.7806354009077155\n",
      "UMLS ComplEx UncalCalibrator 0.8419062027231468\n",
      "UMLS ComplEx PlattCalibrator 0.8978819969742814\n",
      "UMLS ComplEx IsotonicCalibrator 0.9077155824508321\n",
      "UMLS DistMult UncalCalibrator 0.8517397881996974\n",
      "UMLS DistMult PlattCalibrator 0.8767019667170953\n",
      "UMLS DistMult IsotonicCalibrator 0.8819969742813918\n",
      "UMLS HolE UncalCalibrator 0.867624810892587\n",
      "UMLS HolE PlattCalibrator 0.8751891074130106\n",
      "UMLS HolE IsotonicCalibrator 0.875945537065053\n",
      "Kinship TransE UncalCalibrator 0.5\n",
      "Kinship TransE PlattCalibrator 0.527001862197393\n",
      "Kinship TransE IsotonicCalibrator 0.5381750465549349\n",
      "Kinship ComplEx UncalCalibrator 0.7197392923649907\n",
      "Kinship ComplEx PlattCalibrator 0.7462756052141527\n",
      "Kinship ComplEx IsotonicCalibrator 0.8044692737430168\n",
      "Kinship DistMult UncalCalibrator 0.86731843575419\n",
      "Kinship DistMult PlattCalibrator 0.8957169459962756\n",
      "Kinship DistMult IsotonicCalibrator 0.8971135940409684\n",
      "Kinship HolE UncalCalibrator 0.8063314711359404\n",
      "Kinship HolE PlattCalibrator 0.8081936685288641\n",
      "Kinship HolE IsotonicCalibrator 0.8035381750465549\n",
      "Nations TransE UncalCalibrator 0.5\n",
      "Nations TransE PlattCalibrator 0.5174129353233831\n",
      "Nations TransE IsotonicCalibrator 0.5024875621890548\n",
      "Nations ComplEx UncalCalibrator 0.4129353233830846\n",
      "Nations ComplEx PlattCalibrator 0.4079601990049751\n",
      "Nations ComplEx IsotonicCalibrator 0.5373134328358209\n",
      "Nations DistMult UncalCalibrator 0.4925373134328358\n",
      "Nations DistMult PlattCalibrator 0.5373134328358209\n",
      "Nations DistMult IsotonicCalibrator 0.5796019900497512\n",
      "Nations HolE UncalCalibrator 0.5024875621890548\n",
      "Nations HolE PlattCalibrator 0.5248756218905473\n",
      "Nations HolE IsotonicCalibrator 0.5149253731343284\n"
     ]
    }
   ],
   "source": [
    "from sklearn.metrics import accuracy_score\n",
    "for data in ds:\n",
    "    if data.name == 'YAGO_ET' or data.name == 'DBpedia_ET':\n",
    "        continue\n",
    "    for kge in exp.trained_kges[data.name].values():\n",
    "        for cal in exp.trained_cals[data.name][kge.name].values():\n",
    "            try:\n",
    "                scores = kge.predict(data.X_test)\n",
    "                pred = cal.predict(scores) > 0.5\n",
    "                true = data.y_test\n",
    "                print(data.name, kge.name, cal.name, accuracy_score(true, pred))\n",
    "            except Exception as e:\n",
    "                print(e)\n",
    "\n",
    "    "
   ]
  },
  {
   "cell_type": "code",
   "execution_count": null,
   "metadata": {},
   "outputs": [],
   "source": []
  },
  {
   "cell_type": "code",
   "execution_count": 7,
   "metadata": {},
   "outputs": [
    {
     "data": {
      "text/plain": [
       "array([ 0.37969097, -0.73925155,  2.517384  , -1.3643224 ,  1.8427471 ,\n",
       "        1.7951121 , -0.68656415, -0.32101703,  2.9898565 , -0.30531   ,\n",
       "        1.6717205 , -1.1341385 ,  2.8170815 , -1.6118786 ,  0.8553423 ,\n",
       "       -0.00628156,  0.19329514, -0.16634853, -1.25345   , -0.37864637,\n",
       "        1.9667399 , -0.3548869 ,  0.271867  , -0.3320169 , -1.1637987 ,\n",
       "       -0.14545198,  2.6770198 , -0.61331856,  0.32798922, -1.4120852 ,\n",
       "       -0.23974207, -1.045959  , -0.508881  ,  1.3710321 ,  0.82276124,\n",
       "       -0.91255826, -0.6156652 , -0.6748142 ,  0.7169288 , -1.0101277 ,\n",
       "       -1.4975625 ,  2.1100893 , -0.59926057, -1.6275283 , -0.7638622 ,\n",
       "       -1.8272467 ,  0.49131042, -0.6721886 ,  2.1571662 , -1.9922723 ,\n",
       "       -0.23249047,  2.1627636 , -0.5254793 ,  0.83464986,  1.2686589 ,\n",
       "        0.80709255, -1.4557071 ,  3.3463652 ,  2.3658786 ,  2.249756  ,\n",
       "        1.4055388 , -0.02009424, -1.2117125 , -1.4751886 , -1.4585468 ,\n",
       "        1.4466853 , -0.21765012,  1.6046041 ,  0.56723434, -0.26887715,\n",
       "        1.7723584 ,  1.6723831 , -0.21316634,  0.3797841 , -1.045553  ,\n",
       "        2.9262087 , -0.1552773 , -0.37142032,  2.8214786 , -1.6692753 ,\n",
       "        0.6031533 , -1.2191683 ,  1.2706213 ,  1.1513879 ,  0.18657692,\n",
       "        1.718838  , -0.35480657,  2.7097113 ,  0.7862114 ,  1.6790528 ,\n",
       "        0.66225445,  3.5098398 ,  3.081787  , -0.4068973 , -1.1249763 ,\n",
       "       -0.46347457, -0.35599265, -0.73214966, -1.122743  , -0.9556398 ,\n",
       "       -1.7300887 , -1.9110941 , -0.2653198 ,  1.3041372 ,  2.4615674 ,\n",
       "        2.5193198 , -0.7330186 ,  1.3620831 ,  1.5095637 ,  2.8387325 ,\n",
       "       -0.49003637, -0.7833644 , -0.63414204, -0.6763543 ,  3.247412  ,\n",
       "       -1.344053  ,  0.49057513,  0.01945108, -0.9007755 , -1.1043129 ,\n",
       "       -1.0272834 ,  0.75246954,  1.959923  ,  2.9073622 , -2.365666  ,\n",
       "       -1.0606116 , -0.9138119 , -0.6198505 , -0.49417013, -1.1299341 ,\n",
       "       -2.1864226 , -0.29827976, -1.0895033 , -1.3477087 , -0.46109733,\n",
       "        1.1334072 , -0.52887213,  2.8805099 , -0.489947  ,  0.18263762,\n",
       "       -0.65045714, -0.37877128, -0.83231235, -0.7261147 ,  1.4924283 ,\n",
       "        1.3115836 ,  0.36430815,  2.5707452 , -1.3042572 , -0.9786536 ,\n",
       "       -1.0000123 ,  0.7697893 , -0.6709984 , -1.1385392 , -0.92680657,\n",
       "       -2.2506387 ,  1.8516406 ,  0.40166515,  3.671533  , -0.15574977,\n",
       "       -0.13619477,  0.19860236, -0.7891571 ,  3.2307472 ,  1.8303661 ,\n",
       "        1.1626297 ,  1.7005454 , -0.92409927, -1.5358021 , -0.5779275 ,\n",
       "        1.2354945 ,  1.2566212 , -0.7272456 ,  1.6893334 , -1.3666804 ,\n",
       "        0.10636692, -0.59374666,  1.8209662 , -0.6739678 ,  2.672943  ,\n",
       "       -0.2490586 , -0.5204057 , -1.9208575 ,  3.7522104 ,  0.24563868,\n",
       "       -1.9483529 ,  0.34090585, -0.04438411, -0.3552112 , -0.2887949 ,\n",
       "       -1.2623936 , -0.25355694, -0.5360857 , -0.4427989 ,  0.28545177,\n",
       "        0.87609226,  1.5304006 , -0.907946  , -1.6557329 ,  0.31068414,\n",
       "       -1.747079  , -0.66819143, -1.325346  ,  2.517384  , -1.3643224 ,\n",
       "       -0.89546555,  1.8965231 , -0.23474248, -0.75052893, -1.4592239 ,\n",
       "       -0.9341203 ,  2.482077  , -1.239316  ,  4.0426283 ,  1.9012731 ,\n",
       "        0.45821157,  3.045283  ,  0.2423841 , -0.73266387, -0.7042018 ,\n",
       "        2.0159776 , -1.4022323 , -1.9166375 , -0.97090435, -0.3320169 ,\n",
       "       -2.0975423 , -0.98467743,  1.0119667 ,  0.19641393, -0.5408832 ,\n",
       "        0.9444457 , -1.2068719 , -0.81734127,  0.07818604, -0.61331856,\n",
       "       -0.6198505 , -1.2205368 , -0.195582  , -0.489947  , -1.843627  ,\n",
       "       -1.011594  , -0.28040886,  2.831148  ,  0.09584464, -1.2839326 ,\n",
       "        1.2715607 , -1.5411836 ,  2.198519  ,  0.04967293,  1.9210882 ,\n",
       "       -2.1332648 , -1.1082231 ,  2.274545  , -0.5254793 , -0.48936728,\n",
       "        2.2208726 ,  1.6462051 , -1.3343838 , -1.8029001 , -2.0281775 ,\n",
       "        2.3232713 ,  2.4455466 ,  0.0713619 , -2.1014404 , -1.02238   ,\n",
       "        0.10933468,  1.8754956 , -0.59597296, -1.350573  , -1.3487148 ,\n",
       "        0.09187773,  2.6736922 ,  1.118023  , -0.24640644,  1.9724176 ,\n",
       "       -0.536795  ,  2.9262087 ,  0.59146786, -0.8606238 ,  2.8214786 ,\n",
       "       -1.6692753 ,  0.6694018 ,  2.0679893 ,  0.80459684, -0.9914595 ,\n",
       "        0.18657692,  0.45866516, -0.16486335, -1.1625178 ,  1.9272323 ,\n",
       "       -1.0528357 , -0.58000416,  1.2142873 ,  0.1616032 , -1.9166375 ,\n",
       "       -1.02238   ,  0.14058258, -0.7423135 ,  0.77810806,  0.3157584 ,\n",
       "       -0.17582515, -0.7153809 , -2.853763  , -0.28890744,  1.7984921 ,\n",
       "        1.9375628 , -0.1310942 , -1.4298531 , -0.846167  ,  3.362827  ,\n",
       "       -0.49417013, -2.9692624 , -0.8104512 ,  0.8454267 , -1.5613967 ,\n",
       "       -2.2410028 , -0.25870052,  0.6095313 ,  1.3917478 ,  0.07218003,\n",
       "       -1.185883  ,  1.311878  ,  0.6616587 , -0.6869974 ,  0.46430442,\n",
       "       -0.01931742, -0.07029426, -2.5119743 , -1.1415374 ,  2.8078783 ,\n",
       "       -1.0382746 , -0.61810654,  0.21480338, -1.928534  , -0.953682  ,\n",
       "       -0.46347457, -0.0174318 , -0.5950366 , -1.7300035 , -0.27936658,\n",
       "        0.88152397, -0.489947  , -0.17029697, -2.1380193 , -0.5204057 ,\n",
       "        0.10960327,  0.3177796 ,  2.1962125 ,  2.3386116 ,  0.462298  ,\n",
       "       -0.5657886 , -0.3641317 , -1.7211001 ,  2.0740652 , -1.731797  ,\n",
       "       -0.92680657, -2.3418982 ,  0.43481478, -1.7323962 ,  0.7147411 ,\n",
       "       -0.4049246 ,  2.2535958 ,  0.3273562 , -2.3006973 ,  3.6845949 ,\n",
       "        1.29269   , -0.23462507, -0.45550823, -1.46057   , -2.0633242 ,\n",
       "        0.49560595, -0.78975445,  0.84790313, -0.7272456 ,  0.88152397,\n",
       "        2.7208514 ,  0.10636692,  0.0993861 ,  1.5330038 , -0.6976298 ,\n",
       "       -0.25355694, -0.77136856, -0.7603327 , -1.3910512 ,  3.958234  ,\n",
       "        2.8327203 ,  0.17461948, -0.81440026, -0.04438411, -0.14545198,\n",
       "        0.75805044, -1.0238891 ,  1.1036006 , -0.45685217, -0.6763089 ,\n",
       "        0.5115589 ,  0.87609226,  0.48376712, -0.7952226 , -1.4724859 ,\n",
       "        0.31068414, -0.39933953], dtype=float32)"
      ]
     },
     "execution_count": 7,
     "metadata": {},
     "output_type": "execute_result"
    }
   ],
   "source": [
    "from scipy.special import expit\n",
    "scores"
   ]
  },
  {
   "cell_type": "code",
   "execution_count": 8,
   "metadata": {},
   "outputs": [],
   "source": [
    "exp2 = Experiment(\n",
    "    cals=[cals.uncal, cals.platt, cals.isot, ], \n",
    "    datasets=[ds.yago_et, ds.dbpedia_et], \n",
    "    kges=[kges.transE, kges.complEx, kges.distMult, kges.hoLE], \n",
    "    metrics=[ece]\n",
    "    )"
   ]
  },
  {
   "cell_type": "code",
   "execution_count": 12,
   "metadata": {},
   "outputs": [
    {
     "name": "stdout",
     "output_type": "stream",
     "text": [
      "training TransE on YAGO_ET ...\n"
     ]
    },
    {
     "name": "stderr",
     "output_type": "stream",
     "text": [
      "Average TransE Loss:   0.954750: 100%|██████████| 100/100 [34:47<00:00, 20.87s/epoch]\n"
     ]
    },
    {
     "name": "stdout",
     "output_type": "stream",
     "text": [
      "training TransE on DBpedia_ET ...\n"
     ]
    },
    {
     "name": "stderr",
     "output_type": "stream",
     "text": [
      "Average TransE Loss:   0.971890: 100%|██████████| 100/100 [1:13:58<00:00, 44.39s/epoch]\n"
     ]
    },
    {
     "name": "stdout",
     "output_type": "stream",
     "text": [
      "training ComplEx on YAGO_ET ...\n"
     ]
    },
    {
     "name": "stderr",
     "output_type": "stream",
     "text": [
      "Average ComplEx Loss:   0.206788: 100%|██████████| 100/100 [1:57:58<00:00, 70.78s/epoch]\n"
     ]
    },
    {
     "name": "stdout",
     "output_type": "stream",
     "text": [
      "training ComplEx on DBpedia_ET ...\n"
     ]
    },
    {
     "name": "stderr",
     "output_type": "stream",
     "text": [
      "Average ComplEx Loss:   0.332118: 100%|██████████| 100/100 [6:30:26<00:00, 234.26s/epoch]   \n"
     ]
    },
    {
     "name": "stdout",
     "output_type": "stream",
     "text": [
      "training DistMult on YAGO_ET ...\n"
     ]
    },
    {
     "name": "stderr",
     "output_type": "stream",
     "text": [
      "Average DistMult Loss:   0.369770: 100%|██████████| 100/100 [31:56<00:00, 19.17s/epoch]\n"
     ]
    },
    {
     "name": "stdout",
     "output_type": "stream",
     "text": [
      "training DistMult on DBpedia_ET ...\n"
     ]
    },
    {
     "name": "stderr",
     "output_type": "stream",
     "text": [
      "Average DistMult Loss:   0.638364: 100%|██████████| 100/100 [1:13:08<00:00, 43.89s/epoch]\n"
     ]
    },
    {
     "name": "stdout",
     "output_type": "stream",
     "text": [
      "training HolE on YAGO_ET ...\n"
     ]
    },
    {
     "name": "stderr",
     "output_type": "stream",
     "text": [
      "Average HolE Loss:   0.964465: 100%|██████████| 100/100 [2:08:18<00:00, 76.99s/epoch]\n"
     ]
    },
    {
     "name": "stdout",
     "output_type": "stream",
     "text": [
      "training HolE on DBpedia_ET ...\n"
     ]
    },
    {
     "name": "stderr",
     "output_type": "stream",
     "text": [
      "Average HolE Loss:   1.370011:  30%|███       | 30/100 [1:18:55<3:04:08, 157.84s/epoch]\n"
     ]
    },
    {
     "ename": "KeyboardInterrupt",
     "evalue": "",
     "output_type": "error",
     "traceback": [
      "\u001b[1;31m---------------------------------------------------------------------------\u001b[0m",
      "\u001b[1;31mKeyboardInterrupt\u001b[0m                         Traceback (most recent call last)",
      "\u001b[1;32m~\\AppData\\Local\\Temp\\ipykernel_21184\\1777101127.py\u001b[0m in \u001b[0;36m<module>\u001b[1;34m\u001b[0m\n\u001b[1;32m----> 1\u001b[1;33m \u001b[0mexp2\u001b[0m\u001b[1;33m.\u001b[0m\u001b[0mtrain_kges\u001b[0m\u001b[1;33m(\u001b[0m\u001b[1;33m)\u001b[0m\u001b[1;33m\u001b[0m\u001b[1;33m\u001b[0m\u001b[0m\n\u001b[0m\u001b[0;32m      2\u001b[0m \u001b[0mexp2\u001b[0m\u001b[1;33m.\u001b[0m\u001b[0msave_trained_kges\u001b[0m\u001b[1;33m(\u001b[0m\u001b[1;34m'../saved_models/'\u001b[0m\u001b[1;33m)\u001b[0m\u001b[1;33m\u001b[0m\u001b[1;33m\u001b[0m\u001b[0m\n",
      "\u001b[1;32mf:\\TREAT\\kgcal\\probcalkge\\experiment.py\u001b[0m in \u001b[0;36mtrain_kges\u001b[1;34m(self)\u001b[0m\n\u001b[0;32m    201\u001b[0m         \u001b[1;32mfor\u001b[0m \u001b[0mkge\u001b[0m \u001b[1;32min\u001b[0m \u001b[0mself\u001b[0m\u001b[1;33m.\u001b[0m\u001b[0mkges\u001b[0m\u001b[1;33m:\u001b[0m\u001b[1;33m\u001b[0m\u001b[1;33m\u001b[0m\u001b[0m\n\u001b[0;32m    202\u001b[0m             \u001b[1;32mfor\u001b[0m \u001b[0mds\u001b[0m \u001b[1;32min\u001b[0m \u001b[0mself\u001b[0m\u001b[1;33m.\u001b[0m\u001b[0mdatasets\u001b[0m\u001b[1;33m:\u001b[0m\u001b[1;33m\u001b[0m\u001b[1;33m\u001b[0m\u001b[0m\n\u001b[1;32m--> 203\u001b[1;33m                 \u001b[0mtrained_kge\u001b[0m \u001b[1;33m=\u001b[0m \u001b[0mself\u001b[0m\u001b[1;33m.\u001b[0m\u001b[0m_train_kge\u001b[0m\u001b[1;33m(\u001b[0m\u001b[0mkge\u001b[0m\u001b[1;33m,\u001b[0m \u001b[0mds\u001b[0m\u001b[1;33m)\u001b[0m\u001b[1;33m\u001b[0m\u001b[1;33m\u001b[0m\u001b[0m\n\u001b[0m\u001b[0;32m    204\u001b[0m                 \u001b[0mself\u001b[0m\u001b[1;33m.\u001b[0m\u001b[0mtrained_kges\u001b[0m\u001b[1;33m[\u001b[0m\u001b[0mds\u001b[0m\u001b[1;33m.\u001b[0m\u001b[0mname\u001b[0m\u001b[1;33m]\u001b[0m\u001b[1;33m[\u001b[0m\u001b[0mget_cls_name\u001b[0m\u001b[1;33m(\u001b[0m\u001b[0mkge\u001b[0m\u001b[1;33m)\u001b[0m\u001b[1;33m]\u001b[0m \u001b[1;33m=\u001b[0m \u001b[0mtrained_kge\u001b[0m\u001b[1;33m\u001b[0m\u001b[1;33m\u001b[0m\u001b[0m\n\u001b[0;32m    205\u001b[0m \u001b[1;33m\u001b[0m\u001b[0m\n",
      "\u001b[1;32mf:\\TREAT\\kgcal\\probcalkge\\experiment.py\u001b[0m in \u001b[0;36m_train_kge\u001b[1;34m(self, kge, ds)\u001b[0m\n\u001b[0;32m    209\u001b[0m         \u001b[0mprint\u001b[0m\u001b[1;33m(\u001b[0m\u001b[1;34mf'training {get_cls_name(kge)} on {ds.name} ...'\u001b[0m\u001b[1;33m)\u001b[0m\u001b[1;33m\u001b[0m\u001b[1;33m\u001b[0m\u001b[0m\n\u001b[0;32m    210\u001b[0m         \u001b[0mnew_kge\u001b[0m \u001b[1;33m=\u001b[0m \u001b[0mdeepcopy\u001b[0m\u001b[1;33m(\u001b[0m\u001b[0mkge\u001b[0m\u001b[1;33m)\u001b[0m  \u001b[1;31m# make a brand new (untrained) kge models\u001b[0m\u001b[1;33m\u001b[0m\u001b[1;33m\u001b[0m\u001b[0m\n\u001b[1;32m--> 211\u001b[1;33m         \u001b[0mnew_kge\u001b[0m\u001b[1;33m.\u001b[0m\u001b[0mfit\u001b[0m\u001b[1;33m(\u001b[0m\u001b[0mds\u001b[0m\u001b[1;33m.\u001b[0m\u001b[0mX_train\u001b[0m\u001b[1;33m)\u001b[0m\u001b[1;33m\u001b[0m\u001b[1;33m\u001b[0m\u001b[0m\n\u001b[0m\u001b[0;32m    212\u001b[0m         \u001b[0mnew_kge\u001b[0m\u001b[1;33m.\u001b[0m\u001b[0m_is_trained\u001b[0m \u001b[1;33m=\u001b[0m \u001b[1;32mTrue\u001b[0m\u001b[1;33m\u001b[0m\u001b[1;33m\u001b[0m\u001b[0m\n\u001b[0;32m    213\u001b[0m         \u001b[1;32mreturn\u001b[0m \u001b[0mnew_kge\u001b[0m\u001b[1;33m\u001b[0m\u001b[1;33m\u001b[0m\u001b[0m\n",
      "\u001b[1;32mf:\\TREAT\\kgcal\\.venv\\lib\\site-packages\\ampligraph\\latent_features\\models\\HolE.py\u001b[0m in \u001b[0;36mfit\u001b[1;34m(self, X, early_stopping, early_stopping_params, focusE_numeric_edge_values, tensorboard_logs_path)\u001b[0m\n\u001b[0;32m    264\u001b[0m         \"\"\"\n\u001b[0;32m    265\u001b[0m         super().fit(X, early_stopping, early_stopping_params, focusE_numeric_edge_values,\n\u001b[1;32m--> 266\u001b[1;33m                     tensorboard_logs_path=tensorboard_logs_path)\n\u001b[0m\u001b[0;32m    267\u001b[0m \u001b[1;33m\u001b[0m\u001b[0m\n\u001b[0;32m    268\u001b[0m     \u001b[1;32mdef\u001b[0m \u001b[0mpredict\u001b[0m\u001b[1;33m(\u001b[0m\u001b[0mself\u001b[0m\u001b[1;33m,\u001b[0m \u001b[0mX\u001b[0m\u001b[1;33m,\u001b[0m \u001b[0mfrom_idx\u001b[0m\u001b[1;33m=\u001b[0m\u001b[1;32mFalse\u001b[0m\u001b[1;33m)\u001b[0m\u001b[1;33m:\u001b[0m\u001b[1;33m\u001b[0m\u001b[1;33m\u001b[0m\u001b[0m\n",
      "\u001b[1;32mf:\\TREAT\\kgcal\\.venv\\lib\\site-packages\\ampligraph\\latent_features\\models\\ComplEx.py\u001b[0m in \u001b[0;36mfit\u001b[1;34m(self, X, early_stopping, early_stopping_params, focusE_numeric_edge_values, tensorboard_logs_path)\u001b[0m\n\u001b[0;32m    371\u001b[0m         \"\"\"\n\u001b[0;32m    372\u001b[0m         super().fit(X, early_stopping, early_stopping_params, focusE_numeric_edge_values,\n\u001b[1;32m--> 373\u001b[1;33m                     tensorboard_logs_path=tensorboard_logs_path)\n\u001b[0m\u001b[0;32m    374\u001b[0m \u001b[1;33m\u001b[0m\u001b[0m\n\u001b[0;32m    375\u001b[0m     \u001b[1;32mdef\u001b[0m \u001b[0mpredict\u001b[0m\u001b[1;33m(\u001b[0m\u001b[0mself\u001b[0m\u001b[1;33m,\u001b[0m \u001b[0mX\u001b[0m\u001b[1;33m,\u001b[0m \u001b[0mfrom_idx\u001b[0m\u001b[1;33m=\u001b[0m\u001b[1;32mFalse\u001b[0m\u001b[1;33m)\u001b[0m\u001b[1;33m:\u001b[0m\u001b[1;33m\u001b[0m\u001b[1;33m\u001b[0m\u001b[0m\n",
      "\u001b[1;32mf:\\TREAT\\kgcal\\.venv\\lib\\site-packages\\ampligraph\\latent_features\\models\\EmbeddingModel.py\u001b[0m in \u001b[0;36mfit\u001b[1;34m(self, X, early_stopping, early_stopping_params, focusE_numeric_edge_values, tensorboard_logs_path)\u001b[0m\n\u001b[0;32m   1210\u001b[0m         \u001b[1;32mexcept\u001b[0m \u001b[0mBaseException\u001b[0m \u001b[1;32mas\u001b[0m \u001b[0me\u001b[0m\u001b[1;33m:\u001b[0m\u001b[1;33m\u001b[0m\u001b[1;33m\u001b[0m\u001b[0m\n\u001b[0;32m   1211\u001b[0m             \u001b[0mself\u001b[0m\u001b[1;33m.\u001b[0m\u001b[0m_end_training\u001b[0m\u001b[1;33m(\u001b[0m\u001b[1;33m)\u001b[0m\u001b[1;33m\u001b[0m\u001b[1;33m\u001b[0m\u001b[0m\n\u001b[1;32m-> 1212\u001b[1;33m             \u001b[1;32mraise\u001b[0m \u001b[0me\u001b[0m\u001b[1;33m\u001b[0m\u001b[1;33m\u001b[0m\u001b[0m\n\u001b[0m\u001b[0;32m   1213\u001b[0m \u001b[1;33m\u001b[0m\u001b[0m\n\u001b[0;32m   1214\u001b[0m     \u001b[1;32mdef\u001b[0m \u001b[0mset_filter_for_eval\u001b[0m\u001b[1;33m(\u001b[0m\u001b[0mself\u001b[0m\u001b[1;33m)\u001b[0m\u001b[1;33m:\u001b[0m\u001b[1;33m\u001b[0m\u001b[1;33m\u001b[0m\u001b[0m\n",
      "\u001b[1;32mf:\\TREAT\\kgcal\\.venv\\lib\\site-packages\\ampligraph\\latent_features\\models\\EmbeddingModel.py\u001b[0m in \u001b[0;36mfit\u001b[1;34m(self, X, early_stopping, early_stopping_params, focusE_numeric_edge_values, tensorboard_logs_path)\u001b[0m\n\u001b[0;32m   1155\u001b[0m                             \u001b[0mself\u001b[0m\u001b[1;33m.\u001b[0m\u001b[0msess_train\u001b[0m\u001b[1;33m.\u001b[0m\u001b[0mrun\u001b[0m\u001b[1;33m(\u001b[0m\u001b[0mself\u001b[0m\u001b[1;33m.\u001b[0m\u001b[0ment_emb\u001b[0m\u001b[1;33m)\u001b[0m\u001b[1;33m[\u001b[0m\u001b[1;33m:\u001b[0m\u001b[0munique_entities\u001b[0m\u001b[1;33m.\u001b[0m\u001b[0mshape\u001b[0m\u001b[1;33m[\u001b[0m\u001b[1;36m0\u001b[0m\u001b[1;33m]\u001b[0m\u001b[1;33m,\u001b[0m \u001b[1;33m:\u001b[0m\u001b[1;33m]\u001b[0m\u001b[1;33m\u001b[0m\u001b[1;33m\u001b[0m\u001b[0m\n\u001b[0;32m   1156\u001b[0m                     \u001b[1;32melse\u001b[0m\u001b[1;33m:\u001b[0m\u001b[1;33m\u001b[0m\u001b[1;33m\u001b[0m\u001b[0m\n\u001b[1;32m-> 1157\u001b[1;33m                         \u001b[0mloss_batch\u001b[0m\u001b[1;33m,\u001b[0m \u001b[0m_\u001b[0m \u001b[1;33m=\u001b[0m \u001b[0mself\u001b[0m\u001b[1;33m.\u001b[0m\u001b[0msess_train\u001b[0m\u001b[1;33m.\u001b[0m\u001b[0mrun\u001b[0m\u001b[1;33m(\u001b[0m\u001b[1;33m[\u001b[0m\u001b[0mloss\u001b[0m\u001b[1;33m,\u001b[0m \u001b[0mtrain\u001b[0m\u001b[1;33m]\u001b[0m\u001b[1;33m,\u001b[0m \u001b[0mfeed_dict\u001b[0m\u001b[1;33m=\u001b[0m\u001b[0mfeed_dict\u001b[0m\u001b[1;33m)\u001b[0m\u001b[1;33m\u001b[0m\u001b[1;33m\u001b[0m\u001b[0m\n\u001b[0m\u001b[0;32m   1158\u001b[0m \u001b[1;33m\u001b[0m\u001b[0m\n\u001b[0;32m   1159\u001b[0m                     \u001b[1;32mif\u001b[0m \u001b[0mnp\u001b[0m\u001b[1;33m.\u001b[0m\u001b[0misnan\u001b[0m\u001b[1;33m(\u001b[0m\u001b[0mloss_batch\u001b[0m\u001b[1;33m)\u001b[0m \u001b[1;32mor\u001b[0m \u001b[0mnp\u001b[0m\u001b[1;33m.\u001b[0m\u001b[0misinf\u001b[0m\u001b[1;33m(\u001b[0m\u001b[0mloss_batch\u001b[0m\u001b[1;33m)\u001b[0m\u001b[1;33m:\u001b[0m\u001b[1;33m\u001b[0m\u001b[1;33m\u001b[0m\u001b[0m\n",
      "\u001b[1;32mf:\\TREAT\\kgcal\\.venv\\lib\\site-packages\\tensorflow_core\\python\\client\\session.py\u001b[0m in \u001b[0;36mrun\u001b[1;34m(self, fetches, feed_dict, options, run_metadata)\u001b[0m\n\u001b[0;32m    954\u001b[0m     \u001b[1;32mtry\u001b[0m\u001b[1;33m:\u001b[0m\u001b[1;33m\u001b[0m\u001b[1;33m\u001b[0m\u001b[0m\n\u001b[0;32m    955\u001b[0m       result = self._run(None, fetches, feed_dict, options_ptr,\n\u001b[1;32m--> 956\u001b[1;33m                          run_metadata_ptr)\n\u001b[0m\u001b[0;32m    957\u001b[0m       \u001b[1;32mif\u001b[0m \u001b[0mrun_metadata\u001b[0m\u001b[1;33m:\u001b[0m\u001b[1;33m\u001b[0m\u001b[1;33m\u001b[0m\u001b[0m\n\u001b[0;32m    958\u001b[0m         \u001b[0mproto_data\u001b[0m \u001b[1;33m=\u001b[0m \u001b[0mtf_session\u001b[0m\u001b[1;33m.\u001b[0m\u001b[0mTF_GetBuffer\u001b[0m\u001b[1;33m(\u001b[0m\u001b[0mrun_metadata_ptr\u001b[0m\u001b[1;33m)\u001b[0m\u001b[1;33m\u001b[0m\u001b[1;33m\u001b[0m\u001b[0m\n",
      "\u001b[1;32mf:\\TREAT\\kgcal\\.venv\\lib\\site-packages\\tensorflow_core\\python\\client\\session.py\u001b[0m in \u001b[0;36m_run\u001b[1;34m(self, handle, fetches, feed_dict, options, run_metadata)\u001b[0m\n\u001b[0;32m   1178\u001b[0m     \u001b[1;32mif\u001b[0m \u001b[0mfinal_fetches\u001b[0m \u001b[1;32mor\u001b[0m \u001b[0mfinal_targets\u001b[0m \u001b[1;32mor\u001b[0m \u001b[1;33m(\u001b[0m\u001b[0mhandle\u001b[0m \u001b[1;32mand\u001b[0m \u001b[0mfeed_dict_tensor\u001b[0m\u001b[1;33m)\u001b[0m\u001b[1;33m:\u001b[0m\u001b[1;33m\u001b[0m\u001b[1;33m\u001b[0m\u001b[0m\n\u001b[0;32m   1179\u001b[0m       results = self._do_run(handle, final_targets, final_fetches,\n\u001b[1;32m-> 1180\u001b[1;33m                              feed_dict_tensor, options, run_metadata)\n\u001b[0m\u001b[0;32m   1181\u001b[0m     \u001b[1;32melse\u001b[0m\u001b[1;33m:\u001b[0m\u001b[1;33m\u001b[0m\u001b[1;33m\u001b[0m\u001b[0m\n\u001b[0;32m   1182\u001b[0m       \u001b[0mresults\u001b[0m \u001b[1;33m=\u001b[0m \u001b[1;33m[\u001b[0m\u001b[1;33m]\u001b[0m\u001b[1;33m\u001b[0m\u001b[1;33m\u001b[0m\u001b[0m\n",
      "\u001b[1;32mf:\\TREAT\\kgcal\\.venv\\lib\\site-packages\\tensorflow_core\\python\\client\\session.py\u001b[0m in \u001b[0;36m_do_run\u001b[1;34m(self, handle, target_list, fetch_list, feed_dict, options, run_metadata)\u001b[0m\n\u001b[0;32m   1357\u001b[0m     \u001b[1;32mif\u001b[0m \u001b[0mhandle\u001b[0m \u001b[1;32mis\u001b[0m \u001b[1;32mNone\u001b[0m\u001b[1;33m:\u001b[0m\u001b[1;33m\u001b[0m\u001b[1;33m\u001b[0m\u001b[0m\n\u001b[0;32m   1358\u001b[0m       return self._do_call(_run_fn, feeds, fetches, targets, options,\n\u001b[1;32m-> 1359\u001b[1;33m                            run_metadata)\n\u001b[0m\u001b[0;32m   1360\u001b[0m     \u001b[1;32melse\u001b[0m\u001b[1;33m:\u001b[0m\u001b[1;33m\u001b[0m\u001b[1;33m\u001b[0m\u001b[0m\n\u001b[0;32m   1361\u001b[0m       \u001b[1;32mreturn\u001b[0m \u001b[0mself\u001b[0m\u001b[1;33m.\u001b[0m\u001b[0m_do_call\u001b[0m\u001b[1;33m(\u001b[0m\u001b[0m_prun_fn\u001b[0m\u001b[1;33m,\u001b[0m \u001b[0mhandle\u001b[0m\u001b[1;33m,\u001b[0m \u001b[0mfeeds\u001b[0m\u001b[1;33m,\u001b[0m \u001b[0mfetches\u001b[0m\u001b[1;33m)\u001b[0m\u001b[1;33m\u001b[0m\u001b[1;33m\u001b[0m\u001b[0m\n",
      "\u001b[1;32mf:\\TREAT\\kgcal\\.venv\\lib\\site-packages\\tensorflow_core\\python\\client\\session.py\u001b[0m in \u001b[0;36m_do_call\u001b[1;34m(self, fn, *args)\u001b[0m\n\u001b[0;32m   1363\u001b[0m   \u001b[1;32mdef\u001b[0m \u001b[0m_do_call\u001b[0m\u001b[1;33m(\u001b[0m\u001b[0mself\u001b[0m\u001b[1;33m,\u001b[0m \u001b[0mfn\u001b[0m\u001b[1;33m,\u001b[0m \u001b[1;33m*\u001b[0m\u001b[0margs\u001b[0m\u001b[1;33m)\u001b[0m\u001b[1;33m:\u001b[0m\u001b[1;33m\u001b[0m\u001b[1;33m\u001b[0m\u001b[0m\n\u001b[0;32m   1364\u001b[0m     \u001b[1;32mtry\u001b[0m\u001b[1;33m:\u001b[0m\u001b[1;33m\u001b[0m\u001b[1;33m\u001b[0m\u001b[0m\n\u001b[1;32m-> 1365\u001b[1;33m       \u001b[1;32mreturn\u001b[0m \u001b[0mfn\u001b[0m\u001b[1;33m(\u001b[0m\u001b[1;33m*\u001b[0m\u001b[0margs\u001b[0m\u001b[1;33m)\u001b[0m\u001b[1;33m\u001b[0m\u001b[1;33m\u001b[0m\u001b[0m\n\u001b[0m\u001b[0;32m   1366\u001b[0m     \u001b[1;32mexcept\u001b[0m \u001b[0merrors\u001b[0m\u001b[1;33m.\u001b[0m\u001b[0mOpError\u001b[0m \u001b[1;32mas\u001b[0m \u001b[0me\u001b[0m\u001b[1;33m:\u001b[0m\u001b[1;33m\u001b[0m\u001b[1;33m\u001b[0m\u001b[0m\n\u001b[0;32m   1367\u001b[0m       \u001b[0mmessage\u001b[0m \u001b[1;33m=\u001b[0m \u001b[0mcompat\u001b[0m\u001b[1;33m.\u001b[0m\u001b[0mas_text\u001b[0m\u001b[1;33m(\u001b[0m\u001b[0me\u001b[0m\u001b[1;33m.\u001b[0m\u001b[0mmessage\u001b[0m\u001b[1;33m)\u001b[0m\u001b[1;33m\u001b[0m\u001b[1;33m\u001b[0m\u001b[0m\n",
      "\u001b[1;32mf:\\TREAT\\kgcal\\.venv\\lib\\site-packages\\tensorflow_core\\python\\client\\session.py\u001b[0m in \u001b[0;36m_run_fn\u001b[1;34m(feed_dict, fetch_list, target_list, options, run_metadata)\u001b[0m\n\u001b[0;32m   1348\u001b[0m       \u001b[0mself\u001b[0m\u001b[1;33m.\u001b[0m\u001b[0m_extend_graph\u001b[0m\u001b[1;33m(\u001b[0m\u001b[1;33m)\u001b[0m\u001b[1;33m\u001b[0m\u001b[1;33m\u001b[0m\u001b[0m\n\u001b[0;32m   1349\u001b[0m       return self._call_tf_sessionrun(options, feed_dict, fetch_list,\n\u001b[1;32m-> 1350\u001b[1;33m                                       target_list, run_metadata)\n\u001b[0m\u001b[0;32m   1351\u001b[0m \u001b[1;33m\u001b[0m\u001b[0m\n\u001b[0;32m   1352\u001b[0m     \u001b[1;32mdef\u001b[0m \u001b[0m_prun_fn\u001b[0m\u001b[1;33m(\u001b[0m\u001b[0mhandle\u001b[0m\u001b[1;33m,\u001b[0m \u001b[0mfeed_dict\u001b[0m\u001b[1;33m,\u001b[0m \u001b[0mfetch_list\u001b[0m\u001b[1;33m)\u001b[0m\u001b[1;33m:\u001b[0m\u001b[1;33m\u001b[0m\u001b[1;33m\u001b[0m\u001b[0m\n",
      "\u001b[1;32mf:\\TREAT\\kgcal\\.venv\\lib\\site-packages\\tensorflow_core\\python\\client\\session.py\u001b[0m in \u001b[0;36m_call_tf_sessionrun\u001b[1;34m(self, options, feed_dict, fetch_list, target_list, run_metadata)\u001b[0m\n\u001b[0;32m   1441\u001b[0m     return tf_session.TF_SessionRun_wrapper(self._session, options, feed_dict,\n\u001b[0;32m   1442\u001b[0m                                             \u001b[0mfetch_list\u001b[0m\u001b[1;33m,\u001b[0m \u001b[0mtarget_list\u001b[0m\u001b[1;33m,\u001b[0m\u001b[1;33m\u001b[0m\u001b[1;33m\u001b[0m\u001b[0m\n\u001b[1;32m-> 1443\u001b[1;33m                                             run_metadata)\n\u001b[0m\u001b[0;32m   1444\u001b[0m \u001b[1;33m\u001b[0m\u001b[0m\n\u001b[0;32m   1445\u001b[0m   \u001b[1;32mdef\u001b[0m \u001b[0m_call_tf_sessionprun\u001b[0m\u001b[1;33m(\u001b[0m\u001b[0mself\u001b[0m\u001b[1;33m,\u001b[0m \u001b[0mhandle\u001b[0m\u001b[1;33m,\u001b[0m \u001b[0mfeed_dict\u001b[0m\u001b[1;33m,\u001b[0m \u001b[0mfetch_list\u001b[0m\u001b[1;33m)\u001b[0m\u001b[1;33m:\u001b[0m\u001b[1;33m\u001b[0m\u001b[1;33m\u001b[0m\u001b[0m\n",
      "\u001b[1;31mKeyboardInterrupt\u001b[0m: "
     ]
    }
   ],
   "source": [
    "exp2.train_kges()\n",
    "exp2.save_trained_kges('../saved_models/')"
   ]
  },
  {
   "cell_type": "code",
   "execution_count": 13,
   "metadata": {},
   "outputs": [
    {
     "name": "stdout",
     "output_type": "stream",
     "text": [
      "saved ../saved_models/YAGO_ET-TransE.pkl.\n",
      "saved ../saved_models/YAGO_ET-ComplEx.pkl.\n",
      "saved ../saved_models/YAGO_ET-DistMult.pkl.\n",
      "saved ../saved_models/YAGO_ET-HolE.pkl.\n",
      "saved ../saved_models/DBpedia_ET-TransE.pkl.\n",
      "saved ../saved_models/DBpedia_ET-ComplEx.pkl.\n",
      "saved ../saved_models/DBpedia_ET-DistMult.pkl.\n"
     ]
    },
    {
     "ename": "AttributeError",
     "evalue": "'NoneType' object has no attribute 'all_params'",
     "output_type": "error",
     "traceback": [
      "\u001b[1;31m---------------------------------------------------------------------------\u001b[0m",
      "\u001b[1;31mAttributeError\u001b[0m                            Traceback (most recent call last)",
      "\u001b[1;32m~\\AppData\\Local\\Temp\\ipykernel_21184\\1329949628.py\u001b[0m in \u001b[0;36m<module>\u001b[1;34m\u001b[0m\n\u001b[1;32m----> 1\u001b[1;33m \u001b[0mexp2\u001b[0m\u001b[1;33m.\u001b[0m\u001b[0msave_trained_kges\u001b[0m\u001b[1;33m(\u001b[0m\u001b[1;34m'../saved_models/'\u001b[0m\u001b[1;33m)\u001b[0m\u001b[1;33m\u001b[0m\u001b[1;33m\u001b[0m\u001b[0m\n\u001b[0m",
      "\u001b[1;32mf:\\TREAT\\kgcal\\probcalkge\\experiment.py\u001b[0m in \u001b[0;36msave_trained_kges\u001b[1;34m(self, save_dir)\u001b[0m\n\u001b[0;32m    173\u001b[0m             \u001b[1;32mfor\u001b[0m \u001b[0mmname\u001b[0m\u001b[1;33m,\u001b[0m \u001b[0mmodel\u001b[0m \u001b[1;32min\u001b[0m \u001b[0mmodels\u001b[0m\u001b[1;33m.\u001b[0m\u001b[0mitems\u001b[0m\u001b[1;33m(\u001b[0m\u001b[1;33m)\u001b[0m\u001b[1;33m:\u001b[0m\u001b[1;33m\u001b[0m\u001b[1;33m\u001b[0m\u001b[0m\n\u001b[0;32m    174\u001b[0m                 \u001b[0mmodel_file\u001b[0m \u001b[1;33m=\u001b[0m \u001b[0mos\u001b[0m\u001b[1;33m.\u001b[0m\u001b[0mpath\u001b[0m\u001b[1;33m.\u001b[0m\u001b[0mjoin\u001b[0m\u001b[1;33m(\u001b[0m\u001b[0msave_dir\u001b[0m\u001b[1;33m,\u001b[0m \u001b[1;34mf'{ds}-{mname}.pkl'\u001b[0m\u001b[1;33m)\u001b[0m\u001b[1;33m\u001b[0m\u001b[1;33m\u001b[0m\u001b[0m\n\u001b[1;32m--> 175\u001b[1;33m                 \u001b[0msave_model\u001b[0m\u001b[1;33m(\u001b[0m\u001b[0mmodel\u001b[0m\u001b[1;33m,\u001b[0m \u001b[0mmodel_file\u001b[0m\u001b[1;33m)\u001b[0m\u001b[1;33m\u001b[0m\u001b[1;33m\u001b[0m\u001b[0m\n\u001b[0m\u001b[0;32m    176\u001b[0m                 \u001b[0mprint\u001b[0m\u001b[1;33m(\u001b[0m\u001b[1;34mf'saved {model_file}.'\u001b[0m\u001b[1;33m)\u001b[0m\u001b[1;33m\u001b[0m\u001b[1;33m\u001b[0m\u001b[0m\n\u001b[0;32m    177\u001b[0m \u001b[1;33m\u001b[0m\u001b[0m\n",
      "\u001b[1;32mf:\\TREAT\\kgcal\\.venv\\lib\\site-packages\\ampligraph\\utils\\model_utils.py\u001b[0m in \u001b[0;36msave_model\u001b[1;34m(model, model_name_path, protocol)\u001b[0m\n\u001b[0;32m     69\u001b[0m     obj = {\n\u001b[0;32m     70\u001b[0m         \u001b[1;34m'class_name'\u001b[0m\u001b[1;33m:\u001b[0m \u001b[0mmodel\u001b[0m\u001b[1;33m.\u001b[0m\u001b[0m__class__\u001b[0m\u001b[1;33m.\u001b[0m\u001b[0m__name__\u001b[0m\u001b[1;33m,\u001b[0m\u001b[1;33m\u001b[0m\u001b[1;33m\u001b[0m\u001b[0m\n\u001b[1;32m---> 71\u001b[1;33m         \u001b[1;34m'hyperparams'\u001b[0m\u001b[1;33m:\u001b[0m \u001b[0mmodel\u001b[0m\u001b[1;33m.\u001b[0m\u001b[0mall_params\u001b[0m\u001b[1;33m,\u001b[0m\u001b[1;33m\u001b[0m\u001b[1;33m\u001b[0m\u001b[0m\n\u001b[0m\u001b[0;32m     72\u001b[0m         \u001b[1;34m'is_fitted'\u001b[0m\u001b[1;33m:\u001b[0m \u001b[0mmodel\u001b[0m\u001b[1;33m.\u001b[0m\u001b[0mis_fitted\u001b[0m\u001b[1;33m,\u001b[0m\u001b[1;33m\u001b[0m\u001b[1;33m\u001b[0m\u001b[0m\n\u001b[0;32m     73\u001b[0m         \u001b[1;34m'ent_to_idx'\u001b[0m\u001b[1;33m:\u001b[0m \u001b[0mmodel\u001b[0m\u001b[1;33m.\u001b[0m\u001b[0ment_to_idx\u001b[0m\u001b[1;33m,\u001b[0m\u001b[1;33m\u001b[0m\u001b[1;33m\u001b[0m\u001b[0m\n",
      "\u001b[1;31mAttributeError\u001b[0m: 'NoneType' object has no attribute 'all_params'"
     ]
    }
   ],
   "source": [
    "exp2.save_trained_kges('../saved_models/')"
   ]
  },
  {
   "cell_type": "code",
   "execution_count": null,
   "metadata": {},
   "outputs": [],
   "source": []
  }
 ],
 "metadata": {
  "kernelspec": {
   "display_name": "Python 3.7.6 ('.venv': pipenv)",
   "language": "python",
   "name": "python3"
  },
  "language_info": {
   "codemirror_mode": {
    "name": "ipython",
    "version": 3
   },
   "file_extension": ".py",
   "mimetype": "text/x-python",
   "name": "python",
   "nbconvert_exporter": "python",
   "pygments_lexer": "ipython3",
   "version": "3.7.6"
  },
  "orig_nbformat": 4,
  "vscode": {
   "interpreter": {
    "hash": "f1fad10ccd2b4b46f8acf96792776d8c0d9c66065bac33c6726f0b6a90e208ea"
   }
  }
 },
 "nbformat": 4,
 "nbformat_minor": 2
}
