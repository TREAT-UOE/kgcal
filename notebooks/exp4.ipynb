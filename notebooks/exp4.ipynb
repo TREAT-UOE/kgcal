{
    "cells": [
        {
            "cell_type": "code",
            "execution_count": 1,
            "metadata": {},
            "outputs": [],
            "source": [
                "import sys\n",
                "# enable importing the modules from probcalkge\n",
                "sys.path.append('../')\n",
                "sys.path.append('../probcalkge')\n",
                "\n",
                "import numpy as np\n",
                "import pandas as pd\n",
                "\n",
                "from probcalkge import Experiment, ExperimentResult\n",
                "from probcalkge import get_calibrators\n",
                "from probcalkge import get_datasets,  get_kgemodels\n",
                "from probcalkge import brier_score, negative_log_loss, ks_error, ece"
            ]
        },
        {
            "cell_type": "code",
            "execution_count": 2,
            "metadata": {},
            "outputs": [
                {
                    "name": "stdout",
                    "output_type": "stream",
                    "text": [
                        "WARNING - All triples will be processed in the same batch (batches_count=1). When processing large graphs it is recommended to batch the input knowledge graph instead.\n"
                    ]
                }
            ],
            "source": [
                "cals = get_calibrators()\n",
                "kges = get_kgemodels()\n",
                "ds = get_datasets()"
            ]
        },
        {
            "cell_type": "code",
            "execution_count": 3,
            "metadata": {},
            "outputs": [],
            "source": [
                "exp = Experiment(\n",
                "    cals=[cals.uncal, cals.platt, cals.isot, ], \n",
                "    datasets=[ds.fb13, ds.wn18, ds.yago39, ds.dp50, ds.kinship, ds.umls], \n",
                "    kges=[kges.transE, kges.complEx, kges.distMult, kges.hoLE], \n",
                "    metrics=[ece]\n",
                "    )"
            ]
        },
        {
            "cell_type": "code",
            "execution_count": 4,
            "metadata": {},
            "outputs": [
                {
                    "name": "stdout",
                    "output_type": "stream",
                    "text": [
                        "Loaded models:\n",
                        "{'DBpedia50': {'ComplEx': <ampligraph.latent_features.models.ComplEx.ComplEx object at 0x000002134F864908>,\n",
                        "               'DistMult': <ampligraph.latent_features.models.DistMult.DistMult object at 0x00000213008DB048>,\n",
                        "               'HolE': <ampligraph.latent_features.models.HolE.HolE object at 0x0000021303F9FFC8>,\n",
                        "               'TransE': <ampligraph.latent_features.models.TransE.TransE object at 0x0000021307CA4048>},\n",
                        " 'FB13k': {'ComplEx': <ampligraph.latent_features.models.ComplEx.ComplEx object at 0x00000213005C6D88>,\n",
                        "           'DistMult': <ampligraph.latent_features.models.DistMult.DistMult object at 0x0000021304185208>,\n",
                        "           'HolE': <ampligraph.latent_features.models.HolE.HolE object at 0x0000021379817D48>,\n",
                        "           'TransE': <ampligraph.latent_features.models.TransE.TransE object at 0x0000021379777508>},\n",
                        " 'Kinship': {'ComplEx': <ampligraph.latent_features.models.ComplEx.ComplEx object at 0x0000021303F9F948>,\n",
                        "             'DistMult': <ampligraph.latent_features.models.DistMult.DistMult object at 0x0000021307CA46C8>,\n",
                        "             'HolE': <ampligraph.latent_features.models.HolE.HolE object at 0x0000021303AE1348>,\n",
                        "             'TransE': <ampligraph.latent_features.models.TransE.TransE object at 0x00000213063ED688>},\n",
                        " 'Nations': {'ComplEx': <ampligraph.latent_features.models.ComplEx.ComplEx object at 0x0000021307F4B988>,\n",
                        "             'DistMult': <ampligraph.latent_features.models.DistMult.DistMult object at 0x0000021307F4BA48>,\n",
                        "             'HolE': <ampligraph.latent_features.models.HolE.HolE object at 0x000002130DEFA9C8>,\n",
                        "             'TransE': <ampligraph.latent_features.models.TransE.TransE object at 0x000002130DEFAF88>},\n",
                        " 'UMLS': {'ComplEx': <ampligraph.latent_features.models.ComplEx.ComplEx object at 0x000002130DEFEDC8>,\n",
                        "          'DistMult': <ampligraph.latent_features.models.DistMult.DistMult object at 0x000002130DEFA508>,\n",
                        "          'HolE': <ampligraph.latent_features.models.HolE.HolE object at 0x000002130DF05E88>,\n",
                        "          'TransE': <ampligraph.latent_features.models.TransE.TransE object at 0x000002130DEFEB88>},\n",
                        " 'WN11': {'ComplEx': <ampligraph.latent_features.models.ComplEx.ComplEx object at 0x000002130DEFEA88>,\n",
                        "          'DistMult': <ampligraph.latent_features.models.DistMult.DistMult object at 0x000002130DF05D08>,\n",
                        "          'HolE': <ampligraph.latent_features.models.HolE.HolE object at 0x000002130DF05A08>,\n",
                        "          'TransE': <ampligraph.latent_features.models.TransE.TransE object at 0x000002130DF056C8>},\n",
                        " 'YAGO39': {'ComplEx': <ampligraph.latent_features.models.ComplEx.ComplEx object at 0x000002130DF10A08>,\n",
                        "            'DistMult': <ampligraph.latent_features.models.DistMult.DistMult object at 0x000002130DF10788>,\n",
                        "            'HolE': <ampligraph.latent_features.models.HolE.HolE object at 0x000002130DF05C08>,\n",
                        "            'TransE': <ampligraph.latent_features.models.TransE.TransE object at 0x00000213001E2D48>},\n",
                        " 'YAGO_ET': OrderedDict([('DistMult',\n",
                        "                          <ampligraph.latent_features.models.DistMult.DistMult object at 0x00000213005BA2C8>)])}\n"
                    ]
                }
            ],
            "source": [
                "exp.load_trained_kges('../saved_models/')"
            ]
        },
        {
            "cell_type": "code",
            "execution_count": 5,
            "metadata": {},
            "outputs": [
                {
                    "name": "stdout",
                    "output_type": "stream",
                    "text": [
                        "training various calibrators for TransE on FB13k ...\n",
                        "training various calibrators for ComplEx on FB13k ...\n",
                        "training various calibrators for DistMult on FB13k ...\n",
                        "training various calibrators for HolE on FB13k ...\n",
                        "training various calibrators for TransE on WN11 ...\n",
                        "training various calibrators for ComplEx on WN11 ...\n",
                        "training various calibrators for DistMult on WN11 ...\n",
                        "training various calibrators for HolE on WN11 ...\n",
                        "training various calibrators for TransE on YAGO39 ...\n",
                        "training various calibrators for ComplEx on YAGO39 ...\n",
                        "training various calibrators for DistMult on YAGO39 ...\n",
                        "training various calibrators for HolE on YAGO39 ...\n",
                        "training various calibrators for TransE on DBpedia50 ...\n",
                        "training various calibrators for ComplEx on DBpedia50 ...\n",
                        "training various calibrators for DistMult on DBpedia50 ...\n",
                        "training various calibrators for HolE on DBpedia50 ...\n",
                        "training various calibrators for TransE on Nations ...\n",
                        "training various calibrators for ComplEx on Nations ...\n",
                        "training various calibrators for DistMult on Nations ...\n",
                        "training various calibrators for HolE on Nations ...\n",
                        "training various calibrators for TransE on Kinship ...\n",
                        "training various calibrators for ComplEx on Kinship ...\n",
                        "training various calibrators for DistMult on Kinship ...\n",
                        "training various calibrators for HolE on Kinship ...\n",
                        "training various calibrators for TransE on UMLS ...\n",
                        "training various calibrators for ComplEx on UMLS ...\n",
                        "training various calibrators for DistMult on UMLS ...\n",
                        "training various calibrators for HolE on UMLS ...\n",
                        "{'FB13k': {'TransE':      UncalCalibrator  PlattCalibrator  IsotonicCalibrator\n",
                        "ece         0.149351         0.055151            0.005296, 'ComplEx':      UncalCalibrator  PlattCalibrator  IsotonicCalibrator\n",
                        "ece         0.418775         0.108362            0.005343, 'DistMult':      UncalCalibrator  PlattCalibrator  IsotonicCalibrator\n",
                        "ece         0.380793          0.09016            0.008189, 'HolE':      UncalCalibrator  PlattCalibrator  IsotonicCalibrator\n",
                        "ece         0.289039         0.056406            0.002425}, 'WN11': {'TransE':      UncalCalibrator  PlattCalibrator  IsotonicCalibrator\n",
                        "ece          0.30994         0.049701            0.015747, 'ComplEx':      UncalCalibrator  PlattCalibrator  IsotonicCalibrator\n",
                        "ece         0.432086         0.084033            0.005471, 'DistMult':      UncalCalibrator  PlattCalibrator  IsotonicCalibrator\n",
                        "ece         0.418314         0.098094            0.005803, 'HolE':      UncalCalibrator  PlattCalibrator  IsotonicCalibrator\n",
                        "ece         0.118921         0.075438            0.005843}, 'YAGO39': {'TransE':      UncalCalibrator  PlattCalibrator  IsotonicCalibrator\n",
                        "ece         0.160999          0.11694            0.011209, 'ComplEx':      UncalCalibrator  PlattCalibrator  IsotonicCalibrator\n",
                        "ece          0.07692         0.022937            0.003769, 'DistMult':      UncalCalibrator  PlattCalibrator  IsotonicCalibrator\n",
                        "ece         0.073381         0.036171             0.00584, 'HolE':      UncalCalibrator  PlattCalibrator  IsotonicCalibrator\n",
                        "ece          0.08849         0.029658            0.007515}, 'DBpedia50': {'TransE':      UncalCalibrator  PlattCalibrator  IsotonicCalibrator\n",
                        "ece         0.339442         0.083063            0.051948, 'ComplEx':      UncalCalibrator  PlattCalibrator  IsotonicCalibrator\n",
                        "ece         0.283846         0.104068            0.061179, 'DistMult':      UncalCalibrator  PlattCalibrator  IsotonicCalibrator\n",
                        "ece         0.222802         0.153196            0.034354, 'HolE':      UncalCalibrator  PlattCalibrator  IsotonicCalibrator\n",
                        "ece         0.158272          0.13148            0.049033}, 'Nations': {'TransE':      UncalCalibrator  PlattCalibrator  IsotonicCalibrator\n",
                        "ece         0.082374         0.013722             0.03251, 'ComplEx':      UncalCalibrator  PlattCalibrator  IsotonicCalibrator\n",
                        "ece         0.450852         0.122293            0.037379, 'DistMult':      UncalCalibrator  PlattCalibrator  IsotonicCalibrator\n",
                        "ece         0.270293         0.086997            0.040758, 'HolE':      UncalCalibrator  PlattCalibrator  IsotonicCalibrator\n",
                        "ece         0.226044         0.027441            0.044447}, 'Kinship': {'TransE':      UncalCalibrator  PlattCalibrator  IsotonicCalibrator\n",
                        "ece         0.080654         0.019006            0.028253, 'ComplEx':      UncalCalibrator  PlattCalibrator  IsotonicCalibrator\n",
                        "ece         0.182461         0.146063             0.01581, 'DistMult':      UncalCalibrator  PlattCalibrator  IsotonicCalibrator\n",
                        "ece         0.074801         0.056353            0.016085, 'HolE':      UncalCalibrator  PlattCalibrator  IsotonicCalibrator\n",
                        "ece         0.071115         0.094954            0.022039}, 'UMLS': {'TransE':      UncalCalibrator  PlattCalibrator  IsotonicCalibrator\n",
                        "ece         0.209328         0.019613            0.021795, 'ComplEx':      UncalCalibrator  PlattCalibrator  IsotonicCalibrator\n",
                        "ece         0.121854         0.077503            0.011346, 'DistMult':      UncalCalibrator  PlattCalibrator  IsotonicCalibrator\n",
                        "ece         0.076127         0.067169            0.014611, 'HolE':      UncalCalibrator  PlattCalibrator  IsotonicCalibrator\n",
                        "ece         0.098298         0.054353            0.015398}}\n"
                    ]
                }
            ],
            "source": [
                "exp_res = exp.run_with_trained_kges()"
            ]
        },
        {
            "cell_type": "code",
            "execution_count": 6,
            "metadata": {},
            "outputs": [
                {
                    "name": "stdout",
                    "output_type": "stream",
                    "text": [
                        "FB13k TransE UncalCalibrator 0.4999789314006405\n",
                        "FB13k TransE PlattCalibrator 0.6719829765717175\n",
                        "FB13k TransE IsotonicCalibrator 0.6721936625653127\n",
                        "FB13k ComplEx UncalCalibrator 0.5538934771616383\n",
                        "FB13k ComplEx PlattCalibrator 0.6476908815101972\n",
                        "FB13k ComplEx IsotonicCalibrator 0.6927987527389179\n",
                        "FB13k DistMult UncalCalibrator 0.5748356649249958\n",
                        "FB13k DistMult PlattCalibrator 0.6133912017529075\n",
                        "FB13k DistMult IsotonicCalibrator 0.6421077026799258\n",
                        "FB13k HolE UncalCalibrator 0.5574119332546772\n",
                        "FB13k HolE PlattCalibrator 0.4878644867689196\n",
                        "FB13k HolE IsotonicCalibrator 0.6391159615708748\n",
                        "WN11 TransE UncalCalibrator 0.5074596569572719\n",
                        "WN11 TransE PlattCalibrator 0.882624581345783\n",
                        "WN11 TransE IsotonicCalibrator 0.8812544402719984\n",
                        "WN11 ComplEx UncalCalibrator 0.5592205419669136\n",
                        "WN11 ComplEx PlattCalibrator 0.5898711052471328\n",
                        "WN11 ComplEx IsotonicCalibrator 0.6226529990865726\n",
                        "WN11 DistMult UncalCalibrator 0.566020501370141\n",
                        "WN11 DistMult PlattCalibrator 0.6024561047396731\n",
                        "WN11 DistMult IsotonicCalibrator 0.6316350350147163\n",
                        "WN11 HolE UncalCalibrator 0.6208768902872221\n",
                        "WN11 HolE PlattCalibrator 0.6922257180554146\n",
                        "WN11 HolE IsotonicCalibrator 0.6976555363848574\n",
                        "YAGO39 TransE UncalCalibrator 0.5056713838176515\n",
                        "YAGO39 TransE PlattCalibrator 0.695257642864859\n",
                        "YAGO39 TransE IsotonicCalibrator 0.7202657448417414\n",
                        "YAGO39 ComplEx UncalCalibrator 0.8961326563681539\n",
                        "YAGO39 ComplEx PlattCalibrator 0.8995354866587447\n",
                        "YAGO39 ComplEx IsotonicCalibrator 0.9047747650426704\n",
                        "YAGO39 DistMult UncalCalibrator 0.8921896942854056\n",
                        "YAGO39 DistMult PlattCalibrator 0.8890029167116776\n",
                        "YAGO39 DistMult IsotonicCalibrator 0.8929998919736416\n",
                        "YAGO39 HolE UncalCalibrator 0.833801447553203\n",
                        "YAGO39 HolE PlattCalibrator 0.8524900075618451\n",
                        "YAGO39 HolE IsotonicCalibrator 0.852111915307335\n",
                        "DBpedia50 TransE UncalCalibrator 0.5\n",
                        "DBpedia50 TransE PlattCalibrator 0.8686844613918017\n",
                        "DBpedia50 TransE IsotonicCalibrator 0.8572449952335558\n",
                        "DBpedia50 ComplEx UncalCalibrator 0.6148713060057197\n",
                        "DBpedia50 ComplEx PlattCalibrator 0.6484747378455672\n",
                        "DBpedia50 ComplEx IsotonicCalibrator 0.6765967588179218\n",
                        "DBpedia50 DistMult UncalCalibrator 0.6570543374642517\n",
                        "DBpedia50 DistMult PlattCalibrator 0.6987607244995233\n",
                        "DBpedia50 DistMult IsotonicCalibrator 0.7159199237368923\n",
                        "DBpedia50 HolE UncalCalibrator 0.6496663489037178\n",
                        "DBpedia50 HolE PlattCalibrator 0.7483317445185891\n",
                        "DBpedia50 HolE IsotonicCalibrator 0.7504766444232602\n",
                        "UMLS TransE UncalCalibrator 0.5\n",
                        "UMLS TransE PlattCalibrator 0.783661119515885\n",
                        "UMLS TransE IsotonicCalibrator 0.7806354009077155\n",
                        "UMLS ComplEx UncalCalibrator 0.8419062027231468\n",
                        "UMLS ComplEx PlattCalibrator 0.8978819969742814\n",
                        "UMLS ComplEx IsotonicCalibrator 0.9077155824508321\n",
                        "UMLS DistMult UncalCalibrator 0.8517397881996974\n",
                        "UMLS DistMult PlattCalibrator 0.8767019667170953\n",
                        "UMLS DistMult IsotonicCalibrator 0.8819969742813918\n",
                        "UMLS HolE UncalCalibrator 0.867624810892587\n",
                        "UMLS HolE PlattCalibrator 0.8751891074130106\n",
                        "UMLS HolE IsotonicCalibrator 0.875945537065053\n",
                        "Kinship TransE UncalCalibrator 0.5\n",
                        "Kinship TransE PlattCalibrator 0.527001862197393\n",
                        "Kinship TransE IsotonicCalibrator 0.5381750465549349\n",
                        "Kinship ComplEx UncalCalibrator 0.7197392923649907\n",
                        "Kinship ComplEx PlattCalibrator 0.7462756052141527\n",
                        "Kinship ComplEx IsotonicCalibrator 0.8044692737430168\n",
                        "Kinship DistMult UncalCalibrator 0.86731843575419\n",
                        "Kinship DistMult PlattCalibrator 0.8957169459962756\n",
                        "Kinship DistMult IsotonicCalibrator 0.8971135940409684\n",
                        "Kinship HolE UncalCalibrator 0.8063314711359404\n",
                        "Kinship HolE PlattCalibrator 0.8081936685288641\n",
                        "Kinship HolE IsotonicCalibrator 0.8035381750465549\n",
                        "Nations TransE UncalCalibrator 0.5\n",
                        "Nations TransE PlattCalibrator 0.5174129353233831\n",
                        "Nations TransE IsotonicCalibrator 0.5024875621890548\n",
                        "Nations ComplEx UncalCalibrator 0.4129353233830846\n",
                        "Nations ComplEx PlattCalibrator 0.4079601990049751\n",
                        "Nations ComplEx IsotonicCalibrator 0.5373134328358209\n",
                        "Nations DistMult UncalCalibrator 0.4925373134328358\n",
                        "Nations DistMult PlattCalibrator 0.5373134328358209\n",
                        "Nations DistMult IsotonicCalibrator 0.5796019900497512\n",
                        "Nations HolE UncalCalibrator 0.5024875621890548\n",
                        "Nations HolE PlattCalibrator 0.5248756218905473\n",
                        "Nations HolE IsotonicCalibrator 0.5149253731343284\n"
                    ]
                }
            ],
            "source": []
        },
        {
            "cell_type": "code",
            "execution_count": null,
            "metadata": {},
            "outputs": [],
            "source": []
        }
    ],
    "metadata": {
        "kernelspec": {
            "display_name": "Python 3.7.6 ('.venv': pipenv)",
            "language": "python",
            "name": "python3"
        },
        "language_info": {
            "codemirror_mode": {
                "name": "ipython",
                "version": 3
            },
            "file_extension": ".py",
            "mimetype": "text/x-python",
            "name": "python",
            "nbconvert_exporter": "python",
            "pygments_lexer": "ipython3",
            "version": "3.7.6"
        },
        "orig_nbformat": 4,
        "vscode": {
            "interpreter": {
                "hash": "f1fad10ccd2b4b46f8acf96792776d8c0d9c66065bac33c6726f0b6a90e208ea"
            }
        }
    },
    "nbformat": 4,
    "nbformat_minor": 2
}
