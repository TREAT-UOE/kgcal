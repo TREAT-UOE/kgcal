{
 "cells": [
  {
   "cell_type": "code",
   "execution_count": 2,
   "metadata": {},
   "outputs": [],
   "source": [
    "import sys\n",
    "# enable importing the modules from probcalkge\n",
    "sys.path.append('../')\n",
    "sys.path.append('../probcalkge')"
   ]
  },
  {
   "cell_type": "code",
   "execution_count": 3,
   "metadata": {},
   "outputs": [],
   "source": [
    "import importlib\n",
    "from pprint import pprint\n",
    "import numpy as np\n",
    "import pandas as pd"
   ]
  },
  {
   "cell_type": "code",
   "execution_count": 60,
   "metadata": {},
   "outputs": [],
   "source": [
    "from probcalkge import Experiment, DatasetWrapper, ExperimentDatasets\n",
    "from probcalkge import get_datasets, get_calibrators, get_kgemodels\n",
    "from probcalkge import brier_score, negative_log_loss, ks_error"
   ]
  },
  {
   "cell_type": "code",
   "execution_count": 22,
   "metadata": {},
   "outputs": [
    {
     "name": "stdout",
     "output_type": "stream",
     "text": [
      "WARNING - All triples will be processed in the same batch (batches_count=1). When processing large graphs it is recommended to batch the input knowledge graph instead.\n"
     ]
    }
   ],
   "source": [
    "ds = get_datasets()\n",
    "cals = get_calibrators()\n",
    "kges = get_kgemodels()"
   ]
  },
  {
   "cell_type": "code",
   "execution_count": 61,
   "metadata": {},
   "outputs": [],
   "source": [
    "def dataset_stats(ds: ExperimentDatasets) -> pd.DataFrame:\n",
    "    vals = []\n",
    "    rows = []\n",
    "    cols = ['train', 'valid', 'test']\n",
    "    for i in ds:\n",
    "        rows.append(i.name)\n",
    "        vals.append(i.stats)\n",
    "    return pd.DataFrame(vals, index=rows, columns=cols)"
   ]
  },
  {
   "cell_type": "code",
   "execution_count": 27,
   "metadata": {},
   "outputs": [
    {
     "data": {
      "text/html": [
       "<div>\n",
       "<style scoped>\n",
       "    .dataframe tbody tr th:only-of-type {\n",
       "        vertical-align: middle;\n",
       "    }\n",
       "\n",
       "    .dataframe tbody tr th {\n",
       "        vertical-align: top;\n",
       "    }\n",
       "\n",
       "    .dataframe thead th {\n",
       "        text-align: right;\n",
       "    }\n",
       "</style>\n",
       "<table border=\"1\" class=\"dataframe\">\n",
       "  <thead>\n",
       "    <tr style=\"text-align: right;\">\n",
       "      <th></th>\n",
       "      <th>train</th>\n",
       "      <th>valid</th>\n",
       "      <th>test</th>\n",
       "    </tr>\n",
       "  </thead>\n",
       "  <tbody>\n",
       "    <tr>\n",
       "      <th>FB13k</th>\n",
       "      <td>316232</td>\n",
       "      <td>11816</td>\n",
       "      <td>47464</td>\n",
       "    </tr>\n",
       "    <tr>\n",
       "      <th>WN11</th>\n",
       "      <td>110361</td>\n",
       "      <td>4877</td>\n",
       "      <td>19706</td>\n",
       "    </tr>\n",
       "    <tr>\n",
       "      <th>YAGO39</th>\n",
       "      <td>354994</td>\n",
       "      <td>18474</td>\n",
       "      <td>18514</td>\n",
       "    </tr>\n",
       "    <tr>\n",
       "      <th>DBpedia50</th>\n",
       "      <td>32388</td>\n",
       "      <td>246</td>\n",
       "      <td>4196</td>\n",
       "    </tr>\n",
       "    <tr>\n",
       "      <th>UMLS</th>\n",
       "      <td>5216</td>\n",
       "      <td>1304</td>\n",
       "      <td>1322</td>\n",
       "    </tr>\n",
       "    <tr>\n",
       "      <th>Kinship</th>\n",
       "      <td>8544</td>\n",
       "      <td>2136</td>\n",
       "      <td>2148</td>\n",
       "    </tr>\n",
       "    <tr>\n",
       "      <th>Nations</th>\n",
       "      <td>1592</td>\n",
       "      <td>398</td>\n",
       "      <td>402</td>\n",
       "    </tr>\n",
       "  </tbody>\n",
       "</table>\n",
       "</div>"
      ],
      "text/plain": [
       "            train  valid   test\n",
       "FB13k      316232  11816  47464\n",
       "WN11       110361   4877  19706\n",
       "YAGO39     354994  18474  18514\n",
       "DBpedia50   32388    246   4196\n",
       "UMLS         5216   1304   1322\n",
       "Kinship      8544   2136   2148\n",
       "Nations      1592    398    402"
      ]
     },
     "execution_count": 27,
     "metadata": {},
     "output_type": "execute_result"
    }
   ],
   "source": [
    "df = dataset_stats(ds)\n",
    "df"
   ]
  },
  {
   "cell_type": "code",
   "execution_count": 28,
   "metadata": {},
   "outputs": [],
   "source": [
    "import random\n",
    "from probcalkge import DatasetWrapper\n",
    "\n",
    "def shrink_dataset(ds: DatasetWrapper, perc=0.5) -> DatasetWrapper:\n",
    "    '''\n",
    "    Shrink the size of dataset training samples by randon sampling\n",
    "    '''\n",
    "    new_X_train = random.sample(ds.X_train.tolist(), int(perc * len(ds.X_train)))\n",
    "    new_X_train = np.array(new_X_train)\n",
    "    new_X_ents = set(new_X_train[:, 0]).union(set(new_X_train[:, 2]))\n",
    "    new_X_rels = set(new_X_train[:, 1])\n",
    "\n",
    "    new_X_valid, new_y_valid = [], []\n",
    "    for X, y in zip(ds.X_valid, ds.y_valid):\n",
    "        if X[0] in new_X_ents and X[2] in new_X_ents and X[1] in new_X_rels:\n",
    "            new_X_valid.append(X.tolist())\n",
    "            new_y_valid.append(y)\n",
    "    new_X_valid, new_y_valid = np.array(new_X_valid), np.array(new_y_valid)\n",
    "    \n",
    "    new_X_test, new_y_test = [], []\n",
    "    for X, y in zip(ds.X_test, ds.y_test):\n",
    "        if X[0] in new_X_ents and X[2] in new_X_ents and X[1] in new_X_rels:\n",
    "            new_X_test.append(X.tolist())\n",
    "            new_y_test.append(y)\n",
    "    new_X_test, new_y_test = np.array(new_X_test), np.array(new_y_test)\n",
    "\n",
    "    return DatasetWrapper(f'{ds.name}-shrinked({perc})',\n",
    "                            new_X_train,\n",
    "                            new_X_valid, new_y_valid,\n",
    "                            new_X_test, new_y_test\n",
    "    )\n"
   ]
  },
  {
   "cell_type": "code",
   "execution_count": 41,
   "metadata": {},
   "outputs": [],
   "source": [
    "new_fb = shrink_dataset(ds.fb13, perc=0.1)\n",
    "new_wn = shrink_dataset(ds.wn18, perc=0.1)"
   ]
  },
  {
   "cell_type": "code",
   "execution_count": 51,
   "metadata": {},
   "outputs": [],
   "source": [
    "exp = Experiment(\n",
    "    cals=[cals.uncal, cals.platt, cals.isot, cals.histbin, cals.beta], \n",
    "    datasets=[new_fb, new_wn], \n",
    "    kges=[kges.transE, kges.complEx, kges.distMult, kges.hoLE], \n",
    "    metrics=[brier_score, negative_log_loss, ks_error]\n",
    "    )"
   ]
  },
  {
   "cell_type": "code",
   "execution_count": 54,
   "metadata": {},
   "outputs": [
    {
     "name": "stdout",
     "output_type": "stream",
     "text": [
      "training TransE on FB13k-shrinked(0.1) ...\n"
     ]
    },
    {
     "name": "stderr",
     "output_type": "stream",
     "text": [
      "Average TransE Loss:   1.136442: 100%|██████████| 100/100 [04:08<00:00,  2.48s/epoch]\n"
     ]
    },
    {
     "name": "stdout",
     "output_type": "stream",
     "text": [
      "training TransE on WN11-shrinked(0.1) ...\n"
     ]
    },
    {
     "name": "stderr",
     "output_type": "stream",
     "text": [
      "Average TransE Loss:   0.979976: 100%|██████████| 100/100 [02:01<00:00,  1.21s/epoch]\n"
     ]
    },
    {
     "name": "stdout",
     "output_type": "stream",
     "text": [
      "training ComplEx on FB13k-shrinked(0.1) ...\n"
     ]
    },
    {
     "name": "stderr",
     "output_type": "stream",
     "text": [
      "Average ComplEx Loss:   0.068007: 100%|██████████| 100/100 [07:44<00:00,  4.65s/epoch]\n"
     ]
    },
    {
     "name": "stdout",
     "output_type": "stream",
     "text": [
      "training ComplEx on WN11-shrinked(0.1) ...\n"
     ]
    },
    {
     "name": "stderr",
     "output_type": "stream",
     "text": [
      "Average ComplEx Loss:   0.107224: 100%|██████████| 100/100 [03:45<00:00,  2.25s/epoch]\n"
     ]
    },
    {
     "name": "stdout",
     "output_type": "stream",
     "text": [
      "training DistMult on FB13k-shrinked(0.1) ...\n"
     ]
    },
    {
     "name": "stderr",
     "output_type": "stream",
     "text": [
      "Average DistMult Loss:   0.121999: 100%|██████████| 100/100 [03:53<00:00,  2.34s/epoch]\n"
     ]
    },
    {
     "name": "stdout",
     "output_type": "stream",
     "text": [
      "training DistMult on WN11-shrinked(0.1) ...\n"
     ]
    },
    {
     "name": "stderr",
     "output_type": "stream",
     "text": [
      "Average DistMult Loss:   0.493793: 100%|██████████| 100/100 [01:54<00:00,  1.14s/epoch]\n"
     ]
    },
    {
     "name": "stdout",
     "output_type": "stream",
     "text": [
      "training HolE on FB13k-shrinked(0.1) ...\n"
     ]
    },
    {
     "name": "stderr",
     "output_type": "stream",
     "text": [
      "Average HolE Loss:   0.530168: 100%|██████████| 100/100 [07:47<00:00,  4.67s/epoch]\n"
     ]
    },
    {
     "name": "stdout",
     "output_type": "stream",
     "text": [
      "training HolE on WN11-shrinked(0.1) ...\n"
     ]
    },
    {
     "name": "stderr",
     "output_type": "stream",
     "text": [
      "Average HolE Loss:   0.747235: 100%|██████████| 100/100 [03:47<00:00,  2.28s/epoch]\n"
     ]
    },
    {
     "name": "stdout",
     "output_type": "stream",
     "text": [
      "training various calibrators for TransE on FB13k-shrinked(0.1) ...\n",
      "True\n",
      "training various calibrators for ComplEx on FB13k-shrinked(0.1) ...\n",
      "False\n",
      "training various calibrators for DistMult on FB13k-shrinked(0.1) ...\n",
      "False\n",
      "training various calibrators for HolE on FB13k-shrinked(0.1) ...\n",
      "True\n",
      "training various calibrators for TransE on WN11-shrinked(0.1) ...\n",
      "True\n",
      "training various calibrators for ComplEx on WN11-shrinked(0.1) ...\n",
      "True\n",
      "training various calibrators for DistMult on WN11-shrinked(0.1) ...\n",
      "True\n",
      "training various calibrators for HolE on WN11-shrinked(0.1) ...\n",
      "True\n",
      "{'FB13k-shrinked(0.1)': {'TransE':                    UncalCalibrator  PlattCalibrator  IsotonicCalibrator  \\\n",
      "brier_score               0.421575         0.226644            0.224566   \n",
      "negative_log_loss         1.266595         0.644602            0.652227   \n",
      "ks_error                  0.437952         0.015020            0.003566   \n",
      "\n",
      "                   HistogramBinningCalibrator  BetaCalibrator  \n",
      "brier_score                          0.226299        0.225886  \n",
      "negative_log_loss                    0.644815        0.642730  \n",
      "ks_error                             0.004673        0.010380  , 'ComplEx':                    UncalCalibrator  PlattCalibrator  IsotonicCalibrator  \\\n",
      "brier_score               0.461793         0.245203            0.242834   \n",
      "negative_log_loss         3.563562         0.683507            0.678665   \n",
      "ks_error                  0.289216         0.038441            0.003503   \n",
      "\n",
      "                   HistogramBinningCalibrator  BetaCalibrator  \n",
      "brier_score                          0.236070        0.244338  \n",
      "negative_log_loss                    0.664879        0.681763  \n",
      "ks_error                             0.004122        0.041720  , 'DistMult':                    UncalCalibrator  PlattCalibrator  IsotonicCalibrator  \\\n",
      "brier_score               0.443821         0.245083            0.239511   \n",
      "negative_log_loss         3.075682         0.683247            0.671705   \n",
      "ks_error                  0.273247         0.047770            0.003448   \n",
      "\n",
      "                   HistogramBinningCalibrator  BetaCalibrator  \n",
      "brier_score                          0.220835        0.243018  \n",
      "negative_log_loss                    0.633334        0.679113  \n",
      "ks_error                             0.004676        0.052116  , 'HolE':                    UncalCalibrator  PlattCalibrator  IsotonicCalibrator  \\\n",
      "brier_score               0.364205         0.245498            0.236832   \n",
      "negative_log_loss         1.391660         0.684116            0.674510   \n",
      "ks_error                  0.205270         0.041123            0.003736   \n",
      "\n",
      "                   HistogramBinningCalibrator  BetaCalibrator  \n",
      "brier_score                          0.214397        0.241811  \n",
      "negative_log_loss                    0.619515        0.675834  \n",
      "ks_error                             0.005486        0.057371  }, 'WN11-shrinked(0.1)': {'TransE':                    UncalCalibrator  PlattCalibrator  IsotonicCalibrator  \\\n",
      "brier_score               0.522183         0.239474            0.234235   \n",
      "negative_log_loss         2.154216         0.670634            0.666283   \n",
      "ks_error                  0.532700         0.030704            0.009247   \n",
      "\n",
      "                   HistogramBinningCalibrator  BetaCalibrator  \n",
      "brier_score                          0.238740        0.234808  \n",
      "negative_log_loss                    0.670319        0.658510  \n",
      "ks_error                             0.010899        0.013203  , 'ComplEx':                    UncalCalibrator  PlattCalibrator  IsotonicCalibrator  \\\n",
      "brier_score               0.416853         0.245166            0.245748   \n",
      "negative_log_loss         1.592757         0.683429            0.702466   \n",
      "ks_error                  0.335301         0.023184            0.011415   \n",
      "\n",
      "                   HistogramBinningCalibrator  BetaCalibrator  \n",
      "brier_score                          0.246849        0.245590  \n",
      "negative_log_loss                    0.687146        0.684298  \n",
      "ks_error                             0.012539        0.025708  , 'DistMult':                    UncalCalibrator  PlattCalibrator  IsotonicCalibrator  \\\n",
      "brier_score               0.311172         0.245990            0.246646   \n",
      "negative_log_loss         0.890237         0.685113            0.740536   \n",
      "ks_error                  0.171569         0.018215            0.015843   \n",
      "\n",
      "                   HistogramBinningCalibrator  BetaCalibrator  \n",
      "brier_score                          0.246362        0.246272  \n",
      "negative_log_loss                    0.722106        0.685814  \n",
      "ks_error                             0.014615        0.016981  , 'HolE':                    UncalCalibrator  PlattCalibrator  IsotonicCalibrator  \\\n",
      "brier_score               0.254227         0.245427            0.245683   \n",
      "negative_log_loss         0.702604         0.683940            0.691846   \n",
      "ks_error                  0.067155         0.020349            0.013243   \n",
      "\n",
      "                   HistogramBinningCalibrator  BetaCalibrator  \n",
      "brier_score                          0.245587        0.245186  \n",
      "negative_log_loss                    0.710289        0.683545  \n",
      "ks_error                             0.012714        0.017448  }}\n"
     ]
    },
    {
     "data": {
      "text/plain": [
       "<experiment.ExperimentResult at 0x29aba5cb388>"
      ]
     },
     "execution_count": 54,
     "metadata": {},
     "output_type": "execute_result"
    }
   ],
   "source": [
    "exp.run()"
   ]
  },
  {
   "cell_type": "code",
   "execution_count": 56,
   "metadata": {},
   "outputs": [],
   "source": [
    "# exp_res = exp.run_with_trained_kges()\n",
    "exp_res = _"
   ]
  },
  {
   "cell_type": "code",
   "execution_count": 57,
   "metadata": {},
   "outputs": [
    {
     "data": {
      "text/html": [
       "<div>\n",
       "<style scoped>\n",
       "    .dataframe tbody tr th:only-of-type {\n",
       "        vertical-align: middle;\n",
       "    }\n",
       "\n",
       "    .dataframe tbody tr th {\n",
       "        vertical-align: top;\n",
       "    }\n",
       "\n",
       "    .dataframe thead th {\n",
       "        text-align: right;\n",
       "    }\n",
       "</style>\n",
       "<table border=\"1\" class=\"dataframe\">\n",
       "  <thead>\n",
       "    <tr style=\"text-align: right;\">\n",
       "      <th></th>\n",
       "      <th></th>\n",
       "      <th></th>\n",
       "      <th></th>\n",
       "      <th>ExpRes</th>\n",
       "    </tr>\n",
       "    <tr>\n",
       "      <th>dataset</th>\n",
       "      <th>kge</th>\n",
       "      <th>cal</th>\n",
       "      <th>metric</th>\n",
       "      <th></th>\n",
       "    </tr>\n",
       "  </thead>\n",
       "  <tbody>\n",
       "    <tr>\n",
       "      <th rowspan=\"5\" valign=\"top\">FB13k-shrinked(0.1)</th>\n",
       "      <th rowspan=\"5\" valign=\"top\">TransE</th>\n",
       "      <th rowspan=\"3\" valign=\"top\">UncalCalibrator</th>\n",
       "      <th>brier_score</th>\n",
       "      <td>0.421575</td>\n",
       "    </tr>\n",
       "    <tr>\n",
       "      <th>negative_log_loss</th>\n",
       "      <td>1.266595</td>\n",
       "    </tr>\n",
       "    <tr>\n",
       "      <th>ks_error</th>\n",
       "      <td>0.437952</td>\n",
       "    </tr>\n",
       "    <tr>\n",
       "      <th rowspan=\"2\" valign=\"top\">PlattCalibrator</th>\n",
       "      <th>brier_score</th>\n",
       "      <td>0.226644</td>\n",
       "    </tr>\n",
       "    <tr>\n",
       "      <th>negative_log_loss</th>\n",
       "      <td>0.644602</td>\n",
       "    </tr>\n",
       "    <tr>\n",
       "      <th>...</th>\n",
       "      <th>...</th>\n",
       "      <th>...</th>\n",
       "      <th>...</th>\n",
       "      <td>...</td>\n",
       "    </tr>\n",
       "    <tr>\n",
       "      <th rowspan=\"5\" valign=\"top\">WN11-shrinked(0.1)</th>\n",
       "      <th rowspan=\"5\" valign=\"top\">HolE</th>\n",
       "      <th rowspan=\"2\" valign=\"top\">HistogramBinningCalibrator</th>\n",
       "      <th>negative_log_loss</th>\n",
       "      <td>0.710289</td>\n",
       "    </tr>\n",
       "    <tr>\n",
       "      <th>ks_error</th>\n",
       "      <td>0.012714</td>\n",
       "    </tr>\n",
       "    <tr>\n",
       "      <th rowspan=\"3\" valign=\"top\">BetaCalibrator</th>\n",
       "      <th>brier_score</th>\n",
       "      <td>0.245186</td>\n",
       "    </tr>\n",
       "    <tr>\n",
       "      <th>negative_log_loss</th>\n",
       "      <td>0.683545</td>\n",
       "    </tr>\n",
       "    <tr>\n",
       "      <th>ks_error</th>\n",
       "      <td>0.017448</td>\n",
       "    </tr>\n",
       "  </tbody>\n",
       "</table>\n",
       "<p>120 rows × 1 columns</p>\n",
       "</div>"
      ],
      "text/plain": [
       "                                                                           ExpRes\n",
       "dataset             kge    cal                        metric                     \n",
       "FB13k-shrinked(0.1) TransE UncalCalibrator            brier_score        0.421575\n",
       "                                                      negative_log_loss  1.266595\n",
       "                                                      ks_error           0.437952\n",
       "                           PlattCalibrator            brier_score        0.226644\n",
       "                                                      negative_log_loss  0.644602\n",
       "...                                                                           ...\n",
       "WN11-shrinked(0.1)  HolE   HistogramBinningCalibrator negative_log_loss  0.710289\n",
       "                                                      ks_error           0.012714\n",
       "                           BetaCalibrator             brier_score        0.245186\n",
       "                                                      negative_log_loss  0.683545\n",
       "                                                      ks_error           0.017448\n",
       "\n",
       "[120 rows x 1 columns]"
      ]
     },
     "execution_count": 57,
     "metadata": {},
     "output_type": "execute_result"
    }
   ],
   "source": [
    "exp_res.to_frame()"
   ]
  },
  {
   "cell_type": "code",
   "execution_count": 58,
   "metadata": {},
   "outputs": [],
   "source": [
    "newdf = exp_res.to_frame().pivot_table(values='ExpRes', index=['dataset', 'kge', 'metric'], columns=['cal'])"
   ]
  },
  {
   "cell_type": "code",
   "execution_count": 59,
   "metadata": {},
   "outputs": [
    {
     "data": {
      "text/plain": [
       "dataset              kge       metric           \n",
       "FB13k-shrinked(0.1)  TransE    brier_score                  IsotonicCalibrator\n",
       "                               negative_log_loss                BetaCalibrator\n",
       "                               ks_error                     IsotonicCalibrator\n",
       "                     ComplEx   brier_score          HistogramBinningCalibrator\n",
       "                               negative_log_loss    HistogramBinningCalibrator\n",
       "                               ks_error                     IsotonicCalibrator\n",
       "                     DistMult  brier_score          HistogramBinningCalibrator\n",
       "                               negative_log_loss    HistogramBinningCalibrator\n",
       "                               ks_error                     IsotonicCalibrator\n",
       "                     HolE      brier_score          HistogramBinningCalibrator\n",
       "                               negative_log_loss    HistogramBinningCalibrator\n",
       "                               ks_error                     IsotonicCalibrator\n",
       "WN11-shrinked(0.1)   TransE    brier_score                  IsotonicCalibrator\n",
       "                               negative_log_loss                BetaCalibrator\n",
       "                               ks_error                     IsotonicCalibrator\n",
       "                     ComplEx   brier_score                     PlattCalibrator\n",
       "                               negative_log_loss               PlattCalibrator\n",
       "                               ks_error                     IsotonicCalibrator\n",
       "                     DistMult  brier_score                     PlattCalibrator\n",
       "                               negative_log_loss               PlattCalibrator\n",
       "                               ks_error             HistogramBinningCalibrator\n",
       "                     HolE      brier_score                      BetaCalibrator\n",
       "                               negative_log_loss                BetaCalibrator\n",
       "                               ks_error             HistogramBinningCalibrator\n",
       "dtype: object"
      ]
     },
     "execution_count": 59,
     "metadata": {},
     "output_type": "execute_result"
    }
   ],
   "source": [
    "newdf.idxmin(axis=1)"
   ]
  },
  {
   "cell_type": "code",
   "execution_count": 62,
   "metadata": {},
   "outputs": [
    {
     "data": {
      "text/plain": [
       "(31623, 4425, 17749)"
      ]
     },
     "execution_count": 62,
     "metadata": {},
     "output_type": "execute_result"
    }
   ],
   "source": [
    "new_fb.stats"
   ]
  },
  {
   "cell_type": "code",
   "execution_count": 66,
   "metadata": {},
   "outputs": [
    {
     "data": {
      "text/plain": [
       "(11036, 1218, 5169)"
      ]
     },
     "execution_count": 66,
     "metadata": {},
     "output_type": "execute_result"
    }
   ],
   "source": [
    "new_wn.stats"
   ]
  },
  {
   "cell_type": "code",
   "execution_count": null,
   "metadata": {},
   "outputs": [],
   "source": []
  }
 ],
 "metadata": {
  "kernelspec": {
   "display_name": "Python 3.7.9 64-bit",
   "language": "python",
   "name": "python3"
  },
  "language_info": {
   "codemirror_mode": {
    "name": "ipython",
    "version": 3
   },
   "file_extension": ".py",
   "mimetype": "text/x-python",
   "name": "python",
   "nbconvert_exporter": "python",
   "pygments_lexer": "ipython3",
   "version": "3.7.9"
  },
  "orig_nbformat": 4,
  "vscode": {
   "interpreter": {
    "hash": "7b178e119e4111afd45c671d3d5383cdbff08d6f552311dae44ea905ddd61387"
   }
  }
 },
 "nbformat": 4,
 "nbformat_minor": 2
}
