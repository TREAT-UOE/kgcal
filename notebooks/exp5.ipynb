{
 "cells": [
  {
   "cell_type": "code",
   "execution_count": 1,
   "metadata": {},
   "outputs": [],
   "source": [
    "import sys\n",
    "# enable importing the modules from probcalkge\n",
    "sys.path.append('../')\n",
    "sys.path.append('../probcalkge')\n",
    "\n",
    "import numpy as np\n",
    "import pandas as pd\n",
    "\n",
    "from probcalkge import Experiment, ExperimentResult\n",
    "from probcalkge import get_calibrators\n",
    "from probcalkge import get_datasets,  get_kgemodels\n",
    "from probcalkge import brier_score, negative_log_loss, ks_error, ece"
   ]
  },
  {
   "cell_type": "code",
   "execution_count": 2,
   "metadata": {},
   "outputs": [
    {
     "name": "stdout",
     "output_type": "stream",
     "text": [
      "WARNING - All triples will be processed in the same batch (batches_count=1). When processing large graphs it is recommended to batch the input knowledge graph instead.\n"
     ]
    }
   ],
   "source": [
    "cals = get_calibrators()\n",
    "kges = get_kgemodels()\n",
    "ds = get_datasets()"
   ]
  },
  {
   "cell_type": "code",
   "execution_count": null,
   "metadata": {},
   "outputs": [],
   "source": [
    "exp = Experiment(\n",
    "    cals=[cals.uncal, cals.platt, cals.isot, ], \n",
    "    datasets=[ds.fb13, ds.wn18, ds.yago39, ds.dp50, ds.nations, ds.kinship, ds.umls], \n",
    "    kges=[kges.transE, kges.complEx, kges.distMult, kges.hoLE], \n",
    "    metrics=[ece]\n",
    "    )"
   ]
  },
  {
   "cell_type": "code",
   "execution_count": 30,
   "metadata": {},
   "outputs": [
    {
     "name": "stderr",
     "output_type": "stream",
     "text": [
      "Average TransE Loss:   1.036733: 100%|██████████| 100/100 [48:19<00:00, 28.99s/epoch]\n"
     ]
    }
   ],
   "source": [
    "from ampligraph.latent_features import TransE, ComplEx\n",
    "from ampligraph.utils import save_model\n",
    "from ampligraph.latent_features.regularizers import LPRegularizer\n",
    "hyperparams = {\n",
    "        'verbose': True,\n",
    "        'epochs': 100,\n",
    "        'regularizer': 'LP',\n",
    "\n",
    "        # taken from https://arxiv.org/abs/1912.10000\n",
    "        'k': 100,\n",
    "        'optimizer': 'adam',\n",
    "        'loss': 'nll',\n",
    "        'eta': 20,\n",
    "        'optimizer_params': {'lr': 1e-4},\n",
    "        # 'epochs': 1000,\n",
    "    }\n",
    "\n",
    "model4 = TransE(**hyperparams)\n",
    "model4.fit(ds.fb13.X_train)\n",
    "save_model(model4, 'transE-fb13-reg.pkl')"
   ]
  },
  {
   "cell_type": "code",
   "execution_count": 6,
   "metadata": {},
   "outputs": [
    {
     "name": "stderr",
     "output_type": "stream",
     "text": [
      "Average ComplEx Loss:   0.070795: 100%|██████████| 300/300 [6:12:19<00:00, 74.47s/epoch]  \n"
     ]
    }
   ],
   "source": [
    "hyperparams = {\n",
    "        'verbose': True,\n",
    "        'epochs': 300,\n",
    "\n",
    "        # taken from https://arxiv.org/abs/1912.10000\n",
    "        'k': 100,\n",
    "        'optimizer': 'adam',\n",
    "        'loss': 'pairwise',\n",
    "        'eta': 20,\n",
    "        'optimizer_params': {'lr': 1e-4},\n",
    "        # 'epochs': 1000,\n",
    "    }\n",
    "\n",
    "model2 = ComplEx(**hyperparams)\n",
    "model2.fit(ds.fb13.X_train)\n",
    "save_model(model2, 'COmplex-fb13-1000-pairwise.pkl')"
   ]
  },
  {
   "cell_type": "code",
   "execution_count": 16,
   "metadata": {},
   "outputs": [
    {
     "data": {
      "text/plain": [
       "0.4999789314006405"
      ]
     },
     "execution_count": 16,
     "metadata": {},
     "output_type": "execute_result"
    }
   ],
   "source": []
  },
  {
   "cell_type": "code",
   "execution_count": 17,
   "metadata": {},
   "outputs": [
    {
     "name": "stderr",
     "output_type": "stream",
     "text": [
      "Average ComplEx Loss:   0.824892: 100%|██████████| 100/100 [2:20:26<00:00, 84.26s/epoch]  \n"
     ]
    }
   ],
   "source": [
    "from ampligraph.latent_features.regularizers import LPRegularizer\n",
    "hyperparams = {\n",
    "        'verbose': True,\n",
    "        'epochs': 100,\n",
    "        'regularizer': 'LP',\n",
    "\n",
    "        # taken from https://arxiv.org/abs/1912.10000\n",
    "        'k': 100,\n",
    "        'optimizer': 'adam',\n",
    "        'loss': 'self_adversarial',\n",
    "        'eta': 20,\n",
    "        'optimizer_params': {'lr': 1e-4},\n",
    "        # 'epochs': 1000,\n",
    "    }\n",
    "\n",
    "model3 = ComplEx(**hyperparams)\n",
    "model3.fit(ds.fb13.X_train)\n",
    "save_model(model3, 'COmplex-fb13-1000-adver.pkl')"
   ]
  },
  {
   "cell_type": "code",
   "execution_count": 39,
   "metadata": {},
   "outputs": [
    {
     "data": {
      "text/plain": [
       "(array([  578.,   718.,  1190.,  1781.,  2722.,  5212.,  6783., 11311.,\n",
       "         5159., 12010.]),\n",
       " array([0.        , 0.0493    , 0.0986    , 0.1479    , 0.1972    ,\n",
       "        0.2465    , 0.2958    , 0.3451    , 0.3944    , 0.44370002,\n",
       "        0.493     ], dtype=float32),\n",
       " <BarContainer object of 10 artists>)"
      ]
     },
     "execution_count": 39,
     "metadata": {},
     "output_type": "execute_result"
    },
    {
     "data": {
      "image/png": "[encoded data removed]",
      "text/plain": [
       "<Figure size 432x288 with 1 Axes>"
      ]
     },
     "metadata": {
      "needs_background": "light"
     },
     "output_type": "display_data"
    }
   ],
   "source": [
    "probs = expit(2*model4.predict(ds.fb13.X_test)).round(3)\n",
    "accuracy_score(ds.fb13.y_test, probs>0.5)\n",
    "plt.hist(probs)"
   ]
  },
  {
   "cell_type": "code",
   "execution_count": null,
   "metadata": {},
   "outputs": [],
   "source": []
  }
 ],
 "metadata": {
  "kernelspec": {
   "display_name": "Python 3.7.6 ('.venv': pipenv)",
   "language": "python",
   "name": "python3"
  },
  "language_info": {
   "codemirror_mode": {
    "name": "ipython",
    "version": 3
   },
   "file_extension": ".py",
   "mimetype": "text/x-python",
   "name": "python",
   "nbconvert_exporter": "python",
   "pygments_lexer": "ipython3",
   "version": "3.7.6"
  },
  "orig_nbformat": 4,
  "vscode": {
   "interpreter": {
    "hash": "f1fad10ccd2b4b46f8acf96792776d8c0d9c66065bac33c6726f0b6a90e208ea"
   }
  }
 },
 "nbformat": 4,
 "nbformat_minor": 2
}
