{
 "cells": [
  {
   "cell_type": "code",
   "execution_count": 9,
   "metadata": {},
   "outputs": [],
   "source": [
    "import sys\n",
    "# enable importing the modules from probcalkge\n",
    "sys.path.append('../')\n",
    "sys.path.append('../probcalkge')\n",
    "\n",
    "import numpy as np\n",
    "import pandas as pd\n",
    "import matplotlib.pyplot as plt\n",
    "\n",
    "from probcalkge import Experiment, ExperimentResult\n",
    "from probcalkge import get_calibrators\n",
    "from probcalkge import get_datasets,  get_kgemodels\n",
    "from probcalkge import brier_score, negative_log_loss, ks_error, ece"
   ]
  },
  {
   "cell_type": "code",
   "execution_count": 2,
   "metadata": {},
   "outputs": [
    {
     "name": "stdout",
     "output_type": "stream",
     "text": [
      "WARNING - All triples will be processed in the same batch (batches_count=1). When processing large graphs it is recommended to batch the input knowledge graph instead.\n"
     ]
    }
   ],
   "source": [
    "cals = get_calibrators()\n",
    "kges = get_kgemodels()\n",
    "ds = get_datasets()"
   ]
  },
  {
   "cell_type": "code",
   "execution_count": 3,
   "metadata": {},
   "outputs": [],
   "source": [
    "exp = Experiment(\n",
    "    cals=[cals.uncal, cals.platt, cals.isot, ], \n",
    "    datasets=[ds.fb13, ds.wn18, ds.yago39, ds.dp50, ds.nations, ds.kinship, ds.umls], \n",
    "    kges=[kges.transE, kges.complEx, kges.distMult, kges.hoLE], \n",
    "    metrics=[ece]\n",
    "    )"
   ]
  },
  {
   "cell_type": "code",
   "execution_count": 30,
   "metadata": {},
   "outputs": [
    {
     "name": "stderr",
     "output_type": "stream",
     "text": [
      "Average TransE Loss:   1.036733: 100%|██████████| 100/100 [48:19<00:00, 28.99s/epoch]\n"
     ]
    }
   ],
   "source": [
    "from ampligraph.latent_features import TransE, ComplEx\n",
    "from ampligraph.utils import save_model\n",
    "from ampligraph.latent_features.regularizers import LPRegularizer\n",
    "hyperparams = {\n",
    "        'verbose': True,\n",
    "        'epochs': 100,\n",
    "        'regularizer': 'LP',\n",
    "\n",
    "        # taken from https://arxiv.org/abs/1912.10000\n",
    "        'k': 100,\n",
    "        'optimizer': 'adam',\n",
    "        'loss': 'nll',\n",
    "        'eta': 20,\n",
    "        'optimizer_params': {'lr': 1e-4},\n",
    "        # 'epochs': 1000,\n",
    "    }\n",
    "\n",
    "model4 = TransE(**hyperparams)\n",
    "model4.fit(ds.fb13.X_train)\n",
    "save_model(model4, 'transE-fb13-reg.pkl')"
   ]
  },
  {
   "cell_type": "code",
   "execution_count": 6,
   "metadata": {},
   "outputs": [
    {
     "name": "stderr",
     "output_type": "stream",
     "text": [
      "Average ComplEx Loss:   0.070795: 100%|██████████| 300/300 [6:12:19<00:00, 74.47s/epoch]  \n"
     ]
    }
   ],
   "source": [
    "hyperparams = {\n",
    "        'verbose': True,\n",
    "        'epochs': 300,\n",
    "\n",
    "        # taken from https://arxiv.org/abs/1912.10000\n",
    "        'k': 100,\n",
    "        'optimizer': 'adam',\n",
    "        'loss': 'pairwise',\n",
    "        'eta': 20,\n",
    "        'optimizer_params': {'lr': 1e-4},\n",
    "        # 'epochs': 1000,\n",
    "    }\n",
    "\n",
    "model2 = ComplEx(**hyperparams)\n",
    "model2.fit(ds.fb13.X_train)\n",
    "save_model(model2, 'COmplex-fb13-1000-pairwise.pkl')"
   ]
  },
  {
   "cell_type": "code",
   "execution_count": 17,
   "metadata": {},
   "outputs": [
    {
     "name": "stderr",
     "output_type": "stream",
     "text": [
      "Average ComplEx Loss:   0.824892: 100%|██████████| 100/100 [2:20:26<00:00, 84.26s/epoch]  \n"
     ]
    }
   ],
   "source": [
    "from ampligraph.latent_features.regularizers import LPRegularizer\n",
    "hyperparams = {\n",
    "        'verbose': True,\n",
    "        'epochs': 100,\n",
    "        'regularizer': 'LP',\n",
    "\n",
    "        # taken from https://arxiv.org/abs/1912.10000\n",
    "        'k': 100,\n",
    "        'optimizer': 'adam',\n",
    "        'loss': 'self_adversarial',\n",
    "        'eta': 20,\n",
    "        'optimizer_params': {'lr': 1e-4},\n",
    "        # 'epochs': 1000,\n",
    "    }\n",
    "\n",
    "model3 = ComplEx(**hyperparams)\n",
    "model3.fit(ds.fb13.X_train)\n",
    "save_model(model3, 'COmplex-fb13-1000-adver.pkl')"
   ]
  },
  {
   "cell_type": "code",
   "execution_count": 39,
   "metadata": {},
   "outputs": [
    {
     "data": {
      "text/plain": [
       "(array([  578.,   718.,  1190.,  1781.,  2722.,  5212.,  6783., 11311.,\n",
       "         5159., 12010.]),\n",
       " array([0.        , 0.0493    , 0.0986    , 0.1479    , 0.1972    ,\n",
       "        0.2465    , 0.2958    , 0.3451    , 0.3944    , 0.44370002,\n",
       "        0.493     ], dtype=float32),\n",
       " <BarContainer object of 10 artists>)"
      ]
     },
     "execution_count": 39,
     "metadata": {},
     "output_type": "execute_result"
    },
    {
     "data": {
      "image/png": "[encoded data removed]",
      "text/plain": [
       "<Figure size 432x288 with 1 Axes>"
      ]
     },
     "metadata": {
      "needs_background": "light"
     },
     "output_type": "display_data"
    }
   ],
   "source": [
    "probs = expit(2*model4.predict(ds.fb13.X_test)).round(3)\n",
    "accuracy_score(ds.fb13.y_test, probs>0.5)\n",
    "plt.hist(probs)"
   ]
  },
  {
   "cell_type": "code",
   "execution_count": 4,
   "metadata": {},
   "outputs": [
    {
     "name": "stdout",
     "output_type": "stream",
     "text": [
      "Loaded models:\n",
      "{'COmplex': OrderedDict([('fb13-1000-adver',\n",
      "                          <ampligraph.latent_features.models.ComplEx.ComplEx object at 0x000001E362539788>),\n",
      "                         ('fb13-1000-pairwise',\n",
      "                          <ampligraph.latent_features.models.ComplEx.ComplEx object at 0x000001E365B45D48>)]),\n",
      " 'DBpedia50': {'ComplEx': <ampligraph.latent_features.models.ComplEx.ComplEx object at 0x000001E365B45DC8>,\n",
      "               'DistMult': <ampligraph.latent_features.models.DistMult.DistMult object at 0x000001E35F7FCDC8>,\n",
      "               'HolE': <ampligraph.latent_features.models.HolE.HolE object at 0x000001E35F747848>,\n",
      "               'TransE': <ampligraph.latent_features.models.TransE.TransE object at 0x000001E36A7C2048>},\n",
      " 'DBpedia_ET': OrderedDict([('ComplEx',\n",
      "                             <ampligraph.latent_features.models.ComplEx.ComplEx object at 0x000001E36A84D048>),\n",
      "                            ('DistMult',\n",
      "                             <ampligraph.latent_features.models.DistMult.DistMult object at 0x000001E362539DC8>),\n",
      "                            ('TransE',\n",
      "                             <ampligraph.latent_features.models.TransE.TransE object at 0x000001E3713CF048>)]),\n",
      " 'FB13k': {'ComplEx': <ampligraph.latent_features.models.ComplEx.ComplEx object at 0x000001E3718029C8>,\n",
      "           'DistMult': <ampligraph.latent_features.models.DistMult.DistMult object at 0x000001E36A84D188>,\n",
      "           'HolE': <ampligraph.latent_features.models.HolE.HolE object at 0x000001E3625966C8>,\n",
      "           'TransE': <ampligraph.latent_features.models.TransE.TransE object at 0x000001E36B4AD2C8>},\n",
      " 'Kinship': {'ComplEx': <ampligraph.latent_features.models.ComplEx.ComplEx object at 0x000001E36B4AD9C8>,\n",
      "             'DistMult': <ampligraph.latent_features.models.DistMult.DistMult object at 0x000001E3713CF3C8>,\n",
      "             'HolE': <ampligraph.latent_features.models.HolE.HolE object at 0x000001E3714FD408>,\n",
      "             'TransE': <ampligraph.latent_features.models.TransE.TransE object at 0x000001E30562E7C8>},\n",
      " 'Nations': {'ComplEx': <ampligraph.latent_features.models.ComplEx.ComplEx object at 0x000001E30606D688>,\n",
      "             'DistMult': <ampligraph.latent_features.models.DistMult.DistMult object at 0x000001E30606D9C8>,\n",
      "             'HolE': <ampligraph.latent_features.models.HolE.HolE object at 0x000001E306AABF88>,\n",
      "             'TransE': <ampligraph.latent_features.models.TransE.TransE object at 0x000001E306AABFC8>},\n",
      " 'UMLS': {'ComplEx': <ampligraph.latent_features.models.ComplEx.ComplEx object at 0x000001E3068E4908>,\n",
      "          'DistMult': <ampligraph.latent_features.models.DistMult.DistMult object at 0x000001E306AAB988>,\n",
      "          'HolE': <ampligraph.latent_features.models.HolE.HolE object at 0x000001E306AAE988>,\n",
      "          'TransE': <ampligraph.latent_features.models.TransE.TransE object at 0x000001E3068E4BC8>},\n",
      " 'WN11': {'ComplEx': <ampligraph.latent_features.models.ComplEx.ComplEx object at 0x000001E30A54C0C8>,\n",
      "          'DistMult': <ampligraph.latent_features.models.DistMult.DistMult object at 0x000001E309AF3E08>,\n",
      "          'HolE': <ampligraph.latent_features.models.HolE.HolE object at 0x000001E309AF3F88>,\n",
      "          'TransE': <ampligraph.latent_features.models.TransE.TransE object at 0x000001E30A543CC8>},\n",
      " 'YAGO39': {'ComplEx': <ampligraph.latent_features.models.ComplEx.ComplEx object at 0x000001E30A543F48>,\n",
      "            'DistMult': <ampligraph.latent_features.models.DistMult.DistMult object at 0x000001E30A54C308>,\n",
      "            'HolE': <ampligraph.latent_features.models.HolE.HolE object at 0x000001E371802348>,\n",
      "            'TransE': <ampligraph.latent_features.models.TransE.TransE object at 0x000001E371802888>},\n",
      " 'YAGO_ET': OrderedDict([('ComplEx',\n",
      "                          <ampligraph.latent_features.models.ComplEx.ComplEx object at 0x000001E30B89CF88>),\n",
      "                         ('DistMult',\n",
      "                          <ampligraph.latent_features.models.DistMult.DistMult object at 0x000001E31DFC2048>),\n",
      "                         ('HolE',\n",
      "                          <ampligraph.latent_features.models.HolE.HolE object at 0x000001E32217C048>),\n",
      "                         ('TransE',\n",
      "                          <ampligraph.latent_features.models.TransE.TransE object at 0x000001E322487048>)]),\n",
      " 'transE': OrderedDict([('fb13-1000',\n",
      "                         <ampligraph.latent_features.models.TransE.TransE object at 0x000001E306AAEFC8>),\n",
      "                        ('fb13-reg',\n",
      "                         <ampligraph.latent_features.models.TransE.TransE object at 0x000001E306AAED88>)])}\n"
     ]
    }
   ],
   "source": [
    "exp.load_trained_kges('../saved_models')"
   ]
  },
  {
   "cell_type": "code",
   "execution_count": 5,
   "metadata": {},
   "outputs": [],
   "source": [
    "from ampligraph.latent_features import TransE, ComplEx\n",
    "from ampligraph.utils import save_model\n",
    "from sklearn.metrics import accuracy_score\n",
    "from scipy.special import expit\n"
   ]
  },
  {
   "cell_type": "code",
   "execution_count": 11,
   "metadata": {},
   "outputs": [
    {
     "data": {
      "text/plain": [
       "(array([  415.,    77.,    39.,    83.,   319.,   996.,  3332.,  9765.,\n",
       "        18823., 13615.]),\n",
       " array([8.1775198e-04, 9.7917408e-02, 1.9501707e-01, 2.9211673e-01,\n",
       "        3.8921639e-01, 4.8631606e-01, 5.8341569e-01, 6.8051535e-01,\n",
       "        7.7761501e-01, 8.7471467e-01, 9.7181433e-01], dtype=float32),\n",
       " <BarContainer object of 10 artists>)"
      ]
     },
     "execution_count": 11,
     "metadata": {},
     "output_type": "execute_result"
    },
    {
     "data": {
      "image/png": "[encoded data removed]",
      "text/plain": [
       "<Figure size 432x288 with 1 Axes>"
      ]
     },
     "metadata": {
      "needs_background": "light"
     },
     "output_type": "display_data"
    }
   ],
   "source": [
    "fb = ds.fb13\n",
    "transe_fb = exp.trained_kges[fb.name]['TransE']\n",
    "scores = transe_fb.predict(fb.X_test)\n",
    "probs = expit(scores)*2\n",
    "plt.hist(probs)"
   ]
  },
  {
   "cell_type": "code",
   "execution_count": 13,
   "metadata": {},
   "outputs": [
    {
     "data": {
      "text/plain": [
       "(array([5.1500e+02, 7.0000e+00, 1.3000e+01, 9.2000e+01, 6.7400e+02,\n",
       "        1.3470e+03, 2.8900e+03, 7.6860e+03, 1.7173e+04, 1.7067e+04]),\n",
       " array([0.00182334, 0.10094581, 0.20006828, 0.29919076, 0.39831322,\n",
       "        0.4974357 , 0.59655815, 0.6956806 , 0.7948031 , 0.89392555,\n",
       "        0.993048  ], dtype=float32),\n",
       " <BarContainer object of 10 artists>)"
      ]
     },
     "execution_count": 13,
     "metadata": {},
     "output_type": "execute_result"
    },
    {
     "data": {
      "image/png": "[encoded data removed]",
      "text/plain": [
       "<Figure size 432x288 with 1 Axes>"
      ]
     },
     "metadata": {
      "needs_background": "light"
     },
     "output_type": "display_data"
    }
   ],
   "source": [
    "from ampligraph.utils import restore_model\n",
    "reg_transe = restore_model('../saved_models/transE-fb13-reg.pkl')\n",
    "scores = reg_transe.predict(fb.X_test)\n",
    "probs = expit(scores)*2\n",
    "plt.hist(probs)"
   ]
  },
  {
   "cell_type": "code",
   "execution_count": 15,
   "metadata": {},
   "outputs": [
    {
     "data": {
      "text/plain": [
       "0.47884712624304737"
      ]
     },
     "execution_count": 15,
     "metadata": {},
     "output_type": "execute_result"
    }
   ],
   "source": [
    "accuracy_score(fb.y_test, probs>0.5)"
   ]
  },
  {
   "cell_type": "code",
   "execution_count": 21,
   "metadata": {},
   "outputs": [
    {
     "data": {
      "text/plain": [
       "0.49995786280128096"
      ]
     },
     "execution_count": 21,
     "metadata": {},
     "output_type": "execute_result"
    },
    {
     "data": {
      "image/png": "[encoded data removed]",
      "text/plain": [
       "<Figure size 432x288 with 1 Axes>"
      ]
     },
     "metadata": {
      "needs_background": "light"
     },
     "output_type": "display_data"
    }
   ],
   "source": [
    "pairwise_complex = restore_model(r'C:\\Users\\s1904162\\Downloads\\kgcal\\saved_models\\COmplex-fb13-1000-adver.pkl')\n",
    "scores = pairwise_complex.predict(fb.X_test)\n",
    "probs = expit(scores)\n",
    "plt.hist(probs)\n",
    "accuracy_score(fb.y_test, probs>0.5)"
   ]
  },
  {
   "cell_type": "code",
   "execution_count": 20,
   "metadata": {},
   "outputs": [
    {
     "data": {
      "text/plain": [
       "0.5538934771616383"
      ]
     },
     "execution_count": 20,
     "metadata": {},
     "output_type": "execute_result"
    },
    {
     "data": {
      "image/png": "[encoded data removed]",
      "text/plain": [
       "<Figure size 432x288 with 1 Axes>"
      ]
     },
     "metadata": {
      "needs_background": "light"
     },
     "output_type": "display_data"
    }
   ],
   "source": [
    "nll_complex = exp.trained_kges[fb.name]['ComplEx']\n",
    "scores = nll_complex.predict(fb.X_test)\n",
    "probs = expit(scores)\n",
    "plt.hist(probs)\n",
    "accuracy_score(fb.y_test, probs>0.5)"
   ]
  },
  {
   "cell_type": "code",
   "execution_count": 22,
   "metadata": {},
   "outputs": [
    {
     "name": "stderr",
     "output_type": "stream",
     "text": [
      "Average ComplEx Loss:   0.064539: 100%|██████████| 100/100 [24:04<00:00, 14.44s/epoch]\n"
     ]
    }
   ],
   "source": [
    "yago = ds.yago39\n",
    "comp = ComplEx(loss='nll', verbose=True)\n",
    "comp.fit(yago.X_train)"
   ]
  },
  {
   "cell_type": "code",
   "execution_count": 23,
   "metadata": {},
   "outputs": [
    {
     "name": "stderr",
     "output_type": "stream",
     "text": [
      "Average ComplEx Loss:   0.066440: 100%|██████████| 100/100 [30:59<00:00, 18.60s/epoch]\n"
     ]
    }
   ],
   "source": [
    "comp2 = ComplEx(loss='nll', verbose=True, regularizer='LP')\n",
    "comp2.fit(yago.X_train)"
   ]
  },
  {
   "cell_type": "code",
   "execution_count": 25,
   "metadata": {},
   "outputs": [
    {
     "data": {
      "text/plain": [
       "0.8969968672356055"
      ]
     },
     "execution_count": 25,
     "metadata": {},
     "output_type": "execute_result"
    },
    {
     "data": {
      "image/png": "[encoded data removed]",
      "text/plain": [
       "<Figure size 432x288 with 1 Axes>"
      ]
     },
     "metadata": {
      "needs_background": "light"
     },
     "output_type": "display_data"
    }
   ],
   "source": [
    "scores = comp.predict(yago.X_test)\n",
    "probs = expit(scores)\n",
    "plt.hist(probs)\n",
    "accuracy_score(yago.y_test, probs>0.5)"
   ]
  },
  {
   "cell_type": "code",
   "execution_count": 26,
   "metadata": {},
   "outputs": [
    {
     "data": {
      "text/plain": [
       "0.8969428540563897"
      ]
     },
     "execution_count": 26,
     "metadata": {},
     "output_type": "execute_result"
    },
    {
     "data": {
      "image/png": "[encoded data removed]",
      "text/plain": [
       "<Figure size 432x288 with 1 Axes>"
      ]
     },
     "metadata": {
      "needs_background": "light"
     },
     "output_type": "display_data"
    }
   ],
   "source": [
    "scores = comp2.predict(yago.X_test)\n",
    "probs = expit(scores)\n",
    "plt.hist(probs)\n",
    "accuracy_score(yago.y_test, probs>0.5)"
   ]
  },
  {
   "cell_type": "code",
   "execution_count": null,
   "metadata": {},
   "outputs": [],
   "source": []
  }
 ],
 "metadata": {
  "kernelspec": {
   "display_name": "Python 3.7.9 64-bit ('3.7.9')",
   "language": "python",
   "name": "python3"
  },
  "language_info": {
   "codemirror_mode": {
    "name": "ipython",
    "version": 3
   },
   "file_extension": ".py",
   "mimetype": "text/x-python",
   "name": "python",
   "nbconvert_exporter": "python",
   "pygments_lexer": "ipython3",
   "version": "3.7.9"
  },
  "orig_nbformat": 4,
  "vscode": {
   "interpreter": {
    "hash": "5f722276768dd6be949ba67e73c531926a2bba4be7e88818b041050b09b1c190"
   }
  }
 },
 "nbformat": 4,
 "nbformat_minor": 2
}
