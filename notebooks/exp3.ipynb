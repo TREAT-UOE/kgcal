{
 "cells": [
  {
   "cell_type": "code",
   "execution_count": null,
   "metadata": {},
   "outputs": [],
   "source": []
  }
 ],
 "metadata": {
  "kernelspec": {
   "display_name": "Python 3.7.6 ('.venv': pipenv)",
   "language": "python",
   "name": "python3"
  },
  "language_info": {
   "name": "python",
   "version": "3.7.6"
  },
  "orig_nbformat": 4,
  "vscode": {
   "interpreter": {
    "hash": "a8eb72df0e0819e945698d6276ff579d89a73722458175aba81c7b7c1bcefd50"
   }
  }
 },
 "nbformat": 4,
 "nbformat_minor": 2
}
