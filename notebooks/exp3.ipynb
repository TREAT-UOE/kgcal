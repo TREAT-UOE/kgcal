{
 "cells": [
  {
   "cell_type": "markdown",
   "metadata": {},
   "source": [
    "Probability Calibration for KG Embedding in Entity typing task\n",
    "==========\n",
    "\n",
    "Test various calibration techniques for TransE, ComplEx, HoLE, DistMult on two datasets includeing entity type information: [YAGO-ET and DBpedia-ET](https://github.com/JunhengH/joie-kdd19/tree/master/data).\n",
    "\n",
    "We check if \n",
    "1. the calibration techqniues work;\n",
    "2. using calibrated probability and a natural threshold 0.5 could achieve STOA as fine-tuned scores"
   ]
  },
  {
   "cell_type": "code",
   "execution_count": 1,
   "metadata": {},
   "outputs": [],
   "source": [
    "import sys\n",
    "# enable importing the modules from probcalkge\n",
    "sys.path.append('../')\n",
    "sys.path.append('../probcalkge')"
   ]
  },
  {
   "cell_type": "code",
   "execution_count": 2,
   "metadata": {},
   "outputs": [],
   "source": [
    "from pprint import pprint\n",
    "from typing import Iterable, Callable, Union\n",
    "import numpy as np\n",
    "import pandas as pd"
   ]
  },
  {
   "cell_type": "code",
   "execution_count": 3,
   "metadata": {},
   "outputs": [],
   "source": [
    "from probcalkge import Experiment, ExperimentResult\n",
    "from probcalkge import get_calibrators\n",
    "from probcalkge import get_datasets,  get_kgemodels\n",
    "from probcalkge import brier_score, negative_log_loss, ks_error, ece"
   ]
  },
  {
   "cell_type": "code",
   "execution_count": 6,
   "metadata": {},
   "outputs": [
    {
     "name": "stdout",
     "output_type": "stream",
     "text": [
      "WARNING - All triples will be processed in the same batch (batches_count=1). When processing large graphs it is recommended to batch the input knowledge graph instead.\n"
     ]
    },
    {
     "ename": "ValueError",
     "evalue": "Invalid Model - Loss combination. ConvE model can be used with BCE loss only and vice versa.",
     "output_type": "error",
     "traceback": [
      "\u001b[1;31m---------------------------------------------------------------------------\u001b[0m",
      "\u001b[1;31mValueError\u001b[0m                                Traceback (most recent call last)",
      "\u001b[1;32m~\\AppData\\Local\\Temp\\ipykernel_14300\\306076645.py\u001b[0m in \u001b[0;36m<module>\u001b[1;34m\u001b[0m\n\u001b[0;32m      3\u001b[0m \u001b[1;32mfrom\u001b[0m \u001b[0mprobcalkge\u001b[0m\u001b[1;33m.\u001b[0m\u001b[0mcalmodels2\u001b[0m \u001b[1;32mimport\u001b[0m \u001b[0mget_calibrators\u001b[0m\u001b[1;33m\u001b[0m\u001b[1;33m\u001b[0m\u001b[0m\n\u001b[0;32m      4\u001b[0m \u001b[0mcals\u001b[0m \u001b[1;33m=\u001b[0m \u001b[0mget_calibrators\u001b[0m\u001b[1;33m(\u001b[0m\u001b[1;33m)\u001b[0m\u001b[1;33m\u001b[0m\u001b[1;33m\u001b[0m\u001b[0m\n\u001b[1;32m----> 5\u001b[1;33m \u001b[0mkges\u001b[0m \u001b[1;33m=\u001b[0m \u001b[0mget_kgemodels\u001b[0m\u001b[1;33m(\u001b[0m\u001b[1;33m)\u001b[0m\u001b[1;33m\u001b[0m\u001b[1;33m\u001b[0m\u001b[0m\n\u001b[0m",
      "\u001b[1;32mf:\\TREAT\\kgcal\\probcalkge\\kgemodels.py\u001b[0m in \u001b[0;36mget_kgemodels\u001b[1;34m()\u001b[0m\n\u001b[0;32m     46\u001b[0m     \u001b[0mlst\u001b[0m\u001b[1;33m.\u001b[0m\u001b[0mappend\u001b[0m\u001b[1;33m(\u001b[0m\u001b[0mHolE\u001b[0m\u001b[1;33m(\u001b[0m\u001b[1;33m**\u001b[0m\u001b[0mhyperparams\u001b[0m\u001b[1;33m)\u001b[0m\u001b[1;33m)\u001b[0m\u001b[1;33m\u001b[0m\u001b[1;33m\u001b[0m\u001b[0m\n\u001b[0;32m     47\u001b[0m     \u001b[0mlst\u001b[0m\u001b[1;33m.\u001b[0m\u001b[0mappend\u001b[0m\u001b[1;33m(\u001b[0m\u001b[0mConvKB\u001b[0m\u001b[1;33m(\u001b[0m\u001b[1;33m**\u001b[0m\u001b[0mhyperparams\u001b[0m\u001b[1;33m)\u001b[0m\u001b[1;33m)\u001b[0m\u001b[1;33m\u001b[0m\u001b[1;33m\u001b[0m\u001b[0m\n\u001b[1;32m---> 48\u001b[1;33m     \u001b[0mlst\u001b[0m\u001b[1;33m.\u001b[0m\u001b[0mappend\u001b[0m\u001b[1;33m(\u001b[0m\u001b[0mConvE\u001b[0m\u001b[1;33m(\u001b[0m\u001b[1;33m**\u001b[0m\u001b[0mhyperparams\u001b[0m\u001b[1;33m)\u001b[0m\u001b[1;33m)\u001b[0m\u001b[1;33m\u001b[0m\u001b[1;33m\u001b[0m\u001b[0m\n\u001b[0m\u001b[0;32m     49\u001b[0m     \u001b[1;32mreturn\u001b[0m \u001b[0mKGEModels\u001b[0m\u001b[1;33m(\u001b[0m\u001b[1;33m*\u001b[0m\u001b[0mlst\u001b[0m\u001b[1;33m)\u001b[0m\u001b[1;33m\u001b[0m\u001b[1;33m\u001b[0m\u001b[0m\n",
      "\u001b[1;32mf:\\TREAT\\kgcal\\.venv\\lib\\site-packages\\ampligraph\\latent_features\\models\\ConvE.py\u001b[0m in \u001b[0;36m__init__\u001b[1;34m(self, k, eta, epochs, batches_count, seed, embedding_model_params, optimizer, optimizer_params, loss, loss_params, regularizer, regularizer_params, initializer, initializer_params, low_memory, verbose)\u001b[0m\n\u001b[0;32m    240\u001b[0m                          \u001b[0mregularizer\u001b[0m\u001b[1;33m=\u001b[0m\u001b[0mregularizer\u001b[0m\u001b[1;33m,\u001b[0m \u001b[0mregularizer_params\u001b[0m\u001b[1;33m=\u001b[0m\u001b[0mregularizer_params\u001b[0m\u001b[1;33m,\u001b[0m\u001b[1;33m\u001b[0m\u001b[1;33m\u001b[0m\u001b[0m\n\u001b[0;32m    241\u001b[0m                          \u001b[0minitializer\u001b[0m\u001b[1;33m=\u001b[0m\u001b[0minitializer\u001b[0m\u001b[1;33m,\u001b[0m \u001b[0minitializer_params\u001b[0m\u001b[1;33m=\u001b[0m\u001b[0minitializer_params\u001b[0m\u001b[1;33m,\u001b[0m\u001b[1;33m\u001b[0m\u001b[1;33m\u001b[0m\u001b[0m\n\u001b[1;32m--> 242\u001b[1;33m                          verbose=verbose)\n\u001b[0m\u001b[0;32m    243\u001b[0m \u001b[1;33m\u001b[0m\u001b[0m\n\u001b[0;32m    244\u001b[0m     \u001b[1;32mdef\u001b[0m \u001b[0m_initialize_parameters\u001b[0m\u001b[1;33m(\u001b[0m\u001b[0mself\u001b[0m\u001b[1;33m)\u001b[0m\u001b[1;33m:\u001b[0m\u001b[1;33m\u001b[0m\u001b[1;33m\u001b[0m\u001b[0m\n",
      "\u001b[1;32mf:\\TREAT\\kgcal\\.venv\\lib\\site-packages\\ampligraph\\latent_features\\models\\EmbeddingModel.py\u001b[0m in \u001b[0;36m__init__\u001b[1;34m(self, k, eta, epochs, batches_count, seed, embedding_model_params, optimizer, optimizer_params, loss, loss_params, regularizer, regularizer_params, initializer, initializer_params, large_graphs, verbose)\u001b[0m\n\u001b[0;32m    195\u001b[0m         \"\"\"\n\u001b[0;32m    196\u001b[0m         \u001b[1;32mif\u001b[0m \u001b[1;33m(\u001b[0m\u001b[0mloss\u001b[0m \u001b[1;33m==\u001b[0m \u001b[1;34m\"bce\"\u001b[0m\u001b[1;33m)\u001b[0m \u001b[1;33m^\u001b[0m \u001b[1;33m(\u001b[0m\u001b[0mself\u001b[0m\u001b[1;33m.\u001b[0m\u001b[0mname\u001b[0m \u001b[1;33m==\u001b[0m \u001b[1;34m\"ConvE\"\u001b[0m\u001b[1;33m)\u001b[0m\u001b[1;33m:\u001b[0m\u001b[1;33m\u001b[0m\u001b[1;33m\u001b[0m\u001b[0m\n\u001b[1;32m--> 197\u001b[1;33m             raise ValueError('Invalid Model - Loss combination. '\n\u001b[0m\u001b[0;32m    198\u001b[0m                              'ConvE model can be used with BCE loss only and vice versa.')\n\u001b[0;32m    199\u001b[0m \u001b[1;33m\u001b[0m\u001b[0m\n",
      "\u001b[1;31mValueError\u001b[0m: Invalid Model - Loss combination. ConvE model can be used with BCE loss only and vice versa."
     ]
    }
   ],
   "source": [
    "ds = get_datasets()\n",
    "# from probcalkge.calmodels import get_calibrators\n",
    "from probcalkge.calmodels2 import get_calibrators\n",
    "cals = get_calibrators()\n",
    "kges = get_kgemodels()\n"
   ]
  },
  {
   "cell_type": "code",
   "execution_count": null,
   "metadata": {},
   "outputs": [],
   "source": [
    "from probcalkge.caldatasets import get_yago_et\n",
    "yagoet = get_yago_et()"
   ]
  },
  {
   "cell_type": "code",
   "execution_count": null,
   "metadata": {},
   "outputs": [
    {
     "name": "stderr",
     "output_type": "stream",
     "text": [
      "Average DistMult Loss:   1.274667: 100%|██████████| 20/20 [04:41<00:00, 14.07s/epoch]\n",
      "100%|██████████| 49268/49268 [46:15<00:00, 17.75it/s] \n"
     ]
    }
   ],
   "source": [
    "from ampligraph.latent_features import DistMult\n",
    "from ampligraph.evaluation import evaluate_performance, mrr_score, hits_at_n_score\n",
    "fil = np.concatenate((yagoet.X_train, yagoet.X_valid, yagoet.X_test))\n",
    "# dist = DistMult(verbose=True, batches_count=10, seed=0, epochs=20, k=150, eta=10,)\n",
    "# dist.fit(yagoet.X_train)\n",
    "transE = kges.transE\n",
    "transE.fit(yagoet.X_train)\n",
    "# et_test = [trp for trp in yagoet.X_test if trp[1]=='type']\n",
    "ranks = evaluate_performance(yagoet.X_test, \n",
    "                                model=transE, filter_triples=fil)"
   ]
  },
  {
   "cell_type": "code",
   "execution_count": null,
   "metadata": {},
   "outputs": [
    {
     "name": "stdout",
     "output_type": "stream",
     "text": [
      "MRR: 0.059742, Hits@10: 0.106093\n"
     ]
    }
   ],
   "source": [
    "# compute and print metrics:\n",
    "mrr = mrr_score(ranks)\n",
    "hits_10 = hits_at_n_score(ranks, n=10)\n",
    "print(\"MRR: %f, Hits@10: %f\" % (mrr, hits_10))"
   ]
  },
  {
   "cell_type": "code",
   "execution_count": null,
   "metadata": {},
   "outputs": [
    {
     "name": "stdout",
     "output_type": "stream",
     "text": [
      "Loaded models:\n",
      "{'DBpedia50': OrderedDict([('ComplEx',\n",
      "                            <ampligraph.latent_features.models.ComplEx.ComplEx object at 0x000001BA2A1B6588>),\n",
      "                           ('DistMult',\n",
      "                            <ampligraph.latent_features.models.DistMult.DistMult object at 0x000001BA2B6BA048>),\n",
      "                           ('HolE',\n",
      "                            <ampligraph.latent_features.models.HolE.HolE object at 0x000001BA2BCC6048>),\n",
      "                           ('TransE',\n",
      "                            <ampligraph.latent_features.models.TransE.TransE object at 0x000001BA2BD59048>)]),\n",
      " 'FB13k': OrderedDict([('ComplEx',\n",
      "                        <ampligraph.latent_features.models.ComplEx.ComplEx object at 0x000001BA2A2410C8>),\n",
      "                       ('DistMult',\n",
      "                        <ampligraph.latent_features.models.DistMult.DistMult object at 0x000001BA2A1B6048>),\n",
      "                       ('HolE',\n",
      "                        <ampligraph.latent_features.models.HolE.HolE object at 0x000001BA2B6BA308>),\n",
      "                       ('TransE',\n",
      "                        <ampligraph.latent_features.models.TransE.TransE object at 0x000001BA2BCC6408>)]),\n",
      " 'Kinship': OrderedDict([('ComplEx',\n",
      "                          <ampligraph.latent_features.models.ComplEx.ComplEx object at 0x000001BA2BD59308>),\n",
      "                         ('DistMult',\n",
      "                          <ampligraph.latent_features.models.DistMult.DistMult object at 0x000001BA357C8EC8>),\n",
      "                         ('HolE',\n",
      "                          <ampligraph.latent_features.models.HolE.HolE object at 0x000001BA2F86F648>),\n",
      "                         ('TransE',\n",
      "                          <ampligraph.latent_features.models.TransE.TransE object at 0x000001BA30C0DD88>)]),\n",
      " 'Nations': OrderedDict([('ComplEx',\n",
      "                          <ampligraph.latent_features.models.ComplEx.ComplEx object at 0x000001BA357CBD08>),\n",
      "                         ('DistMult',\n",
      "                          <ampligraph.latent_features.models.DistMult.DistMult object at 0x000001BA3206CEC8>),\n",
      "                         ('HolE',\n",
      "                          <ampligraph.latent_features.models.HolE.HolE object at 0x000001BA3206CF48>),\n",
      "                         ('TransE',\n",
      "                          <ampligraph.latent_features.models.TransE.TransE object at 0x000001BA357CBA48>)]),\n",
      " 'UMLS': OrderedDict([('ComplEx',\n",
      "                       <ampligraph.latent_features.models.ComplEx.ComplEx object at 0x000001BA357D2C08>),\n",
      "                      ('DistMult',\n",
      "                       <ampligraph.latent_features.models.DistMult.DistMult object at 0x000001BA357CB848>),\n",
      "                      ('HolE',\n",
      "                       <ampligraph.latent_features.models.HolE.HolE object at 0x000001BA357CBCC8>),\n",
      "                      ('TransE',\n",
      "                       <ampligraph.latent_features.models.TransE.TransE object at 0x000001BA357D29C8>)]),\n",
      " 'WN11': OrderedDict([('ComplEx',\n",
      "                       <ampligraph.latent_features.models.ComplEx.ComplEx object at 0x000001BA357D2CC8>),\n",
      "                      ('DistMult',\n",
      "                       <ampligraph.latent_features.models.DistMult.DistMult object at 0x000001BA357D2948>),\n",
      "                      ('HolE',\n",
      "                       <ampligraph.latent_features.models.HolE.HolE object at 0x000001BA357D2E08>),\n",
      "                      ('TransE',\n",
      "                       <ampligraph.latent_features.models.TransE.TransE object at 0x000001BA357DA848>)]),\n",
      " 'YAGO': OrderedDict([('ET-DistMult',\n",
      "                       <ampligraph.latent_features.models.DistMult.DistMult object at 0x000001BA357DA808>)]),\n",
      " 'YAGO-ET': {'DistMult': None},\n",
      " 'YAGO39': OrderedDict([('ComplEx',\n",
      "                         <ampligraph.latent_features.models.ComplEx.ComplEx object at 0x000001BA357DAC08>),\n",
      "                        ('DistMult',\n",
      "                         <ampligraph.latent_features.models.DistMult.DistMult object at 0x000001BA38259048>),\n",
      "                        ('HolE',\n",
      "                         <ampligraph.latent_features.models.HolE.HolE object at 0x000001BA35BF5788>),\n",
      "                        ('TransE',\n",
      "                         <ampligraph.latent_features.models.TransE.TransE object at 0x000001BA2E397448>)])}\n",
      "training various calibrators for NoneType on YAGO-ET ...\n"
     ]
    },
    {
     "ename": "AttributeError",
     "evalue": "'NoneType' object has no attribute 'predict'",
     "output_type": "error",
     "traceback": [
      "\u001b[1;31m---------------------------------------------------------------------------\u001b[0m",
      "\u001b[1;31mAttributeError\u001b[0m                            Traceback (most recent call last)",
      "\u001b[1;32m~\\AppData\\Local\\Temp\\ipykernel_13160\\3557636464.py\u001b[0m in \u001b[0;36m<module>\u001b[1;34m\u001b[0m\n\u001b[0;32m      9\u001b[0m \u001b[1;31m# exp.save_trained_kges('../saved_kges')\u001b[0m\u001b[1;33m\u001b[0m\u001b[1;33m\u001b[0m\u001b[1;33m\u001b[0m\u001b[0m\n\u001b[0;32m     10\u001b[0m \u001b[0mexp\u001b[0m\u001b[1;33m.\u001b[0m\u001b[0mload_trained_kges\u001b[0m\u001b[1;33m(\u001b[0m\u001b[1;34m'../saved_models/'\u001b[0m\u001b[1;33m)\u001b[0m\u001b[1;33m\u001b[0m\u001b[1;33m\u001b[0m\u001b[0m\n\u001b[1;32m---> 11\u001b[1;33m \u001b[0mexp_res\u001b[0m \u001b[1;33m=\u001b[0m \u001b[0mexp\u001b[0m\u001b[1;33m.\u001b[0m\u001b[0mrun_with_trained_kges\u001b[0m\u001b[1;33m(\u001b[0m\u001b[1;33m)\u001b[0m\u001b[1;33m\u001b[0m\u001b[1;33m\u001b[0m\u001b[0m\n\u001b[0m\u001b[0;32m     12\u001b[0m \u001b[1;33m\u001b[0m\u001b[0m\n\u001b[0;32m     13\u001b[0m \u001b[0mexp_res\u001b[0m\u001b[1;33m.\u001b[0m\u001b[0mto_frame\u001b[0m\u001b[1;33m(\u001b[0m\u001b[1;33m)\u001b[0m\u001b[1;33m.\u001b[0m\u001b[0mto_csv\u001b[0m\u001b[1;33m(\u001b[0m\u001b[1;34m'res.csv'\u001b[0m\u001b[1;33m)\u001b[0m\u001b[1;33m\u001b[0m\u001b[1;33m\u001b[0m\u001b[0m\n",
      "\u001b[1;32mf:\\TREAT\\kgcal\\probcalkge\\experiment.py\u001b[0m in \u001b[0;36mrun_with_trained_kges\u001b[1;34m(self)\u001b[0m\n\u001b[0;32m    252\u001b[0m         \u001b[0mres\u001b[0m \u001b[1;33m=\u001b[0m \u001b[1;33m{\u001b[0m\u001b[1;33m}\u001b[0m\u001b[1;33m\u001b[0m\u001b[1;33m\u001b[0m\u001b[0m\n\u001b[0;32m    253\u001b[0m         \u001b[1;32mfor\u001b[0m \u001b[0mds\u001b[0m \u001b[1;32min\u001b[0m \u001b[0mself\u001b[0m\u001b[1;33m.\u001b[0m\u001b[0mdatasets\u001b[0m\u001b[1;33m:\u001b[0m\u001b[1;33m\u001b[0m\u001b[1;33m\u001b[0m\u001b[0m\n\u001b[1;32m--> 254\u001b[1;33m             \u001b[0mres\u001b[0m\u001b[1;33m[\u001b[0m\u001b[0mds\u001b[0m\u001b[1;33m.\u001b[0m\u001b[0mname\u001b[0m\u001b[1;33m]\u001b[0m \u001b[1;33m=\u001b[0m \u001b[1;33m{\u001b[0m\u001b[1;33m}\u001b[0m\u001b[1;33m\u001b[0m\u001b[1;33m\u001b[0m\u001b[0m\n\u001b[0m\u001b[0;32m    255\u001b[0m             \u001b[1;32mfor\u001b[0m \u001b[0mkgename\u001b[0m\u001b[1;33m,\u001b[0m \u001b[0mkgemodel\u001b[0m \u001b[1;32min\u001b[0m \u001b[0mself\u001b[0m\u001b[1;33m.\u001b[0m\u001b[0mtrained_kges\u001b[0m\u001b[1;33m[\u001b[0m\u001b[0mds\u001b[0m\u001b[1;33m.\u001b[0m\u001b[0mname\u001b[0m\u001b[1;33m]\u001b[0m\u001b[1;33m.\u001b[0m\u001b[0mitems\u001b[0m\u001b[1;33m(\u001b[0m\u001b[1;33m)\u001b[0m\u001b[1;33m:\u001b[0m\u001b[1;33m\u001b[0m\u001b[1;33m\u001b[0m\u001b[0m\n\u001b[0;32m    256\u001b[0m                 \u001b[0mres\u001b[0m\u001b[1;33m[\u001b[0m\u001b[0mds\u001b[0m\u001b[1;33m.\u001b[0m\u001b[0mname\u001b[0m\u001b[1;33m]\u001b[0m\u001b[1;33m[\u001b[0m\u001b[0mkgename\u001b[0m\u001b[1;33m]\u001b[0m \u001b[1;33m=\u001b[0m \u001b[0mself\u001b[0m\u001b[1;33m.\u001b[0m\u001b[0m_train_cal_and_eval\u001b[0m\u001b[1;33m(\u001b[0m\u001b[0mkgemodel\u001b[0m\u001b[1;33m,\u001b[0m \u001b[0mds\u001b[0m\u001b[1;33m)\u001b[0m\u001b[1;33m\u001b[0m\u001b[1;33m\u001b[0m\u001b[0m\n",
      "\u001b[1;32mf:\\TREAT\\kgcal\\probcalkge\\experiment.py\u001b[0m in \u001b[0;36m_train_cal_and_eval\u001b[1;34m(self, trained_kge, ds)\u001b[0m\n\u001b[0;32m    219\u001b[0m         \u001b[1;32mand\u001b[0m \u001b[0mmeasure\u001b[0m \u001b[0mthe\u001b[0m \u001b[0mperformance\u001b[0m \u001b[0musing\u001b[0m \u001b[0mall\u001b[0m \u001b[0mmetrics\u001b[0m\u001b[1;33m\u001b[0m\u001b[1;33m\u001b[0m\u001b[0m\n\u001b[0;32m    220\u001b[0m         '''\n\u001b[1;32m--> 221\u001b[1;33m         \u001b[0mprint\u001b[0m\u001b[1;33m(\u001b[0m\u001b[1;34mf'training various calibrators for {get_cls_name(trained_kge)} on {ds.name} ...'\u001b[0m\u001b[1;33m)\u001b[0m\u001b[1;33m\u001b[0m\u001b[1;33m\u001b[0m\u001b[0m\n\u001b[0m\u001b[0;32m    222\u001b[0m \u001b[1;33m\u001b[0m\u001b[0m\n\u001b[0;32m    223\u001b[0m         \u001b[0muncal_prob_valid\u001b[0m \u001b[1;33m=\u001b[0m \u001b[0mexpit_probs\u001b[0m\u001b[1;33m(\u001b[0m\u001b[0mtrained_kge\u001b[0m\u001b[1;33m.\u001b[0m\u001b[0mpredict\u001b[0m\u001b[1;33m(\u001b[0m\u001b[0mds\u001b[0m\u001b[1;33m.\u001b[0m\u001b[0mX_valid\u001b[0m\u001b[1;33m)\u001b[0m\u001b[1;33m)\u001b[0m\u001b[1;33m\u001b[0m\u001b[1;33m\u001b[0m\u001b[0m\n",
      "\u001b[1;31mAttributeError\u001b[0m: 'NoneType' object has no attribute 'predict'"
     ]
    }
   ],
   "source": [
    "exp = Experiment(\n",
    "    cals=[cals.uncal, cals.platt, cals.isot, cals.histbin, cals.beta], \n",
    "    datasets=[ds.yago_et], \n",
    "    kges=[ kges.distMult], \n",
    "    metrics=[brier_score, negative_log_loss, ks_error, ece]\n",
    "    )\n",
    "\n",
    "# exp.train_kges()\n",
    "# exp.save_trained_kges('../saved_kges')\n",
    "exp.load_trained_kges('../saved_models/')\n",
    "exp_res = exp.run_with_trained_kges()\n",
    "\n",
    "exp_res.to_frame().to_csv('res.csv')"
   ]
  },
  {
   "cell_type": "code",
   "execution_count": null,
   "metadata": {},
   "outputs": [
    {
     "name": "stdout",
     "output_type": "stream",
     "text": [
      "saved ../saved_models/YAGO-ET-DistMult.pkl.\n"
     ]
    },
    {
     "ename": "AttributeError",
     "evalue": "'NoneType' object has no attribute 'all_params'",
     "output_type": "error",
     "traceback": [
      "\u001b[1;31m---------------------------------------------------------------------------\u001b[0m",
      "\u001b[1;31mAttributeError\u001b[0m                            Traceback (most recent call last)",
      "\u001b[1;32m~\\AppData\\Local\\Temp\\ipykernel_13160\\2402178043.py\u001b[0m in \u001b[0;36m<module>\u001b[1;34m\u001b[0m\n\u001b[1;32m----> 1\u001b[1;33m \u001b[0mexp\u001b[0m\u001b[1;33m.\u001b[0m\u001b[0msave_trained_kges\u001b[0m\u001b[1;33m(\u001b[0m\u001b[1;34m'../saved_models/'\u001b[0m\u001b[1;33m)\u001b[0m\u001b[1;33m\u001b[0m\u001b[1;33m\u001b[0m\u001b[0m\n\u001b[0m",
      "\u001b[1;32mf:\\TREAT\\kgcal\\probcalkge\\experiment.py\u001b[0m in \u001b[0;36msave_trained_kges\u001b[1;34m(self, save_dir)\u001b[0m\n\u001b[0;32m    171\u001b[0m         \u001b[1;32mfrom\u001b[0m \u001b[0mampligraph\u001b[0m\u001b[1;33m.\u001b[0m\u001b[0mutils\u001b[0m \u001b[1;32mimport\u001b[0m \u001b[0msave_model\u001b[0m\u001b[1;33m\u001b[0m\u001b[1;33m\u001b[0m\u001b[0m\n\u001b[0;32m    172\u001b[0m         \u001b[1;32mfor\u001b[0m \u001b[0mds\u001b[0m\u001b[1;33m,\u001b[0m \u001b[0mmodels\u001b[0m \u001b[1;32min\u001b[0m \u001b[0mself\u001b[0m\u001b[1;33m.\u001b[0m\u001b[0mtrained_kges\u001b[0m\u001b[1;33m.\u001b[0m\u001b[0mitems\u001b[0m\u001b[1;33m(\u001b[0m\u001b[1;33m)\u001b[0m\u001b[1;33m:\u001b[0m\u001b[1;33m\u001b[0m\u001b[1;33m\u001b[0m\u001b[0m\n\u001b[1;32m--> 173\u001b[1;33m             \u001b[1;32mfor\u001b[0m \u001b[0mmname\u001b[0m\u001b[1;33m,\u001b[0m \u001b[0mmodel\u001b[0m \u001b[1;32min\u001b[0m \u001b[0mmodels\u001b[0m\u001b[1;33m.\u001b[0m\u001b[0mitems\u001b[0m\u001b[1;33m(\u001b[0m\u001b[1;33m)\u001b[0m\u001b[1;33m:\u001b[0m\u001b[1;33m\u001b[0m\u001b[1;33m\u001b[0m\u001b[0m\n\u001b[0m\u001b[0;32m    174\u001b[0m                 \u001b[0mmodel_file\u001b[0m \u001b[1;33m=\u001b[0m \u001b[0mos\u001b[0m\u001b[1;33m.\u001b[0m\u001b[0mpath\u001b[0m\u001b[1;33m.\u001b[0m\u001b[0mjoin\u001b[0m\u001b[1;33m(\u001b[0m\u001b[0msave_dir\u001b[0m\u001b[1;33m,\u001b[0m \u001b[1;34mf'{ds}-{mname}.pkl'\u001b[0m\u001b[1;33m)\u001b[0m\u001b[1;33m\u001b[0m\u001b[1;33m\u001b[0m\u001b[0m\n\u001b[0;32m    175\u001b[0m                 \u001b[0msave_model\u001b[0m\u001b[1;33m(\u001b[0m\u001b[0mmodel\u001b[0m\u001b[1;33m,\u001b[0m \u001b[0mmodel_file\u001b[0m\u001b[1;33m)\u001b[0m\u001b[1;33m\u001b[0m\u001b[1;33m\u001b[0m\u001b[0m\n",
      "\u001b[1;32mf:\\TREAT\\kgcal\\.venv\\lib\\site-packages\\ampligraph\\utils\\model_utils.py\u001b[0m in \u001b[0;36msave_model\u001b[1;34m(model, model_name_path, protocol)\u001b[0m\n\u001b[0;32m     69\u001b[0m     obj = {\n\u001b[0;32m     70\u001b[0m         \u001b[1;34m'class_name'\u001b[0m\u001b[1;33m:\u001b[0m \u001b[0mmodel\u001b[0m\u001b[1;33m.\u001b[0m\u001b[0m__class__\u001b[0m\u001b[1;33m.\u001b[0m\u001b[0m__name__\u001b[0m\u001b[1;33m,\u001b[0m\u001b[1;33m\u001b[0m\u001b[1;33m\u001b[0m\u001b[0m\n\u001b[1;32m---> 71\u001b[1;33m         \u001b[1;34m'hyperparams'\u001b[0m\u001b[1;33m:\u001b[0m \u001b[0mmodel\u001b[0m\u001b[1;33m.\u001b[0m\u001b[0mall_params\u001b[0m\u001b[1;33m,\u001b[0m\u001b[1;33m\u001b[0m\u001b[1;33m\u001b[0m\u001b[0m\n\u001b[0m\u001b[0;32m     72\u001b[0m         \u001b[1;34m'is_fitted'\u001b[0m\u001b[1;33m:\u001b[0m \u001b[0mmodel\u001b[0m\u001b[1;33m.\u001b[0m\u001b[0mis_fitted\u001b[0m\u001b[1;33m,\u001b[0m\u001b[1;33m\u001b[0m\u001b[1;33m\u001b[0m\u001b[0m\n\u001b[0;32m     73\u001b[0m         \u001b[1;34m'ent_to_idx'\u001b[0m\u001b[1;33m:\u001b[0m \u001b[0mmodel\u001b[0m\u001b[1;33m.\u001b[0m\u001b[0ment_to_idx\u001b[0m\u001b[1;33m,\u001b[0m\u001b[1;33m\u001b[0m\u001b[1;33m\u001b[0m\u001b[0m\n",
      "\u001b[1;31mAttributeError\u001b[0m: 'NoneType' object has no attribute 'all_params'"
     ]
    }
   ],
   "source": [
    "exp.save_trained_kges('../saved_models/')"
   ]
  },
  {
   "cell_type": "code",
   "execution_count": null,
   "metadata": {},
   "outputs": [],
   "source": []
  }
 ],
 "metadata": {
  "kernelspec": {
   "display_name": "Python 3.7.6 ('.venv': pipenv)",
   "language": "python",
   "name": "python3"
  },
  "language_info": {
   "codemirror_mode": {
    "name": "ipython",
    "version": 3
   },
   "file_extension": ".py",
   "mimetype": "text/x-python",
   "name": "python",
   "nbconvert_exporter": "python",
   "pygments_lexer": "ipython3",
   "version": "3.7.6"
  },
  "orig_nbformat": 4,
  "vscode": {
   "interpreter": {
    "hash": "f1fad10ccd2b4b46f8acf96792776d8c0d9c66065bac33c6726f0b6a90e208ea"
   }
  }
 },
 "nbformat": 4,
 "nbformat_minor": 2
}
